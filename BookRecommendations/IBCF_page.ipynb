{
  "nbformat": 4,
  "nbformat_minor": 0,
  "metadata": {
    "colab": {
      "name": "Untitled2.ipynb",
      "provenance": [],
      "authorship_tag": "ABX9TyPkZuCNs+RR7qsKtIr3qTWI"
    },
    "kernelspec": {
      "name": "python3",
      "display_name": "Python 3"
    },
    "language_info": {
      "name": "python"
    }
  },
  "cells": [
    {
      "cell_type": "code",
      "metadata": {
        "colab": {
          "base_uri": "https://localhost:8080/"
        },
        "id": "kNzLRpEyBpUM",
        "outputId": "079cc4f8-893c-46bc-878a-545b11d66f0f"
      },
      "source": [
        "!wget https://github.com/katarinagresova/MLprojects/raw/main/BookRecommendations/data/IBCF_model.gz\n",
        "!wget https://github.com/katarinagresova/MLprojects/raw/main/BookRecommendations/data/IBCF_ratings.csv"
      ],
      "execution_count": 1,
      "outputs": [
        {
          "output_type": "stream",
          "name": "stdout",
          "text": [
            "--2021-11-08 21:16:36--  https://github.com/katarinagresova/MLprojects/raw/main/BookRecommendations/data/IBCF_model.gz\n",
            "Resolving github.com (github.com)... 140.82.114.3\n",
            "Connecting to github.com (github.com)|140.82.114.3|:443... connected.\n",
            "HTTP request sent, awaiting response... 302 Found\n",
            "Location: https://raw.githubusercontent.com/katarinagresova/MLprojects/main/BookRecommendations/data/IBCF_model.gz [following]\n",
            "--2021-11-08 21:16:36--  https://raw.githubusercontent.com/katarinagresova/MLprojects/main/BookRecommendations/data/IBCF_model.gz\n",
            "Resolving raw.githubusercontent.com (raw.githubusercontent.com)... 185.199.110.133, 185.199.111.133, 185.199.108.133, ...\n",
            "Connecting to raw.githubusercontent.com (raw.githubusercontent.com)|185.199.110.133|:443... connected.\n",
            "HTTP request sent, awaiting response... 200 OK\n",
            "Length: 61108430 (58M) [application/octet-stream]\n",
            "Saving to: ‘IBCF_model.gz’\n",
            "\n",
            "IBCF_model.gz       100%[===================>]  58.28M   171MB/s    in 0.3s    \n",
            "\n",
            "2021-11-08 21:16:37 (171 MB/s) - ‘IBCF_model.gz’ saved [61108430/61108430]\n",
            "\n",
            "--2021-11-08 21:16:37--  https://github.com/katarinagresova/MLprojects/raw/main/BookRecommendations/data/IBCF_ratings.csv\n",
            "Resolving github.com (github.com)... 140.82.113.3\n",
            "Connecting to github.com (github.com)|140.82.113.3|:443... connected.\n",
            "HTTP request sent, awaiting response... 302 Found\n",
            "Location: https://raw.githubusercontent.com/katarinagresova/MLprojects/main/BookRecommendations/data/IBCF_ratings.csv [following]\n",
            "--2021-11-08 21:16:37--  https://raw.githubusercontent.com/katarinagresova/MLprojects/main/BookRecommendations/data/IBCF_ratings.csv\n",
            "Resolving raw.githubusercontent.com (raw.githubusercontent.com)... 185.199.108.133, 185.199.109.133, 185.199.110.133, ...\n",
            "Connecting to raw.githubusercontent.com (raw.githubusercontent.com)|185.199.108.133|:443... connected.\n",
            "HTTP request sent, awaiting response... 200 OK\n",
            "Length: 327587 (320K) [text/plain]\n",
            "Saving to: ‘IBCF_ratings.csv’\n",
            "\n",
            "IBCF_ratings.csv    100%[===================>] 319.91K  --.-KB/s    in 0.03s   \n",
            "\n",
            "2021-11-08 21:16:38 (9.09 MB/s) - ‘IBCF_ratings.csv’ saved [327587/327587]\n",
            "\n"
          ]
        }
      ]
    },
    {
      "cell_type": "code",
      "metadata": {
        "id": "IGLU3McQBlln"
      },
      "source": [
        "import pandas as pd\n",
        "import ipywidgets as widgets\n",
        "import random"
      ],
      "execution_count": 2,
      "outputs": []
    },
    {
      "cell_type": "code",
      "metadata": {
        "id": "L_xaeWPVA0SU"
      },
      "source": [
        "corr = pd.read_csv('IBCF_model.gz', index_col='Title', compression='gzip')\n",
        "mean_ratings = pd.read_csv('IBCF_ratings.csv', index_col='Title')['Book-Rating']"
      ],
      "execution_count": 7,
      "outputs": []
    },
    {
      "cell_type": "code",
      "metadata": {
        "colab": {
          "base_uri": "https://localhost:8080/"
        },
        "id": "ApzdvBIE_via",
        "outputId": "ff1da495-fd14-4f6b-c933-e165481ba305"
      },
      "source": [
        "df = pd.DataFrame({'Title' : corr.index})\n",
        "\n",
        "textbox = widgets.Text(value='', description='Search:')\n",
        "display(textbox)\n",
        "\n",
        "w = widgets.Select(\n",
        "    layout={'width': 'initial'},\n",
        "    options=corr.index,\n",
        "    rows=10,\n",
        "    description='Select:',\n",
        "    disabled=False\n",
        ")\n",
        "\n",
        "display(w)\n",
        "\n",
        "def display_result(value):\n",
        "    value = str(value['new']).lower()\n",
        "    if \"{\" not in value:\n",
        "        result = df[(df['Title'].str.contains(value))]  \n",
        "        if result.shape[0]>0:\n",
        "            w.options = result['Title']\n",
        "\n",
        "\n",
        "textbox.observe(display_result)\n",
        "\n",
        "def clicked(arg):\n",
        "  out.clear_output()\n",
        "  with out:\n",
        "    print(\"Selected book: \", w.value)\n",
        "    print(\"Recommendations:\")\n",
        "  similar = corr[w.value].dropna()\n",
        "  mean_current_ratings = mean_ratings[[i in similar.index for i in mean_ratings.index]]\n",
        "  rec = similar.multiply(mean_current_ratings).sort_values(ascending=False)[:5]\n",
        "  for book in rec.index:\n",
        "    with out:\n",
        "      print(book)\n",
        "\n",
        "button_search = widgets.Button(description = 'Give me book recommendations', layout={'width': 'initial'})   \n",
        "button_search.on_click(clicked)\n",
        "display(button_search)\n",
        "\n",
        "out = widgets.Output()\n",
        "display(out)"
      ],
      "execution_count": 14,
      "outputs": [
        {
          "output_type": "display_data",
          "data": {
            "application/vnd.jupyter.widget-view+json": {
              "model_id": "acd1672b9e9646e5a5d1058352927fc5",
              "version_minor": 0,
              "version_major": 2
            },
            "text/plain": [
              "Text(value='', description='Search:')"
            ]
          },
          "metadata": {}
        },
        {
          "output_type": "display_data",
          "data": {
            "application/vnd.jupyter.widget-view+json": {
              "model_id": "211491ad59a64689bf0263992898dfea",
              "version_minor": 0,
              "version_major": 2
            },
            "text/plain": [
              "Select(description='Select:', layout=Layout(width='initial'), options=('\" lamb to the slaughter and other stor…"
            ]
          },
          "metadata": {}
        },
        {
          "output_type": "display_data",
          "data": {
            "application/vnd.jupyter.widget-view+json": {
              "model_id": "29968c92492843069ef891e7bbcada0a",
              "version_minor": 0,
              "version_major": 2
            },
            "text/plain": [
              "Button(description='Give me book recommendations', layout=Layout(width='initial'), style=ButtonStyle())"
            ]
          },
          "metadata": {}
        },
        {
          "output_type": "display_data",
          "data": {
            "application/vnd.jupyter.widget-view+json": {
              "model_id": "a80dd98479e64d65996334c146e8ad7a",
              "version_minor": 0,
              "version_major": 2
            },
            "text/plain": [
              "Output()"
            ]
          },
          "metadata": {}
        }
      ]
    }
  ]
}