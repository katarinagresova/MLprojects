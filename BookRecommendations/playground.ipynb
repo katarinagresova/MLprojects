{
  "nbformat": 4,
  "nbformat_minor": 0,
  "metadata": {
    "colab": {
      "name": "playground.ipynb",
      "provenance": [],
      "toc_visible": true,
      "authorship_tag": "ABX9TyOxZ0ju4LvRvwVIrkYvf3mu"
    },
    "kernelspec": {
      "name": "python3",
      "display_name": "Python 3"
    },
    "language_info": {
      "name": "python"
    }
  },
  "cells": [
    {
      "cell_type": "markdown",
      "metadata": {
        "id": "ul02rvIg6V-J"
      },
      "source": [
        "# TODOs\n",
        "\n",
        "- filter books on valid ISBN, or try to correct them (at least trip some characters around)\n",
        "- some of values in ISBN field are not valid ISBNs, but they are Amazon IDs (ASIN) -> remove them\n",
        "- duplicate book entried - merge them\n",
        "- plot plot_groupby_stats() after normalization"
      ]
    },
    {
      "cell_type": "markdown",
      "metadata": {
        "id": "-ZUumtESLedJ"
      },
      "source": [
        "# Reading in data"
      ]
    },
    {
      "cell_type": "code",
      "metadata": {
        "colab": {
          "base_uri": "https://localhost:8080/"
        },
        "id": "PrlscPIaG09Y",
        "outputId": "ff70a542-5195-4986-d8d3-dc67c171f9f6"
      },
      "source": [
        "!wget http://www2.informatik.uni-freiburg.de/~cziegler/BX/BX-CSV-Dump.zip"
      ],
      "execution_count": 1,
      "outputs": [
        {
          "output_type": "stream",
          "name": "stdout",
          "text": [
            "--2021-11-07 20:13:48--  http://www2.informatik.uni-freiburg.de/~cziegler/BX/BX-CSV-Dump.zip\n",
            "Resolving www2.informatik.uni-freiburg.de (www2.informatik.uni-freiburg.de)... 132.230.105.133\n",
            "Connecting to www2.informatik.uni-freiburg.de (www2.informatik.uni-freiburg.de)|132.230.105.133|:80... connected.\n",
            "HTTP request sent, awaiting response... 200 OK\n",
            "Length: 26085508 (25M) [application/zip]\n",
            "Saving to: ‘BX-CSV-Dump.zip’\n",
            "\n",
            "BX-CSV-Dump.zip     100%[===================>]  24.88M  11.4MB/s    in 2.2s    \n",
            "\n",
            "2021-11-07 20:13:51 (11.4 MB/s) - ‘BX-CSV-Dump.zip’ saved [26085508/26085508]\n",
            "\n"
          ]
        }
      ]
    },
    {
      "cell_type": "code",
      "metadata": {
        "colab": {
          "base_uri": "https://localhost:8080/"
        },
        "id": "878UVA48HZeh",
        "outputId": "204a8d92-ed30-4f03-cdbd-988befed9f1f"
      },
      "source": [
        "!unzip BX-CSV-Dump.zip"
      ],
      "execution_count": 2,
      "outputs": [
        {
          "output_type": "stream",
          "name": "stdout",
          "text": [
            "Archive:  BX-CSV-Dump.zip\n",
            "  inflating: BX-Book-Ratings.csv     \n",
            "  inflating: BX-Books.csv            \n",
            "  inflating: BX-Users.csv            \n"
          ]
        }
      ]
    },
    {
      "cell_type": "code",
      "metadata": {
        "id": "s4SJH0GzG-2l"
      },
      "source": [
        "import pandas as pd"
      ],
      "execution_count": 3,
      "outputs": []
    },
    {
      "cell_type": "code",
      "metadata": {
        "colab": {
          "base_uri": "https://localhost:8080/",
          "height": 477
        },
        "id": "dL-A5ceVK3I0",
        "outputId": "31ca79b2-1b9d-47d8-c011-dd0d1e5912d8"
      },
      "source": [
        "users = pd.read_csv('BX-Users.csv')"
      ],
      "execution_count": 4,
      "outputs": [
        {
          "output_type": "error",
          "ename": "ParserError",
          "evalue": "ignored",
          "traceback": [
            "\u001b[0;31m---------------------------------------------------------------------------\u001b[0m",
            "\u001b[0;31mParserError\u001b[0m                               Traceback (most recent call last)",
            "\u001b[0;32m<ipython-input-4-602f2f690f7d>\u001b[0m in \u001b[0;36m<module>\u001b[0;34m()\u001b[0m\n\u001b[0;32m----> 1\u001b[0;31m \u001b[0musers\u001b[0m \u001b[0;34m=\u001b[0m \u001b[0mpd\u001b[0m\u001b[0;34m.\u001b[0m\u001b[0mread_csv\u001b[0m\u001b[0;34m(\u001b[0m\u001b[0;34m'BX-Users.csv'\u001b[0m\u001b[0;34m)\u001b[0m\u001b[0;34m\u001b[0m\u001b[0;34m\u001b[0m\u001b[0m\n\u001b[0m",
            "\u001b[0;32m/usr/local/lib/python3.7/dist-packages/pandas/io/parsers.py\u001b[0m in \u001b[0;36mread_csv\u001b[0;34m(filepath_or_buffer, sep, delimiter, header, names, index_col, usecols, squeeze, prefix, mangle_dupe_cols, dtype, engine, converters, true_values, false_values, skipinitialspace, skiprows, skipfooter, nrows, na_values, keep_default_na, na_filter, verbose, skip_blank_lines, parse_dates, infer_datetime_format, keep_date_col, date_parser, dayfirst, cache_dates, iterator, chunksize, compression, thousands, decimal, lineterminator, quotechar, quoting, doublequote, escapechar, comment, encoding, dialect, error_bad_lines, warn_bad_lines, delim_whitespace, low_memory, memory_map, float_precision)\u001b[0m\n\u001b[1;32m    686\u001b[0m     )\n\u001b[1;32m    687\u001b[0m \u001b[0;34m\u001b[0m\u001b[0m\n\u001b[0;32m--> 688\u001b[0;31m     \u001b[0;32mreturn\u001b[0m \u001b[0m_read\u001b[0m\u001b[0;34m(\u001b[0m\u001b[0mfilepath_or_buffer\u001b[0m\u001b[0;34m,\u001b[0m \u001b[0mkwds\u001b[0m\u001b[0;34m)\u001b[0m\u001b[0;34m\u001b[0m\u001b[0;34m\u001b[0m\u001b[0m\n\u001b[0m\u001b[1;32m    689\u001b[0m \u001b[0;34m\u001b[0m\u001b[0m\n\u001b[1;32m    690\u001b[0m \u001b[0;34m\u001b[0m\u001b[0m\n",
            "\u001b[0;32m/usr/local/lib/python3.7/dist-packages/pandas/io/parsers.py\u001b[0m in \u001b[0;36m_read\u001b[0;34m(filepath_or_buffer, kwds)\u001b[0m\n\u001b[1;32m    458\u001b[0m \u001b[0;34m\u001b[0m\u001b[0m\n\u001b[1;32m    459\u001b[0m     \u001b[0;32mtry\u001b[0m\u001b[0;34m:\u001b[0m\u001b[0;34m\u001b[0m\u001b[0;34m\u001b[0m\u001b[0m\n\u001b[0;32m--> 460\u001b[0;31m         \u001b[0mdata\u001b[0m \u001b[0;34m=\u001b[0m \u001b[0mparser\u001b[0m\u001b[0;34m.\u001b[0m\u001b[0mread\u001b[0m\u001b[0;34m(\u001b[0m\u001b[0mnrows\u001b[0m\u001b[0;34m)\u001b[0m\u001b[0;34m\u001b[0m\u001b[0;34m\u001b[0m\u001b[0m\n\u001b[0m\u001b[1;32m    461\u001b[0m     \u001b[0;32mfinally\u001b[0m\u001b[0;34m:\u001b[0m\u001b[0;34m\u001b[0m\u001b[0;34m\u001b[0m\u001b[0m\n\u001b[1;32m    462\u001b[0m         \u001b[0mparser\u001b[0m\u001b[0;34m.\u001b[0m\u001b[0mclose\u001b[0m\u001b[0;34m(\u001b[0m\u001b[0;34m)\u001b[0m\u001b[0;34m\u001b[0m\u001b[0;34m\u001b[0m\u001b[0m\n",
            "\u001b[0;32m/usr/local/lib/python3.7/dist-packages/pandas/io/parsers.py\u001b[0m in \u001b[0;36mread\u001b[0;34m(self, nrows)\u001b[0m\n\u001b[1;32m   1196\u001b[0m     \u001b[0;32mdef\u001b[0m \u001b[0mread\u001b[0m\u001b[0;34m(\u001b[0m\u001b[0mself\u001b[0m\u001b[0;34m,\u001b[0m \u001b[0mnrows\u001b[0m\u001b[0;34m=\u001b[0m\u001b[0;32mNone\u001b[0m\u001b[0;34m)\u001b[0m\u001b[0;34m:\u001b[0m\u001b[0;34m\u001b[0m\u001b[0;34m\u001b[0m\u001b[0m\n\u001b[1;32m   1197\u001b[0m         \u001b[0mnrows\u001b[0m \u001b[0;34m=\u001b[0m \u001b[0m_validate_integer\u001b[0m\u001b[0;34m(\u001b[0m\u001b[0;34m\"nrows\"\u001b[0m\u001b[0;34m,\u001b[0m \u001b[0mnrows\u001b[0m\u001b[0;34m)\u001b[0m\u001b[0;34m\u001b[0m\u001b[0;34m\u001b[0m\u001b[0m\n\u001b[0;32m-> 1198\u001b[0;31m         \u001b[0mret\u001b[0m \u001b[0;34m=\u001b[0m \u001b[0mself\u001b[0m\u001b[0;34m.\u001b[0m\u001b[0m_engine\u001b[0m\u001b[0;34m.\u001b[0m\u001b[0mread\u001b[0m\u001b[0;34m(\u001b[0m\u001b[0mnrows\u001b[0m\u001b[0;34m)\u001b[0m\u001b[0;34m\u001b[0m\u001b[0;34m\u001b[0m\u001b[0m\n\u001b[0m\u001b[1;32m   1199\u001b[0m \u001b[0;34m\u001b[0m\u001b[0m\n\u001b[1;32m   1200\u001b[0m         \u001b[0;31m# May alter columns / col_dict\u001b[0m\u001b[0;34m\u001b[0m\u001b[0;34m\u001b[0m\u001b[0;34m\u001b[0m\u001b[0m\n",
            "\u001b[0;32m/usr/local/lib/python3.7/dist-packages/pandas/io/parsers.py\u001b[0m in \u001b[0;36mread\u001b[0;34m(self, nrows)\u001b[0m\n\u001b[1;32m   2155\u001b[0m     \u001b[0;32mdef\u001b[0m \u001b[0mread\u001b[0m\u001b[0;34m(\u001b[0m\u001b[0mself\u001b[0m\u001b[0;34m,\u001b[0m \u001b[0mnrows\u001b[0m\u001b[0;34m=\u001b[0m\u001b[0;32mNone\u001b[0m\u001b[0;34m)\u001b[0m\u001b[0;34m:\u001b[0m\u001b[0;34m\u001b[0m\u001b[0;34m\u001b[0m\u001b[0m\n\u001b[1;32m   2156\u001b[0m         \u001b[0;32mtry\u001b[0m\u001b[0;34m:\u001b[0m\u001b[0;34m\u001b[0m\u001b[0;34m\u001b[0m\u001b[0m\n\u001b[0;32m-> 2157\u001b[0;31m             \u001b[0mdata\u001b[0m \u001b[0;34m=\u001b[0m \u001b[0mself\u001b[0m\u001b[0;34m.\u001b[0m\u001b[0m_reader\u001b[0m\u001b[0;34m.\u001b[0m\u001b[0mread\u001b[0m\u001b[0;34m(\u001b[0m\u001b[0mnrows\u001b[0m\u001b[0;34m)\u001b[0m\u001b[0;34m\u001b[0m\u001b[0;34m\u001b[0m\u001b[0m\n\u001b[0m\u001b[1;32m   2158\u001b[0m         \u001b[0;32mexcept\u001b[0m \u001b[0mStopIteration\u001b[0m\u001b[0;34m:\u001b[0m\u001b[0;34m\u001b[0m\u001b[0;34m\u001b[0m\u001b[0m\n\u001b[1;32m   2159\u001b[0m             \u001b[0;32mif\u001b[0m \u001b[0mself\u001b[0m\u001b[0;34m.\u001b[0m\u001b[0m_first_chunk\u001b[0m\u001b[0;34m:\u001b[0m\u001b[0;34m\u001b[0m\u001b[0;34m\u001b[0m\u001b[0m\n",
            "\u001b[0;32mpandas/_libs/parsers.pyx\u001b[0m in \u001b[0;36mpandas._libs.parsers.TextReader.read\u001b[0;34m()\u001b[0m\n",
            "\u001b[0;32mpandas/_libs/parsers.pyx\u001b[0m in \u001b[0;36mpandas._libs.parsers.TextReader._read_low_memory\u001b[0;34m()\u001b[0m\n",
            "\u001b[0;32mpandas/_libs/parsers.pyx\u001b[0m in \u001b[0;36mpandas._libs.parsers.TextReader._read_rows\u001b[0;34m()\u001b[0m\n",
            "\u001b[0;32mpandas/_libs/parsers.pyx\u001b[0m in \u001b[0;36mpandas._libs.parsers.TextReader._tokenize_rows\u001b[0;34m()\u001b[0m\n",
            "\u001b[0;32mpandas/_libs/parsers.pyx\u001b[0m in \u001b[0;36mpandas._libs.parsers.raise_parser_error\u001b[0;34m()\u001b[0m\n",
            "\u001b[0;31mParserError\u001b[0m: Error tokenizing data. C error: Expected 3 fields in line 92, saw 5\n"
          ]
        }
      ]
    },
    {
      "cell_type": "code",
      "metadata": {
        "colab": {
          "base_uri": "https://localhost:8080/"
        },
        "id": "a6xStliFHpb7",
        "outputId": "a491dba2-c01a-4d55-8eca-df967f7f0f39"
      },
      "source": [
        "!head BX-Users.csv"
      ],
      "execution_count": 5,
      "outputs": [
        {
          "output_type": "stream",
          "name": "stdout",
          "text": [
            "\"User-ID\";\"Location\";\"Age\"\r\n",
            "\"1\";\"nyc, new york, usa\";NULL\r\n",
            "\"2\";\"stockton, california, usa\";\"18\"\r\n",
            "\"3\";\"moscow, yukon territory, russia\";NULL\r\n",
            "\"4\";\"porto, v.n.gaia, portugal\";\"17\"\r\n",
            "\"5\";\"farnborough, hants, united kingdom\";NULL\r\n",
            "\"6\";\"santa monica, california, usa\";\"61\"\r\n",
            "\"7\";\"washington, dc, usa\";NULL\r\n",
            "\"8\";\"timmins, ontario, canada\";NULL\r\n",
            "\"9\";\"germantown, tennessee, usa\";NULL\r\n"
          ]
        }
      ]
    },
    {
      "cell_type": "code",
      "metadata": {
        "colab": {
          "base_uri": "https://localhost:8080/",
          "height": 800
        },
        "id": "sP9-115gLBRG",
        "outputId": "6f84eead-646c-495a-f966-b9d2b338dbf8"
      },
      "source": [
        "users = pd.read_csv('BX-Users.csv', sep=';')"
      ],
      "execution_count": 6,
      "outputs": [
        {
          "output_type": "error",
          "ename": "UnicodeDecodeError",
          "evalue": "ignored",
          "traceback": [
            "\u001b[0;31m---------------------------------------------------------------------------\u001b[0m",
            "\u001b[0;31mUnicodeDecodeError\u001b[0m                        Traceback (most recent call last)",
            "\u001b[0;32mpandas/_libs/parsers.pyx\u001b[0m in \u001b[0;36mpandas._libs.parsers.TextReader._convert_tokens\u001b[0;34m()\u001b[0m\n",
            "\u001b[0;32mpandas/_libs/parsers.pyx\u001b[0m in \u001b[0;36mpandas._libs.parsers.TextReader._convert_with_dtype\u001b[0;34m()\u001b[0m\n",
            "\u001b[0;32mpandas/_libs/parsers.pyx\u001b[0m in \u001b[0;36mpandas._libs.parsers.TextReader._string_convert\u001b[0;34m()\u001b[0m\n",
            "\u001b[0;32mpandas/_libs/parsers.pyx\u001b[0m in \u001b[0;36mpandas._libs.parsers._string_box_utf8\u001b[0;34m()\u001b[0m\n",
            "\u001b[0;31mUnicodeDecodeError\u001b[0m: 'utf-8' codec can't decode byte 0xe9 in position 1: invalid continuation byte",
            "\nDuring handling of the above exception, another exception occurred:\n",
            "\u001b[0;31mUnicodeDecodeError\u001b[0m                        Traceback (most recent call last)",
            "\u001b[0;32m<ipython-input-6-7da27ba86386>\u001b[0m in \u001b[0;36m<module>\u001b[0;34m()\u001b[0m\n\u001b[0;32m----> 1\u001b[0;31m \u001b[0musers\u001b[0m \u001b[0;34m=\u001b[0m \u001b[0mpd\u001b[0m\u001b[0;34m.\u001b[0m\u001b[0mread_csv\u001b[0m\u001b[0;34m(\u001b[0m\u001b[0;34m'BX-Users.csv'\u001b[0m\u001b[0;34m,\u001b[0m \u001b[0msep\u001b[0m\u001b[0;34m=\u001b[0m\u001b[0;34m';'\u001b[0m\u001b[0;34m)\u001b[0m\u001b[0;34m\u001b[0m\u001b[0;34m\u001b[0m\u001b[0m\n\u001b[0m",
            "\u001b[0;32m/usr/local/lib/python3.7/dist-packages/pandas/io/parsers.py\u001b[0m in \u001b[0;36mread_csv\u001b[0;34m(filepath_or_buffer, sep, delimiter, header, names, index_col, usecols, squeeze, prefix, mangle_dupe_cols, dtype, engine, converters, true_values, false_values, skipinitialspace, skiprows, skipfooter, nrows, na_values, keep_default_na, na_filter, verbose, skip_blank_lines, parse_dates, infer_datetime_format, keep_date_col, date_parser, dayfirst, cache_dates, iterator, chunksize, compression, thousands, decimal, lineterminator, quotechar, quoting, doublequote, escapechar, comment, encoding, dialect, error_bad_lines, warn_bad_lines, delim_whitespace, low_memory, memory_map, float_precision)\u001b[0m\n\u001b[1;32m    686\u001b[0m     )\n\u001b[1;32m    687\u001b[0m \u001b[0;34m\u001b[0m\u001b[0m\n\u001b[0;32m--> 688\u001b[0;31m     \u001b[0;32mreturn\u001b[0m \u001b[0m_read\u001b[0m\u001b[0;34m(\u001b[0m\u001b[0mfilepath_or_buffer\u001b[0m\u001b[0;34m,\u001b[0m \u001b[0mkwds\u001b[0m\u001b[0;34m)\u001b[0m\u001b[0;34m\u001b[0m\u001b[0;34m\u001b[0m\u001b[0m\n\u001b[0m\u001b[1;32m    689\u001b[0m \u001b[0;34m\u001b[0m\u001b[0m\n\u001b[1;32m    690\u001b[0m \u001b[0;34m\u001b[0m\u001b[0m\n",
            "\u001b[0;32m/usr/local/lib/python3.7/dist-packages/pandas/io/parsers.py\u001b[0m in \u001b[0;36m_read\u001b[0;34m(filepath_or_buffer, kwds)\u001b[0m\n\u001b[1;32m    458\u001b[0m \u001b[0;34m\u001b[0m\u001b[0m\n\u001b[1;32m    459\u001b[0m     \u001b[0;32mtry\u001b[0m\u001b[0;34m:\u001b[0m\u001b[0;34m\u001b[0m\u001b[0;34m\u001b[0m\u001b[0m\n\u001b[0;32m--> 460\u001b[0;31m         \u001b[0mdata\u001b[0m \u001b[0;34m=\u001b[0m \u001b[0mparser\u001b[0m\u001b[0;34m.\u001b[0m\u001b[0mread\u001b[0m\u001b[0;34m(\u001b[0m\u001b[0mnrows\u001b[0m\u001b[0;34m)\u001b[0m\u001b[0;34m\u001b[0m\u001b[0;34m\u001b[0m\u001b[0m\n\u001b[0m\u001b[1;32m    461\u001b[0m     \u001b[0;32mfinally\u001b[0m\u001b[0;34m:\u001b[0m\u001b[0;34m\u001b[0m\u001b[0;34m\u001b[0m\u001b[0m\n\u001b[1;32m    462\u001b[0m         \u001b[0mparser\u001b[0m\u001b[0;34m.\u001b[0m\u001b[0mclose\u001b[0m\u001b[0;34m(\u001b[0m\u001b[0;34m)\u001b[0m\u001b[0;34m\u001b[0m\u001b[0;34m\u001b[0m\u001b[0m\n",
            "\u001b[0;32m/usr/local/lib/python3.7/dist-packages/pandas/io/parsers.py\u001b[0m in \u001b[0;36mread\u001b[0;34m(self, nrows)\u001b[0m\n\u001b[1;32m   1196\u001b[0m     \u001b[0;32mdef\u001b[0m \u001b[0mread\u001b[0m\u001b[0;34m(\u001b[0m\u001b[0mself\u001b[0m\u001b[0;34m,\u001b[0m \u001b[0mnrows\u001b[0m\u001b[0;34m=\u001b[0m\u001b[0;32mNone\u001b[0m\u001b[0;34m)\u001b[0m\u001b[0;34m:\u001b[0m\u001b[0;34m\u001b[0m\u001b[0;34m\u001b[0m\u001b[0m\n\u001b[1;32m   1197\u001b[0m         \u001b[0mnrows\u001b[0m \u001b[0;34m=\u001b[0m \u001b[0m_validate_integer\u001b[0m\u001b[0;34m(\u001b[0m\u001b[0;34m\"nrows\"\u001b[0m\u001b[0;34m,\u001b[0m \u001b[0mnrows\u001b[0m\u001b[0;34m)\u001b[0m\u001b[0;34m\u001b[0m\u001b[0;34m\u001b[0m\u001b[0m\n\u001b[0;32m-> 1198\u001b[0;31m         \u001b[0mret\u001b[0m \u001b[0;34m=\u001b[0m \u001b[0mself\u001b[0m\u001b[0;34m.\u001b[0m\u001b[0m_engine\u001b[0m\u001b[0;34m.\u001b[0m\u001b[0mread\u001b[0m\u001b[0;34m(\u001b[0m\u001b[0mnrows\u001b[0m\u001b[0;34m)\u001b[0m\u001b[0;34m\u001b[0m\u001b[0;34m\u001b[0m\u001b[0m\n\u001b[0m\u001b[1;32m   1199\u001b[0m \u001b[0;34m\u001b[0m\u001b[0m\n\u001b[1;32m   1200\u001b[0m         \u001b[0;31m# May alter columns / col_dict\u001b[0m\u001b[0;34m\u001b[0m\u001b[0;34m\u001b[0m\u001b[0;34m\u001b[0m\u001b[0m\n",
            "\u001b[0;32m/usr/local/lib/python3.7/dist-packages/pandas/io/parsers.py\u001b[0m in \u001b[0;36mread\u001b[0;34m(self, nrows)\u001b[0m\n\u001b[1;32m   2155\u001b[0m     \u001b[0;32mdef\u001b[0m \u001b[0mread\u001b[0m\u001b[0;34m(\u001b[0m\u001b[0mself\u001b[0m\u001b[0;34m,\u001b[0m \u001b[0mnrows\u001b[0m\u001b[0;34m=\u001b[0m\u001b[0;32mNone\u001b[0m\u001b[0;34m)\u001b[0m\u001b[0;34m:\u001b[0m\u001b[0;34m\u001b[0m\u001b[0;34m\u001b[0m\u001b[0m\n\u001b[1;32m   2156\u001b[0m         \u001b[0;32mtry\u001b[0m\u001b[0;34m:\u001b[0m\u001b[0;34m\u001b[0m\u001b[0;34m\u001b[0m\u001b[0m\n\u001b[0;32m-> 2157\u001b[0;31m             \u001b[0mdata\u001b[0m \u001b[0;34m=\u001b[0m \u001b[0mself\u001b[0m\u001b[0;34m.\u001b[0m\u001b[0m_reader\u001b[0m\u001b[0;34m.\u001b[0m\u001b[0mread\u001b[0m\u001b[0;34m(\u001b[0m\u001b[0mnrows\u001b[0m\u001b[0;34m)\u001b[0m\u001b[0;34m\u001b[0m\u001b[0;34m\u001b[0m\u001b[0m\n\u001b[0m\u001b[1;32m   2158\u001b[0m         \u001b[0;32mexcept\u001b[0m \u001b[0mStopIteration\u001b[0m\u001b[0;34m:\u001b[0m\u001b[0;34m\u001b[0m\u001b[0;34m\u001b[0m\u001b[0m\n\u001b[1;32m   2159\u001b[0m             \u001b[0;32mif\u001b[0m \u001b[0mself\u001b[0m\u001b[0;34m.\u001b[0m\u001b[0m_first_chunk\u001b[0m\u001b[0;34m:\u001b[0m\u001b[0;34m\u001b[0m\u001b[0;34m\u001b[0m\u001b[0m\n",
            "\u001b[0;32mpandas/_libs/parsers.pyx\u001b[0m in \u001b[0;36mpandas._libs.parsers.TextReader.read\u001b[0;34m()\u001b[0m\n",
            "\u001b[0;32mpandas/_libs/parsers.pyx\u001b[0m in \u001b[0;36mpandas._libs.parsers.TextReader._read_low_memory\u001b[0;34m()\u001b[0m\n",
            "\u001b[0;32mpandas/_libs/parsers.pyx\u001b[0m in \u001b[0;36mpandas._libs.parsers.TextReader._read_rows\u001b[0;34m()\u001b[0m\n",
            "\u001b[0;32mpandas/_libs/parsers.pyx\u001b[0m in \u001b[0;36mpandas._libs.parsers.TextReader._convert_column_data\u001b[0;34m()\u001b[0m\n",
            "\u001b[0;32mpandas/_libs/parsers.pyx\u001b[0m in \u001b[0;36mpandas._libs.parsers.TextReader._convert_tokens\u001b[0;34m()\u001b[0m\n",
            "\u001b[0;32mpandas/_libs/parsers.pyx\u001b[0m in \u001b[0;36mpandas._libs.parsers.TextReader._convert_with_dtype\u001b[0;34m()\u001b[0m\n",
            "\u001b[0;32mpandas/_libs/parsers.pyx\u001b[0m in \u001b[0;36mpandas._libs.parsers.TextReader._string_convert\u001b[0;34m()\u001b[0m\n",
            "\u001b[0;32mpandas/_libs/parsers.pyx\u001b[0m in \u001b[0;36mpandas._libs.parsers._string_box_utf8\u001b[0;34m()\u001b[0m\n",
            "\u001b[0;31mUnicodeDecodeError\u001b[0m: 'utf-8' codec can't decode byte 0xe9 in position 1: invalid continuation byte"
          ]
        }
      ]
    },
    {
      "cell_type": "code",
      "metadata": {
        "colab": {
          "base_uri": "https://localhost:8080/",
          "height": 204
        },
        "id": "24Hqmb3HHBXa",
        "outputId": "4fbf0883-7a72-49aa-bbfd-7886fc992d6b"
      },
      "source": [
        "users = pd.read_csv('BX-Users.csv', sep=';', encoding = \"ISO-8859-1\")\n",
        "users.head()"
      ],
      "execution_count": 4,
      "outputs": [
        {
          "output_type": "execute_result",
          "data": {
            "text/html": [
              "<div>\n",
              "<style scoped>\n",
              "    .dataframe tbody tr th:only-of-type {\n",
              "        vertical-align: middle;\n",
              "    }\n",
              "\n",
              "    .dataframe tbody tr th {\n",
              "        vertical-align: top;\n",
              "    }\n",
              "\n",
              "    .dataframe thead th {\n",
              "        text-align: right;\n",
              "    }\n",
              "</style>\n",
              "<table border=\"1\" class=\"dataframe\">\n",
              "  <thead>\n",
              "    <tr style=\"text-align: right;\">\n",
              "      <th></th>\n",
              "      <th>User-ID</th>\n",
              "      <th>Location</th>\n",
              "      <th>Age</th>\n",
              "    </tr>\n",
              "  </thead>\n",
              "  <tbody>\n",
              "    <tr>\n",
              "      <th>0</th>\n",
              "      <td>1</td>\n",
              "      <td>nyc, new york, usa</td>\n",
              "      <td>NaN</td>\n",
              "    </tr>\n",
              "    <tr>\n",
              "      <th>1</th>\n",
              "      <td>2</td>\n",
              "      <td>stockton, california, usa</td>\n",
              "      <td>18.0</td>\n",
              "    </tr>\n",
              "    <tr>\n",
              "      <th>2</th>\n",
              "      <td>3</td>\n",
              "      <td>moscow, yukon territory, russia</td>\n",
              "      <td>NaN</td>\n",
              "    </tr>\n",
              "    <tr>\n",
              "      <th>3</th>\n",
              "      <td>4</td>\n",
              "      <td>porto, v.n.gaia, portugal</td>\n",
              "      <td>17.0</td>\n",
              "    </tr>\n",
              "    <tr>\n",
              "      <th>4</th>\n",
              "      <td>5</td>\n",
              "      <td>farnborough, hants, united kingdom</td>\n",
              "      <td>NaN</td>\n",
              "    </tr>\n",
              "  </tbody>\n",
              "</table>\n",
              "</div>"
            ],
            "text/plain": [
              "   User-ID                            Location   Age\n",
              "0        1                  nyc, new york, usa   NaN\n",
              "1        2           stockton, california, usa  18.0\n",
              "2        3     moscow, yukon territory, russia   NaN\n",
              "3        4           porto, v.n.gaia, portugal  17.0\n",
              "4        5  farnborough, hants, united kingdom   NaN"
            ]
          },
          "metadata": {},
          "execution_count": 4
        }
      ]
    },
    {
      "cell_type": "code",
      "metadata": {
        "colab": {
          "base_uri": "https://localhost:8080/",
          "height": 477
        },
        "id": "rlewuTllLGel",
        "outputId": "1673bd8e-3835-466c-8512-ef3f5f74c5dc"
      },
      "source": [
        "books = pd.read_csv('BX-Books.csv', sep=';', encoding = \"ISO-8859-1\")"
      ],
      "execution_count": 8,
      "outputs": [
        {
          "output_type": "error",
          "ename": "ParserError",
          "evalue": "ignored",
          "traceback": [
            "\u001b[0;31m---------------------------------------------------------------------------\u001b[0m",
            "\u001b[0;31mParserError\u001b[0m                               Traceback (most recent call last)",
            "\u001b[0;32m<ipython-input-8-cd1eb88dd009>\u001b[0m in \u001b[0;36m<module>\u001b[0;34m()\u001b[0m\n\u001b[0;32m----> 1\u001b[0;31m \u001b[0mbooks\u001b[0m \u001b[0;34m=\u001b[0m \u001b[0mpd\u001b[0m\u001b[0;34m.\u001b[0m\u001b[0mread_csv\u001b[0m\u001b[0;34m(\u001b[0m\u001b[0;34m'BX-Books.csv'\u001b[0m\u001b[0;34m,\u001b[0m \u001b[0msep\u001b[0m\u001b[0;34m=\u001b[0m\u001b[0;34m';'\u001b[0m\u001b[0;34m,\u001b[0m \u001b[0mencoding\u001b[0m \u001b[0;34m=\u001b[0m \u001b[0;34m\"ISO-8859-1\"\u001b[0m\u001b[0;34m)\u001b[0m\u001b[0;34m\u001b[0m\u001b[0;34m\u001b[0m\u001b[0m\n\u001b[0m",
            "\u001b[0;32m/usr/local/lib/python3.7/dist-packages/pandas/io/parsers.py\u001b[0m in \u001b[0;36mread_csv\u001b[0;34m(filepath_or_buffer, sep, delimiter, header, names, index_col, usecols, squeeze, prefix, mangle_dupe_cols, dtype, engine, converters, true_values, false_values, skipinitialspace, skiprows, skipfooter, nrows, na_values, keep_default_na, na_filter, verbose, skip_blank_lines, parse_dates, infer_datetime_format, keep_date_col, date_parser, dayfirst, cache_dates, iterator, chunksize, compression, thousands, decimal, lineterminator, quotechar, quoting, doublequote, escapechar, comment, encoding, dialect, error_bad_lines, warn_bad_lines, delim_whitespace, low_memory, memory_map, float_precision)\u001b[0m\n\u001b[1;32m    686\u001b[0m     )\n\u001b[1;32m    687\u001b[0m \u001b[0;34m\u001b[0m\u001b[0m\n\u001b[0;32m--> 688\u001b[0;31m     \u001b[0;32mreturn\u001b[0m \u001b[0m_read\u001b[0m\u001b[0;34m(\u001b[0m\u001b[0mfilepath_or_buffer\u001b[0m\u001b[0;34m,\u001b[0m \u001b[0mkwds\u001b[0m\u001b[0;34m)\u001b[0m\u001b[0;34m\u001b[0m\u001b[0;34m\u001b[0m\u001b[0m\n\u001b[0m\u001b[1;32m    689\u001b[0m \u001b[0;34m\u001b[0m\u001b[0m\n\u001b[1;32m    690\u001b[0m \u001b[0;34m\u001b[0m\u001b[0m\n",
            "\u001b[0;32m/usr/local/lib/python3.7/dist-packages/pandas/io/parsers.py\u001b[0m in \u001b[0;36m_read\u001b[0;34m(filepath_or_buffer, kwds)\u001b[0m\n\u001b[1;32m    458\u001b[0m \u001b[0;34m\u001b[0m\u001b[0m\n\u001b[1;32m    459\u001b[0m     \u001b[0;32mtry\u001b[0m\u001b[0;34m:\u001b[0m\u001b[0;34m\u001b[0m\u001b[0;34m\u001b[0m\u001b[0m\n\u001b[0;32m--> 460\u001b[0;31m         \u001b[0mdata\u001b[0m \u001b[0;34m=\u001b[0m \u001b[0mparser\u001b[0m\u001b[0;34m.\u001b[0m\u001b[0mread\u001b[0m\u001b[0;34m(\u001b[0m\u001b[0mnrows\u001b[0m\u001b[0;34m)\u001b[0m\u001b[0;34m\u001b[0m\u001b[0;34m\u001b[0m\u001b[0m\n\u001b[0m\u001b[1;32m    461\u001b[0m     \u001b[0;32mfinally\u001b[0m\u001b[0;34m:\u001b[0m\u001b[0;34m\u001b[0m\u001b[0;34m\u001b[0m\u001b[0m\n\u001b[1;32m    462\u001b[0m         \u001b[0mparser\u001b[0m\u001b[0;34m.\u001b[0m\u001b[0mclose\u001b[0m\u001b[0;34m(\u001b[0m\u001b[0;34m)\u001b[0m\u001b[0;34m\u001b[0m\u001b[0;34m\u001b[0m\u001b[0m\n",
            "\u001b[0;32m/usr/local/lib/python3.7/dist-packages/pandas/io/parsers.py\u001b[0m in \u001b[0;36mread\u001b[0;34m(self, nrows)\u001b[0m\n\u001b[1;32m   1196\u001b[0m     \u001b[0;32mdef\u001b[0m \u001b[0mread\u001b[0m\u001b[0;34m(\u001b[0m\u001b[0mself\u001b[0m\u001b[0;34m,\u001b[0m \u001b[0mnrows\u001b[0m\u001b[0;34m=\u001b[0m\u001b[0;32mNone\u001b[0m\u001b[0;34m)\u001b[0m\u001b[0;34m:\u001b[0m\u001b[0;34m\u001b[0m\u001b[0;34m\u001b[0m\u001b[0m\n\u001b[1;32m   1197\u001b[0m         \u001b[0mnrows\u001b[0m \u001b[0;34m=\u001b[0m \u001b[0m_validate_integer\u001b[0m\u001b[0;34m(\u001b[0m\u001b[0;34m\"nrows\"\u001b[0m\u001b[0;34m,\u001b[0m \u001b[0mnrows\u001b[0m\u001b[0;34m)\u001b[0m\u001b[0;34m\u001b[0m\u001b[0;34m\u001b[0m\u001b[0m\n\u001b[0;32m-> 1198\u001b[0;31m         \u001b[0mret\u001b[0m \u001b[0;34m=\u001b[0m \u001b[0mself\u001b[0m\u001b[0;34m.\u001b[0m\u001b[0m_engine\u001b[0m\u001b[0;34m.\u001b[0m\u001b[0mread\u001b[0m\u001b[0;34m(\u001b[0m\u001b[0mnrows\u001b[0m\u001b[0;34m)\u001b[0m\u001b[0;34m\u001b[0m\u001b[0;34m\u001b[0m\u001b[0m\n\u001b[0m\u001b[1;32m   1199\u001b[0m \u001b[0;34m\u001b[0m\u001b[0m\n\u001b[1;32m   1200\u001b[0m         \u001b[0;31m# May alter columns / col_dict\u001b[0m\u001b[0;34m\u001b[0m\u001b[0;34m\u001b[0m\u001b[0;34m\u001b[0m\u001b[0m\n",
            "\u001b[0;32m/usr/local/lib/python3.7/dist-packages/pandas/io/parsers.py\u001b[0m in \u001b[0;36mread\u001b[0;34m(self, nrows)\u001b[0m\n\u001b[1;32m   2155\u001b[0m     \u001b[0;32mdef\u001b[0m \u001b[0mread\u001b[0m\u001b[0;34m(\u001b[0m\u001b[0mself\u001b[0m\u001b[0;34m,\u001b[0m \u001b[0mnrows\u001b[0m\u001b[0;34m=\u001b[0m\u001b[0;32mNone\u001b[0m\u001b[0;34m)\u001b[0m\u001b[0;34m:\u001b[0m\u001b[0;34m\u001b[0m\u001b[0;34m\u001b[0m\u001b[0m\n\u001b[1;32m   2156\u001b[0m         \u001b[0;32mtry\u001b[0m\u001b[0;34m:\u001b[0m\u001b[0;34m\u001b[0m\u001b[0;34m\u001b[0m\u001b[0m\n\u001b[0;32m-> 2157\u001b[0;31m             \u001b[0mdata\u001b[0m \u001b[0;34m=\u001b[0m \u001b[0mself\u001b[0m\u001b[0;34m.\u001b[0m\u001b[0m_reader\u001b[0m\u001b[0;34m.\u001b[0m\u001b[0mread\u001b[0m\u001b[0;34m(\u001b[0m\u001b[0mnrows\u001b[0m\u001b[0;34m)\u001b[0m\u001b[0;34m\u001b[0m\u001b[0;34m\u001b[0m\u001b[0m\n\u001b[0m\u001b[1;32m   2158\u001b[0m         \u001b[0;32mexcept\u001b[0m \u001b[0mStopIteration\u001b[0m\u001b[0;34m:\u001b[0m\u001b[0;34m\u001b[0m\u001b[0;34m\u001b[0m\u001b[0m\n\u001b[1;32m   2159\u001b[0m             \u001b[0;32mif\u001b[0m \u001b[0mself\u001b[0m\u001b[0;34m.\u001b[0m\u001b[0m_first_chunk\u001b[0m\u001b[0;34m:\u001b[0m\u001b[0;34m\u001b[0m\u001b[0;34m\u001b[0m\u001b[0m\n",
            "\u001b[0;32mpandas/_libs/parsers.pyx\u001b[0m in \u001b[0;36mpandas._libs.parsers.TextReader.read\u001b[0;34m()\u001b[0m\n",
            "\u001b[0;32mpandas/_libs/parsers.pyx\u001b[0m in \u001b[0;36mpandas._libs.parsers.TextReader._read_low_memory\u001b[0;34m()\u001b[0m\n",
            "\u001b[0;32mpandas/_libs/parsers.pyx\u001b[0m in \u001b[0;36mpandas._libs.parsers.TextReader._read_rows\u001b[0;34m()\u001b[0m\n",
            "\u001b[0;32mpandas/_libs/parsers.pyx\u001b[0m in \u001b[0;36mpandas._libs.parsers.TextReader._tokenize_rows\u001b[0;34m()\u001b[0m\n",
            "\u001b[0;32mpandas/_libs/parsers.pyx\u001b[0m in \u001b[0;36mpandas._libs.parsers.raise_parser_error\u001b[0;34m()\u001b[0m\n",
            "\u001b[0;31mParserError\u001b[0m: Error tokenizing data. C error: Expected 8 fields in line 6452, saw 9\n"
          ]
        }
      ]
    },
    {
      "cell_type": "code",
      "metadata": {
        "colab": {
          "base_uri": "https://localhost:8080/"
        },
        "id": "q2gCBPI5Ju4n",
        "outputId": "ccf0d2d6-1d45-4fe8-e794-1e4f622a4928"
      },
      "source": [
        "!head -n6452 BX-Books.csv | tail -n1"
      ],
      "execution_count": 9,
      "outputs": [
        {
          "output_type": "stream",
          "name": "stdout",
          "text": [
            "\"0735201994\";\"Peterman Rides Again: Adventures Continue with the Real \\\"J. Peterman\\\" Through Life &amp; the Catalog Business\";\"John Peterman\";\"2000\";\"Prentice Hall Art\";\"http://images.amazon.com/images/P/0735201994.01.THUMBZZZ.jpg\";\"http://images.amazon.com/images/P/0735201994.01.MZZZZZZZ.jpg\";\"http://images.amazon.com/images/P/0735201994.01.LZZZZZZZ.jpg\"\r\n"
          ]
        }
      ]
    },
    {
      "cell_type": "code",
      "metadata": {
        "colab": {
          "base_uri": "https://localhost:8080/",
          "height": 428
        },
        "id": "pwrpbLALIpC7",
        "outputId": "58dac93a-4353-41bf-bbd5-9b9dc8572794"
      },
      "source": [
        "books = pd.read_csv('BX-Books.csv', sep=';', encoding = \"ISO-8859-1\", escapechar = \"\\\\\")\n",
        "books.head()"
      ],
      "execution_count": 5,
      "outputs": [
        {
          "output_type": "execute_result",
          "data": {
            "text/html": [
              "<div>\n",
              "<style scoped>\n",
              "    .dataframe tbody tr th:only-of-type {\n",
              "        vertical-align: middle;\n",
              "    }\n",
              "\n",
              "    .dataframe tbody tr th {\n",
              "        vertical-align: top;\n",
              "    }\n",
              "\n",
              "    .dataframe thead th {\n",
              "        text-align: right;\n",
              "    }\n",
              "</style>\n",
              "<table border=\"1\" class=\"dataframe\">\n",
              "  <thead>\n",
              "    <tr style=\"text-align: right;\">\n",
              "      <th></th>\n",
              "      <th>ISBN</th>\n",
              "      <th>Book-Title</th>\n",
              "      <th>Book-Author</th>\n",
              "      <th>Year-Of-Publication</th>\n",
              "      <th>Publisher</th>\n",
              "      <th>Image-URL-S</th>\n",
              "      <th>Image-URL-M</th>\n",
              "      <th>Image-URL-L</th>\n",
              "    </tr>\n",
              "  </thead>\n",
              "  <tbody>\n",
              "    <tr>\n",
              "      <th>0</th>\n",
              "      <td>0195153448</td>\n",
              "      <td>Classical Mythology</td>\n",
              "      <td>Mark P. O. Morford</td>\n",
              "      <td>2002</td>\n",
              "      <td>Oxford University Press</td>\n",
              "      <td>http://images.amazon.com/images/P/0195153448.0...</td>\n",
              "      <td>http://images.amazon.com/images/P/0195153448.0...</td>\n",
              "      <td>http://images.amazon.com/images/P/0195153448.0...</td>\n",
              "    </tr>\n",
              "    <tr>\n",
              "      <th>1</th>\n",
              "      <td>0002005018</td>\n",
              "      <td>Clara Callan</td>\n",
              "      <td>Richard Bruce Wright</td>\n",
              "      <td>2001</td>\n",
              "      <td>HarperFlamingo Canada</td>\n",
              "      <td>http://images.amazon.com/images/P/0002005018.0...</td>\n",
              "      <td>http://images.amazon.com/images/P/0002005018.0...</td>\n",
              "      <td>http://images.amazon.com/images/P/0002005018.0...</td>\n",
              "    </tr>\n",
              "    <tr>\n",
              "      <th>2</th>\n",
              "      <td>0060973129</td>\n",
              "      <td>Decision in Normandy</td>\n",
              "      <td>Carlo D'Este</td>\n",
              "      <td>1991</td>\n",
              "      <td>HarperPerennial</td>\n",
              "      <td>http://images.amazon.com/images/P/0060973129.0...</td>\n",
              "      <td>http://images.amazon.com/images/P/0060973129.0...</td>\n",
              "      <td>http://images.amazon.com/images/P/0060973129.0...</td>\n",
              "    </tr>\n",
              "    <tr>\n",
              "      <th>3</th>\n",
              "      <td>0374157065</td>\n",
              "      <td>Flu: The Story of the Great Influenza Pandemic...</td>\n",
              "      <td>Gina Bari Kolata</td>\n",
              "      <td>1999</td>\n",
              "      <td>Farrar Straus Giroux</td>\n",
              "      <td>http://images.amazon.com/images/P/0374157065.0...</td>\n",
              "      <td>http://images.amazon.com/images/P/0374157065.0...</td>\n",
              "      <td>http://images.amazon.com/images/P/0374157065.0...</td>\n",
              "    </tr>\n",
              "    <tr>\n",
              "      <th>4</th>\n",
              "      <td>0393045218</td>\n",
              "      <td>The Mummies of Urumchi</td>\n",
              "      <td>E. J. W. Barber</td>\n",
              "      <td>1999</td>\n",
              "      <td>W. W. Norton &amp;amp; Company</td>\n",
              "      <td>http://images.amazon.com/images/P/0393045218.0...</td>\n",
              "      <td>http://images.amazon.com/images/P/0393045218.0...</td>\n",
              "      <td>http://images.amazon.com/images/P/0393045218.0...</td>\n",
              "    </tr>\n",
              "  </tbody>\n",
              "</table>\n",
              "</div>"
            ],
            "text/plain": [
              "         ISBN  ...                                        Image-URL-L\n",
              "0  0195153448  ...  http://images.amazon.com/images/P/0195153448.0...\n",
              "1  0002005018  ...  http://images.amazon.com/images/P/0002005018.0...\n",
              "2  0060973129  ...  http://images.amazon.com/images/P/0060973129.0...\n",
              "3  0374157065  ...  http://images.amazon.com/images/P/0374157065.0...\n",
              "4  0393045218  ...  http://images.amazon.com/images/P/0393045218.0...\n",
              "\n",
              "[5 rows x 8 columns]"
            ]
          },
          "metadata": {},
          "execution_count": 5
        }
      ]
    },
    {
      "cell_type": "code",
      "metadata": {
        "colab": {
          "base_uri": "https://localhost:8080/",
          "height": 669
        },
        "id": "KMA7w0HCLRcu",
        "outputId": "f93b51f7-d2b2-4981-de74-7df591dc270a"
      },
      "source": [
        "ratings = pd.read_csv('BX-Book-Ratings.csv', sep=';', encoding = \"ISO-8859-1\")\n",
        "ratings.head(20)"
      ],
      "execution_count": 6,
      "outputs": [
        {
          "output_type": "execute_result",
          "data": {
            "text/html": [
              "<div>\n",
              "<style scoped>\n",
              "    .dataframe tbody tr th:only-of-type {\n",
              "        vertical-align: middle;\n",
              "    }\n",
              "\n",
              "    .dataframe tbody tr th {\n",
              "        vertical-align: top;\n",
              "    }\n",
              "\n",
              "    .dataframe thead th {\n",
              "        text-align: right;\n",
              "    }\n",
              "</style>\n",
              "<table border=\"1\" class=\"dataframe\">\n",
              "  <thead>\n",
              "    <tr style=\"text-align: right;\">\n",
              "      <th></th>\n",
              "      <th>User-ID</th>\n",
              "      <th>ISBN</th>\n",
              "      <th>Book-Rating</th>\n",
              "    </tr>\n",
              "  </thead>\n",
              "  <tbody>\n",
              "    <tr>\n",
              "      <th>0</th>\n",
              "      <td>276725</td>\n",
              "      <td>034545104X</td>\n",
              "      <td>0</td>\n",
              "    </tr>\n",
              "    <tr>\n",
              "      <th>1</th>\n",
              "      <td>276726</td>\n",
              "      <td>0155061224</td>\n",
              "      <td>5</td>\n",
              "    </tr>\n",
              "    <tr>\n",
              "      <th>2</th>\n",
              "      <td>276727</td>\n",
              "      <td>0446520802</td>\n",
              "      <td>0</td>\n",
              "    </tr>\n",
              "    <tr>\n",
              "      <th>3</th>\n",
              "      <td>276729</td>\n",
              "      <td>052165615X</td>\n",
              "      <td>3</td>\n",
              "    </tr>\n",
              "    <tr>\n",
              "      <th>4</th>\n",
              "      <td>276729</td>\n",
              "      <td>0521795028</td>\n",
              "      <td>6</td>\n",
              "    </tr>\n",
              "    <tr>\n",
              "      <th>5</th>\n",
              "      <td>276733</td>\n",
              "      <td>2080674722</td>\n",
              "      <td>0</td>\n",
              "    </tr>\n",
              "    <tr>\n",
              "      <th>6</th>\n",
              "      <td>276736</td>\n",
              "      <td>3257224281</td>\n",
              "      <td>8</td>\n",
              "    </tr>\n",
              "    <tr>\n",
              "      <th>7</th>\n",
              "      <td>276737</td>\n",
              "      <td>0600570967</td>\n",
              "      <td>6</td>\n",
              "    </tr>\n",
              "    <tr>\n",
              "      <th>8</th>\n",
              "      <td>276744</td>\n",
              "      <td>038550120X</td>\n",
              "      <td>7</td>\n",
              "    </tr>\n",
              "    <tr>\n",
              "      <th>9</th>\n",
              "      <td>276745</td>\n",
              "      <td>342310538</td>\n",
              "      <td>10</td>\n",
              "    </tr>\n",
              "    <tr>\n",
              "      <th>10</th>\n",
              "      <td>276746</td>\n",
              "      <td>0425115801</td>\n",
              "      <td>0</td>\n",
              "    </tr>\n",
              "    <tr>\n",
              "      <th>11</th>\n",
              "      <td>276746</td>\n",
              "      <td>0449006522</td>\n",
              "      <td>0</td>\n",
              "    </tr>\n",
              "    <tr>\n",
              "      <th>12</th>\n",
              "      <td>276746</td>\n",
              "      <td>0553561618</td>\n",
              "      <td>0</td>\n",
              "    </tr>\n",
              "    <tr>\n",
              "      <th>13</th>\n",
              "      <td>276746</td>\n",
              "      <td>055356451X</td>\n",
              "      <td>0</td>\n",
              "    </tr>\n",
              "    <tr>\n",
              "      <th>14</th>\n",
              "      <td>276746</td>\n",
              "      <td>0786013990</td>\n",
              "      <td>0</td>\n",
              "    </tr>\n",
              "    <tr>\n",
              "      <th>15</th>\n",
              "      <td>276746</td>\n",
              "      <td>0786014512</td>\n",
              "      <td>0</td>\n",
              "    </tr>\n",
              "    <tr>\n",
              "      <th>16</th>\n",
              "      <td>276747</td>\n",
              "      <td>0060517794</td>\n",
              "      <td>9</td>\n",
              "    </tr>\n",
              "    <tr>\n",
              "      <th>17</th>\n",
              "      <td>276747</td>\n",
              "      <td>0451192001</td>\n",
              "      <td>0</td>\n",
              "    </tr>\n",
              "    <tr>\n",
              "      <th>18</th>\n",
              "      <td>276747</td>\n",
              "      <td>0609801279</td>\n",
              "      <td>0</td>\n",
              "    </tr>\n",
              "    <tr>\n",
              "      <th>19</th>\n",
              "      <td>276747</td>\n",
              "      <td>0671537458</td>\n",
              "      <td>9</td>\n",
              "    </tr>\n",
              "  </tbody>\n",
              "</table>\n",
              "</div>"
            ],
            "text/plain": [
              "    User-ID        ISBN  Book-Rating\n",
              "0    276725  034545104X            0\n",
              "1    276726  0155061224            5\n",
              "2    276727  0446520802            0\n",
              "3    276729  052165615X            3\n",
              "4    276729  0521795028            6\n",
              "5    276733  2080674722            0\n",
              "6    276736  3257224281            8\n",
              "7    276737  0600570967            6\n",
              "8    276744  038550120X            7\n",
              "9    276745   342310538           10\n",
              "10   276746  0425115801            0\n",
              "11   276746  0449006522            0\n",
              "12   276746  0553561618            0\n",
              "13   276746  055356451X            0\n",
              "14   276746  0786013990            0\n",
              "15   276746  0786014512            0\n",
              "16   276747  0060517794            9\n",
              "17   276747  0451192001            0\n",
              "18   276747  0609801279            0\n",
              "19   276747  0671537458            9"
            ]
          },
          "metadata": {},
          "execution_count": 6
        }
      ]
    },
    {
      "cell_type": "markdown",
      "metadata": {
        "id": "OomNNsKgbIy8"
      },
      "source": [
        "# Utility matrix - try no.1"
      ]
    },
    {
      "cell_type": "code",
      "metadata": {
        "id": "4iRMHsmZUb2u"
      },
      "source": [
        "# do not try to run, you will run out of memory\n",
        "# ratings_matrix = ratings.pivot(index='User-ID', columns='ISBN', values='Book-Rating').fillna(0)"
      ],
      "execution_count": null,
      "outputs": []
    },
    {
      "cell_type": "code",
      "metadata": {
        "colab": {
          "base_uri": "https://localhost:8080/"
        },
        "id": "-6VokMaeXWUB",
        "outputId": "2e88f6b6-87bc-4b9c-f1e9-53d730b48288"
      },
      "source": [
        "ratings.shape"
      ],
      "execution_count": 12,
      "outputs": [
        {
          "output_type": "execute_result",
          "data": {
            "text/plain": [
              "(1149780, 3)"
            ]
          },
          "metadata": {},
          "execution_count": 12
        }
      ]
    },
    {
      "cell_type": "code",
      "metadata": {
        "id": "VinZAWFsWFQB"
      },
      "source": [
        "from scipy.sparse import csr_matrix\n",
        "from pandas.api.types import CategoricalDtype"
      ],
      "execution_count": 13,
      "outputs": []
    },
    {
      "cell_type": "code",
      "metadata": {
        "colab": {
          "base_uri": "https://localhost:8080/",
          "height": 307
        },
        "id": "hU8Bt7V4WvrM",
        "outputId": "80d81170-14bd-4552-e100-811a475c5b72"
      },
      "source": [
        "sparce_matrix = csr_matrix((ratings['Book-Rating'], (ratings['User-ID'], ratings['ISBN'])))"
      ],
      "execution_count": 14,
      "outputs": [
        {
          "output_type": "error",
          "ename": "TypeError",
          "evalue": "ignored",
          "traceback": [
            "\u001b[0;31m---------------------------------------------------------------------------\u001b[0m",
            "\u001b[0;31mTypeError\u001b[0m                                 Traceback (most recent call last)",
            "\u001b[0;32m<ipython-input-14-f9c21f98209f>\u001b[0m in \u001b[0;36m<module>\u001b[0;34m()\u001b[0m\n\u001b[0;32m----> 1\u001b[0;31m \u001b[0msparce_matrix\u001b[0m \u001b[0;34m=\u001b[0m \u001b[0mcsr_matrix\u001b[0m\u001b[0;34m(\u001b[0m\u001b[0;34m(\u001b[0m\u001b[0mratings\u001b[0m\u001b[0;34m[\u001b[0m\u001b[0;34m'Book-Rating'\u001b[0m\u001b[0;34m]\u001b[0m\u001b[0;34m,\u001b[0m \u001b[0;34m(\u001b[0m\u001b[0mratings\u001b[0m\u001b[0;34m[\u001b[0m\u001b[0;34m'User-ID'\u001b[0m\u001b[0;34m]\u001b[0m\u001b[0;34m,\u001b[0m \u001b[0mratings\u001b[0m\u001b[0;34m[\u001b[0m\u001b[0;34m'ISBN'\u001b[0m\u001b[0;34m]\u001b[0m\u001b[0;34m)\u001b[0m\u001b[0;34m)\u001b[0m\u001b[0;34m)\u001b[0m\u001b[0;34m\u001b[0m\u001b[0;34m\u001b[0m\u001b[0m\n\u001b[0m",
            "\u001b[0;32m/usr/local/lib/python3.7/dist-packages/scipy/sparse/compressed.py\u001b[0m in \u001b[0;36m__init__\u001b[0;34m(self, arg1, shape, dtype, copy)\u001b[0m\n\u001b[1;32m     55\u001b[0m                     \u001b[0;31m# (data, ij) format\u001b[0m\u001b[0;34m\u001b[0m\u001b[0;34m\u001b[0m\u001b[0;34m\u001b[0m\u001b[0m\n\u001b[1;32m     56\u001b[0m                     \u001b[0;32mfrom\u001b[0m \u001b[0;34m.\u001b[0m\u001b[0mcoo\u001b[0m \u001b[0;32mimport\u001b[0m \u001b[0mcoo_matrix\u001b[0m\u001b[0;34m\u001b[0m\u001b[0;34m\u001b[0m\u001b[0m\n\u001b[0;32m---> 57\u001b[0;31m                     \u001b[0mother\u001b[0m \u001b[0;34m=\u001b[0m \u001b[0mself\u001b[0m\u001b[0;34m.\u001b[0m\u001b[0m__class__\u001b[0m\u001b[0;34m(\u001b[0m\u001b[0mcoo_matrix\u001b[0m\u001b[0;34m(\u001b[0m\u001b[0marg1\u001b[0m\u001b[0;34m,\u001b[0m \u001b[0mshape\u001b[0m\u001b[0;34m=\u001b[0m\u001b[0mshape\u001b[0m\u001b[0;34m)\u001b[0m\u001b[0;34m)\u001b[0m\u001b[0;34m\u001b[0m\u001b[0;34m\u001b[0m\u001b[0m\n\u001b[0m\u001b[1;32m     58\u001b[0m                     \u001b[0mself\u001b[0m\u001b[0;34m.\u001b[0m\u001b[0m_set_self\u001b[0m\u001b[0;34m(\u001b[0m\u001b[0mother\u001b[0m\u001b[0;34m)\u001b[0m\u001b[0;34m\u001b[0m\u001b[0;34m\u001b[0m\u001b[0m\n\u001b[1;32m     59\u001b[0m                 \u001b[0;32melif\u001b[0m \u001b[0mlen\u001b[0m\u001b[0;34m(\u001b[0m\u001b[0marg1\u001b[0m\u001b[0;34m)\u001b[0m \u001b[0;34m==\u001b[0m \u001b[0;36m3\u001b[0m\u001b[0;34m:\u001b[0m\u001b[0;34m\u001b[0m\u001b[0;34m\u001b[0m\u001b[0m\n",
            "\u001b[0;32m/usr/local/lib/python3.7/dist-packages/scipy/sparse/coo.py\u001b[0m in \u001b[0;36m__init__\u001b[0;34m(self, arg1, shape, dtype, copy)\u001b[0m\n\u001b[1;32m    149\u001b[0m                                          'sized index arrays')\n\u001b[1;32m    150\u001b[0m                     \u001b[0mM\u001b[0m \u001b[0;34m=\u001b[0m \u001b[0moperator\u001b[0m\u001b[0;34m.\u001b[0m\u001b[0mindex\u001b[0m\u001b[0;34m(\u001b[0m\u001b[0mnp\u001b[0m\u001b[0;34m.\u001b[0m\u001b[0mmax\u001b[0m\u001b[0;34m(\u001b[0m\u001b[0mrow\u001b[0m\u001b[0;34m)\u001b[0m\u001b[0;34m)\u001b[0m \u001b[0;34m+\u001b[0m \u001b[0;36m1\u001b[0m\u001b[0;34m\u001b[0m\u001b[0;34m\u001b[0m\u001b[0m\n\u001b[0;32m--> 151\u001b[0;31m                     \u001b[0mN\u001b[0m \u001b[0;34m=\u001b[0m \u001b[0moperator\u001b[0m\u001b[0;34m.\u001b[0m\u001b[0mindex\u001b[0m\u001b[0;34m(\u001b[0m\u001b[0mnp\u001b[0m\u001b[0;34m.\u001b[0m\u001b[0mmax\u001b[0m\u001b[0;34m(\u001b[0m\u001b[0mcol\u001b[0m\u001b[0;34m)\u001b[0m\u001b[0;34m)\u001b[0m \u001b[0;34m+\u001b[0m \u001b[0;36m1\u001b[0m\u001b[0;34m\u001b[0m\u001b[0;34m\u001b[0m\u001b[0m\n\u001b[0m\u001b[1;32m    152\u001b[0m                     \u001b[0mself\u001b[0m\u001b[0;34m.\u001b[0m\u001b[0m_shape\u001b[0m \u001b[0;34m=\u001b[0m \u001b[0mcheck_shape\u001b[0m\u001b[0;34m(\u001b[0m\u001b[0;34m(\u001b[0m\u001b[0mM\u001b[0m\u001b[0;34m,\u001b[0m \u001b[0mN\u001b[0m\u001b[0;34m)\u001b[0m\u001b[0;34m)\u001b[0m\u001b[0;34m\u001b[0m\u001b[0;34m\u001b[0m\u001b[0m\n\u001b[1;32m    153\u001b[0m                 \u001b[0;32melse\u001b[0m\u001b[0;34m:\u001b[0m\u001b[0;34m\u001b[0m\u001b[0;34m\u001b[0m\u001b[0m\n",
            "\u001b[0;31mTypeError\u001b[0m: 'str' object cannot be interpreted as an integer"
          ]
        }
      ]
    },
    {
      "cell_type": "code",
      "metadata": {
        "id": "gPmUjU-yX-PH"
      },
      "source": [
        "# inspired by https://stackoverflow.com/a/53235048\n",
        "def create_matrix(frame, user_col, item_col, rating_col):\n",
        "    \"\"\"\n",
        "    creates the sparse user-item interaction matrix\n",
        "\n",
        "    Parameters\n",
        "    ----------\n",
        "    frame : DataFrame\n",
        "        implicit rating data\n",
        "\n",
        "    user_col : str\n",
        "        user column name\n",
        "\n",
        "    item_col : str\n",
        "        item column name\n",
        "\n",
        "    ratings_col : str\n",
        "        implicit rating column name\n",
        "    \"\"\"\n",
        "\n",
        "    user_c = CategoricalDtype(sorted(frame[user_col].unique()), ordered=True)\n",
        "    item_c = CategoricalDtype(sorted(frame[item_col].unique()), ordered=True)\n",
        "\n",
        "    row = frame[user_col].astype(user_c).cat.codes\n",
        "    col = frame[item_col].astype(item_c).cat.codes\n",
        "    return csr_matrix((frame[rating_col], (row, col)), \\\n",
        "                              shape=(user_c.categories.size, item_c.categories.size))"
      ],
      "execution_count": 15,
      "outputs": []
    },
    {
      "cell_type": "code",
      "metadata": {
        "colab": {
          "base_uri": "https://localhost:8080/"
        },
        "id": "K2oSeJ06YHtL",
        "outputId": "77d08b4c-0493-49dd-c472-ffd51b7b71c8"
      },
      "source": [
        "sparse_matrix = create_matrix(ratings, 'User-ID', 'ISBN', 'Book-Rating')\n",
        "sparse_matrix"
      ],
      "execution_count": 16,
      "outputs": [
        {
          "output_type": "execute_result",
          "data": {
            "text/plain": [
              "<105283x340556 sparse matrix of type '<class 'numpy.longlong'>'\n",
              "\twith 1149780 stored elements in Compressed Sparse Row format>"
            ]
          },
          "metadata": {},
          "execution_count": 16
        }
      ]
    },
    {
      "cell_type": "markdown",
      "metadata": {
        "id": "c-udUBjFdGKm"
      },
      "source": [
        "# Sanity checks\n"
      ]
    },
    {
      "cell_type": "markdown",
      "metadata": {
        "id": "gsdSLTl5dH6N"
      },
      "source": [
        "## Sparsity"
      ]
    },
    {
      "cell_type": "code",
      "metadata": {
        "colab": {
          "base_uri": "https://localhost:8080/"
        },
        "id": "gPTSisNydJ4y",
        "outputId": "a6868bd4-54af-4056-c696-b1d92814d72b"
      },
      "source": [
        "len(ratings) / (len(users) * len(books))"
      ],
      "execution_count": 17,
      "outputs": [
        {
          "output_type": "execute_result",
          "data": {
            "text/plain": [
              "1.5193415119518724e-05"
            ]
          },
          "metadata": {},
          "execution_count": 17
        }
      ]
    },
    {
      "cell_type": "markdown",
      "metadata": {
        "id": "NNkERVAWdhr9"
      },
      "source": [
        "very sparse => collaborative filtering might not be the best option"
      ]
    },
    {
      "cell_type": "markdown",
      "metadata": {
        "id": "yEsEBcYrdq5U"
      },
      "source": [
        "## New users and items"
      ]
    },
    {
      "cell_type": "code",
      "metadata": {
        "colab": {
          "base_uri": "https://localhost:8080/"
        },
        "id": "Hd-TQM-rdqEy",
        "outputId": "6b1194ba-c3a0-4310-ccc7-8879e67b42e6"
      },
      "source": [
        "len(users['User-ID']) - len(ratings['User-ID'].unique())"
      ],
      "execution_count": 61,
      "outputs": [
        {
          "output_type": "execute_result",
          "data": {
            "text/plain": [
              "173575"
            ]
          },
          "metadata": {},
          "execution_count": 61
        }
      ]
    },
    {
      "cell_type": "code",
      "metadata": {
        "colab": {
          "base_uri": "https://localhost:8080/"
        },
        "id": "JjzSjy45eW0D",
        "outputId": "32d27285-e9b4-4e09-c299-364319527da1"
      },
      "source": [
        "len(books['ISBN']) - len(ratings['ISBN'].unique())"
      ],
      "execution_count": 62,
      "outputs": [
        {
          "output_type": "execute_result",
          "data": {
            "text/plain": [
              "-69177"
            ]
          },
          "metadata": {},
          "execution_count": 62
        }
      ]
    },
    {
      "cell_type": "code",
      "metadata": {
        "colab": {
          "base_uri": "https://localhost:8080/"
        },
        "id": "shN0KYiYkGvo",
        "outputId": "d3c1418a-bc4a-482b-e5ff-864a6cf95dec"
      },
      "source": [
        "len(books['ISBN'])"
      ],
      "execution_count": 73,
      "outputs": [
        {
          "output_type": "execute_result",
          "data": {
            "text/plain": [
              "271379"
            ]
          },
          "metadata": {},
          "execution_count": 73
        }
      ]
    },
    {
      "cell_type": "code",
      "metadata": {
        "colab": {
          "base_uri": "https://localhost:8080/"
        },
        "id": "JcMziyKki1F6",
        "outputId": "2cf690d0-672a-4292-fb79-20c6fc9ea1e6"
      },
      "source": [
        "books['ISBN'][books['ISBN'].isin(ratings['ISBN'])]"
      ],
      "execution_count": 69,
      "outputs": [
        {
          "output_type": "execute_result",
          "data": {
            "text/plain": [
              "0         0195153448\n",
              "1         0002005018\n",
              "2         0060973129\n",
              "3         0374157065\n",
              "4         0393045218\n",
              "             ...    \n",
              "271374    0440400988\n",
              "271375    0525447644\n",
              "271376    006008667X\n",
              "271377    0192126040\n",
              "271378    0767409752\n",
              "Name: ISBN, Length: 270170, dtype: object"
            ]
          },
          "metadata": {},
          "execution_count": 69
        }
      ]
    },
    {
      "cell_type": "code",
      "metadata": {
        "colab": {
          "base_uri": "https://localhost:8080/"
        },
        "id": "ZEOFki2OkJTO",
        "outputId": "95d989a7-e97e-4393-92ef-285a3da32bcf"
      },
      "source": [
        "len(books['ISBN']) - len(books['ISBN'][books['ISBN'].isin(ratings['ISBN'])])"
      ],
      "execution_count": 74,
      "outputs": [
        {
          "output_type": "execute_result",
          "data": {
            "text/plain": [
              "1209"
            ]
          },
          "metadata": {},
          "execution_count": 74
        }
      ]
    },
    {
      "cell_type": "markdown",
      "metadata": {
        "id": "sbIPUwrrkOPr"
      },
      "source": [
        "We don't have ratings for 1209 books."
      ]
    },
    {
      "cell_type": "code",
      "metadata": {
        "colab": {
          "base_uri": "https://localhost:8080/"
        },
        "id": "1uEER3NnjHNz",
        "outputId": "f330b1c7-3bbe-4335-ec72-3e7b6f51511d"
      },
      "source": [
        "len(ratings['ISBN'].unique())"
      ],
      "execution_count": 76,
      "outputs": [
        {
          "output_type": "execute_result",
          "data": {
            "text/plain": [
              "340556"
            ]
          },
          "metadata": {},
          "execution_count": 76
        }
      ]
    },
    {
      "cell_type": "code",
      "metadata": {
        "colab": {
          "base_uri": "https://localhost:8080/"
        },
        "id": "qnujTLjGjK3G",
        "outputId": "97f90ac3-0815-493e-b927-b8c2e6dbb8e6"
      },
      "source": [
        "ratings['ISBN'][ratings['ISBN'].isin(books['ISBN'])].unique()"
      ],
      "execution_count": 77,
      "outputs": [
        {
          "output_type": "execute_result",
          "data": {
            "text/plain": [
              "array(['034545104X', '0155061224', '0446520802', ..., '0590907301',\n",
              "       '0679752714', '0806917695'], dtype=object)"
            ]
          },
          "metadata": {},
          "execution_count": 77
        }
      ]
    },
    {
      "cell_type": "code",
      "metadata": {
        "colab": {
          "base_uri": "https://localhost:8080/"
        },
        "id": "iFbMch_pkZTl",
        "outputId": "1964cca1-afde-4e1b-8eaf-d3c970469a0f"
      },
      "source": [
        "len(ratings['ISBN'].unique()) - len(ratings['ISBN'][ratings['ISBN'].isin(books['ISBN'])].unique())"
      ],
      "execution_count": 79,
      "outputs": [
        {
          "output_type": "execute_result",
          "data": {
            "text/plain": [
              "70386"
            ]
          },
          "metadata": {},
          "execution_count": 79
        }
      ]
    },
    {
      "cell_type": "markdown",
      "metadata": {
        "id": "egcY7yUjksSW"
      },
      "source": [
        "We don't have metadata for 70 386 books that have some rating."
      ]
    },
    {
      "cell_type": "markdown",
      "metadata": {
        "id": "-3Wzh7GOjbW8"
      },
      "source": [
        "many new users and items => collaborative filtering might not be the best option"
      ]
    },
    {
      "cell_type": "markdown",
      "metadata": {
        "id": "fbVEjkQNo6yZ"
      },
      "source": [
        "# Data analysis"
      ]
    },
    {
      "cell_type": "markdown",
      "metadata": {
        "id": "ubDukYDz7u7F"
      },
      "source": [
        "## General look"
      ]
    },
    {
      "cell_type": "code",
      "metadata": {
        "colab": {
          "base_uri": "https://localhost:8080/",
          "height": 669
        },
        "id": "2DjeWTZXo6Tj",
        "outputId": "694caa7d-48c9-45fd-e72e-5901d3941b64"
      },
      "source": [
        "users.head(20)"
      ],
      "execution_count": 82,
      "outputs": [
        {
          "output_type": "execute_result",
          "data": {
            "text/html": [
              "<div>\n",
              "<style scoped>\n",
              "    .dataframe tbody tr th:only-of-type {\n",
              "        vertical-align: middle;\n",
              "    }\n",
              "\n",
              "    .dataframe tbody tr th {\n",
              "        vertical-align: top;\n",
              "    }\n",
              "\n",
              "    .dataframe thead th {\n",
              "        text-align: right;\n",
              "    }\n",
              "</style>\n",
              "<table border=\"1\" class=\"dataframe\">\n",
              "  <thead>\n",
              "    <tr style=\"text-align: right;\">\n",
              "      <th></th>\n",
              "      <th>User-ID</th>\n",
              "      <th>Location</th>\n",
              "      <th>Age</th>\n",
              "    </tr>\n",
              "  </thead>\n",
              "  <tbody>\n",
              "    <tr>\n",
              "      <th>0</th>\n",
              "      <td>1</td>\n",
              "      <td>nyc, new york, usa</td>\n",
              "      <td>NaN</td>\n",
              "    </tr>\n",
              "    <tr>\n",
              "      <th>1</th>\n",
              "      <td>2</td>\n",
              "      <td>stockton, california, usa</td>\n",
              "      <td>18.0</td>\n",
              "    </tr>\n",
              "    <tr>\n",
              "      <th>2</th>\n",
              "      <td>3</td>\n",
              "      <td>moscow, yukon territory, russia</td>\n",
              "      <td>NaN</td>\n",
              "    </tr>\n",
              "    <tr>\n",
              "      <th>3</th>\n",
              "      <td>4</td>\n",
              "      <td>porto, v.n.gaia, portugal</td>\n",
              "      <td>17.0</td>\n",
              "    </tr>\n",
              "    <tr>\n",
              "      <th>4</th>\n",
              "      <td>5</td>\n",
              "      <td>farnborough, hants, united kingdom</td>\n",
              "      <td>NaN</td>\n",
              "    </tr>\n",
              "    <tr>\n",
              "      <th>5</th>\n",
              "      <td>6</td>\n",
              "      <td>santa monica, california, usa</td>\n",
              "      <td>61.0</td>\n",
              "    </tr>\n",
              "    <tr>\n",
              "      <th>6</th>\n",
              "      <td>7</td>\n",
              "      <td>washington, dc, usa</td>\n",
              "      <td>NaN</td>\n",
              "    </tr>\n",
              "    <tr>\n",
              "      <th>7</th>\n",
              "      <td>8</td>\n",
              "      <td>timmins, ontario, canada</td>\n",
              "      <td>NaN</td>\n",
              "    </tr>\n",
              "    <tr>\n",
              "      <th>8</th>\n",
              "      <td>9</td>\n",
              "      <td>germantown, tennessee, usa</td>\n",
              "      <td>NaN</td>\n",
              "    </tr>\n",
              "    <tr>\n",
              "      <th>9</th>\n",
              "      <td>10</td>\n",
              "      <td>albacete, wisconsin, spain</td>\n",
              "      <td>26.0</td>\n",
              "    </tr>\n",
              "    <tr>\n",
              "      <th>10</th>\n",
              "      <td>11</td>\n",
              "      <td>melbourne, victoria, australia</td>\n",
              "      <td>14.0</td>\n",
              "    </tr>\n",
              "    <tr>\n",
              "      <th>11</th>\n",
              "      <td>12</td>\n",
              "      <td>fort bragg, california, usa</td>\n",
              "      <td>NaN</td>\n",
              "    </tr>\n",
              "    <tr>\n",
              "      <th>12</th>\n",
              "      <td>13</td>\n",
              "      <td>barcelona, barcelona, spain</td>\n",
              "      <td>26.0</td>\n",
              "    </tr>\n",
              "    <tr>\n",
              "      <th>13</th>\n",
              "      <td>14</td>\n",
              "      <td>mediapolis, iowa, usa</td>\n",
              "      <td>NaN</td>\n",
              "    </tr>\n",
              "    <tr>\n",
              "      <th>14</th>\n",
              "      <td>15</td>\n",
              "      <td>calgary, alberta, canada</td>\n",
              "      <td>NaN</td>\n",
              "    </tr>\n",
              "    <tr>\n",
              "      <th>15</th>\n",
              "      <td>16</td>\n",
              "      <td>albuquerque, new mexico, usa</td>\n",
              "      <td>NaN</td>\n",
              "    </tr>\n",
              "    <tr>\n",
              "      <th>16</th>\n",
              "      <td>17</td>\n",
              "      <td>chesapeake, virginia, usa</td>\n",
              "      <td>NaN</td>\n",
              "    </tr>\n",
              "    <tr>\n",
              "      <th>17</th>\n",
              "      <td>18</td>\n",
              "      <td>rio de janeiro, rio de janeiro, brazil</td>\n",
              "      <td>25.0</td>\n",
              "    </tr>\n",
              "    <tr>\n",
              "      <th>18</th>\n",
              "      <td>19</td>\n",
              "      <td>weston, ,</td>\n",
              "      <td>14.0</td>\n",
              "    </tr>\n",
              "    <tr>\n",
              "      <th>19</th>\n",
              "      <td>20</td>\n",
              "      <td>langhorne, pennsylvania, usa</td>\n",
              "      <td>19.0</td>\n",
              "    </tr>\n",
              "  </tbody>\n",
              "</table>\n",
              "</div>"
            ],
            "text/plain": [
              "    User-ID                                Location   Age\n",
              "0         1                      nyc, new york, usa   NaN\n",
              "1         2               stockton, california, usa  18.0\n",
              "2         3         moscow, yukon territory, russia   NaN\n",
              "3         4               porto, v.n.gaia, portugal  17.0\n",
              "4         5      farnborough, hants, united kingdom   NaN\n",
              "5         6           santa monica, california, usa  61.0\n",
              "6         7                     washington, dc, usa   NaN\n",
              "7         8                timmins, ontario, canada   NaN\n",
              "8         9              germantown, tennessee, usa   NaN\n",
              "9        10              albacete, wisconsin, spain  26.0\n",
              "10       11          melbourne, victoria, australia  14.0\n",
              "11       12             fort bragg, california, usa   NaN\n",
              "12       13             barcelona, barcelona, spain  26.0\n",
              "13       14                   mediapolis, iowa, usa   NaN\n",
              "14       15                calgary, alberta, canada   NaN\n",
              "15       16            albuquerque, new mexico, usa   NaN\n",
              "16       17               chesapeake, virginia, usa   NaN\n",
              "17       18  rio de janeiro, rio de janeiro, brazil  25.0\n",
              "18       19                               weston, ,  14.0\n",
              "19       20            langhorne, pennsylvania, usa  19.0"
            ]
          },
          "metadata": {},
          "execution_count": 82
        }
      ]
    },
    {
      "cell_type": "code",
      "metadata": {
        "colab": {
          "base_uri": "https://localhost:8080/",
          "height": 297
        },
        "id": "2VXa8zLC1any",
        "outputId": "88a70656-c87f-44e8-c964-52f2612cfeef"
      },
      "source": [
        "users.describe()"
      ],
      "execution_count": 83,
      "outputs": [
        {
          "output_type": "execute_result",
          "data": {
            "text/html": [
              "<div>\n",
              "<style scoped>\n",
              "    .dataframe tbody tr th:only-of-type {\n",
              "        vertical-align: middle;\n",
              "    }\n",
              "\n",
              "    .dataframe tbody tr th {\n",
              "        vertical-align: top;\n",
              "    }\n",
              "\n",
              "    .dataframe thead th {\n",
              "        text-align: right;\n",
              "    }\n",
              "</style>\n",
              "<table border=\"1\" class=\"dataframe\">\n",
              "  <thead>\n",
              "    <tr style=\"text-align: right;\">\n",
              "      <th></th>\n",
              "      <th>User-ID</th>\n",
              "      <th>Age</th>\n",
              "    </tr>\n",
              "  </thead>\n",
              "  <tbody>\n",
              "    <tr>\n",
              "      <th>count</th>\n",
              "      <td>278858.00000</td>\n",
              "      <td>168096.000000</td>\n",
              "    </tr>\n",
              "    <tr>\n",
              "      <th>mean</th>\n",
              "      <td>139429.50000</td>\n",
              "      <td>34.751434</td>\n",
              "    </tr>\n",
              "    <tr>\n",
              "      <th>std</th>\n",
              "      <td>80499.51502</td>\n",
              "      <td>14.428097</td>\n",
              "    </tr>\n",
              "    <tr>\n",
              "      <th>min</th>\n",
              "      <td>1.00000</td>\n",
              "      <td>0.000000</td>\n",
              "    </tr>\n",
              "    <tr>\n",
              "      <th>25%</th>\n",
              "      <td>69715.25000</td>\n",
              "      <td>24.000000</td>\n",
              "    </tr>\n",
              "    <tr>\n",
              "      <th>50%</th>\n",
              "      <td>139429.50000</td>\n",
              "      <td>32.000000</td>\n",
              "    </tr>\n",
              "    <tr>\n",
              "      <th>75%</th>\n",
              "      <td>209143.75000</td>\n",
              "      <td>44.000000</td>\n",
              "    </tr>\n",
              "    <tr>\n",
              "      <th>max</th>\n",
              "      <td>278858.00000</td>\n",
              "      <td>244.000000</td>\n",
              "    </tr>\n",
              "  </tbody>\n",
              "</table>\n",
              "</div>"
            ],
            "text/plain": [
              "            User-ID            Age\n",
              "count  278858.00000  168096.000000\n",
              "mean   139429.50000      34.751434\n",
              "std     80499.51502      14.428097\n",
              "min         1.00000       0.000000\n",
              "25%     69715.25000      24.000000\n",
              "50%    139429.50000      32.000000\n",
              "75%    209143.75000      44.000000\n",
              "max    278858.00000     244.000000"
            ]
          },
          "metadata": {},
          "execution_count": 83
        }
      ]
    },
    {
      "cell_type": "code",
      "metadata": {
        "colab": {
          "base_uri": "https://localhost:8080/"
        },
        "id": "HZ-D3kqG1kza",
        "outputId": "f3f3ffce-3605-49f2-aa5c-f7dbb99734cc"
      },
      "source": [
        "users.info()"
      ],
      "execution_count": 84,
      "outputs": [
        {
          "output_type": "stream",
          "name": "stdout",
          "text": [
            "<class 'pandas.core.frame.DataFrame'>\n",
            "RangeIndex: 278858 entries, 0 to 278857\n",
            "Data columns (total 3 columns):\n",
            " #   Column    Non-Null Count   Dtype  \n",
            "---  ------    --------------   -----  \n",
            " 0   User-ID   278858 non-null  int64  \n",
            " 1   Location  278858 non-null  object \n",
            " 2   Age       168096 non-null  float64\n",
            "dtypes: float64(1), int64(1), object(1)\n",
            "memory usage: 6.4+ MB\n"
          ]
        }
      ]
    },
    {
      "cell_type": "code",
      "metadata": {
        "colab": {
          "base_uri": "https://localhost:8080/",
          "height": 282
        },
        "id": "oOP1vG1d1xC3",
        "outputId": "9e4b8715-aba5-4888-cff8-4efbf121551d"
      },
      "source": [
        "users['Age'].hist()"
      ],
      "execution_count": 85,
      "outputs": [
        {
          "output_type": "execute_result",
          "data": {
            "text/plain": [
              "<matplotlib.axes._subplots.AxesSubplot at 0x7f20d963f990>"
            ]
          },
          "metadata": {},
          "execution_count": 85
        },
        {
          "output_type": "display_data",
          "data": {
            "image/png": "[encoded data removed]",
            "text/plain": [
              "<Figure size 432x288 with 1 Axes>"
            ]
          },
          "metadata": {
            "needs_background": "light"
          }
        }
      ]
    },
    {
      "cell_type": "code",
      "metadata": {
        "id": "mupS_aOHCPAp"
      },
      "source": [
        "u"
      ],
      "execution_count": null,
      "outputs": []
    },
    {
      "cell_type": "code",
      "metadata": {
        "colab": {
          "base_uri": "https://localhost:8080/",
          "height": 428
        },
        "id": "1lfe593U3ISB",
        "outputId": "8f492f7a-30dd-473d-a0ee-3ecbdf2a5b55"
      },
      "source": [
        "books.head()"
      ],
      "execution_count": 86,
      "outputs": [
        {
          "output_type": "execute_result",
          "data": {
            "text/html": [
              "<div>\n",
              "<style scoped>\n",
              "    .dataframe tbody tr th:only-of-type {\n",
              "        vertical-align: middle;\n",
              "    }\n",
              "\n",
              "    .dataframe tbody tr th {\n",
              "        vertical-align: top;\n",
              "    }\n",
              "\n",
              "    .dataframe thead th {\n",
              "        text-align: right;\n",
              "    }\n",
              "</style>\n",
              "<table border=\"1\" class=\"dataframe\">\n",
              "  <thead>\n",
              "    <tr style=\"text-align: right;\">\n",
              "      <th></th>\n",
              "      <th>ISBN</th>\n",
              "      <th>Book-Title</th>\n",
              "      <th>Book-Author</th>\n",
              "      <th>Year-Of-Publication</th>\n",
              "      <th>Publisher</th>\n",
              "      <th>Image-URL-S</th>\n",
              "      <th>Image-URL-M</th>\n",
              "      <th>Image-URL-L</th>\n",
              "    </tr>\n",
              "  </thead>\n",
              "  <tbody>\n",
              "    <tr>\n",
              "      <th>0</th>\n",
              "      <td>0195153448</td>\n",
              "      <td>Classical Mythology</td>\n",
              "      <td>Mark P. O. Morford</td>\n",
              "      <td>2002</td>\n",
              "      <td>Oxford University Press</td>\n",
              "      <td>http://images.amazon.com/images/P/0195153448.0...</td>\n",
              "      <td>http://images.amazon.com/images/P/0195153448.0...</td>\n",
              "      <td>http://images.amazon.com/images/P/0195153448.0...</td>\n",
              "    </tr>\n",
              "    <tr>\n",
              "      <th>1</th>\n",
              "      <td>0002005018</td>\n",
              "      <td>Clara Callan</td>\n",
              "      <td>Richard Bruce Wright</td>\n",
              "      <td>2001</td>\n",
              "      <td>HarperFlamingo Canada</td>\n",
              "      <td>http://images.amazon.com/images/P/0002005018.0...</td>\n",
              "      <td>http://images.amazon.com/images/P/0002005018.0...</td>\n",
              "      <td>http://images.amazon.com/images/P/0002005018.0...</td>\n",
              "    </tr>\n",
              "    <tr>\n",
              "      <th>2</th>\n",
              "      <td>0060973129</td>\n",
              "      <td>Decision in Normandy</td>\n",
              "      <td>Carlo D'Este</td>\n",
              "      <td>1991</td>\n",
              "      <td>HarperPerennial</td>\n",
              "      <td>http://images.amazon.com/images/P/0060973129.0...</td>\n",
              "      <td>http://images.amazon.com/images/P/0060973129.0...</td>\n",
              "      <td>http://images.amazon.com/images/P/0060973129.0...</td>\n",
              "    </tr>\n",
              "    <tr>\n",
              "      <th>3</th>\n",
              "      <td>0374157065</td>\n",
              "      <td>Flu: The Story of the Great Influenza Pandemic...</td>\n",
              "      <td>Gina Bari Kolata</td>\n",
              "      <td>1999</td>\n",
              "      <td>Farrar Straus Giroux</td>\n",
              "      <td>http://images.amazon.com/images/P/0374157065.0...</td>\n",
              "      <td>http://images.amazon.com/images/P/0374157065.0...</td>\n",
              "      <td>http://images.amazon.com/images/P/0374157065.0...</td>\n",
              "    </tr>\n",
              "    <tr>\n",
              "      <th>4</th>\n",
              "      <td>0393045218</td>\n",
              "      <td>The Mummies of Urumchi</td>\n",
              "      <td>E. J. W. Barber</td>\n",
              "      <td>1999</td>\n",
              "      <td>W. W. Norton &amp;amp; Company</td>\n",
              "      <td>http://images.amazon.com/images/P/0393045218.0...</td>\n",
              "      <td>http://images.amazon.com/images/P/0393045218.0...</td>\n",
              "      <td>http://images.amazon.com/images/P/0393045218.0...</td>\n",
              "    </tr>\n",
              "  </tbody>\n",
              "</table>\n",
              "</div>"
            ],
            "text/plain": [
              "         ISBN  ...                                        Image-URL-L\n",
              "0  0195153448  ...  http://images.amazon.com/images/P/0195153448.0...\n",
              "1  0002005018  ...  http://images.amazon.com/images/P/0002005018.0...\n",
              "2  0060973129  ...  http://images.amazon.com/images/P/0060973129.0...\n",
              "3  0374157065  ...  http://images.amazon.com/images/P/0374157065.0...\n",
              "4  0393045218  ...  http://images.amazon.com/images/P/0393045218.0...\n",
              "\n",
              "[5 rows x 8 columns]"
            ]
          },
          "metadata": {},
          "execution_count": 86
        }
      ]
    },
    {
      "cell_type": "code",
      "metadata": {
        "id": "hD5bIQ5j3qSY"
      },
      "source": [
        "books = books[['ISBN', 'Book-Title', 'Book-Author', 'Year-Of-Publication', 'Publisher']]"
      ],
      "execution_count": 88,
      "outputs": []
    },
    {
      "cell_type": "code",
      "metadata": {
        "colab": {
          "base_uri": "https://localhost:8080/",
          "height": 669
        },
        "id": "ZI5j_MXj352T",
        "outputId": "bd4d8538-0263-4ac7-da37-6240fc624b6a"
      },
      "source": [
        "books.head(20)"
      ],
      "execution_count": 90,
      "outputs": [
        {
          "output_type": "execute_result",
          "data": {
            "text/html": [
              "<div>\n",
              "<style scoped>\n",
              "    .dataframe tbody tr th:only-of-type {\n",
              "        vertical-align: middle;\n",
              "    }\n",
              "\n",
              "    .dataframe tbody tr th {\n",
              "        vertical-align: top;\n",
              "    }\n",
              "\n",
              "    .dataframe thead th {\n",
              "        text-align: right;\n",
              "    }\n",
              "</style>\n",
              "<table border=\"1\" class=\"dataframe\">\n",
              "  <thead>\n",
              "    <tr style=\"text-align: right;\">\n",
              "      <th></th>\n",
              "      <th>ISBN</th>\n",
              "      <th>Book-Title</th>\n",
              "      <th>Book-Author</th>\n",
              "      <th>Year-Of-Publication</th>\n",
              "      <th>Publisher</th>\n",
              "    </tr>\n",
              "  </thead>\n",
              "  <tbody>\n",
              "    <tr>\n",
              "      <th>0</th>\n",
              "      <td>0195153448</td>\n",
              "      <td>Classical Mythology</td>\n",
              "      <td>Mark P. O. Morford</td>\n",
              "      <td>2002</td>\n",
              "      <td>Oxford University Press</td>\n",
              "    </tr>\n",
              "    <tr>\n",
              "      <th>1</th>\n",
              "      <td>0002005018</td>\n",
              "      <td>Clara Callan</td>\n",
              "      <td>Richard Bruce Wright</td>\n",
              "      <td>2001</td>\n",
              "      <td>HarperFlamingo Canada</td>\n",
              "    </tr>\n",
              "    <tr>\n",
              "      <th>2</th>\n",
              "      <td>0060973129</td>\n",
              "      <td>Decision in Normandy</td>\n",
              "      <td>Carlo D'Este</td>\n",
              "      <td>1991</td>\n",
              "      <td>HarperPerennial</td>\n",
              "    </tr>\n",
              "    <tr>\n",
              "      <th>3</th>\n",
              "      <td>0374157065</td>\n",
              "      <td>Flu: The Story of the Great Influenza Pandemic...</td>\n",
              "      <td>Gina Bari Kolata</td>\n",
              "      <td>1999</td>\n",
              "      <td>Farrar Straus Giroux</td>\n",
              "    </tr>\n",
              "    <tr>\n",
              "      <th>4</th>\n",
              "      <td>0393045218</td>\n",
              "      <td>The Mummies of Urumchi</td>\n",
              "      <td>E. J. W. Barber</td>\n",
              "      <td>1999</td>\n",
              "      <td>W. W. Norton &amp;amp; Company</td>\n",
              "    </tr>\n",
              "    <tr>\n",
              "      <th>5</th>\n",
              "      <td>0399135782</td>\n",
              "      <td>The Kitchen God's Wife</td>\n",
              "      <td>Amy Tan</td>\n",
              "      <td>1991</td>\n",
              "      <td>Putnam Pub Group</td>\n",
              "    </tr>\n",
              "    <tr>\n",
              "      <th>6</th>\n",
              "      <td>0425176428</td>\n",
              "      <td>What If?: The World's Foremost Military Histor...</td>\n",
              "      <td>Robert Cowley</td>\n",
              "      <td>2000</td>\n",
              "      <td>Berkley Publishing Group</td>\n",
              "    </tr>\n",
              "    <tr>\n",
              "      <th>7</th>\n",
              "      <td>0671870432</td>\n",
              "      <td>PLEADING GUILTY</td>\n",
              "      <td>Scott Turow</td>\n",
              "      <td>1993</td>\n",
              "      <td>Audioworks</td>\n",
              "    </tr>\n",
              "    <tr>\n",
              "      <th>8</th>\n",
              "      <td>0679425608</td>\n",
              "      <td>Under the Black Flag: The Romance and the Real...</td>\n",
              "      <td>David Cordingly</td>\n",
              "      <td>1996</td>\n",
              "      <td>Random House</td>\n",
              "    </tr>\n",
              "    <tr>\n",
              "      <th>9</th>\n",
              "      <td>074322678X</td>\n",
              "      <td>Where You'll Find Me: And Other Stories</td>\n",
              "      <td>Ann Beattie</td>\n",
              "      <td>2002</td>\n",
              "      <td>Scribner</td>\n",
              "    </tr>\n",
              "    <tr>\n",
              "      <th>10</th>\n",
              "      <td>0771074670</td>\n",
              "      <td>Nights Below Station Street</td>\n",
              "      <td>David Adams Richards</td>\n",
              "      <td>1988</td>\n",
              "      <td>Emblem Editions</td>\n",
              "    </tr>\n",
              "    <tr>\n",
              "      <th>11</th>\n",
              "      <td>080652121X</td>\n",
              "      <td>Hitler's Secret Bankers: The Myth of Swiss Neu...</td>\n",
              "      <td>Adam Lebor</td>\n",
              "      <td>2000</td>\n",
              "      <td>Citadel Press</td>\n",
              "    </tr>\n",
              "    <tr>\n",
              "      <th>12</th>\n",
              "      <td>0887841740</td>\n",
              "      <td>The Middle Stories</td>\n",
              "      <td>Sheila Heti</td>\n",
              "      <td>2004</td>\n",
              "      <td>House of Anansi Press</td>\n",
              "    </tr>\n",
              "    <tr>\n",
              "      <th>13</th>\n",
              "      <td>1552041778</td>\n",
              "      <td>Jane Doe</td>\n",
              "      <td>R. J. Kaiser</td>\n",
              "      <td>1999</td>\n",
              "      <td>Mira Books</td>\n",
              "    </tr>\n",
              "    <tr>\n",
              "      <th>14</th>\n",
              "      <td>1558746218</td>\n",
              "      <td>A Second Chicken Soup for the Woman's Soul (Ch...</td>\n",
              "      <td>Jack Canfield</td>\n",
              "      <td>1998</td>\n",
              "      <td>Health Communications</td>\n",
              "    </tr>\n",
              "    <tr>\n",
              "      <th>15</th>\n",
              "      <td>1567407781</td>\n",
              "      <td>The Witchfinder (Amos Walker Mystery Series)</td>\n",
              "      <td>Loren D. Estleman</td>\n",
              "      <td>1998</td>\n",
              "      <td>Brilliance Audio - Trade</td>\n",
              "    </tr>\n",
              "    <tr>\n",
              "      <th>16</th>\n",
              "      <td>1575663937</td>\n",
              "      <td>More Cunning Than Man: A Social History of Rat...</td>\n",
              "      <td>Robert Hendrickson</td>\n",
              "      <td>1999</td>\n",
              "      <td>Kensington Publishing Corp.</td>\n",
              "    </tr>\n",
              "    <tr>\n",
              "      <th>17</th>\n",
              "      <td>1881320189</td>\n",
              "      <td>Goodbye to the Buttermilk Sky</td>\n",
              "      <td>Julia Oliver</td>\n",
              "      <td>1994</td>\n",
              "      <td>River City Pub</td>\n",
              "    </tr>\n",
              "    <tr>\n",
              "      <th>18</th>\n",
              "      <td>0440234743</td>\n",
              "      <td>The Testament</td>\n",
              "      <td>John Grisham</td>\n",
              "      <td>1999</td>\n",
              "      <td>Dell</td>\n",
              "    </tr>\n",
              "    <tr>\n",
              "      <th>19</th>\n",
              "      <td>0452264464</td>\n",
              "      <td>Beloved (Plume Contemporary Fiction)</td>\n",
              "      <td>Toni Morrison</td>\n",
              "      <td>1994</td>\n",
              "      <td>Plume</td>\n",
              "    </tr>\n",
              "  </tbody>\n",
              "</table>\n",
              "</div>"
            ],
            "text/plain": [
              "          ISBN  ...                    Publisher\n",
              "0   0195153448  ...      Oxford University Press\n",
              "1   0002005018  ...        HarperFlamingo Canada\n",
              "2   0060973129  ...              HarperPerennial\n",
              "3   0374157065  ...         Farrar Straus Giroux\n",
              "4   0393045218  ...   W. W. Norton &amp; Company\n",
              "5   0399135782  ...             Putnam Pub Group\n",
              "6   0425176428  ...     Berkley Publishing Group\n",
              "7   0671870432  ...                   Audioworks\n",
              "8   0679425608  ...                 Random House\n",
              "9   074322678X  ...                     Scribner\n",
              "10  0771074670  ...              Emblem Editions\n",
              "11  080652121X  ...                Citadel Press\n",
              "12  0887841740  ...        House of Anansi Press\n",
              "13  1552041778  ...                   Mira Books\n",
              "14  1558746218  ...        Health Communications\n",
              "15  1567407781  ...     Brilliance Audio - Trade\n",
              "16  1575663937  ...  Kensington Publishing Corp.\n",
              "17  1881320189  ...               River City Pub\n",
              "18  0440234743  ...                         Dell\n",
              "19  0452264464  ...                        Plume\n",
              "\n",
              "[20 rows x 5 columns]"
            ]
          },
          "metadata": {},
          "execution_count": 90
        }
      ]
    },
    {
      "cell_type": "markdown",
      "metadata": {
        "id": "z4KJsoWA8Xew"
      },
      "source": [
        "## Groupby"
      ]
    },
    {
      "cell_type": "code",
      "metadata": {
        "id": "uXl2RGfp8daG"
      },
      "source": [
        "import matplotlib.pyplot as plt\n",
        "\n",
        "def plot_groupby_stats(ratings):\n",
        "\n",
        "  avg_user_rating = ratings.groupby('User-ID')[\"Book-Rating\"].mean()\n",
        "  num_ratings_by_user = ratings.groupby('User-ID')[\"Book-Rating\"].count()\n",
        "  avg_book_rating = ratings.groupby('ISBN')[\"Book-Rating\"].mean()\n",
        "  num_ratings_by_book = ratings.groupby('ISBN')[\"Book-Rating\"].count()\n",
        "\n",
        "  n_rows = 2\n",
        "  n_cols = 2\n",
        "  fig=plt.figure(figsize=(10, 10))\n",
        "\n",
        "  ax = fig.add_subplot(n_rows, n_cols, 1)\n",
        "  avg_user_rating.plot.box(ax=ax)\n",
        "  ax.set_title(\"Average user rating\")\n",
        "\n",
        "  ax = fig.add_subplot(n_rows, n_cols, 2)\n",
        "  num_ratings_by_user.plot.box(ax=ax)\n",
        "  ax.set_title(\"Number of ratings by user\")\n",
        "\n",
        "  ax = fig.add_subplot(n_rows, n_cols, 3)\n",
        "  avg_book_rating.plot.box(ax=ax)\n",
        "  ax.set_title(\"Average book rating\")\n",
        "\n",
        "  ax = fig.add_subplot(n_rows, n_cols, 4)\n",
        "  num_ratings_by_book.plot.box(ax=ax)\n",
        "  ax.set_title(\"Number of ratings by book\")\n",
        "\n",
        "  fig.tight_layout()  # Improves appearance a bit.\n",
        "  plt.show()\n"
      ],
      "execution_count": 134,
      "outputs": []
    },
    {
      "cell_type": "code",
      "metadata": {
        "colab": {
          "base_uri": "https://localhost:8080/",
          "height": 729
        },
        "id": "12LZN4s98-y0",
        "outputId": "ba7a22ca-231c-4dfa-b54c-318f7ab60fac"
      },
      "source": [
        "plot_groupby_stats(ratings)"
      ],
      "execution_count": 135,
      "outputs": [
        {
          "output_type": "display_data",
          "data": {
            "image/png": "[encoded data removed]",
            "text/plain": [
              "<Figure size 720x720 with 4 Axes>"
            ]
          },
          "metadata": {
            "needs_background": "light"
          }
        }
      ]
    },
    {
      "cell_type": "markdown",
      "metadata": {
        "id": "7eo8mPu_DFyr"
      },
      "source": [
        "## ISBN check\n",
        "\n",
        "\n",
        "\n"
      ]
    },
    {
      "cell_type": "code",
      "metadata": {
        "colab": {
          "base_uri": "https://localhost:8080/"
        },
        "id": "lpUYSz_PDL03",
        "outputId": "4f7f8f05-9b13-4a02-de00-a86dfa7bffbb"
      },
      "source": [
        "!pip install isbnlib"
      ],
      "execution_count": 9,
      "outputs": [
        {
          "output_type": "stream",
          "name": "stdout",
          "text": [
            "Collecting isbnlib\n",
            "  Downloading isbnlib-3.10.9-py2.py3-none-any.whl (65 kB)\n",
            "\u001b[?25l\r\u001b[K     |█████                           | 10 kB 27.5 MB/s eta 0:00:01\r\u001b[K     |██████████                      | 20 kB 27.0 MB/s eta 0:00:01\r\u001b[K     |███████████████                 | 30 kB 30.8 MB/s eta 0:00:01\r\u001b[K     |████████████████████            | 40 kB 32.1 MB/s eta 0:00:01\r\u001b[K     |█████████████████████████       | 51 kB 34.5 MB/s eta 0:00:01\r\u001b[K     |██████████████████████████████  | 61 kB 36.2 MB/s eta 0:00:01\r\u001b[K     |████████████████████████████████| 65 kB 4.3 MB/s \n",
            "\u001b[?25hInstalling collected packages: isbnlib\n",
            "Successfully installed isbnlib-3.10.9\n"
          ]
        }
      ]
    },
    {
      "cell_type": "code",
      "metadata": {
        "colab": {
          "base_uri": "https://localhost:8080/"
        },
        "id": "S8HHcjH7BLK6",
        "outputId": "b17e2921-e627-4577-d50f-ae357169a505"
      },
      "source": [
        "# inspired by https://stackoverflow.com/a/38354322\n",
        "\n",
        "import isbnlib\n",
        "\n",
        "isbn = books['ISBN'][0]\n",
        "\n",
        "book = isbnlib.meta(isbn, service='goob')\n",
        "print(book)\n",
        "\n",
        "book = isbnlib.meta(isbn, service='wiki')\n",
        "print(book)\n",
        "\n",
        "book = isbnlib.meta(isbn, service='openl')\n",
        "print(book)"
      ],
      "execution_count": 27,
      "outputs": [
        {
          "output_type": "stream",
          "name": "stdout",
          "text": [
            "{'ISBN-13': '9780195153446', 'Title': 'Classical Mythology', 'Authors': ['Mark P. O. Morford', 'Robert J. Lenardon'], 'Publisher': 'Oxford University Press, USA', 'Year': '2003', 'Language': 'en'}\n",
            "{'ISBN-13': '9780195153446', 'Title': 'Classical mythology', 'Authors': ['Mark P O Morford'], 'Publisher': 'Oxford University Press', 'Year': '2003', 'Language': ''}\n",
            "{'ISBN-13': '9780195153446', 'Title': 'Classical mythology', 'Authors': ['Mark P. O. Morford'], 'Publisher': 'Oxford University Press', 'Year': '2003', 'Language': ''}\n"
          ]
        }
      ]
    },
    {
      "cell_type": "code",
      "metadata": {
        "colab": {
          "base_uri": "https://localhost:8080/"
        },
        "id": "u2_qcvE3EM9y",
        "outputId": "de18147d-57dd-4461-a0aa-47cb50787906"
      },
      "source": [
        "books.iloc[0]"
      ],
      "execution_count": 13,
      "outputs": [
        {
          "output_type": "execute_result",
          "data": {
            "text/plain": [
              "ISBN                                                          0195153448\n",
              "Book-Title                                           Classical Mythology\n",
              "Book-Author                                           Mark P. O. Morford\n",
              "Year-Of-Publication                                                 2002\n",
              "Publisher                                        Oxford University Press\n",
              "Image-URL-S            http://images.amazon.com/images/P/0195153448.0...\n",
              "Image-URL-M            http://images.amazon.com/images/P/0195153448.0...\n",
              "Image-URL-L            http://images.amazon.com/images/P/0195153448.0...\n",
              "Name: 0, dtype: object"
            ]
          },
          "metadata": {},
          "execution_count": 13
        }
      ]
    },
    {
      "cell_type": "code",
      "metadata": {
        "colab": {
          "base_uri": "https://localhost:8080/"
        },
        "id": "hBCU6iQ9EyZE",
        "outputId": "4f897c55-37c8-47f5-9dd4-f779eb889bcf"
      },
      "source": [
        "books['ISBN'].apply(lambda x: isbnlib.is_isbn10(x) or isbnlib.is_isbn13(x)).value_counts()"
      ],
      "execution_count": 18,
      "outputs": [
        {
          "output_type": "execute_result",
          "data": {
            "text/plain": [
              "True     271262\n",
              "False       117\n",
              "Name: ISBN, dtype: int64"
            ]
          },
          "metadata": {},
          "execution_count": 18
        }
      ]
    },
    {
      "cell_type": "code",
      "metadata": {
        "colab": {
          "base_uri": "https://localhost:8080/",
          "height": 779
        },
        "id": "LqGt54TvFYk3",
        "outputId": "56477642-34fe-4b0c-b0d8-a5b0a5d26768"
      },
      "source": [
        "books[books['ISBN'].apply(lambda x: (not isbnlib.is_isbn10(x)) and (not isbnlib.is_isbn13(x)))]"
      ],
      "execution_count": 23,
      "outputs": [
        {
          "output_type": "execute_result",
          "data": {
            "text/html": [
              "<div>\n",
              "<style scoped>\n",
              "    .dataframe tbody tr th:only-of-type {\n",
              "        vertical-align: middle;\n",
              "    }\n",
              "\n",
              "    .dataframe tbody tr th {\n",
              "        vertical-align: top;\n",
              "    }\n",
              "\n",
              "    .dataframe thead th {\n",
              "        text-align: right;\n",
              "    }\n",
              "</style>\n",
              "<table border=\"1\" class=\"dataframe\">\n",
              "  <thead>\n",
              "    <tr style=\"text-align: right;\">\n",
              "      <th></th>\n",
              "      <th>ISBN</th>\n",
              "      <th>Book-Title</th>\n",
              "      <th>Book-Author</th>\n",
              "      <th>Year-Of-Publication</th>\n",
              "      <th>Publisher</th>\n",
              "      <th>Image-URL-S</th>\n",
              "      <th>Image-URL-M</th>\n",
              "      <th>Image-URL-L</th>\n",
              "    </tr>\n",
              "  </thead>\n",
              "  <tbody>\n",
              "    <tr>\n",
              "      <th>6291</th>\n",
              "      <td>B00009ANY9</td>\n",
              "      <td>Cane River</td>\n",
              "      <td>Lalita Tademy</td>\n",
              "      <td>2001</td>\n",
              "      <td>Warner Books</td>\n",
              "      <td>http://images.amazon.com/images/P/B00009ANY9.0...</td>\n",
              "      <td>http://images.amazon.com/images/P/B00009ANY9.0...</td>\n",
              "      <td>http://images.amazon.com/images/P/B00009ANY9.0...</td>\n",
              "    </tr>\n",
              "    <tr>\n",
              "      <th>10273</th>\n",
              "      <td>B0000A2U93</td>\n",
              "      <td>Carmilla</td>\n",
              "      <td>Joseph Sheridan Le Fanu</td>\n",
              "      <td>0</td>\n",
              "      <td>Soft Editions Ltd</td>\n",
              "      <td>http://images.amazon.com/images/P/B0000A2U93.0...</td>\n",
              "      <td>http://images.amazon.com/images/P/B0000A2U93.0...</td>\n",
              "      <td>http://images.amazon.com/images/P/B0000A2U93.0...</td>\n",
              "    </tr>\n",
              "    <tr>\n",
              "      <th>11186</th>\n",
              "      <td>B0000633PU</td>\n",
              "      <td>The Story of Aladdin and the Wonderful Lamp</td>\n",
              "      <td>S. Lane Poole</td>\n",
              "      <td>0</td>\n",
              "      <td>Renaissance eBooks</td>\n",
              "      <td>http://images.amazon.com/images/P/B0000633PU.0...</td>\n",
              "      <td>http://images.amazon.com/images/P/B0000633PU.0...</td>\n",
              "      <td>http://images.amazon.com/images/P/B0000633PU.0...</td>\n",
              "    </tr>\n",
              "    <tr>\n",
              "      <th>13863</th>\n",
              "      <td>B00007FYKO</td>\n",
              "      <td>Bloodcurdling Tales of Horror and the Macabre:...</td>\n",
              "      <td>H. P. Lovecraft</td>\n",
              "      <td>0</td>\n",
              "      <td>Ballantine</td>\n",
              "      <td>http://images.amazon.com/images/P/B00007FYKO.0...</td>\n",
              "      <td>http://images.amazon.com/images/P/B00007FYKO.0...</td>\n",
              "      <td>http://images.amazon.com/images/P/B00007FYKO.0...</td>\n",
              "    </tr>\n",
              "    <tr>\n",
              "      <th>13866</th>\n",
              "      <td>B00009APKU</td>\n",
              "      <td>Moby Dick</td>\n",
              "      <td>Herman Melville</td>\n",
              "      <td>0</td>\n",
              "      <td>Outrigger Publishing, LLC</td>\n",
              "      <td>http://images.amazon.com/images/P/B00009APKU.0...</td>\n",
              "      <td>http://images.amazon.com/images/P/B00009APKU.0...</td>\n",
              "      <td>http://images.amazon.com/images/P/B00009APKU.0...</td>\n",
              "    </tr>\n",
              "    <tr>\n",
              "      <th>...</th>\n",
              "      <td>...</td>\n",
              "      <td>...</td>\n",
              "      <td>...</td>\n",
              "      <td>...</td>\n",
              "      <td>...</td>\n",
              "      <td>...</td>\n",
              "      <td>...</td>\n",
              "      <td>...</td>\n",
              "    </tr>\n",
              "    <tr>\n",
              "      <th>252085</th>\n",
              "      <td>B00013AX9E</td>\n",
              "      <td>Modern Contemporary: Aspects of Art at MoMA Si...</td>\n",
              "      <td>P Ed Varnedoe/Antonelli Kick</td>\n",
              "      <td>2000</td>\n",
              "      <td>Museum of Modern Arts</td>\n",
              "      <td>http://images.amazon.com/images/P/B00013AX9E.0...</td>\n",
              "      <td>http://images.amazon.com/images/P/B00013AX9E.0...</td>\n",
              "      <td>http://images.amazon.com/images/P/B00013AX9E.0...</td>\n",
              "    </tr>\n",
              "    <tr>\n",
              "      <th>256461</th>\n",
              "      <td>B00009NDBF</td>\n",
              "      <td>Help Yourself: Celebrating the Rewards of Resi...</td>\n",
              "      <td>David J. Pelzer</td>\n",
              "      <td>1900</td>\n",
              "      <td>E P Dutton</td>\n",
              "      <td>http://images.amazon.com/images/P/B00009NDBF.0...</td>\n",
              "      <td>http://images.amazon.com/images/P/B00009NDBF.0...</td>\n",
              "      <td>http://images.amazon.com/images/P/B00009NDBF.0...</td>\n",
              "    </tr>\n",
              "    <tr>\n",
              "      <th>262570</th>\n",
              "      <td>B000023VWR</td>\n",
              "      <td>The Postman Always Rings Twice</td>\n",
              "      <td>James Mallahan Cain</td>\n",
              "      <td>1996</td>\n",
              "      <td>Otto Penzler</td>\n",
              "      <td>http://images.amazon.com/images/P/B000023VWR.0...</td>\n",
              "      <td>http://images.amazon.com/images/P/B000023VWR.0...</td>\n",
              "      <td>http://images.amazon.com/images/P/B000023VWR.0...</td>\n",
              "    </tr>\n",
              "    <tr>\n",
              "      <th>264226</th>\n",
              "      <td>B00007CWGV</td>\n",
              "      <td>Madonna</td>\n",
              "      <td>Andrew Morton</td>\n",
              "      <td>2001</td>\n",
              "      <td>St. Martin's Press</td>\n",
              "      <td>http://images.amazon.com/images/P/B00007CWGV.0...</td>\n",
              "      <td>http://images.amazon.com/images/P/B00007CWGV.0...</td>\n",
              "      <td>http://images.amazon.com/images/P/B00007CWGV.0...</td>\n",
              "    </tr>\n",
              "    <tr>\n",
              "      <th>270707</th>\n",
              "      <td>B00011SOYM</td>\n",
              "      <td>Grave Secrets</td>\n",
              "      <td>Kathy Reichs</td>\n",
              "      <td>2002</td>\n",
              "      <td>Scribner</td>\n",
              "      <td>http://images.amazon.com/images/P/B00011SOYM.0...</td>\n",
              "      <td>http://images.amazon.com/images/P/B00011SOYM.0...</td>\n",
              "      <td>http://images.amazon.com/images/P/B00011SOYM.0...</td>\n",
              "    </tr>\n",
              "  </tbody>\n",
              "</table>\n",
              "<p>117 rows × 8 columns</p>\n",
              "</div>"
            ],
            "text/plain": [
              "              ISBN  ...                                        Image-URL-L\n",
              "6291    B00009ANY9  ...  http://images.amazon.com/images/P/B00009ANY9.0...\n",
              "10273   B0000A2U93  ...  http://images.amazon.com/images/P/B0000A2U93.0...\n",
              "11186   B0000633PU  ...  http://images.amazon.com/images/P/B0000633PU.0...\n",
              "13863   B00007FYKO  ...  http://images.amazon.com/images/P/B00007FYKO.0...\n",
              "13866   B00009APKU  ...  http://images.amazon.com/images/P/B00009APKU.0...\n",
              "...            ...  ...                                                ...\n",
              "252085  B00013AX9E  ...  http://images.amazon.com/images/P/B00013AX9E.0...\n",
              "256461  B00009NDBF  ...  http://images.amazon.com/images/P/B00009NDBF.0...\n",
              "262570  B000023VWR  ...  http://images.amazon.com/images/P/B000023VWR.0...\n",
              "264226  B00007CWGV  ...  http://images.amazon.com/images/P/B00007CWGV.0...\n",
              "270707  B00011SOYM  ...  http://images.amazon.com/images/P/B00011SOYM.0...\n",
              "\n",
              "[117 rows x 8 columns]"
            ]
          },
          "metadata": {},
          "execution_count": 23
        }
      ]
    },
    {
      "cell_type": "markdown",
      "metadata": {
        "id": "Y15lIECyHMxC"
      },
      "source": [
        "We have some ASIN (Amazon ID) codes instead of ISBN. Also, some Year-Of-Publication are missing."
      ]
    },
    {
      "cell_type": "code",
      "metadata": {
        "colab": {
          "base_uri": "https://localhost:8080/",
          "height": 324
        },
        "id": "Ke0EJDoBH1ac",
        "outputId": "b39c6d60-14d1-4ea0-a5ee-d008bda7988a"
      },
      "source": [
        "book = isbnlib.meta('B00009ANY9', service='goob')\n",
        "print(book)"
      ],
      "execution_count": 28,
      "outputs": [
        {
          "output_type": "error",
          "ename": "NotValidISBNError",
          "evalue": "ignored",
          "traceback": [
            "\u001b[0;31m---------------------------------------------------------------------------\u001b[0m",
            "\u001b[0;31mNotValidISBNError\u001b[0m                         Traceback (most recent call last)",
            "\u001b[0;32m<ipython-input-28-ce64984b0d0c>\u001b[0m in \u001b[0;36m<module>\u001b[0;34m()\u001b[0m\n\u001b[0;32m----> 1\u001b[0;31m \u001b[0mbook\u001b[0m \u001b[0;34m=\u001b[0m \u001b[0misbnlib\u001b[0m\u001b[0;34m.\u001b[0m\u001b[0mmeta\u001b[0m\u001b[0;34m(\u001b[0m\u001b[0;34m'B00009ANY9'\u001b[0m\u001b[0;34m,\u001b[0m \u001b[0mservice\u001b[0m\u001b[0;34m=\u001b[0m\u001b[0;34m'goob'\u001b[0m\u001b[0;34m)\u001b[0m\u001b[0;34m\u001b[0m\u001b[0;34m\u001b[0m\u001b[0m\n\u001b[0m\u001b[1;32m      2\u001b[0m \u001b[0mprint\u001b[0m\u001b[0;34m(\u001b[0m\u001b[0mbook\u001b[0m\u001b[0;34m)\u001b[0m\u001b[0;34m\u001b[0m\u001b[0;34m\u001b[0m\u001b[0m\n",
            "\u001b[0;32m/usr/local/lib/python3.7/dist-packages/isbnlib/_ext.py\u001b[0m in \u001b[0;36mmeta\u001b[0;34m(isbn, service)\u001b[0m\n\u001b[1;32m     23\u001b[0m \u001b[0;32mdef\u001b[0m \u001b[0mmeta\u001b[0m\u001b[0;34m(\u001b[0m\u001b[0misbn\u001b[0m\u001b[0;34m,\u001b[0m \u001b[0mservice\u001b[0m\u001b[0;34m=\u001b[0m\u001b[0;34m'default'\u001b[0m\u001b[0;34m)\u001b[0m\u001b[0;34m:\u001b[0m\u001b[0;34m\u001b[0m\u001b[0;34m\u001b[0m\u001b[0m\n\u001b[1;32m     24\u001b[0m     \u001b[0;34m\"\"\"Get metadata from Google Books ('goob'), Open Library ('openl'), ...\"\"\"\u001b[0m\u001b[0;34m\u001b[0m\u001b[0;34m\u001b[0m\u001b[0m\n\u001b[0;32m---> 25\u001b[0;31m     \u001b[0;32mreturn\u001b[0m \u001b[0mquery\u001b[0m\u001b[0;34m(\u001b[0m\u001b[0misbn\u001b[0m\u001b[0;34m,\u001b[0m \u001b[0mservice\u001b[0m\u001b[0;34m)\u001b[0m \u001b[0;32mif\u001b[0m \u001b[0misbn\u001b[0m \u001b[0;32melse\u001b[0m \u001b[0;34m{\u001b[0m\u001b[0;34m}\u001b[0m\u001b[0;34m\u001b[0m\u001b[0;34m\u001b[0m\u001b[0m\n\u001b[0m\u001b[1;32m     26\u001b[0m \u001b[0;34m\u001b[0m\u001b[0m\n\u001b[1;32m     27\u001b[0m \u001b[0;34m\u001b[0m\u001b[0m\n",
            "\u001b[0;32m/usr/local/lib/python3.7/dist-packages/isbnlib/dev/_decorators.py\u001b[0m in \u001b[0;36mmemoized_func\u001b[0;34m(*args, **kwargs)\u001b[0m\n\u001b[1;32m     25\u001b[0m             \u001b[0;32mreturn\u001b[0m \u001b[0mcch\u001b[0m\u001b[0;34m[\u001b[0m\u001b[0mkey\u001b[0m\u001b[0;34m]\u001b[0m\u001b[0;34m\u001b[0m\u001b[0;34m\u001b[0m\u001b[0m\n\u001b[1;32m     26\u001b[0m         \u001b[0;32melse\u001b[0m\u001b[0;34m:\u001b[0m\u001b[0;34m\u001b[0m\u001b[0;34m\u001b[0m\u001b[0m\n\u001b[0;32m---> 27\u001b[0;31m             \u001b[0mvalue\u001b[0m \u001b[0;34m=\u001b[0m \u001b[0mfunc\u001b[0m\u001b[0;34m(\u001b[0m\u001b[0;34m*\u001b[0m\u001b[0margs\u001b[0m\u001b[0;34m,\u001b[0m \u001b[0;34m**\u001b[0m\u001b[0mkwargs\u001b[0m\u001b[0;34m)\u001b[0m\u001b[0;34m\u001b[0m\u001b[0;34m\u001b[0m\u001b[0m\n\u001b[0m\u001b[1;32m     28\u001b[0m             \u001b[0;32mif\u001b[0m \u001b[0mvalue\u001b[0m\u001b[0;34m:\u001b[0m\u001b[0;34m\u001b[0m\u001b[0;34m\u001b[0m\u001b[0m\n\u001b[1;32m     29\u001b[0m                 \u001b[0mcch\u001b[0m\u001b[0;34m[\u001b[0m\u001b[0mkey\u001b[0m\u001b[0;34m]\u001b[0m \u001b[0;34m=\u001b[0m \u001b[0mvalue\u001b[0m\u001b[0;34m\u001b[0m\u001b[0;34m\u001b[0m\u001b[0m\n",
            "\u001b[0;32m/usr/local/lib/python3.7/dist-packages/isbnlib/_metadata.py\u001b[0m in \u001b[0;36mquery\u001b[0;34m(isbn, service)\u001b[0m\n\u001b[1;32m     19\u001b[0m     \u001b[0;32mif\u001b[0m \u001b[0;32mnot\u001b[0m \u001b[0mean\u001b[0m\u001b[0;34m:\u001b[0m\u001b[0;34m\u001b[0m\u001b[0;34m\u001b[0m\u001b[0m\n\u001b[1;32m     20\u001b[0m         \u001b[0mLOGGER\u001b[0m\u001b[0;34m.\u001b[0m\u001b[0mcritical\u001b[0m\u001b[0;34m(\u001b[0m\u001b[0;34m'%s is not a valid ISBN'\u001b[0m\u001b[0;34m,\u001b[0m \u001b[0misbn\u001b[0m\u001b[0;34m)\u001b[0m\u001b[0;34m\u001b[0m\u001b[0;34m\u001b[0m\u001b[0m\n\u001b[0;32m---> 21\u001b[0;31m         \u001b[0;32mraise\u001b[0m \u001b[0mNotValidISBNError\u001b[0m\u001b[0;34m(\u001b[0m\u001b[0misbn\u001b[0m\u001b[0;34m)\u001b[0m\u001b[0;34m\u001b[0m\u001b[0;34m\u001b[0m\u001b[0m\n\u001b[0m\u001b[1;32m     22\u001b[0m     \u001b[0misbn\u001b[0m \u001b[0;34m=\u001b[0m \u001b[0mean\u001b[0m\u001b[0;34m\u001b[0m\u001b[0;34m\u001b[0m\u001b[0m\n\u001b[1;32m     23\u001b[0m     \u001b[0;31m# only import when needed\u001b[0m\u001b[0;34m\u001b[0m\u001b[0;34m\u001b[0m\u001b[0;34m\u001b[0m\u001b[0m\n",
            "\u001b[0;31mNotValidISBNError\u001b[0m: (B00009ANY9) is not a valid ISBN"
          ]
        }
      ]
    },
    {
      "cell_type": "code",
      "metadata": {
        "colab": {
          "base_uri": "https://localhost:8080/"
        },
        "id": "F7u0_EZ8N-Lh",
        "outputId": "ab386bec-9b8c-4b85-8e1f-773710d29bf0"
      },
      "source": [
        "len(books)"
      ],
      "execution_count": 43,
      "outputs": [
        {
          "output_type": "execute_result",
          "data": {
            "text/plain": [
              "271379"
            ]
          },
          "metadata": {},
          "execution_count": 43
        }
      ]
    },
    {
      "cell_type": "code",
      "metadata": {
        "colab": {
          "base_uri": "https://localhost:8080/"
        },
        "id": "MxaLrnLnODHr",
        "outputId": "c124f060-11b3-4aae-f9a8-4267f73509aa"
      },
      "source": [
        "len(books['ISBN'].unique())"
      ],
      "execution_count": 44,
      "outputs": [
        {
          "output_type": "execute_result",
          "data": {
            "text/plain": [
              "271379"
            ]
          },
          "metadata": {},
          "execution_count": 44
        }
      ]
    },
    {
      "cell_type": "code",
      "metadata": {
        "colab": {
          "base_uri": "https://localhost:8080/"
        },
        "id": "-_gQ9vfxOJva",
        "outputId": "f611677b-104f-4df9-e18c-022ea6fd6dce"
      },
      "source": [
        "len(books['ISBN'].apply(lambda x: isbnlib.canonical(isbnlib.clean(x))).unique())"
      ],
      "execution_count": 49,
      "outputs": [
        {
          "output_type": "execute_result",
          "data": {
            "text/plain": [
              "270948"
            ]
          },
          "metadata": {},
          "execution_count": 49
        }
      ]
    },
    {
      "cell_type": "code",
      "metadata": {
        "colab": {
          "base_uri": "https://localhost:8080/"
        },
        "id": "Zk6f9mg3PKa6",
        "outputId": "78e8dbc4-220e-49f5-fc31-abd386c472f0"
      },
      "source": [
        "books['ISBN'].apply(lambda x: isbnlib.canonical(isbnlib.clean(x))).value_counts()"
      ],
      "execution_count": 50,
      "outputs": [
        {
          "output_type": "execute_result",
          "data": {
            "text/plain": [
              "              117\n",
              "037329171X      2\n",
              "067144171X      2\n",
              "037371128X      2\n",
              "225303956X      2\n",
              "             ... \n",
              "0804120013      1\n",
              "3498029428      1\n",
              "1853262889      1\n",
              "3596505526      1\n",
              "3789280631      1\n",
              "Name: ISBN, Length: 270948, dtype: int64"
            ]
          },
          "metadata": {},
          "execution_count": 50
        }
      ]
    },
    {
      "cell_type": "code",
      "metadata": {
        "colab": {
          "base_uri": "https://localhost:8080/",
          "height": 307
        },
        "id": "1evtZnxTP2SJ",
        "outputId": "73ef6e31-db8e-4f68-a14e-1d15c0998b37"
      },
      "source": [
        "books['ISBN']['037329171X']"
      ],
      "execution_count": 51,
      "outputs": [
        {
          "output_type": "error",
          "ename": "KeyError",
          "evalue": "ignored",
          "traceback": [
            "\u001b[0;31m---------------------------------------------------------------------------\u001b[0m",
            "\u001b[0;31mKeyError\u001b[0m                                  Traceback (most recent call last)",
            "\u001b[0;32m<ipython-input-51-2911ead09075>\u001b[0m in \u001b[0;36m<module>\u001b[0;34m()\u001b[0m\n\u001b[0;32m----> 1\u001b[0;31m \u001b[0mbooks\u001b[0m\u001b[0;34m[\u001b[0m\u001b[0;34m'ISBN'\u001b[0m\u001b[0;34m]\u001b[0m\u001b[0;34m[\u001b[0m\u001b[0;34m'037329171X'\u001b[0m\u001b[0;34m]\u001b[0m\u001b[0;34m\u001b[0m\u001b[0;34m\u001b[0m\u001b[0m\n\u001b[0m",
            "\u001b[0;32m/usr/local/lib/python3.7/dist-packages/pandas/core/series.py\u001b[0m in \u001b[0;36m__getitem__\u001b[0;34m(self, key)\u001b[0m\n\u001b[1;32m    880\u001b[0m \u001b[0;34m\u001b[0m\u001b[0m\n\u001b[1;32m    881\u001b[0m         \u001b[0;32melif\u001b[0m \u001b[0mkey_is_scalar\u001b[0m\u001b[0;34m:\u001b[0m\u001b[0;34m\u001b[0m\u001b[0;34m\u001b[0m\u001b[0m\n\u001b[0;32m--> 882\u001b[0;31m             \u001b[0;32mreturn\u001b[0m \u001b[0mself\u001b[0m\u001b[0;34m.\u001b[0m\u001b[0m_get_value\u001b[0m\u001b[0;34m(\u001b[0m\u001b[0mkey\u001b[0m\u001b[0;34m)\u001b[0m\u001b[0;34m\u001b[0m\u001b[0;34m\u001b[0m\u001b[0m\n\u001b[0m\u001b[1;32m    883\u001b[0m \u001b[0;34m\u001b[0m\u001b[0m\n\u001b[1;32m    884\u001b[0m         \u001b[0;32mif\u001b[0m \u001b[0mis_hashable\u001b[0m\u001b[0;34m(\u001b[0m\u001b[0mkey\u001b[0m\u001b[0;34m)\u001b[0m\u001b[0;34m:\u001b[0m\u001b[0;34m\u001b[0m\u001b[0;34m\u001b[0m\u001b[0m\n",
            "\u001b[0;32m/usr/local/lib/python3.7/dist-packages/pandas/core/series.py\u001b[0m in \u001b[0;36m_get_value\u001b[0;34m(self, label, takeable)\u001b[0m\n\u001b[1;32m    988\u001b[0m \u001b[0;34m\u001b[0m\u001b[0m\n\u001b[1;32m    989\u001b[0m         \u001b[0;31m# Similar to Index.get_value, but we do not fall back to positional\u001b[0m\u001b[0;34m\u001b[0m\u001b[0;34m\u001b[0m\u001b[0;34m\u001b[0m\u001b[0m\n\u001b[0;32m--> 990\u001b[0;31m         \u001b[0mloc\u001b[0m \u001b[0;34m=\u001b[0m \u001b[0mself\u001b[0m\u001b[0;34m.\u001b[0m\u001b[0mindex\u001b[0m\u001b[0;34m.\u001b[0m\u001b[0mget_loc\u001b[0m\u001b[0;34m(\u001b[0m\u001b[0mlabel\u001b[0m\u001b[0;34m)\u001b[0m\u001b[0;34m\u001b[0m\u001b[0;34m\u001b[0m\u001b[0m\n\u001b[0m\u001b[1;32m    991\u001b[0m         \u001b[0;32mreturn\u001b[0m \u001b[0mself\u001b[0m\u001b[0;34m.\u001b[0m\u001b[0mindex\u001b[0m\u001b[0;34m.\u001b[0m\u001b[0m_get_values_for_loc\u001b[0m\u001b[0;34m(\u001b[0m\u001b[0mself\u001b[0m\u001b[0;34m,\u001b[0m \u001b[0mloc\u001b[0m\u001b[0;34m,\u001b[0m \u001b[0mlabel\u001b[0m\u001b[0;34m)\u001b[0m\u001b[0;34m\u001b[0m\u001b[0;34m\u001b[0m\u001b[0m\n\u001b[1;32m    992\u001b[0m \u001b[0;34m\u001b[0m\u001b[0m\n",
            "\u001b[0;32m/usr/local/lib/python3.7/dist-packages/pandas/core/indexes/range.py\u001b[0m in \u001b[0;36mget_loc\u001b[0;34m(self, key, method, tolerance)\u001b[0m\n\u001b[1;32m    356\u001b[0m                 \u001b[0;32mexcept\u001b[0m \u001b[0mValueError\u001b[0m \u001b[0;32mas\u001b[0m \u001b[0merr\u001b[0m\u001b[0;34m:\u001b[0m\u001b[0;34m\u001b[0m\u001b[0;34m\u001b[0m\u001b[0m\n\u001b[1;32m    357\u001b[0m                     \u001b[0;32mraise\u001b[0m \u001b[0mKeyError\u001b[0m\u001b[0;34m(\u001b[0m\u001b[0mkey\u001b[0m\u001b[0;34m)\u001b[0m \u001b[0;32mfrom\u001b[0m \u001b[0merr\u001b[0m\u001b[0;34m\u001b[0m\u001b[0;34m\u001b[0m\u001b[0m\n\u001b[0;32m--> 358\u001b[0;31m             \u001b[0;32mraise\u001b[0m \u001b[0mKeyError\u001b[0m\u001b[0;34m(\u001b[0m\u001b[0mkey\u001b[0m\u001b[0;34m)\u001b[0m\u001b[0;34m\u001b[0m\u001b[0;34m\u001b[0m\u001b[0m\n\u001b[0m\u001b[1;32m    359\u001b[0m         \u001b[0;32mreturn\u001b[0m \u001b[0msuper\u001b[0m\u001b[0;34m(\u001b[0m\u001b[0;34m)\u001b[0m\u001b[0;34m.\u001b[0m\u001b[0mget_loc\u001b[0m\u001b[0;34m(\u001b[0m\u001b[0mkey\u001b[0m\u001b[0;34m,\u001b[0m \u001b[0mmethod\u001b[0m\u001b[0;34m=\u001b[0m\u001b[0mmethod\u001b[0m\u001b[0;34m,\u001b[0m \u001b[0mtolerance\u001b[0m\u001b[0;34m=\u001b[0m\u001b[0mtolerance\u001b[0m\u001b[0;34m)\u001b[0m\u001b[0;34m\u001b[0m\u001b[0;34m\u001b[0m\u001b[0m\n\u001b[1;32m    360\u001b[0m \u001b[0;34m\u001b[0m\u001b[0m\n",
            "\u001b[0;31mKeyError\u001b[0m: '037329171X'"
          ]
        }
      ]
    },
    {
      "cell_type": "markdown",
      "metadata": {
        "id": "H8mWkUc8Uvu6"
      },
      "source": [
        "## Duplicates"
      ]
    },
    {
      "cell_type": "code",
      "metadata": {
        "colab": {
          "base_uri": "https://localhost:8080/"
        },
        "id": "bpvVOmXgQXm-",
        "outputId": "0725aa2e-038e-4d91-ad49-2e9b7f4d2c51"
      },
      "source": [
        "counts = books['ISBN'].apply(lambda x: isbnlib.canonical(isbnlib.clean(x))).value_counts()\n",
        "counts = counts[counts > 1]\n",
        "counts"
      ],
      "execution_count": 64,
      "outputs": [
        {
          "output_type": "execute_result",
          "data": {
            "text/plain": [
              "              117\n",
              "037329171X      2\n",
              "067144171X      2\n",
              "037371128X      2\n",
              "225303956X      2\n",
              "             ... \n",
              "042507448X      2\n",
              "068486441X      2\n",
              "156389663X      2\n",
              "087773402X      2\n",
              "043936213X      2\n",
              "Name: ISBN, Length: 316, dtype: int64"
            ]
          },
          "metadata": {},
          "execution_count": 64
        }
      ]
    },
    {
      "cell_type": "code",
      "metadata": {
        "colab": {
          "base_uri": "https://localhost:8080/"
        },
        "id": "49ICvh8uSwfE",
        "outputId": "c9662e60-3d75-449c-c2c9-a1016a901d32"
      },
      "source": [
        "duplicate_isbn = counts.index\n",
        "duplicate_isbn"
      ],
      "execution_count": 71,
      "outputs": [
        {
          "output_type": "execute_result",
          "data": {
            "text/plain": [
              "Index(['', '037329171X', '067144171X', '037371128X', '225303956X',\n",
              "       '078686298X', '037541181X', '042517400X', '034539092X', '067173685X',\n",
              "       ...\n",
              "       '034543773X', '051513581X', '039505155X', '037376099X', '080410297X',\n",
              "       '042507448X', '068486441X', '156389663X', '087773402X', '043936213X'],\n",
              "      dtype='object', length=316)"
            ]
          },
          "metadata": {},
          "execution_count": 71
        }
      ]
    },
    {
      "cell_type": "code",
      "metadata": {
        "colab": {
          "base_uri": "https://localhost:8080/",
          "height": 796
        },
        "id": "Fke_XxP4RmfJ",
        "outputId": "528aa4b7-257f-4e56-ef10-f757867e4d88"
      },
      "source": [
        "duplicates = books[\n",
        "    books['ISBN'].apply(lambda x: isbnlib.canonical(isbnlib.clean(x)) in duplicate_isbn)\n",
        "]\n",
        "duplicates"
      ],
      "execution_count": 72,
      "outputs": [
        {
          "output_type": "execute_result",
          "data": {
            "text/html": [
              "<div>\n",
              "<style scoped>\n",
              "    .dataframe tbody tr th:only-of-type {\n",
              "        vertical-align: middle;\n",
              "    }\n",
              "\n",
              "    .dataframe tbody tr th {\n",
              "        vertical-align: top;\n",
              "    }\n",
              "\n",
              "    .dataframe thead th {\n",
              "        text-align: right;\n",
              "    }\n",
              "</style>\n",
              "<table border=\"1\" class=\"dataframe\">\n",
              "  <thead>\n",
              "    <tr style=\"text-align: right;\">\n",
              "      <th></th>\n",
              "      <th>ISBN</th>\n",
              "      <th>Book-Title</th>\n",
              "      <th>Book-Author</th>\n",
              "      <th>Year-Of-Publication</th>\n",
              "      <th>Publisher</th>\n",
              "      <th>Image-URL-S</th>\n",
              "      <th>Image-URL-M</th>\n",
              "      <th>Image-URL-L</th>\n",
              "    </tr>\n",
              "  </thead>\n",
              "  <tbody>\n",
              "    <tr>\n",
              "      <th>66</th>\n",
              "      <td>042511774X</td>\n",
              "      <td>Breathing Lessons</td>\n",
              "      <td>Anne Tyler</td>\n",
              "      <td>1994</td>\n",
              "      <td>Berkley Publishing Group</td>\n",
              "      <td>http://images.amazon.com/images/P/042511774X.0...</td>\n",
              "      <td>http://images.amazon.com/images/P/042511774X.0...</td>\n",
              "      <td>http://images.amazon.com/images/P/042511774X.0...</td>\n",
              "    </tr>\n",
              "    <tr>\n",
              "      <th>139</th>\n",
              "      <td>038572179X</td>\n",
              "      <td>Atonement : A Novel</td>\n",
              "      <td>IAN MCEWAN</td>\n",
              "      <td>2003</td>\n",
              "      <td>Anchor</td>\n",
              "      <td>http://images.amazon.com/images/P/038572179X.0...</td>\n",
              "      <td>http://images.amazon.com/images/P/038572179X.0...</td>\n",
              "      <td>http://images.amazon.com/images/P/038572179X.0...</td>\n",
              "    </tr>\n",
              "    <tr>\n",
              "      <th>157</th>\n",
              "      <td>044651747X</td>\n",
              "      <td>Puerto Vallarta Squeeze</td>\n",
              "      <td>Robert James Waller</td>\n",
              "      <td>1995</td>\n",
              "      <td>Warner Books</td>\n",
              "      <td>http://images.amazon.com/images/P/044651747X.0...</td>\n",
              "      <td>http://images.amazon.com/images/P/044651747X.0...</td>\n",
              "      <td>http://images.amazon.com/images/P/044651747X.0...</td>\n",
              "    </tr>\n",
              "    <tr>\n",
              "      <th>305</th>\n",
              "      <td>044023722X</td>\n",
              "      <td>A Painted House</td>\n",
              "      <td>John Grisham</td>\n",
              "      <td>2001</td>\n",
              "      <td>Dell Publishing Company</td>\n",
              "      <td>http://images.amazon.com/images/P/044023722X.0...</td>\n",
              "      <td>http://images.amazon.com/images/P/044023722X.0...</td>\n",
              "      <td>http://images.amazon.com/images/P/044023722X.0...</td>\n",
              "    </tr>\n",
              "    <tr>\n",
              "      <th>363</th>\n",
              "      <td>038542471X</td>\n",
              "      <td>The Client</td>\n",
              "      <td>John Grisham</td>\n",
              "      <td>1993</td>\n",
              "      <td>Doubleday Books</td>\n",
              "      <td>http://images.amazon.com/images/P/038542471X.0...</td>\n",
              "      <td>http://images.amazon.com/images/P/038542471X.0...</td>\n",
              "      <td>http://images.amazon.com/images/P/038542471X.0...</td>\n",
              "    </tr>\n",
              "    <tr>\n",
              "      <th>...</th>\n",
              "      <td>...</td>\n",
              "      <td>...</td>\n",
              "      <td>...</td>\n",
              "      <td>...</td>\n",
              "      <td>...</td>\n",
              "      <td>...</td>\n",
              "      <td>...</td>\n",
              "      <td>...</td>\n",
              "    </tr>\n",
              "    <tr>\n",
              "      <th>269316</th>\n",
              "      <td>055215038X</td>\n",
              "      <td>The Sleeper</td>\n",
              "      <td>Gillian White</td>\n",
              "      <td>2003</td>\n",
              "      <td>Corgi Books</td>\n",
              "      <td>http://images.amazon.com/images/P/055215038X.0...</td>\n",
              "      <td>http://images.amazon.com/images/P/055215038X.0...</td>\n",
              "      <td>http://images.amazon.com/images/P/055215038X.0...</td>\n",
              "    </tr>\n",
              "    <tr>\n",
              "      <th>269571</th>\n",
              "      <td>037376099x</td>\n",
              "      <td>Patient Nurse  (Man Of The Month) (Harlequin D...</td>\n",
              "      <td>Diana Palmer</td>\n",
              "      <td>1997</td>\n",
              "      <td>Silhouette</td>\n",
              "      <td>http://images.amazon.com/images/P/037376099X.0...</td>\n",
              "      <td>http://images.amazon.com/images/P/037376099X.0...</td>\n",
              "      <td>http://images.amazon.com/images/P/037376099X.0...</td>\n",
              "    </tr>\n",
              "    <tr>\n",
              "      <th>270304</th>\n",
              "      <td>189481505X</td>\n",
              "      <td>I-O</td>\n",
              "      <td>Simon Logan</td>\n",
              "      <td>2002</td>\n",
              "      <td>Prime (OH)</td>\n",
              "      <td>http://images.amazon.com/images/P/189481505X.0...</td>\n",
              "      <td>http://images.amazon.com/images/P/189481505X.0...</td>\n",
              "      <td>http://images.amazon.com/images/P/189481505X.0...</td>\n",
              "    </tr>\n",
              "    <tr>\n",
              "      <th>270502</th>\n",
              "      <td>039304632x</td>\n",
              "      <td>The Voyage of the Narwhal</td>\n",
              "      <td>Andrea Barrett</td>\n",
              "      <td>1998</td>\n",
              "      <td>W W Norton &amp;amp; Co Inc</td>\n",
              "      <td>http://images.amazon.com/images/P/039304632X.0...</td>\n",
              "      <td>http://images.amazon.com/images/P/039304632X.0...</td>\n",
              "      <td>http://images.amazon.com/images/P/039304632X.0...</td>\n",
              "    </tr>\n",
              "    <tr>\n",
              "      <th>270707</th>\n",
              "      <td>B00011SOYM</td>\n",
              "      <td>Grave Secrets</td>\n",
              "      <td>Kathy Reichs</td>\n",
              "      <td>2002</td>\n",
              "      <td>Scribner</td>\n",
              "      <td>http://images.amazon.com/images/P/B00011SOYM.0...</td>\n",
              "      <td>http://images.amazon.com/images/P/B00011SOYM.0...</td>\n",
              "      <td>http://images.amazon.com/images/P/B00011SOYM.0...</td>\n",
              "    </tr>\n",
              "  </tbody>\n",
              "</table>\n",
              "<p>747 rows × 8 columns</p>\n",
              "</div>"
            ],
            "text/plain": [
              "              ISBN  ...                                        Image-URL-L\n",
              "66      042511774X  ...  http://images.amazon.com/images/P/042511774X.0...\n",
              "139     038572179X  ...  http://images.amazon.com/images/P/038572179X.0...\n",
              "157     044651747X  ...  http://images.amazon.com/images/P/044651747X.0...\n",
              "305     044023722X  ...  http://images.amazon.com/images/P/044023722X.0...\n",
              "363     038542471X  ...  http://images.amazon.com/images/P/038542471X.0...\n",
              "...            ...  ...                                                ...\n",
              "269316  055215038X  ...  http://images.amazon.com/images/P/055215038X.0...\n",
              "269571  037376099x  ...  http://images.amazon.com/images/P/037376099X.0...\n",
              "270304  189481505X  ...  http://images.amazon.com/images/P/189481505X.0...\n",
              "270502  039304632x  ...  http://images.amazon.com/images/P/039304632X.0...\n",
              "270707  B00011SOYM  ...  http://images.amazon.com/images/P/B00011SOYM.0...\n",
              "\n",
              "[747 rows x 8 columns]"
            ]
          },
          "metadata": {},
          "execution_count": 72
        }
      ]
    },
    {
      "cell_type": "code",
      "metadata": {
        "colab": {
          "base_uri": "https://localhost:8080/",
          "height": 216
        },
        "id": "Txvac7YMQKo6",
        "outputId": "9c80d258-a4e8-40d5-ff44-af6bb529c519"
      },
      "source": [
        "duplicates[duplicates['Book-Author'].apply(lambda x: 'Anne Tyler' in x)]"
      ],
      "execution_count": 81,
      "outputs": [
        {
          "output_type": "execute_result",
          "data": {
            "text/html": [
              "<div>\n",
              "<style scoped>\n",
              "    .dataframe tbody tr th:only-of-type {\n",
              "        vertical-align: middle;\n",
              "    }\n",
              "\n",
              "    .dataframe tbody tr th {\n",
              "        vertical-align: top;\n",
              "    }\n",
              "\n",
              "    .dataframe thead th {\n",
              "        text-align: right;\n",
              "    }\n",
              "</style>\n",
              "<table border=\"1\" class=\"dataframe\">\n",
              "  <thead>\n",
              "    <tr style=\"text-align: right;\">\n",
              "      <th></th>\n",
              "      <th>ISBN</th>\n",
              "      <th>Book-Title</th>\n",
              "      <th>Book-Author</th>\n",
              "      <th>Year-Of-Publication</th>\n",
              "      <th>Publisher</th>\n",
              "      <th>Image-URL-S</th>\n",
              "      <th>Image-URL-M</th>\n",
              "      <th>Image-URL-L</th>\n",
              "    </tr>\n",
              "  </thead>\n",
              "  <tbody>\n",
              "    <tr>\n",
              "      <th>66</th>\n",
              "      <td>042511774X</td>\n",
              "      <td>Breathing Lessons</td>\n",
              "      <td>Anne Tyler</td>\n",
              "      <td>1994</td>\n",
              "      <td>Berkley Publishing Group</td>\n",
              "      <td>http://images.amazon.com/images/P/042511774X.0...</td>\n",
              "      <td>http://images.amazon.com/images/P/042511774X.0...</td>\n",
              "      <td>http://images.amazon.com/images/P/042511774X.0...</td>\n",
              "    </tr>\n",
              "    <tr>\n",
              "      <th>210805</th>\n",
              "      <td>042511774x</td>\n",
              "      <td>Breathing Lessons</td>\n",
              "      <td>Anne Tyler</td>\n",
              "      <td>1994</td>\n",
              "      <td>Berkley Publishing Group</td>\n",
              "      <td>http://images.amazon.com/images/P/042511774X.0...</td>\n",
              "      <td>http://images.amazon.com/images/P/042511774X.0...</td>\n",
              "      <td>http://images.amazon.com/images/P/042511774X.0...</td>\n",
              "    </tr>\n",
              "  </tbody>\n",
              "</table>\n",
              "</div>"
            ],
            "text/plain": [
              "              ISBN  ...                                        Image-URL-L\n",
              "66      042511774X  ...  http://images.amazon.com/images/P/042511774X.0...\n",
              "210805  042511774x  ...  http://images.amazon.com/images/P/042511774X.0...\n",
              "\n",
              "[2 rows x 8 columns]"
            ]
          },
          "metadata": {},
          "execution_count": 81
        }
      ]
    },
    {
      "cell_type": "code",
      "metadata": {
        "colab": {
          "base_uri": "https://localhost:8080/",
          "height": 419
        },
        "id": "DZn9EGfrUzLU",
        "outputId": "05011261-6d63-4f8b-ed9f-b0d645820f53"
      },
      "source": [
        "ratings[ratings['ISBN'].apply(lambda x: x in ['042511774X'])]"
      ],
      "execution_count": 84,
      "outputs": [
        {
          "output_type": "execute_result",
          "data": {
            "text/html": [
              "<div>\n",
              "<style scoped>\n",
              "    .dataframe tbody tr th:only-of-type {\n",
              "        vertical-align: middle;\n",
              "    }\n",
              "\n",
              "    .dataframe tbody tr th {\n",
              "        vertical-align: top;\n",
              "    }\n",
              "\n",
              "    .dataframe thead th {\n",
              "        text-align: right;\n",
              "    }\n",
              "</style>\n",
              "<table border=\"1\" class=\"dataframe\">\n",
              "  <thead>\n",
              "    <tr style=\"text-align: right;\">\n",
              "      <th></th>\n",
              "      <th>User-ID</th>\n",
              "      <th>ISBN</th>\n",
              "      <th>Book-Rating</th>\n",
              "    </tr>\n",
              "  </thead>\n",
              "  <tbody>\n",
              "    <tr>\n",
              "      <th>1117</th>\n",
              "      <td>277195</td>\n",
              "      <td>042511774X</td>\n",
              "      <td>0</td>\n",
              "    </tr>\n",
              "    <tr>\n",
              "      <th>8990</th>\n",
              "      <td>278535</td>\n",
              "      <td>042511774X</td>\n",
              "      <td>0</td>\n",
              "    </tr>\n",
              "    <tr>\n",
              "      <th>9638</th>\n",
              "      <td>67</td>\n",
              "      <td>042511774X</td>\n",
              "      <td>0</td>\n",
              "    </tr>\n",
              "    <tr>\n",
              "      <th>9993</th>\n",
              "      <td>243</td>\n",
              "      <td>042511774X</td>\n",
              "      <td>0</td>\n",
              "    </tr>\n",
              "    <tr>\n",
              "      <th>28464</th>\n",
              "      <td>6575</td>\n",
              "      <td>042511774X</td>\n",
              "      <td>0</td>\n",
              "    </tr>\n",
              "    <tr>\n",
              "      <th>...</th>\n",
              "      <td>...</td>\n",
              "      <td>...</td>\n",
              "      <td>...</td>\n",
              "    </tr>\n",
              "    <tr>\n",
              "      <th>1111311</th>\n",
              "      <td>266457</td>\n",
              "      <td>042511774X</td>\n",
              "      <td>8</td>\n",
              "    </tr>\n",
              "    <tr>\n",
              "      <th>1122990</th>\n",
              "      <td>269566</td>\n",
              "      <td>042511774X</td>\n",
              "      <td>0</td>\n",
              "    </tr>\n",
              "    <tr>\n",
              "      <th>1130485</th>\n",
              "      <td>271284</td>\n",
              "      <td>042511774X</td>\n",
              "      <td>0</td>\n",
              "    </tr>\n",
              "    <tr>\n",
              "      <th>1132522</th>\n",
              "      <td>271593</td>\n",
              "      <td>042511774X</td>\n",
              "      <td>0</td>\n",
              "    </tr>\n",
              "    <tr>\n",
              "      <th>1136048</th>\n",
              "      <td>273140</td>\n",
              "      <td>042511774X</td>\n",
              "      <td>0</td>\n",
              "    </tr>\n",
              "  </tbody>\n",
              "</table>\n",
              "<p>170 rows × 3 columns</p>\n",
              "</div>"
            ],
            "text/plain": [
              "         User-ID        ISBN  Book-Rating\n",
              "1117      277195  042511774X            0\n",
              "8990      278535  042511774X            0\n",
              "9638          67  042511774X            0\n",
              "9993         243  042511774X            0\n",
              "28464       6575  042511774X            0\n",
              "...          ...         ...          ...\n",
              "1111311   266457  042511774X            8\n",
              "1122990   269566  042511774X            0\n",
              "1130485   271284  042511774X            0\n",
              "1132522   271593  042511774X            0\n",
              "1136048   273140  042511774X            0\n",
              "\n",
              "[170 rows x 3 columns]"
            ]
          },
          "metadata": {},
          "execution_count": 84
        }
      ]
    },
    {
      "cell_type": "code",
      "metadata": {
        "colab": {
          "base_uri": "https://localhost:8080/",
          "height": 80
        },
        "id": "psjbPR4YVH5x",
        "outputId": "cb4bcd13-c2ea-4b8b-b9cb-389e8e556b2a"
      },
      "source": [
        "ratings[ratings['ISBN'].apply(lambda x: x in ['042511774x'])]"
      ],
      "execution_count": 85,
      "outputs": [
        {
          "output_type": "execute_result",
          "data": {
            "text/html": [
              "<div>\n",
              "<style scoped>\n",
              "    .dataframe tbody tr th:only-of-type {\n",
              "        vertical-align: middle;\n",
              "    }\n",
              "\n",
              "    .dataframe tbody tr th {\n",
              "        vertical-align: top;\n",
              "    }\n",
              "\n",
              "    .dataframe thead th {\n",
              "        text-align: right;\n",
              "    }\n",
              "</style>\n",
              "<table border=\"1\" class=\"dataframe\">\n",
              "  <thead>\n",
              "    <tr style=\"text-align: right;\">\n",
              "      <th></th>\n",
              "      <th>User-ID</th>\n",
              "      <th>ISBN</th>\n",
              "      <th>Book-Rating</th>\n",
              "    </tr>\n",
              "  </thead>\n",
              "  <tbody>\n",
              "    <tr>\n",
              "      <th>512932</th>\n",
              "      <td>124487</td>\n",
              "      <td>042511774x</td>\n",
              "      <td>0</td>\n",
              "    </tr>\n",
              "  </tbody>\n",
              "</table>\n",
              "</div>"
            ],
            "text/plain": [
              "        User-ID        ISBN  Book-Rating\n",
              "512932   124487  042511774x            0"
            ]
          },
          "metadata": {},
          "execution_count": 85
        }
      ]
    },
    {
      "cell_type": "code",
      "metadata": {
        "colab": {
          "base_uri": "https://localhost:8080/",
          "height": 216
        },
        "id": "ZvFP4ZrSV68j",
        "outputId": "5c3a5e37-318f-4dea-de40-e745fa1e82d2"
      },
      "source": [
        "dup_zero = isbnlib.canonical(isbnlib.clean(duplicates['ISBN'][66]))\n",
        "duplicates[duplicates['ISBN'].apply(lambda x: dup_zero in isbnlib.canonical(isbnlib.clean(x)))]"
      ],
      "execution_count": 88,
      "outputs": [
        {
          "output_type": "execute_result",
          "data": {
            "text/html": [
              "<div>\n",
              "<style scoped>\n",
              "    .dataframe tbody tr th:only-of-type {\n",
              "        vertical-align: middle;\n",
              "    }\n",
              "\n",
              "    .dataframe tbody tr th {\n",
              "        vertical-align: top;\n",
              "    }\n",
              "\n",
              "    .dataframe thead th {\n",
              "        text-align: right;\n",
              "    }\n",
              "</style>\n",
              "<table border=\"1\" class=\"dataframe\">\n",
              "  <thead>\n",
              "    <tr style=\"text-align: right;\">\n",
              "      <th></th>\n",
              "      <th>ISBN</th>\n",
              "      <th>Book-Title</th>\n",
              "      <th>Book-Author</th>\n",
              "      <th>Year-Of-Publication</th>\n",
              "      <th>Publisher</th>\n",
              "      <th>Image-URL-S</th>\n",
              "      <th>Image-URL-M</th>\n",
              "      <th>Image-URL-L</th>\n",
              "    </tr>\n",
              "  </thead>\n",
              "  <tbody>\n",
              "    <tr>\n",
              "      <th>66</th>\n",
              "      <td>042511774X</td>\n",
              "      <td>Breathing Lessons</td>\n",
              "      <td>Anne Tyler</td>\n",
              "      <td>1994</td>\n",
              "      <td>Berkley Publishing Group</td>\n",
              "      <td>http://images.amazon.com/images/P/042511774X.0...</td>\n",
              "      <td>http://images.amazon.com/images/P/042511774X.0...</td>\n",
              "      <td>http://images.amazon.com/images/P/042511774X.0...</td>\n",
              "    </tr>\n",
              "    <tr>\n",
              "      <th>210805</th>\n",
              "      <td>042511774x</td>\n",
              "      <td>Breathing Lessons</td>\n",
              "      <td>Anne Tyler</td>\n",
              "      <td>1994</td>\n",
              "      <td>Berkley Publishing Group</td>\n",
              "      <td>http://images.amazon.com/images/P/042511774X.0...</td>\n",
              "      <td>http://images.amazon.com/images/P/042511774X.0...</td>\n",
              "      <td>http://images.amazon.com/images/P/042511774X.0...</td>\n",
              "    </tr>\n",
              "  </tbody>\n",
              "</table>\n",
              "</div>"
            ],
            "text/plain": [
              "              ISBN  ...                                        Image-URL-L\n",
              "66      042511774X  ...  http://images.amazon.com/images/P/042511774X.0...\n",
              "210805  042511774x  ...  http://images.amazon.com/images/P/042511774X.0...\n",
              "\n",
              "[2 rows x 8 columns]"
            ]
          },
          "metadata": {},
          "execution_count": 88
        }
      ]
    },
    {
      "cell_type": "markdown",
      "metadata": {
        "id": "X5OziWlkNoJp"
      },
      "source": [
        "## Books metadata"
      ]
    },
    {
      "cell_type": "code",
      "metadata": {
        "colab": {
          "base_uri": "https://localhost:8080/",
          "height": 1000
        },
        "id": "RCT_l7JUJ0ri",
        "outputId": "578c7254-1d39-4133-eb18-59934e1536be"
      },
      "source": [
        "books[books['Book-Title'].apply(lambda x: 'Potter' in x)]"
      ],
      "execution_count": 33,
      "outputs": [
        {
          "output_type": "execute_result",
          "data": {
            "text/html": [
              "<div>\n",
              "<style scoped>\n",
              "    .dataframe tbody tr th:only-of-type {\n",
              "        vertical-align: middle;\n",
              "    }\n",
              "\n",
              "    .dataframe tbody tr th {\n",
              "        vertical-align: top;\n",
              "    }\n",
              "\n",
              "    .dataframe thead th {\n",
              "        text-align: right;\n",
              "    }\n",
              "</style>\n",
              "<table border=\"1\" class=\"dataframe\">\n",
              "  <thead>\n",
              "    <tr style=\"text-align: right;\">\n",
              "      <th></th>\n",
              "      <th>ISBN</th>\n",
              "      <th>Book-Title</th>\n",
              "      <th>Book-Author</th>\n",
              "      <th>Year-Of-Publication</th>\n",
              "      <th>Publisher</th>\n",
              "      <th>Image-URL-S</th>\n",
              "      <th>Image-URL-M</th>\n",
              "      <th>Image-URL-L</th>\n",
              "    </tr>\n",
              "  </thead>\n",
              "  <tbody>\n",
              "    <tr>\n",
              "      <th>821</th>\n",
              "      <td>0767908473</td>\n",
              "      <td>The Sorcerer's Companion: A Guide to the Magic...</td>\n",
              "      <td>ALLAN ZOLA KRONZEK</td>\n",
              "      <td>2001</td>\n",
              "      <td>Broadway</td>\n",
              "      <td>http://images.amazon.com/images/P/0767908473.0...</td>\n",
              "      <td>http://images.amazon.com/images/P/0767908473.0...</td>\n",
              "      <td>http://images.amazon.com/images/P/0767908473.0...</td>\n",
              "    </tr>\n",
              "    <tr>\n",
              "      <th>2143</th>\n",
              "      <td>059035342X</td>\n",
              "      <td>Harry Potter and the Sorcerer's Stone (Harry P...</td>\n",
              "      <td>J. K. Rowling</td>\n",
              "      <td>1999</td>\n",
              "      <td>Arthur A. Levine Books</td>\n",
              "      <td>http://images.amazon.com/images/P/059035342X.0...</td>\n",
              "      <td>http://images.amazon.com/images/P/059035342X.0...</td>\n",
              "      <td>http://images.amazon.com/images/P/059035342X.0...</td>\n",
              "    </tr>\n",
              "    <tr>\n",
              "      <th>2809</th>\n",
              "      <td>0590353403</td>\n",
              "      <td>Harry Potter and the Sorcerer's Stone (Book 1)</td>\n",
              "      <td>J. K. Rowling</td>\n",
              "      <td>1998</td>\n",
              "      <td>Scholastic</td>\n",
              "      <td>http://images.amazon.com/images/P/0590353403.0...</td>\n",
              "      <td>http://images.amazon.com/images/P/0590353403.0...</td>\n",
              "      <td>http://images.amazon.com/images/P/0590353403.0...</td>\n",
              "    </tr>\n",
              "    <tr>\n",
              "      <th>3459</th>\n",
              "      <td>0439064872</td>\n",
              "      <td>Harry Potter and the Chamber of Secrets (Book 2)</td>\n",
              "      <td>J. K. Rowling</td>\n",
              "      <td>2000</td>\n",
              "      <td>Scholastic</td>\n",
              "      <td>http://images.amazon.com/images/P/0439064872.0...</td>\n",
              "      <td>http://images.amazon.com/images/P/0439064872.0...</td>\n",
              "      <td>http://images.amazon.com/images/P/0439064872.0...</td>\n",
              "    </tr>\n",
              "    <tr>\n",
              "      <th>3839</th>\n",
              "      <td>0439136350</td>\n",
              "      <td>Harry Potter and the Prisoner of Azkaban (Book 3)</td>\n",
              "      <td>J. K. Rowling</td>\n",
              "      <td>1999</td>\n",
              "      <td>Scholastic</td>\n",
              "      <td>http://images.amazon.com/images/P/0439136350.0...</td>\n",
              "      <td>http://images.amazon.com/images/P/0439136350.0...</td>\n",
              "      <td>http://images.amazon.com/images/P/0439136350.0...</td>\n",
              "    </tr>\n",
              "    <tr>\n",
              "      <th>...</th>\n",
              "      <td>...</td>\n",
              "      <td>...</td>\n",
              "      <td>...</td>\n",
              "      <td>...</td>\n",
              "      <td>...</td>\n",
              "      <td>...</td>\n",
              "      <td>...</td>\n",
              "      <td>...</td>\n",
              "    </tr>\n",
              "    <tr>\n",
              "      <th>257280</th>\n",
              "      <td>043955490X</td>\n",
              "      <td>Harry Potter and the Goblet of Fire (Harry Pot...</td>\n",
              "      <td>J. K. Rowling</td>\n",
              "      <td>2003</td>\n",
              "      <td>Arthur A. Levine Books</td>\n",
              "      <td>http://images.amazon.com/images/P/043955490X.0...</td>\n",
              "      <td>http://images.amazon.com/images/P/043955490X.0...</td>\n",
              "      <td>http://images.amazon.com/images/P/043955490X.0...</td>\n",
              "    </tr>\n",
              "    <tr>\n",
              "      <th>259628</th>\n",
              "      <td>0939173344</td>\n",
              "      <td>Harry Potter and the Sorcerer's Stone</td>\n",
              "      <td>J.K. Rowling</td>\n",
              "      <td>1999</td>\n",
              "      <td>National Braille Press, Inc.</td>\n",
              "      <td>http://images.amazon.com/images/P/0939173344.0...</td>\n",
              "      <td>http://images.amazon.com/images/P/0939173344.0...</td>\n",
              "      <td>http://images.amazon.com/images/P/0939173344.0...</td>\n",
              "    </tr>\n",
              "    <tr>\n",
              "      <th>260783</th>\n",
              "      <td>055329265X</td>\n",
              "      <td>Potter's Fields</td>\n",
              "      <td>Frank Roderus</td>\n",
              "      <td>1996</td>\n",
              "      <td>Bantam Books</td>\n",
              "      <td>http://images.amazon.com/images/P/055329265X.0...</td>\n",
              "      <td>http://images.amazon.com/images/P/055329265X.0...</td>\n",
              "      <td>http://images.amazon.com/images/P/055329265X.0...</td>\n",
              "    </tr>\n",
              "    <tr>\n",
              "      <th>263414</th>\n",
              "      <td>0785311122</td>\n",
              "      <td>Treasury of Beatrix Potter</td>\n",
              "      <td>Not Applicable (Na )</td>\n",
              "      <td>1995</td>\n",
              "      <td>Publications Intl</td>\n",
              "      <td>http://images.amazon.com/images/P/0785311122.0...</td>\n",
              "      <td>http://images.amazon.com/images/P/0785311122.0...</td>\n",
              "      <td>http://images.amazon.com/images/P/0785311122.0...</td>\n",
              "    </tr>\n",
              "    <tr>\n",
              "      <th>267048</th>\n",
              "      <td>1556113072</td>\n",
              "      <td>Incident at Potter's Bridge</td>\n",
              "      <td>Joe Monninger</td>\n",
              "      <td>1992</td>\n",
              "      <td>Penguin USA</td>\n",
              "      <td>http://images.amazon.com/images/P/1556113072.0...</td>\n",
              "      <td>http://images.amazon.com/images/P/1556113072.0...</td>\n",
              "      <td>http://images.amazon.com/images/P/1556113072.0...</td>\n",
              "    </tr>\n",
              "  </tbody>\n",
              "</table>\n",
              "<p>209 rows × 8 columns</p>\n",
              "</div>"
            ],
            "text/plain": [
              "              ISBN  ...                                        Image-URL-L\n",
              "821     0767908473  ...  http://images.amazon.com/images/P/0767908473.0...\n",
              "2143    059035342X  ...  http://images.amazon.com/images/P/059035342X.0...\n",
              "2809    0590353403  ...  http://images.amazon.com/images/P/0590353403.0...\n",
              "3459    0439064872  ...  http://images.amazon.com/images/P/0439064872.0...\n",
              "3839    0439136350  ...  http://images.amazon.com/images/P/0439136350.0...\n",
              "...            ...  ...                                                ...\n",
              "257280  043955490X  ...  http://images.amazon.com/images/P/043955490X.0...\n",
              "259628  0939173344  ...  http://images.amazon.com/images/P/0939173344.0...\n",
              "260783  055329265X  ...  http://images.amazon.com/images/P/055329265X.0...\n",
              "263414  0785311122  ...  http://images.amazon.com/images/P/0785311122.0...\n",
              "267048  1556113072  ...  http://images.amazon.com/images/P/1556113072.0...\n",
              "\n",
              "[209 rows x 8 columns]"
            ]
          },
          "metadata": {},
          "execution_count": 33
        }
      ]
    },
    {
      "cell_type": "code",
      "metadata": {
        "colab": {
          "base_uri": "https://localhost:8080/",
          "height": 1000
        },
        "id": "LnV-fuVTLrxo",
        "outputId": "2921e046-3289-4c94-8853-db24b2deeab8"
      },
      "source": [
        "books[books.apply(lambda x: 'Potter' in x['Book-Title'] and 'Rowling' in x['Book-Author'], axis=1)]"
      ],
      "execution_count": 37,
      "outputs": [
        {
          "output_type": "execute_result",
          "data": {
            "text/html": [
              "<div>\n",
              "<style scoped>\n",
              "    .dataframe tbody tr th:only-of-type {\n",
              "        vertical-align: middle;\n",
              "    }\n",
              "\n",
              "    .dataframe tbody tr th {\n",
              "        vertical-align: top;\n",
              "    }\n",
              "\n",
              "    .dataframe thead th {\n",
              "        text-align: right;\n",
              "    }\n",
              "</style>\n",
              "<table border=\"1\" class=\"dataframe\">\n",
              "  <thead>\n",
              "    <tr style=\"text-align: right;\">\n",
              "      <th></th>\n",
              "      <th>ISBN</th>\n",
              "      <th>Book-Title</th>\n",
              "      <th>Book-Author</th>\n",
              "      <th>Year-Of-Publication</th>\n",
              "      <th>Publisher</th>\n",
              "      <th>Image-URL-S</th>\n",
              "      <th>Image-URL-M</th>\n",
              "      <th>Image-URL-L</th>\n",
              "    </tr>\n",
              "  </thead>\n",
              "  <tbody>\n",
              "    <tr>\n",
              "      <th>2143</th>\n",
              "      <td>059035342X</td>\n",
              "      <td>Harry Potter and the Sorcerer's Stone (Harry P...</td>\n",
              "      <td>J. K. Rowling</td>\n",
              "      <td>1999</td>\n",
              "      <td>Arthur A. Levine Books</td>\n",
              "      <td>http://images.amazon.com/images/P/059035342X.0...</td>\n",
              "      <td>http://images.amazon.com/images/P/059035342X.0...</td>\n",
              "      <td>http://images.amazon.com/images/P/059035342X.0...</td>\n",
              "    </tr>\n",
              "    <tr>\n",
              "      <th>2809</th>\n",
              "      <td>0590353403</td>\n",
              "      <td>Harry Potter and the Sorcerer's Stone (Book 1)</td>\n",
              "      <td>J. K. Rowling</td>\n",
              "      <td>1998</td>\n",
              "      <td>Scholastic</td>\n",
              "      <td>http://images.amazon.com/images/P/0590353403.0...</td>\n",
              "      <td>http://images.amazon.com/images/P/0590353403.0...</td>\n",
              "      <td>http://images.amazon.com/images/P/0590353403.0...</td>\n",
              "    </tr>\n",
              "    <tr>\n",
              "      <th>3459</th>\n",
              "      <td>0439064872</td>\n",
              "      <td>Harry Potter and the Chamber of Secrets (Book 2)</td>\n",
              "      <td>J. K. Rowling</td>\n",
              "      <td>2000</td>\n",
              "      <td>Scholastic</td>\n",
              "      <td>http://images.amazon.com/images/P/0439064872.0...</td>\n",
              "      <td>http://images.amazon.com/images/P/0439064872.0...</td>\n",
              "      <td>http://images.amazon.com/images/P/0439064872.0...</td>\n",
              "    </tr>\n",
              "    <tr>\n",
              "      <th>3839</th>\n",
              "      <td>0439136350</td>\n",
              "      <td>Harry Potter and the Prisoner of Azkaban (Book 3)</td>\n",
              "      <td>J. K. Rowling</td>\n",
              "      <td>1999</td>\n",
              "      <td>Scholastic</td>\n",
              "      <td>http://images.amazon.com/images/P/0439136350.0...</td>\n",
              "      <td>http://images.amazon.com/images/P/0439136350.0...</td>\n",
              "      <td>http://images.amazon.com/images/P/0439136350.0...</td>\n",
              "    </tr>\n",
              "    <tr>\n",
              "      <th>5431</th>\n",
              "      <td>0439139597</td>\n",
              "      <td>Harry Potter and the Goblet of Fire (Book 4)</td>\n",
              "      <td>J. K. Rowling</td>\n",
              "      <td>2000</td>\n",
              "      <td>Scholastic</td>\n",
              "      <td>http://images.amazon.com/images/P/0439139597.0...</td>\n",
              "      <td>http://images.amazon.com/images/P/0439139597.0...</td>\n",
              "      <td>http://images.amazon.com/images/P/0439139597.0...</td>\n",
              "    </tr>\n",
              "    <tr>\n",
              "      <th>...</th>\n",
              "      <td>...</td>\n",
              "      <td>...</td>\n",
              "      <td>...</td>\n",
              "      <td>...</td>\n",
              "      <td>...</td>\n",
              "      <td>...</td>\n",
              "      <td>...</td>\n",
              "      <td>...</td>\n",
              "    </tr>\n",
              "    <tr>\n",
              "      <th>234626</th>\n",
              "      <td>0439294827</td>\n",
              "      <td>Harry Potter and the Sorcerer's Stone: A Delux...</td>\n",
              "      <td>J. K. Rowling</td>\n",
              "      <td>2001</td>\n",
              "      <td>Scholastic</td>\n",
              "      <td>http://images.amazon.com/images/P/0439294827.0...</td>\n",
              "      <td>http://images.amazon.com/images/P/0439294827.0...</td>\n",
              "      <td>http://images.amazon.com/images/P/0439294827.0...</td>\n",
              "    </tr>\n",
              "    <tr>\n",
              "      <th>237878</th>\n",
              "      <td>3895849618</td>\n",
              "      <td>Harry Potter und der Gefangene von Askaban. So...</td>\n",
              "      <td>Joanne K. Rowling</td>\n",
              "      <td>2002</td>\n",
              "      <td>Dhv der HÃ¶rverlag</td>\n",
              "      <td>http://images.amazon.com/images/P/3895849618.0...</td>\n",
              "      <td>http://images.amazon.com/images/P/3895849618.0...</td>\n",
              "      <td>http://images.amazon.com/images/P/3895849618.0...</td>\n",
              "    </tr>\n",
              "    <tr>\n",
              "      <th>251249</th>\n",
              "      <td>847888663X</td>\n",
              "      <td>Harry Potter y El Caliz de Fuego</td>\n",
              "      <td>J. K. Rowling</td>\n",
              "      <td>2001</td>\n",
              "      <td>Lidiun</td>\n",
              "      <td>http://images.amazon.com/images/P/847888663X.0...</td>\n",
              "      <td>http://images.amazon.com/images/P/847888663X.0...</td>\n",
              "      <td>http://images.amazon.com/images/P/847888663X.0...</td>\n",
              "    </tr>\n",
              "    <tr>\n",
              "      <th>257280</th>\n",
              "      <td>043955490X</td>\n",
              "      <td>Harry Potter and the Goblet of Fire (Harry Pot...</td>\n",
              "      <td>J. K. Rowling</td>\n",
              "      <td>2003</td>\n",
              "      <td>Arthur A. Levine Books</td>\n",
              "      <td>http://images.amazon.com/images/P/043955490X.0...</td>\n",
              "      <td>http://images.amazon.com/images/P/043955490X.0...</td>\n",
              "      <td>http://images.amazon.com/images/P/043955490X.0...</td>\n",
              "    </tr>\n",
              "    <tr>\n",
              "      <th>259628</th>\n",
              "      <td>0939173344</td>\n",
              "      <td>Harry Potter and the Sorcerer's Stone</td>\n",
              "      <td>J.K. Rowling</td>\n",
              "      <td>1999</td>\n",
              "      <td>National Braille Press, Inc.</td>\n",
              "      <td>http://images.amazon.com/images/P/0939173344.0...</td>\n",
              "      <td>http://images.amazon.com/images/P/0939173344.0...</td>\n",
              "      <td>http://images.amazon.com/images/P/0939173344.0...</td>\n",
              "    </tr>\n",
              "  </tbody>\n",
              "</table>\n",
              "<p>91 rows × 8 columns</p>\n",
              "</div>"
            ],
            "text/plain": [
              "              ISBN  ...                                        Image-URL-L\n",
              "2143    059035342X  ...  http://images.amazon.com/images/P/059035342X.0...\n",
              "2809    0590353403  ...  http://images.amazon.com/images/P/0590353403.0...\n",
              "3459    0439064872  ...  http://images.amazon.com/images/P/0439064872.0...\n",
              "3839    0439136350  ...  http://images.amazon.com/images/P/0439136350.0...\n",
              "5431    0439139597  ...  http://images.amazon.com/images/P/0439139597.0...\n",
              "...            ...  ...                                                ...\n",
              "234626  0439294827  ...  http://images.amazon.com/images/P/0439294827.0...\n",
              "237878  3895849618  ...  http://images.amazon.com/images/P/3895849618.0...\n",
              "251249  847888663X  ...  http://images.amazon.com/images/P/847888663X.0...\n",
              "257280  043955490X  ...  http://images.amazon.com/images/P/043955490X.0...\n",
              "259628  0939173344  ...  http://images.amazon.com/images/P/0939173344.0...\n",
              "\n",
              "[91 rows x 8 columns]"
            ]
          },
          "metadata": {},
          "execution_count": 37
        }
      ]
    },
    {
      "cell_type": "code",
      "metadata": {
        "colab": {
          "base_uri": "https://localhost:8080/"
        },
        "id": "7zspms4jMYX5",
        "outputId": "932cd39c-dff7-474d-df9a-00eeac2e7250"
      },
      "source": [
        "book = isbnlib.meta('3895849618', service='goob')\n",
        "print(book)\n",
        "\n",
        "book = isbnlib.meta('3895849618', service='wiki')\n",
        "print(book)\n",
        "\n",
        "book = isbnlib.meta('3895849618', service='openl')\n",
        "print(book)"
      ],
      "execution_count": 42,
      "outputs": [
        {
          "output_type": "stream",
          "name": "stdout",
          "text": [
            "{}\n",
            "{'ISBN-13': '9783895849619', 'Title': 'Harry Potter und der Gefangene von Askaban', 'Authors': ['Joanne K Rowling', 'Rufus Beck'], 'Publisher': 'Joanne K. Rowling', 'Year': '2002', 'Language': ''}\n",
            "{'ISBN-13': '9783895849619', 'Title': 'Harry Potter und der Gefangene von Askaban', 'Authors': ['J. K. Rowling'], 'Publisher': 'Dhv der Hörverlag', 'Year': '2002', 'Language': ''}\n"
          ]
        }
      ]
    },
    {
      "cell_type": "markdown",
      "metadata": {
        "id": "PD11kDsGCdH1"
      },
      "source": [
        "## Users metadata"
      ]
    },
    {
      "cell_type": "code",
      "metadata": {
        "colab": {
          "base_uri": "https://localhost:8080/"
        },
        "id": "YQzZ-hexDvn0",
        "outputId": "b3c69e47-1dfd-41de-f203-f6f0071f957f"
      },
      "source": [
        "users['Location'].apply(lambda x: x.split(',')[-1]).value_counts()"
      ],
      "execution_count": 18,
      "outputs": [
        {
          "output_type": "execute_result",
          "data": {
            "text/plain": [
              " usa                                      139711\n",
              " canada                                    21658\n",
              " united kingdom                            18538\n",
              " germany                                   17043\n",
              " spain                                     13147\n",
              "                                           ...  \n",
              " fredonia - land of the brave and free         1\n",
              " w. malaysia                                   1\n",
              " united kindgdom                               1\n",
              " la chine éternelle!                           1\n",
              " ferrara                                       1\n",
              "Name: Location, Length: 709, dtype: int64"
            ]
          },
          "metadata": {},
          "execution_count": 18
        }
      ]
    },
    {
      "cell_type": "code",
      "metadata": {
        "colab": {
          "base_uri": "https://localhost:8080/"
        },
        "id": "KY4BgmypCfn1",
        "outputId": "52444eda-3b37-4601-9bb0-299145865257"
      },
      "source": [
        "countries = users['Location'].apply(lambda x: x.split(',')[-1].strip('\\\"')).value_counts()\n",
        "countries "
      ],
      "execution_count": 20,
      "outputs": [
        {
          "output_type": "execute_result",
          "data": {
            "text/plain": [
              " usa                                      139712\n",
              " canada                                    21658\n",
              " united kingdom                            18556\n",
              " germany                                   17073\n",
              " spain                                     13258\n",
              "                                           ...  \n",
              " the philippines                               1\n",
              " slovak republik                               1\n",
              " w. malaysia                                   1\n",
              " fredonia - land of the brave and free         1\n",
              " st. clair                                     1\n",
              "Name: Location, Length: 631, dtype: int64"
            ]
          },
          "metadata": {},
          "execution_count": 20
        }
      ]
    }
  ]
}