{
  "nbformat": 4,
  "nbformat_minor": 0,
  "metadata": {
    "colab": {
      "name": "data_preprocessing.ipynb",
      "provenance": [],
      "authorship_tag": "ABX9TyP9Y9VdWgYHzFhaXx0c3KN0"
    },
    "kernelspec": {
      "name": "python3",
      "display_name": "Python 3"
    },
    "language_info": {
      "name": "python"
    }
  },
  "cells": [
    {
      "cell_type": "markdown",
      "metadata": {
        "id": "aNQciJYLbJX2"
      },
      "source": [
        "Preprocessing of the [Book-Crossing Dataset](http://www2.informatik.uni-freiburg.de/~cziegler/BX/). Rational for some steps comes from [dataset exploration](https://github.com/katarinagresova/MLprojects/blob/main/BookRecommendations/playground.ipynb) notebok."
      ]
    },
    {
      "cell_type": "markdown",
      "metadata": {
        "id": "HaZLN5w-_1RT"
      },
      "source": [
        "# Notes\n",
        "\n",
        "- it could be interesting to add feature *language* to books - there are many different languages in dataset"
      ]
    },
    {
      "cell_type": "markdown",
      "metadata": {
        "id": "Lm7ZSXLHb8j8"
      },
      "source": [
        "# Setup"
      ]
    },
    {
      "cell_type": "code",
      "metadata": {
        "colab": {
          "base_uri": "https://localhost:8080/"
        },
        "id": "C3iH5Px5bJFD",
        "outputId": "557e40d3-5df5-49a5-d363-81b10a4b29fa"
      },
      "source": [
        "!wget http://www2.informatik.uni-freiburg.de/~cziegler/BX/BX-CSV-Dump.zip"
      ],
      "execution_count": 45,
      "outputs": [
        {
          "output_type": "stream",
          "name": "stdout",
          "text": [
            "--2021-11-08 15:01:17--  http://www2.informatik.uni-freiburg.de/~cziegler/BX/BX-CSV-Dump.zip\n",
            "Resolving www2.informatik.uni-freiburg.de (www2.informatik.uni-freiburg.de)... 132.230.105.133\n",
            "Connecting to www2.informatik.uni-freiburg.de (www2.informatik.uni-freiburg.de)|132.230.105.133|:80... connected.\n",
            "HTTP request sent, awaiting response... 200 OK\n",
            "Length: 26085508 (25M) [application/zip]\n",
            "Saving to: ‘BX-CSV-Dump.zip.2’\n",
            "\n",
            "BX-CSV-Dump.zip.2   100%[===================>]  24.88M  16.6MB/s    in 1.5s    \n",
            "\n",
            "2021-11-08 15:01:18 (16.6 MB/s) - ‘BX-CSV-Dump.zip.2’ saved [26085508/26085508]\n",
            "\n"
          ]
        }
      ]
    },
    {
      "cell_type": "code",
      "metadata": {
        "colab": {
          "base_uri": "https://localhost:8080/"
        },
        "id": "4cKJPD6BbGqW",
        "outputId": "dd51a1a8-cd02-4721-ceb1-f018bf37b7a1"
      },
      "source": [
        "!unzip BX-CSV-Dump.zip"
      ],
      "execution_count": 46,
      "outputs": [
        {
          "output_type": "stream",
          "name": "stdout",
          "text": [
            "Archive:  BX-CSV-Dump.zip\n",
            "  inflating: BX-Book-Ratings.csv     \n",
            "  inflating: BX-Books.csv            \n",
            "  inflating: BX-Users.csv            \n"
          ]
        }
      ]
    },
    {
      "cell_type": "code",
      "metadata": {
        "colab": {
          "base_uri": "https://localhost:8080/"
        },
        "id": "SsW2TQxwczwe",
        "outputId": "0212d2a0-68ed-4e30-c6a8-87fe3d375df4"
      },
      "source": [
        "!pip install isbnlib"
      ],
      "execution_count": 47,
      "outputs": [
        {
          "output_type": "stream",
          "name": "stdout",
          "text": [
            "Requirement already satisfied: isbnlib in /usr/local/lib/python3.7/dist-packages (3.10.9)\n"
          ]
        }
      ]
    },
    {
      "cell_type": "code",
      "metadata": {
        "id": "cEOXHCBsb-hd"
      },
      "source": [
        "import pandas as pd\n",
        "import isbnlib\n",
        "from tqdm import tqdm\n",
        "import matplotlib.pyplot as plt"
      ],
      "execution_count": 48,
      "outputs": []
    },
    {
      "cell_type": "code",
      "metadata": {
        "id": "m1BOZ6AucPyU"
      },
      "source": [
        "users = pd.read_csv('BX-Users.csv', sep=';', encoding = \"ISO-8859-1\")\n",
        "books = pd.read_csv('BX-Books.csv', sep=';', encoding = \"ISO-8859-1\", escapechar = \"\\\\\")\n",
        "ratings = pd.read_csv('BX-Book-Ratings.csv', sep=';', encoding = \"ISO-8859-1\")"
      ],
      "execution_count": 49,
      "outputs": []
    },
    {
      "cell_type": "markdown",
      "metadata": {
        "id": "kBrVPnkLBk0J"
      },
      "source": [
        "# Books table"
      ]
    },
    {
      "cell_type": "markdown",
      "metadata": {
        "id": "Se5lZ3zDcDlr"
      },
      "source": [
        "## Data cleaning\n",
        "\n",
        "Data cleaning on `books` table is connected to `ratings` table, because ISBN is used as primary key,"
      ]
    },
    {
      "cell_type": "markdown",
      "metadata": {
        "id": "zkYpjaySnpbt"
      },
      "source": [
        "### Useless columns\n",
        "\n",
        "Let's look at columns if there are some useful information."
      ]
    },
    {
      "cell_type": "code",
      "metadata": {
        "colab": {
          "base_uri": "https://localhost:8080/",
          "height": 428
        },
        "id": "eeX1VZOZntwZ",
        "outputId": "4fb32540-04d4-413e-a866-156502789876"
      },
      "source": [
        "books.head()"
      ],
      "execution_count": 50,
      "outputs": [
        {
          "output_type": "execute_result",
          "data": {
            "text/html": [
              "<div>\n",
              "<style scoped>\n",
              "    .dataframe tbody tr th:only-of-type {\n",
              "        vertical-align: middle;\n",
              "    }\n",
              "\n",
              "    .dataframe tbody tr th {\n",
              "        vertical-align: top;\n",
              "    }\n",
              "\n",
              "    .dataframe thead th {\n",
              "        text-align: right;\n",
              "    }\n",
              "</style>\n",
              "<table border=\"1\" class=\"dataframe\">\n",
              "  <thead>\n",
              "    <tr style=\"text-align: right;\">\n",
              "      <th></th>\n",
              "      <th>ISBN</th>\n",
              "      <th>Book-Title</th>\n",
              "      <th>Book-Author</th>\n",
              "      <th>Year-Of-Publication</th>\n",
              "      <th>Publisher</th>\n",
              "      <th>Image-URL-S</th>\n",
              "      <th>Image-URL-M</th>\n",
              "      <th>Image-URL-L</th>\n",
              "    </tr>\n",
              "  </thead>\n",
              "  <tbody>\n",
              "    <tr>\n",
              "      <th>0</th>\n",
              "      <td>0195153448</td>\n",
              "      <td>Classical Mythology</td>\n",
              "      <td>Mark P. O. Morford</td>\n",
              "      <td>2002</td>\n",
              "      <td>Oxford University Press</td>\n",
              "      <td>http://images.amazon.com/images/P/0195153448.0...</td>\n",
              "      <td>http://images.amazon.com/images/P/0195153448.0...</td>\n",
              "      <td>http://images.amazon.com/images/P/0195153448.0...</td>\n",
              "    </tr>\n",
              "    <tr>\n",
              "      <th>1</th>\n",
              "      <td>0002005018</td>\n",
              "      <td>Clara Callan</td>\n",
              "      <td>Richard Bruce Wright</td>\n",
              "      <td>2001</td>\n",
              "      <td>HarperFlamingo Canada</td>\n",
              "      <td>http://images.amazon.com/images/P/0002005018.0...</td>\n",
              "      <td>http://images.amazon.com/images/P/0002005018.0...</td>\n",
              "      <td>http://images.amazon.com/images/P/0002005018.0...</td>\n",
              "    </tr>\n",
              "    <tr>\n",
              "      <th>2</th>\n",
              "      <td>0060973129</td>\n",
              "      <td>Decision in Normandy</td>\n",
              "      <td>Carlo D'Este</td>\n",
              "      <td>1991</td>\n",
              "      <td>HarperPerennial</td>\n",
              "      <td>http://images.amazon.com/images/P/0060973129.0...</td>\n",
              "      <td>http://images.amazon.com/images/P/0060973129.0...</td>\n",
              "      <td>http://images.amazon.com/images/P/0060973129.0...</td>\n",
              "    </tr>\n",
              "    <tr>\n",
              "      <th>3</th>\n",
              "      <td>0374157065</td>\n",
              "      <td>Flu: The Story of the Great Influenza Pandemic...</td>\n",
              "      <td>Gina Bari Kolata</td>\n",
              "      <td>1999</td>\n",
              "      <td>Farrar Straus Giroux</td>\n",
              "      <td>http://images.amazon.com/images/P/0374157065.0...</td>\n",
              "      <td>http://images.amazon.com/images/P/0374157065.0...</td>\n",
              "      <td>http://images.amazon.com/images/P/0374157065.0...</td>\n",
              "    </tr>\n",
              "    <tr>\n",
              "      <th>4</th>\n",
              "      <td>0393045218</td>\n",
              "      <td>The Mummies of Urumchi</td>\n",
              "      <td>E. J. W. Barber</td>\n",
              "      <td>1999</td>\n",
              "      <td>W. W. Norton &amp;amp; Company</td>\n",
              "      <td>http://images.amazon.com/images/P/0393045218.0...</td>\n",
              "      <td>http://images.amazon.com/images/P/0393045218.0...</td>\n",
              "      <td>http://images.amazon.com/images/P/0393045218.0...</td>\n",
              "    </tr>\n",
              "  </tbody>\n",
              "</table>\n",
              "</div>"
            ],
            "text/plain": [
              "         ISBN  ...                                        Image-URL-L\n",
              "0  0195153448  ...  http://images.amazon.com/images/P/0195153448.0...\n",
              "1  0002005018  ...  http://images.amazon.com/images/P/0002005018.0...\n",
              "2  0060973129  ...  http://images.amazon.com/images/P/0060973129.0...\n",
              "3  0374157065  ...  http://images.amazon.com/images/P/0374157065.0...\n",
              "4  0393045218  ...  http://images.amazon.com/images/P/0393045218.0...\n",
              "\n",
              "[5 rows x 8 columns]"
            ]
          },
          "metadata": {},
          "execution_count": 50
        }
      ]
    },
    {
      "cell_type": "markdown",
      "metadata": {
        "id": "p5NN-JJ2x13l"
      },
      "source": [
        "We might use image in final application to show a preview of sugested books to a user. Or we could use it in multi-modal model as one of input for computing similarity between books. But for now, we will not need it, since we will do just simple proof-of-concept recommendation system."
      ]
    },
    {
      "cell_type": "code",
      "metadata": {
        "id": "C8j7JGJSnwWY"
      },
      "source": [
        "books = books.drop(columns=['Image-URL-S', 'Image-URL-M', 'Image-URL-L'])"
      ],
      "execution_count": 51,
      "outputs": []
    },
    {
      "cell_type": "code",
      "metadata": {
        "colab": {
          "base_uri": "https://localhost:8080/",
          "height": 204
        },
        "id": "UVP_gCs9n-0D",
        "outputId": "4d4bfe91-301b-4f2e-94d1-c286ca2e1b41"
      },
      "source": [
        "books.head()"
      ],
      "execution_count": 52,
      "outputs": [
        {
          "output_type": "execute_result",
          "data": {
            "text/html": [
              "<div>\n",
              "<style scoped>\n",
              "    .dataframe tbody tr th:only-of-type {\n",
              "        vertical-align: middle;\n",
              "    }\n",
              "\n",
              "    .dataframe tbody tr th {\n",
              "        vertical-align: top;\n",
              "    }\n",
              "\n",
              "    .dataframe thead th {\n",
              "        text-align: right;\n",
              "    }\n",
              "</style>\n",
              "<table border=\"1\" class=\"dataframe\">\n",
              "  <thead>\n",
              "    <tr style=\"text-align: right;\">\n",
              "      <th></th>\n",
              "      <th>ISBN</th>\n",
              "      <th>Book-Title</th>\n",
              "      <th>Book-Author</th>\n",
              "      <th>Year-Of-Publication</th>\n",
              "      <th>Publisher</th>\n",
              "    </tr>\n",
              "  </thead>\n",
              "  <tbody>\n",
              "    <tr>\n",
              "      <th>0</th>\n",
              "      <td>0195153448</td>\n",
              "      <td>Classical Mythology</td>\n",
              "      <td>Mark P. O. Morford</td>\n",
              "      <td>2002</td>\n",
              "      <td>Oxford University Press</td>\n",
              "    </tr>\n",
              "    <tr>\n",
              "      <th>1</th>\n",
              "      <td>0002005018</td>\n",
              "      <td>Clara Callan</td>\n",
              "      <td>Richard Bruce Wright</td>\n",
              "      <td>2001</td>\n",
              "      <td>HarperFlamingo Canada</td>\n",
              "    </tr>\n",
              "    <tr>\n",
              "      <th>2</th>\n",
              "      <td>0060973129</td>\n",
              "      <td>Decision in Normandy</td>\n",
              "      <td>Carlo D'Este</td>\n",
              "      <td>1991</td>\n",
              "      <td>HarperPerennial</td>\n",
              "    </tr>\n",
              "    <tr>\n",
              "      <th>3</th>\n",
              "      <td>0374157065</td>\n",
              "      <td>Flu: The Story of the Great Influenza Pandemic...</td>\n",
              "      <td>Gina Bari Kolata</td>\n",
              "      <td>1999</td>\n",
              "      <td>Farrar Straus Giroux</td>\n",
              "    </tr>\n",
              "    <tr>\n",
              "      <th>4</th>\n",
              "      <td>0393045218</td>\n",
              "      <td>The Mummies of Urumchi</td>\n",
              "      <td>E. J. W. Barber</td>\n",
              "      <td>1999</td>\n",
              "      <td>W. W. Norton &amp;amp; Company</td>\n",
              "    </tr>\n",
              "  </tbody>\n",
              "</table>\n",
              "</div>"
            ],
            "text/plain": [
              "         ISBN  ...                   Publisher\n",
              "0  0195153448  ...     Oxford University Press\n",
              "1  0002005018  ...       HarperFlamingo Canada\n",
              "2  0060973129  ...             HarperPerennial\n",
              "3  0374157065  ...        Farrar Straus Giroux\n",
              "4  0393045218  ...  W. W. Norton &amp; Company\n",
              "\n",
              "[5 rows x 5 columns]"
            ]
          },
          "metadata": {},
          "execution_count": 52
        }
      ]
    },
    {
      "cell_type": "markdown",
      "metadata": {
        "id": "suFSAa7GcMV6"
      },
      "source": [
        "### Transforming ISBN to cannonical form\n",
        "\n",
        "I found this nice python package called [isbnlib](https://github.com/xlcnd/isbnlib) that can be used to validate, clean, transform, hyphenate and get metadata for ISBN strings.\n",
        "\n",
        "Reasons for bothering with ISBN numbers:\n",
        "- transform ISBN numbers into standard form to prevent duplicate entries\n",
        "- use ISBN as unique and valid identificator of a book, so we could connect it with other resources where books are identified by ISBN number.\n"
      ]
    },
    {
      "cell_type": "code",
      "metadata": {
        "colab": {
          "base_uri": "https://localhost:8080/"
        },
        "id": "u07JXzCVeFjG",
        "outputId": "be7851ee-96aa-4854-ebc3-0717891a6e6a"
      },
      "source": [
        "books_count = len(books)\n",
        "ratings_count = len(ratings)\n",
        "unique_books = len(books['ISBN'].unique())\n",
        "unique_ratings = len(ratings['ISBN'].unique())\n",
        "\n",
        "print(\"Books count: \", books_count)\n",
        "print(\"Books count in ratings: \", ratings_count)\n",
        "print(\"Unique books count: \", unique_books)\n",
        "print(\"Unique books in ratings: \", unique_ratings)"
      ],
      "execution_count": 53,
      "outputs": [
        {
          "output_type": "stream",
          "name": "stdout",
          "text": [
            "Books count:  271379\n",
            "Books count in ratings:  1149780\n",
            "Unique books count:  271379\n",
            "Unique books in ratings:  340556\n"
          ]
        }
      ]
    },
    {
      "cell_type": "code",
      "metadata": {
        "id": "yt0N2AmZeLWI"
      },
      "source": [
        "books['ISBN'] = books['ISBN'].apply(lambda x: isbnlib.canonical(isbnlib.clean(x)))\n",
        "ratings['ISBN'] = ratings['ISBN'].apply(lambda x: isbnlib.canonical(isbnlib.clean(x)))"
      ],
      "execution_count": 54,
      "outputs": []
    },
    {
      "cell_type": "code",
      "metadata": {
        "colab": {
          "base_uri": "https://localhost:8080/"
        },
        "id": "jZ5dl8gveZx3",
        "outputId": "d0409cb9-ebe0-446b-9245-a639b11fbc62"
      },
      "source": [
        "print(\"Removed books: \", books_count - len(books))\n",
        "print(\"Removed books in ratings: \", ratings_count - len(ratings))\n",
        "print(\"Removed unique books: \", unique_books - len(books['ISBN'].unique()))\n",
        "print(\"Removed unique books in ratings: \", unique_ratings - len(ratings['ISBN'].unique()))\n",
        "\n",
        "books_count = len(books)\n",
        "ratings_count = len(ratings)\n",
        "unique_books = len(books['ISBN'].unique())\n",
        "unique_ratings = len(ratings['ISBN'].unique())"
      ],
      "execution_count": 55,
      "outputs": [
        {
          "output_type": "stream",
          "name": "stdout",
          "text": [
            "Removed books:  0\n",
            "Removed books in ratings:  0\n",
            "Removed unique books:  431\n",
            "Removed unique books in ratings:  8134\n"
          ]
        }
      ]
    },
    {
      "cell_type": "markdown",
      "metadata": {
        "id": "aj0wguyw0Teq"
      },
      "source": [
        "As we can see, after trasforming to cannonical form, we have less unique ISBN numbers."
      ]
    },
    {
      "cell_type": "markdown",
      "metadata": {
        "id": "H1wgsZHyemao"
      },
      "source": [
        "### Removing invalid ISBN"
      ]
    },
    {
      "cell_type": "code",
      "metadata": {
        "colab": {
          "base_uri": "https://localhost:8080/"
        },
        "id": "6dSjC_DAclT8",
        "outputId": "ae502fa6-44d5-4b8a-c56a-6d9ee8cf1d53"
      },
      "source": [
        "invalid_ISBN = {\n",
        "                *set(books['ISBN'][books['ISBN'].apply(lambda x: (not isbnlib.is_isbn10(x)) and (not isbnlib.is_isbn13(x)))]),\n",
        "                *set(ratings['ISBN'][ratings['ISBN'].apply(lambda x: (not isbnlib.is_isbn10(x)) and (not isbnlib.is_isbn13(x)))])\n",
        "}\n",
        "print(len(invalid_ISBN))\n",
        "print(list(invalid_ISBN)[:10])"
      ],
      "execution_count": 56,
      "outputs": [
        {
          "output_type": "stream",
          "name": "stdout",
          "text": [
            "4045\n",
            "['', '3442069515', '1569872735', '0570640734', '0196408050', '3765244964', '3499233956', '0440111811495', '0550370898', '0747438891']\n"
          ]
        }
      ]
    },
    {
      "cell_type": "markdown",
      "metadata": {
        "id": "CSIhHwMfgIib"
      },
      "source": [
        "Empty ISBN is result of trying to transform ASIN (Amazon ID) to correct ISBN numbers. There we few ASIN numbers in original data and there is no straightforward way how to transform them to ISBN (except for mining Amazon websites).\n",
        "\n",
        "Some of invalid ISBN could be manualy fixed - there are typos.\n"
      ]
    },
    {
      "cell_type": "code",
      "metadata": {
        "colab": {
          "base_uri": "https://localhost:8080/"
        },
        "id": "qhs2r0H_daiQ",
        "outputId": "8a746a75-027f-4743-edcf-6be4ab68fd2e"
      },
      "source": [
        "books['ISBN'].apply(lambda x: x in invalid_ISBN).value_counts()"
      ],
      "execution_count": 57,
      "outputs": [
        {
          "output_type": "execute_result",
          "data": {
            "text/plain": [
              "False    271262\n",
              "True        117\n",
              "Name: ISBN, dtype: int64"
            ]
          },
          "metadata": {},
          "execution_count": 57
        }
      ]
    },
    {
      "cell_type": "code",
      "metadata": {
        "id": "4YX6yNJygev4"
      },
      "source": [
        "books = books[books['ISBN'].apply(lambda x: x not in invalid_ISBN)]\n",
        "ratings = ratings[ratings['ISBN'].apply(lambda x: x not in invalid_ISBN)]"
      ],
      "execution_count": 58,
      "outputs": []
    },
    {
      "cell_type": "code",
      "metadata": {
        "colab": {
          "base_uri": "https://localhost:8080/"
        },
        "id": "6eObn1qpc9Wd",
        "outputId": "72dea9b5-f64e-4f90-ca86-359914edcc0a"
      },
      "source": [
        "print(\"Removed books: \", books_count - len(books))\n",
        "print(\"Removed books in ratings: \", ratings_count - len(ratings))\n",
        "print(\"Removed unique books: \", unique_books - len(books['ISBN'].unique()))\n",
        "print(\"Removed unique books in ratings: \", unique_ratings - len(ratings['ISBN'].unique()))\n",
        "\n",
        "books_count = len(books)\n",
        "ratings_count = len(ratings)\n",
        "unique_books = len(books['ISBN'].unique())\n",
        "unique_ratings = len(ratings['ISBN'].unique())"
      ],
      "execution_count": 59,
      "outputs": [
        {
          "output_type": "stream",
          "name": "stdout",
          "text": [
            "Removed books:  117\n",
            "Removed books in ratings:  14593\n",
            "Removed unique books:  1\n",
            "Removed unique books in ratings:  4045\n"
          ]
        }
      ]
    },
    {
      "cell_type": "markdown",
      "metadata": {
        "id": "cs2yq_l7hRHg"
      },
      "source": [
        "### Deduplicating\n",
        "\n",
        "- for books: drop duplicates\n",
        "- for ratings: duplicates have been merged by transforming to cannonical forms"
      ]
    },
    {
      "cell_type": "code",
      "metadata": {
        "id": "wQnrqRSkiY-t"
      },
      "source": [
        "books = books.drop_duplicates(subset='ISBN')"
      ],
      "execution_count": 60,
      "outputs": []
    },
    {
      "cell_type": "code",
      "metadata": {
        "colab": {
          "base_uri": "https://localhost:8080/"
        },
        "id": "rb21_vpWiiay",
        "outputId": "6349757d-a29e-47fc-c11f-9693489d09ac"
      },
      "source": [
        "print(\"Removed books: \", books_count - len(books))\n",
        "print(\"Removed books in ratings: \", ratings_count - len(ratings))\n",
        "print(\"Removed unique books: \", unique_books - len(books['ISBN'].unique()))\n",
        "print(\"Removed unique books in ratings: \", unique_ratings - len(ratings['ISBN'].unique()))\n",
        "\n",
        "books_count = len(books)\n",
        "ratings_count = len(ratings)\n",
        "unique_books = len(books['ISBN'].unique())\n",
        "unique_ratings = len(ratings['ISBN'].unique())"
      ],
      "execution_count": 61,
      "outputs": [
        {
          "output_type": "stream",
          "name": "stdout",
          "text": [
            "Removed books:  315\n",
            "Removed books in ratings:  0\n",
            "Removed unique books:  0\n",
            "Removed unique books in ratings:  0\n"
          ]
        }
      ]
    },
    {
      "cell_type": "markdown",
      "metadata": {
        "id": "1ky_jsMemwzj"
      },
      "source": [
        "## Data completing"
      ]
    },
    {
      "cell_type": "markdown",
      "metadata": {
        "id": "_dO-T11im7Mh"
      },
      "source": [
        "### Missing books records"
      ]
    },
    {
      "cell_type": "code",
      "metadata": {
        "colab": {
          "base_uri": "https://localhost:8080/"
        },
        "id": "QPej9Jm3mujU",
        "outputId": "aee8c1f2-2f4a-4435-e610-f60de5d68fb9"
      },
      "source": [
        "ratings['ISBN'][~ratings['ISBN'].isin(books['ISBN'])]"
      ],
      "execution_count": 62,
      "outputs": [
        {
          "output_type": "execute_result",
          "data": {
            "text/plain": [
              "6          3257224281\n",
              "7          0600570967\n",
              "25         3442437407\n",
              "26         033390804X\n",
              "30         8440682697\n",
              "              ...    \n",
              "1149442    0330337297\n",
              "1149444    0747252327\n",
              "1149446    8804413530\n",
              "1149581    0679781587\n",
              "1149758    8445072897\n",
              "Name: ISBN, Length: 103780, dtype: object"
            ]
          },
          "metadata": {},
          "execution_count": 62
        }
      ]
    },
    {
      "cell_type": "markdown",
      "metadata": {
        "id": "9Ryf4EA_7Jxj"
      },
      "source": [
        "We have ratings for 103 780 books that are not in *books* dataset. I created following function for looking up book metadata via `isbnlib` package. But it is not supporting batch request so it would take more then 30h to run."
      ]
    },
    {
      "cell_type": "code",
      "metadata": {
        "id": "pCfQQXiCnFXU"
      },
      "source": [
        "def find_lost_books():\n",
        "\n",
        "  new_books = []\n",
        "  not_found = []\n",
        "  for missing_isbn in tqdm(ratings['ISBN'][~ratings['ISBN'].isin(books['ISBN'])]):\n",
        "\n",
        "    try:\n",
        "      book = isbnlib.meta(missing_isbn, service='goob')\n",
        "    except:\n",
        "      try: \n",
        "        book = isbnlib.meta(missing_isbn, service='wiki')\n",
        "      except:\n",
        "        not_found.append(missing_isbn)\n",
        "        continue\n",
        "\n",
        "    if not book:\n",
        "      not_found.append(missing_isbn)\n",
        "      continue\n",
        "    isbn_id = 'ISBN-13' if 'ISBN-13' in book.keys() else 'ISBN-10'\n",
        "    new_books.append([\n",
        "        book[isbn_id],\n",
        "        book['Title'],\n",
        "        book['Authors'][0],\n",
        "        book['Year'],\n",
        "        book['Publisher']\n",
        "    ])\n",
        "    \n",
        "  return new_books, not_found"
      ],
      "execution_count": 24,
      "outputs": []
    },
    {
      "cell_type": "code",
      "metadata": {
        "id": "ZJUYMLziuaDp"
      },
      "source": [
        "# do this if you have more then 30 hours\n",
        "#new_books, not_found = find_lost_books()\n",
        "#books.append(pd.DataFrame(new_books, columns=books.columns))\n",
        "#print(not_found)"
      ],
      "execution_count": 25,
      "outputs": []
    },
    {
      "cell_type": "code",
      "metadata": {
        "id": "qAD_-24p6aCE"
      },
      "source": [
        "# for now, just drop rating without record in books\n",
        "ratings = ratings[ratings['ISBN'].isin(books['ISBN'])]"
      ],
      "execution_count": 63,
      "outputs": []
    },
    {
      "cell_type": "code",
      "metadata": {
        "colab": {
          "base_uri": "https://localhost:8080/"
        },
        "id": "O-_7ybMs6z8C",
        "outputId": "5fe29408-f193-49d3-e9b3-389d0a2380db"
      },
      "source": [
        "print(\"Removed books: \", books_count - len(books))\n",
        "print(\"Removed books in ratings: \", ratings_count - len(ratings))\n",
        "print(\"Removed unique books: \", unique_books - len(books['ISBN'].unique()))\n",
        "print(\"Removed unique books in ratings: \", unique_ratings - len(ratings['ISBN'].unique()))\n",
        "\n",
        "books_count = len(books)\n",
        "ratings_count = len(ratings)\n",
        "unique_books = len(books['ISBN'].unique())\n",
        "unique_ratings = len(ratings['ISBN'].unique())"
      ],
      "execution_count": 64,
      "outputs": [
        {
          "output_type": "stream",
          "name": "stdout",
          "text": [
            "Removed books:  0\n",
            "Removed books in ratings:  103780\n",
            "Removed unique books:  0\n",
            "Removed unique books in ratings:  58630\n"
          ]
        }
      ]
    },
    {
      "cell_type": "markdown",
      "metadata": {
        "id": "LTCHP2qXxBA7"
      },
      "source": [
        "### Missing book metadata"
      ]
    },
    {
      "cell_type": "code",
      "metadata": {
        "colab": {
          "base_uri": "https://localhost:8080/"
        },
        "id": "RsNaaKMIxAvy",
        "outputId": "4cbce233-c52e-40b3-e677-8637d6224d47"
      },
      "source": [
        "books.info()"
      ],
      "execution_count": 65,
      "outputs": [
        {
          "output_type": "stream",
          "name": "stdout",
          "text": [
            "<class 'pandas.core.frame.DataFrame'>\n",
            "Int64Index: 270947 entries, 0 to 271378\n",
            "Data columns (total 5 columns):\n",
            " #   Column               Non-Null Count   Dtype \n",
            "---  ------               --------------   ----- \n",
            " 0   ISBN                 270947 non-null  object\n",
            " 1   Book-Title           270947 non-null  object\n",
            " 2   Book-Author          270946 non-null  object\n",
            " 3   Year-Of-Publication  270947 non-null  int64 \n",
            " 4   Publisher            270945 non-null  object\n",
            "dtypes: int64(1), object(4)\n",
            "memory usage: 12.4+ MB\n"
          ]
        }
      ]
    },
    {
      "cell_type": "markdown",
      "metadata": {
        "id": "GFDEKq4D8glp"
      },
      "source": [
        "There is one record with missing author, so we might try to look it up by hand."
      ]
    },
    {
      "cell_type": "code",
      "metadata": {
        "colab": {
          "base_uri": "https://localhost:8080/",
          "height": 80
        },
        "id": "76uMXMoh8mHp",
        "outputId": "9bfe78b2-11ca-4768-9a0b-63ee755be860"
      },
      "source": [
        "books[books['Book-Author'].isnull()]"
      ],
      "execution_count": 66,
      "outputs": [
        {
          "output_type": "execute_result",
          "data": {
            "text/html": [
              "<div>\n",
              "<style scoped>\n",
              "    .dataframe tbody tr th:only-of-type {\n",
              "        vertical-align: middle;\n",
              "    }\n",
              "\n",
              "    .dataframe tbody tr th {\n",
              "        vertical-align: top;\n",
              "    }\n",
              "\n",
              "    .dataframe thead th {\n",
              "        text-align: right;\n",
              "    }\n",
              "</style>\n",
              "<table border=\"1\" class=\"dataframe\">\n",
              "  <thead>\n",
              "    <tr style=\"text-align: right;\">\n",
              "      <th></th>\n",
              "      <th>ISBN</th>\n",
              "      <th>Book-Title</th>\n",
              "      <th>Book-Author</th>\n",
              "      <th>Year-Of-Publication</th>\n",
              "      <th>Publisher</th>\n",
              "    </tr>\n",
              "  </thead>\n",
              "  <tbody>\n",
              "    <tr>\n",
              "      <th>187700</th>\n",
              "      <td>9627982032</td>\n",
              "      <td>The Credit Suisse Guide to Managing Your Perso...</td>\n",
              "      <td>NaN</td>\n",
              "      <td>1995</td>\n",
              "      <td>Edinburgh Financial Publishing</td>\n",
              "    </tr>\n",
              "  </tbody>\n",
              "</table>\n",
              "</div>"
            ],
            "text/plain": [
              "              ISBN  ...                       Publisher\n",
              "187700  9627982032  ...  Edinburgh Financial Publishing\n",
              "\n",
              "[1 rows x 5 columns]"
            ]
          },
          "metadata": {},
          "execution_count": 66
        }
      ]
    },
    {
      "cell_type": "code",
      "metadata": {
        "colab": {
          "base_uri": "https://localhost:8080/"
        },
        "id": "umFg_wYh9EMn",
        "outputId": "1183b7f2-a7db-4a33-f8c5-b76560651530"
      },
      "source": [
        "isbnlib.meta('9627982032', service='wiki')"
      ],
      "execution_count": 67,
      "outputs": [
        {
          "output_type": "execute_result",
          "data": {
            "text/plain": [
              "{'Authors': ['Larissa Downes', 'Crédit suisse'],\n",
              " 'ISBN-13': '9789627982036',\n",
              " 'Language': '',\n",
              " 'Publisher': 'Edinburgh Financial Pub. (Asia)',\n",
              " 'Title': 'The Credit Suisse guide to managing your personal wealth',\n",
              " 'Year': '1995'}"
            ]
          },
          "metadata": {},
          "execution_count": 67
        }
      ]
    },
    {
      "cell_type": "code",
      "metadata": {
        "id": "Lg-L5LtD-g_Y"
      },
      "source": [
        "books['Book-Author'][187700] = 'Larissa Downes'"
      ],
      "execution_count": 68,
      "outputs": []
    },
    {
      "cell_type": "code",
      "metadata": {
        "colab": {
          "base_uri": "https://localhost:8080/",
          "height": 49
        },
        "id": "oWfPkAhJ-sAg",
        "outputId": "2e9812dd-7a81-43c3-8562-5787f2f77513"
      },
      "source": [
        "books[books['Book-Author'].isnull()]"
      ],
      "execution_count": 69,
      "outputs": [
        {
          "output_type": "execute_result",
          "data": {
            "text/html": [
              "<div>\n",
              "<style scoped>\n",
              "    .dataframe tbody tr th:only-of-type {\n",
              "        vertical-align: middle;\n",
              "    }\n",
              "\n",
              "    .dataframe tbody tr th {\n",
              "        vertical-align: top;\n",
              "    }\n",
              "\n",
              "    .dataframe thead th {\n",
              "        text-align: right;\n",
              "    }\n",
              "</style>\n",
              "<table border=\"1\" class=\"dataframe\">\n",
              "  <thead>\n",
              "    <tr style=\"text-align: right;\">\n",
              "      <th></th>\n",
              "      <th>ISBN</th>\n",
              "      <th>Book-Title</th>\n",
              "      <th>Book-Author</th>\n",
              "      <th>Year-Of-Publication</th>\n",
              "      <th>Publisher</th>\n",
              "    </tr>\n",
              "  </thead>\n",
              "  <tbody>\n",
              "  </tbody>\n",
              "</table>\n",
              "</div>"
            ],
            "text/plain": [
              "Empty DataFrame\n",
              "Columns: [ISBN, Book-Title, Book-Author, Year-Of-Publication, Publisher]\n",
              "Index: []"
            ]
          },
          "metadata": {},
          "execution_count": 69
        }
      ]
    },
    {
      "cell_type": "code",
      "metadata": {
        "colab": {
          "base_uri": "https://localhost:8080/",
          "height": 297
        },
        "id": "KruywYpwxIbM",
        "outputId": "a9a8d888-1016-4135-f734-3ca835abb14d"
      },
      "source": [
        "books.describe()"
      ],
      "execution_count": 70,
      "outputs": [
        {
          "output_type": "execute_result",
          "data": {
            "text/html": [
              "<div>\n",
              "<style scoped>\n",
              "    .dataframe tbody tr th:only-of-type {\n",
              "        vertical-align: middle;\n",
              "    }\n",
              "\n",
              "    .dataframe tbody tr th {\n",
              "        vertical-align: top;\n",
              "    }\n",
              "\n",
              "    .dataframe thead th {\n",
              "        text-align: right;\n",
              "    }\n",
              "</style>\n",
              "<table border=\"1\" class=\"dataframe\">\n",
              "  <thead>\n",
              "    <tr style=\"text-align: right;\">\n",
              "      <th></th>\n",
              "      <th>Year-Of-Publication</th>\n",
              "    </tr>\n",
              "  </thead>\n",
              "  <tbody>\n",
              "    <tr>\n",
              "      <th>count</th>\n",
              "      <td>270947.000000</td>\n",
              "    </tr>\n",
              "    <tr>\n",
              "      <th>mean</th>\n",
              "      <td>1960.156222</td>\n",
              "    </tr>\n",
              "    <tr>\n",
              "      <th>std</th>\n",
              "      <td>256.505655</td>\n",
              "    </tr>\n",
              "    <tr>\n",
              "      <th>min</th>\n",
              "      <td>0.000000</td>\n",
              "    </tr>\n",
              "    <tr>\n",
              "      <th>25%</th>\n",
              "      <td>1989.000000</td>\n",
              "    </tr>\n",
              "    <tr>\n",
              "      <th>50%</th>\n",
              "      <td>1995.000000</td>\n",
              "    </tr>\n",
              "    <tr>\n",
              "      <th>75%</th>\n",
              "      <td>2000.000000</td>\n",
              "    </tr>\n",
              "    <tr>\n",
              "      <th>max</th>\n",
              "      <td>2050.000000</td>\n",
              "    </tr>\n",
              "  </tbody>\n",
              "</table>\n",
              "</div>"
            ],
            "text/plain": [
              "       Year-Of-Publication\n",
              "count        270947.000000\n",
              "mean           1960.156222\n",
              "std             256.505655\n",
              "min               0.000000\n",
              "25%            1989.000000\n",
              "50%            1995.000000\n",
              "75%            2000.000000\n",
              "max            2050.000000"
            ]
          },
          "metadata": {},
          "execution_count": 70
        }
      ]
    },
    {
      "cell_type": "code",
      "metadata": {
        "colab": {
          "base_uri": "https://localhost:8080/",
          "height": 419
        },
        "id": "OFno1k6i_XyK",
        "outputId": "9b5a9793-eb2e-4003-9b96-9a50add9200c"
      },
      "source": [
        "books[books['Year-Of-Publication'].apply(lambda x: x < 1900 or x > 2010)]"
      ],
      "execution_count": 71,
      "outputs": [
        {
          "output_type": "execute_result",
          "data": {
            "text/html": [
              "<div>\n",
              "<style scoped>\n",
              "    .dataframe tbody tr th:only-of-type {\n",
              "        vertical-align: middle;\n",
              "    }\n",
              "\n",
              "    .dataframe tbody tr th {\n",
              "        vertical-align: top;\n",
              "    }\n",
              "\n",
              "    .dataframe thead th {\n",
              "        text-align: right;\n",
              "    }\n",
              "</style>\n",
              "<table border=\"1\" class=\"dataframe\">\n",
              "  <thead>\n",
              "    <tr style=\"text-align: right;\">\n",
              "      <th></th>\n",
              "      <th>ISBN</th>\n",
              "      <th>Book-Title</th>\n",
              "      <th>Book-Author</th>\n",
              "      <th>Year-Of-Publication</th>\n",
              "      <th>Publisher</th>\n",
              "    </tr>\n",
              "  </thead>\n",
              "  <tbody>\n",
              "    <tr>\n",
              "      <th>176</th>\n",
              "      <td>3150000335</td>\n",
              "      <td>Kabale Und Liebe</td>\n",
              "      <td>Schiller</td>\n",
              "      <td>0</td>\n",
              "      <td>Philipp Reclam, Jun Verlag GmbH</td>\n",
              "    </tr>\n",
              "    <tr>\n",
              "      <th>188</th>\n",
              "      <td>342311360X</td>\n",
              "      <td>Die Liebe in Den Zelten</td>\n",
              "      <td>Gabriel Garcia Marquez</td>\n",
              "      <td>0</td>\n",
              "      <td>Deutscher Taschenbuch Verlag (DTV)</td>\n",
              "    </tr>\n",
              "    <tr>\n",
              "      <th>288</th>\n",
              "      <td>0571197639</td>\n",
              "      <td>Poisonwood Bible Edition Uk</td>\n",
              "      <td>Barbara Kingsolver</td>\n",
              "      <td>0</td>\n",
              "      <td>Faber Faber Inc</td>\n",
              "    </tr>\n",
              "    <tr>\n",
              "      <th>351</th>\n",
              "      <td>3596214629</td>\n",
              "      <td>Herr Der Fliegen (Fiction, Poetry and Drama)</td>\n",
              "      <td>Golding</td>\n",
              "      <td>0</td>\n",
              "      <td>Fischer Taschenbuch Verlag GmbH</td>\n",
              "    </tr>\n",
              "    <tr>\n",
              "      <th>542</th>\n",
              "      <td>8845229041</td>\n",
              "      <td>Biblioteca Universale Rizzoli: Sulla Sponda De...</td>\n",
              "      <td>P Coelho</td>\n",
              "      <td>0</td>\n",
              "      <td>Fabbri - RCS Libri</td>\n",
              "    </tr>\n",
              "    <tr>\n",
              "      <th>...</th>\n",
              "      <td>...</td>\n",
              "      <td>...</td>\n",
              "      <td>...</td>\n",
              "      <td>...</td>\n",
              "      <td>...</td>\n",
              "    </tr>\n",
              "    <tr>\n",
              "      <th>270813</th>\n",
              "      <td>014029953X</td>\n",
              "      <td>Foe (Essential.penguin S.)</td>\n",
              "      <td>J.M. Coetzee</td>\n",
              "      <td>0</td>\n",
              "      <td>Penguin Books Ltd</td>\n",
              "    </tr>\n",
              "    <tr>\n",
              "      <th>270932</th>\n",
              "      <td>0340571187</td>\n",
              "      <td>Postmens House</td>\n",
              "      <td>Maggie Hemingway</td>\n",
              "      <td>0</td>\n",
              "      <td>Trafalgar Square</td>\n",
              "    </tr>\n",
              "    <tr>\n",
              "      <th>271113</th>\n",
              "      <td>8427201079</td>\n",
              "      <td>El Misterio De Sittaford</td>\n",
              "      <td>Agatha Christie</td>\n",
              "      <td>0</td>\n",
              "      <td>Editorial Molino</td>\n",
              "    </tr>\n",
              "    <tr>\n",
              "      <th>271201</th>\n",
              "      <td>0887781721</td>\n",
              "      <td>Tom Penny</td>\n",
              "      <td>Tony German</td>\n",
              "      <td>0</td>\n",
              "      <td>P. Martin Associates</td>\n",
              "    </tr>\n",
              "    <tr>\n",
              "      <th>271215</th>\n",
              "      <td>3150013763</td>\n",
              "      <td>Der Hofmeister</td>\n",
              "      <td>Jakob Lenz</td>\n",
              "      <td>0</td>\n",
              "      <td>Philipp Reclam, Jun Verlag GmbH</td>\n",
              "    </tr>\n",
              "  </tbody>\n",
              "</table>\n",
              "<p>4581 rows × 5 columns</p>\n",
              "</div>"
            ],
            "text/plain": [
              "              ISBN  ...                           Publisher\n",
              "176     3150000335  ...     Philipp Reclam, Jun Verlag GmbH\n",
              "188     342311360X  ...  Deutscher Taschenbuch Verlag (DTV)\n",
              "288     0571197639  ...                     Faber Faber Inc\n",
              "351     3596214629  ...     Fischer Taschenbuch Verlag GmbH\n",
              "542     8845229041  ...                  Fabbri - RCS Libri\n",
              "...            ...  ...                                 ...\n",
              "270813  014029953X  ...                   Penguin Books Ltd\n",
              "270932  0340571187  ...                    Trafalgar Square\n",
              "271113  8427201079  ...                    Editorial Molino\n",
              "271201  0887781721  ...                P. Martin Associates\n",
              "271215  3150013763  ...     Philipp Reclam, Jun Verlag GmbH\n",
              "\n",
              "[4581 rows x 5 columns]"
            ]
          },
          "metadata": {},
          "execution_count": 71
        }
      ]
    },
    {
      "cell_type": "markdown",
      "metadata": {
        "id": "vQ_-M49HBQ-F"
      },
      "source": [
        "With bit of time we might try to lookup years of publication."
      ]
    },
    {
      "cell_type": "code",
      "metadata": {
        "id": "Hmt0XCKy9s-6"
      },
      "source": [
        "def find_lost_years():\n",
        "\n",
        "  not_found = []\n",
        "  for index in tqdm(books[books['Year-Of-Publication'].apply(lambda x: x < 1900 or x > 2010)].index):\n",
        "\n",
        "    try:\n",
        "      book = isbnlib.meta(books['ISBN'][index], service='goob')\n",
        "    except:\n",
        "      continue\n",
        "\n",
        "    if not book:\n",
        "      not_found.append(index)\n",
        "      continue\n",
        "\n",
        "    if 'Year' in books.keys():\n",
        "      books['Year-Of-Publication'][index] = book['Year']\n",
        "    else:\n",
        "      not_found.append(index)\n",
        "    \n",
        "  return not_found"
      ],
      "execution_count": null,
      "outputs": []
    },
    {
      "cell_type": "code",
      "metadata": {
        "id": "8bFfEZsDBXp8"
      },
      "source": [
        "#not_found = find_lost_years()\n",
        "#print(not_found)"
      ],
      "execution_count": null,
      "outputs": []
    },
    {
      "cell_type": "markdown",
      "metadata": {
        "id": "jY06CXMZEmcW"
      },
      "source": [
        "# Users table\n",
        "\n",
        "When we look at users metadata, they are sparse and misleading. And we are not able to easily correct them (we might manualy correct some locations). So we will rather not use them."
      ]
    },
    {
      "cell_type": "code",
      "metadata": {
        "colab": {
          "base_uri": "https://localhost:8080/",
          "height": 204
        },
        "id": "ha57guAaFIQz",
        "outputId": "54dac93f-9462-40bd-ea18-503275f5fc23"
      },
      "source": [
        "users.head()"
      ],
      "execution_count": 72,
      "outputs": [
        {
          "output_type": "execute_result",
          "data": {
            "text/html": [
              "<div>\n",
              "<style scoped>\n",
              "    .dataframe tbody tr th:only-of-type {\n",
              "        vertical-align: middle;\n",
              "    }\n",
              "\n",
              "    .dataframe tbody tr th {\n",
              "        vertical-align: top;\n",
              "    }\n",
              "\n",
              "    .dataframe thead th {\n",
              "        text-align: right;\n",
              "    }\n",
              "</style>\n",
              "<table border=\"1\" class=\"dataframe\">\n",
              "  <thead>\n",
              "    <tr style=\"text-align: right;\">\n",
              "      <th></th>\n",
              "      <th>User-ID</th>\n",
              "      <th>Location</th>\n",
              "      <th>Age</th>\n",
              "    </tr>\n",
              "  </thead>\n",
              "  <tbody>\n",
              "    <tr>\n",
              "      <th>0</th>\n",
              "      <td>1</td>\n",
              "      <td>nyc, new york, usa</td>\n",
              "      <td>NaN</td>\n",
              "    </tr>\n",
              "    <tr>\n",
              "      <th>1</th>\n",
              "      <td>2</td>\n",
              "      <td>stockton, california, usa</td>\n",
              "      <td>18.0</td>\n",
              "    </tr>\n",
              "    <tr>\n",
              "      <th>2</th>\n",
              "      <td>3</td>\n",
              "      <td>moscow, yukon territory, russia</td>\n",
              "      <td>NaN</td>\n",
              "    </tr>\n",
              "    <tr>\n",
              "      <th>3</th>\n",
              "      <td>4</td>\n",
              "      <td>porto, v.n.gaia, portugal</td>\n",
              "      <td>17.0</td>\n",
              "    </tr>\n",
              "    <tr>\n",
              "      <th>4</th>\n",
              "      <td>5</td>\n",
              "      <td>farnborough, hants, united kingdom</td>\n",
              "      <td>NaN</td>\n",
              "    </tr>\n",
              "  </tbody>\n",
              "</table>\n",
              "</div>"
            ],
            "text/plain": [
              "   User-ID                            Location   Age\n",
              "0        1                  nyc, new york, usa   NaN\n",
              "1        2           stockton, california, usa  18.0\n",
              "2        3     moscow, yukon territory, russia   NaN\n",
              "3        4           porto, v.n.gaia, portugal  17.0\n",
              "4        5  farnborough, hants, united kingdom   NaN"
            ]
          },
          "metadata": {},
          "execution_count": 72
        }
      ]
    },
    {
      "cell_type": "code",
      "metadata": {
        "colab": {
          "base_uri": "https://localhost:8080/",
          "height": 297
        },
        "id": "80_Xk3DjFOnY",
        "outputId": "fa779b40-9001-422b-939a-fb0f951b9c9a"
      },
      "source": [
        "users.describe()"
      ],
      "execution_count": 73,
      "outputs": [
        {
          "output_type": "execute_result",
          "data": {
            "text/html": [
              "<div>\n",
              "<style scoped>\n",
              "    .dataframe tbody tr th:only-of-type {\n",
              "        vertical-align: middle;\n",
              "    }\n",
              "\n",
              "    .dataframe tbody tr th {\n",
              "        vertical-align: top;\n",
              "    }\n",
              "\n",
              "    .dataframe thead th {\n",
              "        text-align: right;\n",
              "    }\n",
              "</style>\n",
              "<table border=\"1\" class=\"dataframe\">\n",
              "  <thead>\n",
              "    <tr style=\"text-align: right;\">\n",
              "      <th></th>\n",
              "      <th>User-ID</th>\n",
              "      <th>Age</th>\n",
              "    </tr>\n",
              "  </thead>\n",
              "  <tbody>\n",
              "    <tr>\n",
              "      <th>count</th>\n",
              "      <td>278858.00000</td>\n",
              "      <td>168096.000000</td>\n",
              "    </tr>\n",
              "    <tr>\n",
              "      <th>mean</th>\n",
              "      <td>139429.50000</td>\n",
              "      <td>34.751434</td>\n",
              "    </tr>\n",
              "    <tr>\n",
              "      <th>std</th>\n",
              "      <td>80499.51502</td>\n",
              "      <td>14.428097</td>\n",
              "    </tr>\n",
              "    <tr>\n",
              "      <th>min</th>\n",
              "      <td>1.00000</td>\n",
              "      <td>0.000000</td>\n",
              "    </tr>\n",
              "    <tr>\n",
              "      <th>25%</th>\n",
              "      <td>69715.25000</td>\n",
              "      <td>24.000000</td>\n",
              "    </tr>\n",
              "    <tr>\n",
              "      <th>50%</th>\n",
              "      <td>139429.50000</td>\n",
              "      <td>32.000000</td>\n",
              "    </tr>\n",
              "    <tr>\n",
              "      <th>75%</th>\n",
              "      <td>209143.75000</td>\n",
              "      <td>44.000000</td>\n",
              "    </tr>\n",
              "    <tr>\n",
              "      <th>max</th>\n",
              "      <td>278858.00000</td>\n",
              "      <td>244.000000</td>\n",
              "    </tr>\n",
              "  </tbody>\n",
              "</table>\n",
              "</div>"
            ],
            "text/plain": [
              "            User-ID            Age\n",
              "count  278858.00000  168096.000000\n",
              "mean   139429.50000      34.751434\n",
              "std     80499.51502      14.428097\n",
              "min         1.00000       0.000000\n",
              "25%     69715.25000      24.000000\n",
              "50%    139429.50000      32.000000\n",
              "75%    209143.75000      44.000000\n",
              "max    278858.00000     244.000000"
            ]
          },
          "metadata": {},
          "execution_count": 73
        }
      ]
    },
    {
      "cell_type": "code",
      "metadata": {
        "colab": {
          "base_uri": "https://localhost:8080/"
        },
        "id": "prxO9bTtFbLu",
        "outputId": "fb6026df-1a81-469c-89b4-29214d01c349"
      },
      "source": [
        "users['Location'].apply(lambda x: x.split(',')[-1].strip('\\\"')).value_counts()"
      ],
      "execution_count": 74,
      "outputs": [
        {
          "output_type": "execute_result",
          "data": {
            "text/plain": [
              " usa               139712\n",
              " canada             21658\n",
              " united kingdom     18556\n",
              " germany            17073\n",
              " spain              13258\n",
              "                    ...  \n",
              " c.a.                   1\n",
              " nyc                    1\n",
              " ohio                   1\n",
              " zhengjiang             1\n",
              " prc                    1\n",
              "Name: Location, Length: 631, dtype: int64"
            ]
          },
          "metadata": {},
          "execution_count": 74
        }
      ]
    },
    {
      "cell_type": "code",
      "metadata": {
        "colab": {
          "base_uri": "https://localhost:8080/",
          "height": 419
        },
        "id": "23yDP58JFjef",
        "outputId": "4f93d4ca-78eb-4511-b430-e3da318940ac"
      },
      "source": [
        "users = users.drop(columns=['Location', 'Age'])\n",
        "users"
      ],
      "execution_count": 75,
      "outputs": [
        {
          "output_type": "execute_result",
          "data": {
            "text/html": [
              "<div>\n",
              "<style scoped>\n",
              "    .dataframe tbody tr th:only-of-type {\n",
              "        vertical-align: middle;\n",
              "    }\n",
              "\n",
              "    .dataframe tbody tr th {\n",
              "        vertical-align: top;\n",
              "    }\n",
              "\n",
              "    .dataframe thead th {\n",
              "        text-align: right;\n",
              "    }\n",
              "</style>\n",
              "<table border=\"1\" class=\"dataframe\">\n",
              "  <thead>\n",
              "    <tr style=\"text-align: right;\">\n",
              "      <th></th>\n",
              "      <th>User-ID</th>\n",
              "    </tr>\n",
              "  </thead>\n",
              "  <tbody>\n",
              "    <tr>\n",
              "      <th>0</th>\n",
              "      <td>1</td>\n",
              "    </tr>\n",
              "    <tr>\n",
              "      <th>1</th>\n",
              "      <td>2</td>\n",
              "    </tr>\n",
              "    <tr>\n",
              "      <th>2</th>\n",
              "      <td>3</td>\n",
              "    </tr>\n",
              "    <tr>\n",
              "      <th>3</th>\n",
              "      <td>4</td>\n",
              "    </tr>\n",
              "    <tr>\n",
              "      <th>4</th>\n",
              "      <td>5</td>\n",
              "    </tr>\n",
              "    <tr>\n",
              "      <th>...</th>\n",
              "      <td>...</td>\n",
              "    </tr>\n",
              "    <tr>\n",
              "      <th>278853</th>\n",
              "      <td>278854</td>\n",
              "    </tr>\n",
              "    <tr>\n",
              "      <th>278854</th>\n",
              "      <td>278855</td>\n",
              "    </tr>\n",
              "    <tr>\n",
              "      <th>278855</th>\n",
              "      <td>278856</td>\n",
              "    </tr>\n",
              "    <tr>\n",
              "      <th>278856</th>\n",
              "      <td>278857</td>\n",
              "    </tr>\n",
              "    <tr>\n",
              "      <th>278857</th>\n",
              "      <td>278858</td>\n",
              "    </tr>\n",
              "  </tbody>\n",
              "</table>\n",
              "<p>278858 rows × 1 columns</p>\n",
              "</div>"
            ],
            "text/plain": [
              "        User-ID\n",
              "0             1\n",
              "1             2\n",
              "2             3\n",
              "3             4\n",
              "4             5\n",
              "...         ...\n",
              "278853   278854\n",
              "278854   278855\n",
              "278855   278856\n",
              "278856   278857\n",
              "278857   278858\n",
              "\n",
              "[278858 rows x 1 columns]"
            ]
          },
          "metadata": {},
          "execution_count": 75
        }
      ]
    },
    {
      "cell_type": "markdown",
      "metadata": {
        "id": "4HgfHHUAF928"
      },
      "source": [
        "# Ratings table"
      ]
    },
    {
      "cell_type": "code",
      "metadata": {
        "id": "UVgIgdTAF_3S"
      },
      "source": [
        "def plot_groupby_stats(ratings):\n",
        "\n",
        "  avg_user_rating = ratings.groupby('User-ID')[\"Book-Rating\"].mean()\n",
        "  num_ratings_by_user = ratings.groupby('User-ID')[\"Book-Rating\"].count()\n",
        "  avg_book_rating = ratings.groupby('ISBN')[\"Book-Rating\"].mean()\n",
        "  num_ratings_by_book = ratings.groupby('ISBN')[\"Book-Rating\"].count()\n",
        "\n",
        "  n_rows = 2\n",
        "  n_cols = 2\n",
        "  fig=plt.figure(figsize=(10, 10))\n",
        "\n",
        "  ax = fig.add_subplot(n_rows, n_cols, 1)\n",
        "  avg_user_rating.plot.box(ax=ax)\n",
        "  ax.set_title(\"Average user rating\")\n",
        "\n",
        "  ax = fig.add_subplot(n_rows, n_cols, 2)\n",
        "  num_ratings_by_user.plot.box(ax=ax)\n",
        "  ax.set_title(\"Number of ratings by user\")\n",
        "\n",
        "  ax = fig.add_subplot(n_rows, n_cols, 3)\n",
        "  avg_book_rating.plot.box(ax=ax)\n",
        "  ax.set_title(\"Average book rating\")\n",
        "\n",
        "  ax = fig.add_subplot(n_rows, n_cols, 4)\n",
        "  num_ratings_by_book.plot.box(ax=ax)\n",
        "  ax.set_title(\"Number of ratings by book\")\n",
        "\n",
        "  fig.tight_layout()  # Improves appearance a bit.\n",
        "  plt.show()"
      ],
      "execution_count": 76,
      "outputs": []
    },
    {
      "cell_type": "code",
      "metadata": {
        "colab": {
          "base_uri": "https://localhost:8080/",
          "height": 729
        },
        "id": "umlk0TpnGart",
        "outputId": "406f3610-7107-4fe0-da2a-0ddd361e523a"
      },
      "source": [
        "plot_groupby_stats(ratings)"
      ],
      "execution_count": 77,
      "outputs": [
        {
          "output_type": "display_data",
          "data": {
            "image/png": "[encoded data removed]",
            "text/plain": [
              "<Figure size 720x720 with 4 Axes>"
            ]
          },
          "metadata": {
            "needs_background": "light"
          }
        }
      ]
    },
    {
      "cell_type": "markdown",
      "metadata": {
        "id": "I8DKUiUJGl81"
      },
      "source": [
        "## Drop weakly rated books"
      ]
    },
    {
      "cell_type": "code",
      "metadata": {
        "colab": {
          "base_uri": "https://localhost:8080/"
        },
        "id": "T5KUPhH3KFvD",
        "outputId": "01829478-6945-405f-9b49-3738cd64081e"
      },
      "source": [
        "num_ratings_by_book = ratings.groupby('ISBN')[\"Book-Rating\"].count()\n",
        "ratings['Book-Rating'][ratings['ISBN'].isin(num_ratings_by_book[num_ratings_by_book < 100].index)].value_counts()"
      ],
      "execution_count": 78,
      "outputs": [
        {
          "output_type": "execute_result",
          "data": {
            "text/plain": [
              "0     567082\n",
              "8      77273\n",
              "10     60360\n",
              "7      56843\n",
              "9      50248\n",
              "5      40381\n",
              "6      27439\n",
              "4       6588\n",
              "3       4379\n",
              "2       2003\n",
              "1       1248\n",
              "Name: Book-Rating, dtype: int64"
            ]
          },
          "metadata": {},
          "execution_count": 78
        }
      ]
    },
    {
      "cell_type": "code",
      "metadata": {
        "id": "2IbtCbNcKIOt"
      },
      "source": [
        "ratings = ratings[ratings['ISBN'].isin(num_ratings_by_book[num_ratings_by_book > 99].index)]\n",
        "ratings = ratings.reset_index(drop=True)"
      ],
      "execution_count": 79,
      "outputs": []
    },
    {
      "cell_type": "code",
      "metadata": {
        "colab": {
          "base_uri": "https://localhost:8080/",
          "height": 729
        },
        "id": "1aICKOlBKQEl",
        "outputId": "fa8227f4-21c7-4edc-9617-a2458e85b272"
      },
      "source": [
        "plot_groupby_stats(ratings)"
      ],
      "execution_count": 80,
      "outputs": [
        {
          "output_type": "display_data",
          "data": {
            "image/png": "[encoded data removed]",
            "text/plain": [
              "<Figure size 720x720 with 4 Axes>"
            ]
          },
          "metadata": {
            "needs_background": "light"
          }
        }
      ]
    },
    {
      "cell_type": "markdown",
      "metadata": {
        "id": "SSjIgUagKiZ2"
      },
      "source": [
        "## Normalize ratings\n",
        "\n",
        "Mean normalization\n",
        "- take average rating of an item and subtract that average from every rating of that item\n",
        "- the same for users - take an average user's rating and subtract it from all ratings that user gave"
      ]
    },
    {
      "cell_type": "code",
      "metadata": {
        "colab": {
          "base_uri": "https://localhost:8080/"
        },
        "id": "6UgoCKC8LBNi",
        "outputId": "67830262-1adf-43b9-a7c9-14764c9fa153"
      },
      "source": [
        "avg_book_rating = ratings.groupby('ISBN')[\"Book-Rating\"].mean()\n",
        "avg_book_rating"
      ],
      "execution_count": 81,
      "outputs": [
        {
          "output_type": "execute_result",
          "data": {
            "text/plain": [
              "ISBN\n",
              "002542730X    3.434286\n",
              "0060008032    2.442308\n",
              "0060096195    4.028037\n",
              "006016848X    2.675676\n",
              "0060173289    3.453846\n",
              "                ...   \n",
              "1573227331    3.904762\n",
              "1573229326    3.198157\n",
              "1573229571    4.179245\n",
              "1592400876    3.966667\n",
              "1878424319    3.496241\n",
              "Name: Book-Rating, Length: 727, dtype: float64"
            ]
          },
          "metadata": {},
          "execution_count": 81
        }
      ]
    },
    {
      "cell_type": "code",
      "metadata": {
        "id": "ht4ZeXZ0MVu8"
      },
      "source": [
        "ratings['Book-Rating'] = ratings.apply(\n",
        "    lambda x: x['Book-Rating'] - avg_book_rating[x['ISBN']],\n",
        "    axis=1\n",
        ")"
      ],
      "execution_count": 82,
      "outputs": []
    },
    {
      "cell_type": "code",
      "metadata": {
        "colab": {
          "base_uri": "https://localhost:8080/"
        },
        "id": "hnWyk_n8M_nr",
        "outputId": "d1d2d4be-b45b-413e-de4f-d934786e24e3"
      },
      "source": [
        "avg_user_rating = ratings.groupby('User-ID')[\"Book-Rating\"].mean()\n",
        "avg_user_rating"
      ],
      "execution_count": 83,
      "outputs": [
        {
          "output_type": "execute_result",
          "data": {
            "text/plain": [
              "User-ID\n",
              "9        -0.248210\n",
              "14       -1.019584\n",
              "16        1.196459\n",
              "26        4.970740\n",
              "39        5.057143\n",
              "            ...   \n",
              "278832    6.424390\n",
              "278836    4.444444\n",
              "278843    0.576569\n",
              "278844    3.178571\n",
              "278854    5.088098\n",
              "Name: Book-Rating, Length: 32465, dtype: float64"
            ]
          },
          "metadata": {},
          "execution_count": 83
        }
      ]
    },
    {
      "cell_type": "code",
      "metadata": {
        "id": "ihsw7vb5M7xA"
      },
      "source": [
        "ratings['Book-Rating'] = ratings.apply(\n",
        "    lambda x: x['Book-Rating'] - avg_user_rating[x['User-ID']],\n",
        "    axis=1\n",
        ")"
      ],
      "execution_count": 84,
      "outputs": []
    },
    {
      "cell_type": "code",
      "metadata": {
        "colab": {
          "base_uri": "https://localhost:8080/",
          "height": 729
        },
        "id": "MDoBHnYGNKWh",
        "outputId": "f8e4656f-01f6-4fcc-b1dd-3d8ae5a4cc1f"
      },
      "source": [
        "plot_groupby_stats(ratings)"
      ],
      "execution_count": 85,
      "outputs": [
        {
          "output_type": "display_data",
          "data": {
            "image/png": "[encoded data removed]",
            "text/plain": [
              "<Figure size 720x720 with 4 Axes>"
            ]
          },
          "metadata": {
            "needs_background": "light"
          }
        }
      ]
    },
    {
      "cell_type": "markdown",
      "metadata": {
        "id": "vOMMhLXxQkct"
      },
      "source": [
        "# Saving preprocessed data"
      ]
    },
    {
      "cell_type": "code",
      "metadata": {
        "id": "W4nIK4QrQnUy"
      },
      "source": [
        "books.to_csv('data/preprocessed_books.csv', index=False)\n",
        "users.to_csv('data/preprocessed_users.csv', index=False)\n",
        "ratings.to_csv('data/preprocessed_ratings.csv', index=False)"
      ],
      "execution_count": 87,
      "outputs": []
    }
  ]
}