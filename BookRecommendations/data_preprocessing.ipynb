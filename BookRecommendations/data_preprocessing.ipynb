{
  "nbformat": 4,
  "nbformat_minor": 0,
  "metadata": {
    "colab": {
      "name": "data_preprocessing.ipynb",
      "provenance": [],
      "toc_visible": true,
      "authorship_tag": "ABX9TyNckDrj+s640nvycLoP9jGI"
    },
    "kernelspec": {
      "name": "python3",
      "display_name": "Python 3"
    },
    "language_info": {
      "name": "python"
    }
  },
  "cells": [
    {
      "cell_type": "markdown",
      "metadata": {
        "id": "aNQciJYLbJX2"
      },
      "source": [
        "Preprocessing of the [Book-Crossing Dataset](http://www2.informatik.uni-freiburg.de/~cziegler/BX/). Rational for some steps comes from [dataset exploration](https://github.com/katarinagresova/MLprojects/blob/main/BookRecommendations/playground.ipynb) notebok."
      ]
    },
    {
      "cell_type": "markdown",
      "metadata": {
        "id": "HaZLN5w-_1RT"
      },
      "source": [
        "# Notes\n",
        "\n",
        "- it could be interesting to add feature *language* to books - there are many different languages in dataset"
      ]
    },
    {
      "cell_type": "markdown",
      "metadata": {
        "id": "Lm7ZSXLHb8j8"
      },
      "source": [
        "# Setup"
      ]
    },
    {
      "cell_type": "code",
      "metadata": {
        "colab": {
          "base_uri": "https://localhost:8080/"
        },
        "id": "C3iH5Px5bJFD",
        "outputId": "13a6e614-3e38-409e-81eb-6aa5cb383495"
      },
      "source": [
        "!wget http://www2.informatik.uni-freiburg.de/~cziegler/BX/BX-CSV-Dump.zip"
      ],
      "execution_count": 1,
      "outputs": [
        {
          "output_type": "stream",
          "name": "stdout",
          "text": [
            "--2021-11-07 18:54:14--  http://www2.informatik.uni-freiburg.de/~cziegler/BX/BX-CSV-Dump.zip\n",
            "Resolving www2.informatik.uni-freiburg.de (www2.informatik.uni-freiburg.de)... 132.230.105.133\n",
            "Connecting to www2.informatik.uni-freiburg.de (www2.informatik.uni-freiburg.de)|132.230.105.133|:80... connected.\n",
            "HTTP request sent, awaiting response... 200 OK\n",
            "Length: 26085508 (25M) [application/zip]\n",
            "Saving to: ‘BX-CSV-Dump.zip.2’\n",
            "\n",
            "BX-CSV-Dump.zip.2   100%[===================>]  24.88M  11.6MB/s    in 2.1s    \n",
            "\n",
            "2021-11-07 18:54:17 (11.6 MB/s) - ‘BX-CSV-Dump.zip.2’ saved [26085508/26085508]\n",
            "\n"
          ]
        }
      ]
    },
    {
      "cell_type": "code",
      "metadata": {
        "colab": {
          "base_uri": "https://localhost:8080/"
        },
        "id": "4cKJPD6BbGqW",
        "outputId": "f46a1b78-8d27-4bd4-f79b-46dc0e73053f"
      },
      "source": [
        "!unzip BX-CSV-Dump.zip"
      ],
      "execution_count": 2,
      "outputs": [
        {
          "output_type": "stream",
          "name": "stdout",
          "text": [
            "Archive:  BX-CSV-Dump.zip\n",
            "replace BX-Book-Ratings.csv? [y]es, [n]o, [A]ll, [N]one, [r]ename: n\n",
            "replace BX-Books.csv? [y]es, [n]o, [A]ll, [N]one, [r]ename: n\n",
            "replace BX-Users.csv? [y]es, [n]o, [A]ll, [N]one, [r]ename: n\n"
          ]
        }
      ]
    },
    {
      "cell_type": "code",
      "metadata": {
        "colab": {
          "base_uri": "https://localhost:8080/"
        },
        "id": "SsW2TQxwczwe",
        "outputId": "0b51ff48-2411-4b03-a4b9-7276a3bb449d"
      },
      "source": [
        "!pip install isbnlib"
      ],
      "execution_count": 3,
      "outputs": [
        {
          "output_type": "stream",
          "name": "stdout",
          "text": [
            "Requirement already satisfied: isbnlib in /usr/local/lib/python3.7/dist-packages (3.10.9)\n"
          ]
        }
      ]
    },
    {
      "cell_type": "code",
      "metadata": {
        "id": "cEOXHCBsb-hd"
      },
      "source": [
        "import pandas as pd\n",
        "import isbnlib\n",
        "from tqdm import tqdm"
      ],
      "execution_count": 4,
      "outputs": []
    },
    {
      "cell_type": "code",
      "metadata": {
        "id": "m1BOZ6AucPyU"
      },
      "source": [
        "users = pd.read_csv('BX-Users.csv', sep=';', encoding = \"ISO-8859-1\")\n",
        "books = pd.read_csv('BX-Books.csv', sep=';', encoding = \"ISO-8859-1\", escapechar = \"\\\\\")\n",
        "ratings = pd.read_csv('BX-Book-Ratings.csv', sep=';', encoding = \"ISO-8859-1\")"
      ],
      "execution_count": 31,
      "outputs": []
    },
    {
      "cell_type": "markdown",
      "metadata": {
        "id": "kBrVPnkLBk0J"
      },
      "source": [
        "# Books table"
      ]
    },
    {
      "cell_type": "markdown",
      "metadata": {
        "id": "Se5lZ3zDcDlr"
      },
      "source": [
        "## Data cleaning"
      ]
    },
    {
      "cell_type": "markdown",
      "metadata": {
        "id": "zkYpjaySnpbt"
      },
      "source": [
        "### Useless columns\n",
        "\n",
        "Let's look at columns if there are some useful information."
      ]
    },
    {
      "cell_type": "code",
      "metadata": {
        "colab": {
          "base_uri": "https://localhost:8080/",
          "height": 428
        },
        "id": "eeX1VZOZntwZ",
        "outputId": "edea7553-b911-42ee-8815-9aaec73c0e4b"
      },
      "source": [
        "books.head()"
      ],
      "execution_count": 6,
      "outputs": [
        {
          "output_type": "execute_result",
          "data": {
            "text/html": [
              "<div>\n",
              "<style scoped>\n",
              "    .dataframe tbody tr th:only-of-type {\n",
              "        vertical-align: middle;\n",
              "    }\n",
              "\n",
              "    .dataframe tbody tr th {\n",
              "        vertical-align: top;\n",
              "    }\n",
              "\n",
              "    .dataframe thead th {\n",
              "        text-align: right;\n",
              "    }\n",
              "</style>\n",
              "<table border=\"1\" class=\"dataframe\">\n",
              "  <thead>\n",
              "    <tr style=\"text-align: right;\">\n",
              "      <th></th>\n",
              "      <th>ISBN</th>\n",
              "      <th>Book-Title</th>\n",
              "      <th>Book-Author</th>\n",
              "      <th>Year-Of-Publication</th>\n",
              "      <th>Publisher</th>\n",
              "      <th>Image-URL-S</th>\n",
              "      <th>Image-URL-M</th>\n",
              "      <th>Image-URL-L</th>\n",
              "    </tr>\n",
              "  </thead>\n",
              "  <tbody>\n",
              "    <tr>\n",
              "      <th>0</th>\n",
              "      <td>0195153448</td>\n",
              "      <td>Classical Mythology</td>\n",
              "      <td>Mark P. O. Morford</td>\n",
              "      <td>2002</td>\n",
              "      <td>Oxford University Press</td>\n",
              "      <td>http://images.amazon.com/images/P/0195153448.0...</td>\n",
              "      <td>http://images.amazon.com/images/P/0195153448.0...</td>\n",
              "      <td>http://images.amazon.com/images/P/0195153448.0...</td>\n",
              "    </tr>\n",
              "    <tr>\n",
              "      <th>1</th>\n",
              "      <td>0002005018</td>\n",
              "      <td>Clara Callan</td>\n",
              "      <td>Richard Bruce Wright</td>\n",
              "      <td>2001</td>\n",
              "      <td>HarperFlamingo Canada</td>\n",
              "      <td>http://images.amazon.com/images/P/0002005018.0...</td>\n",
              "      <td>http://images.amazon.com/images/P/0002005018.0...</td>\n",
              "      <td>http://images.amazon.com/images/P/0002005018.0...</td>\n",
              "    </tr>\n",
              "    <tr>\n",
              "      <th>2</th>\n",
              "      <td>0060973129</td>\n",
              "      <td>Decision in Normandy</td>\n",
              "      <td>Carlo D'Este</td>\n",
              "      <td>1991</td>\n",
              "      <td>HarperPerennial</td>\n",
              "      <td>http://images.amazon.com/images/P/0060973129.0...</td>\n",
              "      <td>http://images.amazon.com/images/P/0060973129.0...</td>\n",
              "      <td>http://images.amazon.com/images/P/0060973129.0...</td>\n",
              "    </tr>\n",
              "    <tr>\n",
              "      <th>3</th>\n",
              "      <td>0374157065</td>\n",
              "      <td>Flu: The Story of the Great Influenza Pandemic...</td>\n",
              "      <td>Gina Bari Kolata</td>\n",
              "      <td>1999</td>\n",
              "      <td>Farrar Straus Giroux</td>\n",
              "      <td>http://images.amazon.com/images/P/0374157065.0...</td>\n",
              "      <td>http://images.amazon.com/images/P/0374157065.0...</td>\n",
              "      <td>http://images.amazon.com/images/P/0374157065.0...</td>\n",
              "    </tr>\n",
              "    <tr>\n",
              "      <th>4</th>\n",
              "      <td>0393045218</td>\n",
              "      <td>The Mummies of Urumchi</td>\n",
              "      <td>E. J. W. Barber</td>\n",
              "      <td>1999</td>\n",
              "      <td>W. W. Norton &amp;amp; Company</td>\n",
              "      <td>http://images.amazon.com/images/P/0393045218.0...</td>\n",
              "      <td>http://images.amazon.com/images/P/0393045218.0...</td>\n",
              "      <td>http://images.amazon.com/images/P/0393045218.0...</td>\n",
              "    </tr>\n",
              "  </tbody>\n",
              "</table>\n",
              "</div>"
            ],
            "text/plain": [
              "         ISBN  ...                                        Image-URL-L\n",
              "0  0195153448  ...  http://images.amazon.com/images/P/0195153448.0...\n",
              "1  0002005018  ...  http://images.amazon.com/images/P/0002005018.0...\n",
              "2  0060973129  ...  http://images.amazon.com/images/P/0060973129.0...\n",
              "3  0374157065  ...  http://images.amazon.com/images/P/0374157065.0...\n",
              "4  0393045218  ...  http://images.amazon.com/images/P/0393045218.0...\n",
              "\n",
              "[5 rows x 8 columns]"
            ]
          },
          "metadata": {},
          "execution_count": 6
        }
      ]
    },
    {
      "cell_type": "markdown",
      "metadata": {
        "id": "p5NN-JJ2x13l"
      },
      "source": [
        "We might use image in final application to show a preview of sugested books to a user. Or we could use it in multi-modal model as one of input for computing similarity between books. But for now, we will not need it, since we will do just simple proof-of-concept recommendation system."
      ]
    },
    {
      "cell_type": "code",
      "metadata": {
        "id": "C8j7JGJSnwWY"
      },
      "source": [
        "books = books.drop(columns=['Image-URL-S', 'Image-URL-M', 'Image-URL-L'])"
      ],
      "execution_count": 32,
      "outputs": []
    },
    {
      "cell_type": "code",
      "metadata": {
        "colab": {
          "base_uri": "https://localhost:8080/",
          "height": 204
        },
        "id": "UVP_gCs9n-0D",
        "outputId": "794bcfa3-5353-4d7c-db72-e3e0c0888334"
      },
      "source": [
        "books.head()"
      ],
      "execution_count": 8,
      "outputs": [
        {
          "output_type": "execute_result",
          "data": {
            "text/html": [
              "<div>\n",
              "<style scoped>\n",
              "    .dataframe tbody tr th:only-of-type {\n",
              "        vertical-align: middle;\n",
              "    }\n",
              "\n",
              "    .dataframe tbody tr th {\n",
              "        vertical-align: top;\n",
              "    }\n",
              "\n",
              "    .dataframe thead th {\n",
              "        text-align: right;\n",
              "    }\n",
              "</style>\n",
              "<table border=\"1\" class=\"dataframe\">\n",
              "  <thead>\n",
              "    <tr style=\"text-align: right;\">\n",
              "      <th></th>\n",
              "      <th>ISBN</th>\n",
              "      <th>Book-Title</th>\n",
              "      <th>Book-Author</th>\n",
              "      <th>Year-Of-Publication</th>\n",
              "      <th>Publisher</th>\n",
              "    </tr>\n",
              "  </thead>\n",
              "  <tbody>\n",
              "    <tr>\n",
              "      <th>0</th>\n",
              "      <td>0195153448</td>\n",
              "      <td>Classical Mythology</td>\n",
              "      <td>Mark P. O. Morford</td>\n",
              "      <td>2002</td>\n",
              "      <td>Oxford University Press</td>\n",
              "    </tr>\n",
              "    <tr>\n",
              "      <th>1</th>\n",
              "      <td>0002005018</td>\n",
              "      <td>Clara Callan</td>\n",
              "      <td>Richard Bruce Wright</td>\n",
              "      <td>2001</td>\n",
              "      <td>HarperFlamingo Canada</td>\n",
              "    </tr>\n",
              "    <tr>\n",
              "      <th>2</th>\n",
              "      <td>0060973129</td>\n",
              "      <td>Decision in Normandy</td>\n",
              "      <td>Carlo D'Este</td>\n",
              "      <td>1991</td>\n",
              "      <td>HarperPerennial</td>\n",
              "    </tr>\n",
              "    <tr>\n",
              "      <th>3</th>\n",
              "      <td>0374157065</td>\n",
              "      <td>Flu: The Story of the Great Influenza Pandemic...</td>\n",
              "      <td>Gina Bari Kolata</td>\n",
              "      <td>1999</td>\n",
              "      <td>Farrar Straus Giroux</td>\n",
              "    </tr>\n",
              "    <tr>\n",
              "      <th>4</th>\n",
              "      <td>0393045218</td>\n",
              "      <td>The Mummies of Urumchi</td>\n",
              "      <td>E. J. W. Barber</td>\n",
              "      <td>1999</td>\n",
              "      <td>W. W. Norton &amp;amp; Company</td>\n",
              "    </tr>\n",
              "  </tbody>\n",
              "</table>\n",
              "</div>"
            ],
            "text/plain": [
              "         ISBN  ...                   Publisher\n",
              "0  0195153448  ...     Oxford University Press\n",
              "1  0002005018  ...       HarperFlamingo Canada\n",
              "2  0060973129  ...             HarperPerennial\n",
              "3  0374157065  ...        Farrar Straus Giroux\n",
              "4  0393045218  ...  W. W. Norton &amp; Company\n",
              "\n",
              "[5 rows x 5 columns]"
            ]
          },
          "metadata": {},
          "execution_count": 8
        }
      ]
    },
    {
      "cell_type": "markdown",
      "metadata": {
        "id": "suFSAa7GcMV6"
      },
      "source": [
        "### Transforming ISBN to cannonical form\n",
        "\n",
        "I found this nice python package called [isbnlib](https://github.com/xlcnd/isbnlib) that can be used to validate, clean, transform, hyphenate and get metadata for ISBN strings.\n",
        "\n",
        "Reasons for bothering with ISBN numbers:\n",
        "- transform ISBN numbers into standard form to prevent duplicate entries\n",
        "- use ISBN as unique and valid identificator of a book, so we could connect it with other resources where books are identified by ISBN number.\n"
      ]
    },
    {
      "cell_type": "code",
      "metadata": {
        "colab": {
          "base_uri": "https://localhost:8080/"
        },
        "id": "u07JXzCVeFjG",
        "outputId": "591dd6f6-79eb-476e-c5cc-e83b79df2bd6"
      },
      "source": [
        "books_count = len(books)\n",
        "ratings_count = len(ratings)\n",
        "unique_books = len(books['ISBN'].unique())\n",
        "unique_ratings = len(ratings['ISBN'].unique())\n",
        "\n",
        "print(\"Books count: \", books_count)\n",
        "print(\"Books count in ratings: \", ratings_count)\n",
        "print(\"Unique books count: \", unique_books)\n",
        "print(\"Unique books in ratings: \", unique_ratings)"
      ],
      "execution_count": 9,
      "outputs": [
        {
          "output_type": "stream",
          "name": "stdout",
          "text": [
            "Books count:  271379\n",
            "Books count in ratings:  1149780\n",
            "Unique books count:  271379\n",
            "Unique books in ratings:  340556\n"
          ]
        }
      ]
    },
    {
      "cell_type": "code",
      "metadata": {
        "id": "yt0N2AmZeLWI"
      },
      "source": [
        "books['ISBN'] = books['ISBN'].apply(lambda x: isbnlib.canonical(isbnlib.clean(x)))\n",
        "ratings['ISBN'] = ratings['ISBN'].apply(lambda x: isbnlib.canonical(isbnlib.clean(x)))"
      ],
      "execution_count": 33,
      "outputs": []
    },
    {
      "cell_type": "code",
      "metadata": {
        "colab": {
          "base_uri": "https://localhost:8080/"
        },
        "id": "jZ5dl8gveZx3",
        "outputId": "00922b57-ab56-4eaf-9c9c-4260705345d2"
      },
      "source": [
        "print(\"Removed books: \", books_count - len(books))\n",
        "print(\"Removed books in ratings: \", ratings_count - len(ratings))\n",
        "print(\"Removed unique books: \", unique_books - len(books['ISBN'].unique()))\n",
        "print(\"Removed unique books in ratings: \", unique_ratings - len(ratings['ISBN'].unique()))\n",
        "\n",
        "books_count = len(books)\n",
        "ratings_count = len(ratings)\n",
        "unique_books = len(books['ISBN'].unique())\n",
        "unique_ratings = len(ratings['ISBN'].unique())"
      ],
      "execution_count": 12,
      "outputs": [
        {
          "output_type": "stream",
          "name": "stdout",
          "text": [
            "Removed books:  0\n",
            "Removed books in ratings:  0\n",
            "Removed unique books:  431\n",
            "Removed unique books in ratings:  8134\n"
          ]
        }
      ]
    },
    {
      "cell_type": "markdown",
      "metadata": {
        "id": "aj0wguyw0Teq"
      },
      "source": [
        "As we can see, after trasforming to cannonical form, we have less unique ISBN numbers."
      ]
    },
    {
      "cell_type": "markdown",
      "metadata": {
        "id": "H1wgsZHyemao"
      },
      "source": [
        "### Removing invalid ISBN"
      ]
    },
    {
      "cell_type": "code",
      "metadata": {
        "colab": {
          "base_uri": "https://localhost:8080/"
        },
        "id": "6dSjC_DAclT8",
        "outputId": "67a6e44d-2a0f-4ec0-90d9-c3527fe0b5ec"
      },
      "source": [
        "invalid_ISBN = {\n",
        "                *set(books['ISBN'][books['ISBN'].apply(lambda x: (not isbnlib.is_isbn10(x)) and (not isbnlib.is_isbn13(x)))]),\n",
        "                *set(ratings['ISBN'][ratings['ISBN'].apply(lambda x: (not isbnlib.is_isbn10(x)) and (not isbnlib.is_isbn13(x)))])\n",
        "}\n",
        "print(len(invalid_ISBN))\n",
        "print(list(invalid_ISBN)[:10])"
      ],
      "execution_count": 34,
      "outputs": [
        {
          "output_type": "stream",
          "name": "stdout",
          "text": [
            "4045\n",
            "['', '8817333931', '2859401330', '0088214479', '3959222411', '7116200599', '0240280553', '0440195934495', '0879575407', '0449006186']\n"
          ]
        }
      ]
    },
    {
      "cell_type": "markdown",
      "metadata": {
        "id": "CSIhHwMfgIib"
      },
      "source": [
        "Empty ISBN is result of trying to transform ASIN (Amazon ID) to correct ISBN numbers. There we few ASIN numbers in original data and there is no straightforward way how to transform them to ISBN (except for mining Amazon websites).\n",
        "\n",
        "Some of invalid ISBN could be manualy fixed - there are typos.\n"
      ]
    },
    {
      "cell_type": "code",
      "metadata": {
        "colab": {
          "base_uri": "https://localhost:8080/"
        },
        "id": "qhs2r0H_daiQ",
        "outputId": "a2b6ab1a-d8ff-4feb-e3b2-540436462f55"
      },
      "source": [
        "books['ISBN'].apply(lambda x: x in invalid_ISBN).value_counts()"
      ],
      "execution_count": 37,
      "outputs": [
        {
          "output_type": "execute_result",
          "data": {
            "text/plain": [
              "False    271262\n",
              "True        117\n",
              "Name: ISBN, dtype: int64"
            ]
          },
          "metadata": {},
          "execution_count": 37
        }
      ]
    },
    {
      "cell_type": "code",
      "metadata": {
        "id": "4YX6yNJygev4"
      },
      "source": [
        "books = books[books['ISBN'].apply(lambda x: x not in invalid_ISBN)]\n",
        "ratings = ratings[ratings['ISBN'].apply(lambda x: x not in invalid_ISBN)]"
      ],
      "execution_count": 38,
      "outputs": []
    },
    {
      "cell_type": "code",
      "metadata": {
        "colab": {
          "base_uri": "https://localhost:8080/"
        },
        "id": "6eObn1qpc9Wd",
        "outputId": "16e831bf-3ffa-47af-f428-2e3caeaae9b9"
      },
      "source": [
        "print(\"Removed books: \", books_count - len(books))\n",
        "print(\"Removed books in ratings: \", ratings_count - len(ratings))\n",
        "print(\"Removed unique books: \", unique_books - len(books['ISBN'].unique()))\n",
        "print(\"Removed unique books in ratings: \", unique_ratings - len(ratings['ISBN'].unique()))\n",
        "\n",
        "books_count = len(books)\n",
        "ratings_count = len(ratings)\n",
        "unique_books = len(books['ISBN'].unique())\n",
        "unique_ratings = len(ratings['ISBN'].unique())"
      ],
      "execution_count": 16,
      "outputs": [
        {
          "output_type": "stream",
          "name": "stdout",
          "text": [
            "Removed books:  117\n",
            "Removed books in ratings:  14593\n",
            "Removed unique books:  1\n",
            "Removed unique books in ratings:  4045\n"
          ]
        }
      ]
    },
    {
      "cell_type": "markdown",
      "metadata": {
        "id": "cs2yq_l7hRHg"
      },
      "source": [
        "### Deduplicating\n",
        "\n",
        "- for books: drop duplicates\n",
        "- for ratings: duplicates have been merged by transforming to cannonical forms"
      ]
    },
    {
      "cell_type": "code",
      "metadata": {
        "id": "wQnrqRSkiY-t"
      },
      "source": [
        "books = books.drop_duplicates()"
      ],
      "execution_count": 39,
      "outputs": []
    },
    {
      "cell_type": "code",
      "metadata": {
        "colab": {
          "base_uri": "https://localhost:8080/"
        },
        "id": "rb21_vpWiiay",
        "outputId": "275d1f6a-d925-4109-cd57-0f5943367fb8"
      },
      "source": [
        "print(\"Removed books: \", books_count - len(books))\n",
        "print(\"Removed books in ratings: \", ratings_count - len(ratings))\n",
        "print(\"Removed unique books: \", unique_books - len(books['ISBN'].unique()))\n",
        "print(\"Removed unique books in ratings: \", unique_ratings - len(ratings['ISBN'].unique()))\n",
        "\n",
        "books_count = len(books)\n",
        "ratings_count = len(ratings)\n",
        "unique_books = len(books['ISBN'].unique())\n",
        "unique_ratings = len(ratings['ISBN'].unique())"
      ],
      "execution_count": 18,
      "outputs": [
        {
          "output_type": "stream",
          "name": "stdout",
          "text": [
            "Removed books:  314\n",
            "Removed books in ratings:  0\n",
            "Removed unique books:  0\n",
            "Removed unique books in ratings:  0\n"
          ]
        }
      ]
    },
    {
      "cell_type": "markdown",
      "metadata": {
        "id": "1ky_jsMemwzj"
      },
      "source": [
        "## Data completing"
      ]
    },
    {
      "cell_type": "markdown",
      "metadata": {
        "id": "_dO-T11im7Mh"
      },
      "source": [
        "### Missing books records"
      ]
    },
    {
      "cell_type": "code",
      "metadata": {
        "colab": {
          "base_uri": "https://localhost:8080/"
        },
        "id": "QPej9Jm3mujU",
        "outputId": "ff3ac45b-2256-4510-cb15-f24815a06403"
      },
      "source": [
        "ratings['ISBN'][~ratings['ISBN'].isin(books['ISBN'])]"
      ],
      "execution_count": 19,
      "outputs": [
        {
          "output_type": "execute_result",
          "data": {
            "text/plain": [
              "6          3257224281\n",
              "7          0600570967\n",
              "25         3442437407\n",
              "26         033390804X\n",
              "30         8440682697\n",
              "              ...    \n",
              "1149442    0330337297\n",
              "1149444    0747252327\n",
              "1149446    8804413530\n",
              "1149581    0679781587\n",
              "1149758    8445072897\n",
              "Name: ISBN, Length: 103780, dtype: object"
            ]
          },
          "metadata": {},
          "execution_count": 19
        }
      ]
    },
    {
      "cell_type": "markdown",
      "metadata": {
        "id": "9Ryf4EA_7Jxj"
      },
      "source": [
        "We have ratings for 103 780 books that are not in *books* dataset. I created following function for looking up book metadata via `isbnlib` package. But it is not supporting batch request so it would take more then 30h to run."
      ]
    },
    {
      "cell_type": "code",
      "metadata": {
        "id": "pCfQQXiCnFXU"
      },
      "source": [
        "def find_lost_books():\n",
        "\n",
        "  new_books = []\n",
        "  not_found = []\n",
        "  for missing_isbn in tqdm(ratings['ISBN'][~ratings['ISBN'].isin(books['ISBN'])]):\n",
        "\n",
        "    try:\n",
        "      book = isbnlib.meta(missing_isbn, service='goob')\n",
        "    except:\n",
        "      try: \n",
        "        book = isbnlib.meta(missing_isbn, service='wiki')\n",
        "      except:\n",
        "        not_found.append(missing_isbn)\n",
        "        continue\n",
        "\n",
        "    if not book:\n",
        "      not_found.append(missing_isbn)\n",
        "      continue\n",
        "    isbn_id = 'ISBN-13' if 'ISBN-13' in book.keys() else 'ISBN-10'\n",
        "    new_books.append([\n",
        "        book[isbn_id],\n",
        "        book['Title'],\n",
        "        book['Authors'][0],\n",
        "        book['Year'],\n",
        "        book['Publisher']\n",
        "    ])\n",
        "    \n",
        "  return new_books, not_found"
      ],
      "execution_count": 20,
      "outputs": []
    },
    {
      "cell_type": "code",
      "metadata": {
        "id": "ZJUYMLziuaDp"
      },
      "source": [
        "# do this if you have more then 30 hours\n",
        "#new_books, not_found = find_lost_books()\n",
        "#books.append(pd.DataFrame(new_books, columns=books.columns))\n",
        "#print(not_found)"
      ],
      "execution_count": 21,
      "outputs": []
    },
    {
      "cell_type": "code",
      "metadata": {
        "id": "qAD_-24p6aCE"
      },
      "source": [
        "# for now, just drop rating without record in books\n",
        "atings = ratings[ratings['ISBN'].isin(books['ISBN'])]"
      ],
      "execution_count": 42,
      "outputs": []
    },
    {
      "cell_type": "code",
      "metadata": {
        "colab": {
          "base_uri": "https://localhost:8080/"
        },
        "id": "O-_7ybMs6z8C",
        "outputId": "c7fc05f8-fb24-47a5-a1ac-de37dd721bb0"
      },
      "source": [
        "print(\"Removed books: \", books_count - len(books))\n",
        "print(\"Removed books in ratings: \", ratings_count - len(ratings))\n",
        "print(\"Removed unique books: \", unique_books - len(books['ISBN'].unique()))\n",
        "print(\"Removed unique books in ratings: \", unique_ratings - len(ratings['ISBN'].unique()))\n",
        "\n",
        "books_count = len(books)\n",
        "ratings_count = len(ratings)\n",
        "unique_books = len(books['ISBN'].unique())\n",
        "unique_ratings = len(ratings['ISBN'].unique())"
      ],
      "execution_count": 43,
      "outputs": [
        {
          "output_type": "stream",
          "name": "stdout",
          "text": [
            "Removed books:  0\n",
            "Removed books in ratings:  103780\n",
            "Removed unique books:  0\n",
            "Removed unique books in ratings:  58630\n"
          ]
        }
      ]
    },
    {
      "cell_type": "markdown",
      "metadata": {
        "id": "LTCHP2qXxBA7"
      },
      "source": [
        "### Missing book metadata"
      ]
    },
    {
      "cell_type": "code",
      "metadata": {
        "colab": {
          "base_uri": "https://localhost:8080/"
        },
        "id": "RsNaaKMIxAvy",
        "outputId": "fed3ca6e-9fe6-4996-db28-b1897048b41e"
      },
      "source": [
        "books.info()"
      ],
      "execution_count": 22,
      "outputs": [
        {
          "output_type": "stream",
          "name": "stdout",
          "text": [
            "<class 'pandas.core.frame.DataFrame'>\n",
            "Int64Index: 270948 entries, 0 to 271378\n",
            "Data columns (total 5 columns):\n",
            " #   Column               Non-Null Count   Dtype \n",
            "---  ------               --------------   ----- \n",
            " 0   ISBN                 270948 non-null  object\n",
            " 1   Book-Title           270948 non-null  object\n",
            " 2   Book-Author          270947 non-null  object\n",
            " 3   Year-Of-Publication  270948 non-null  int64 \n",
            " 4   Publisher            270946 non-null  object\n",
            "dtypes: int64(1), object(4)\n",
            "memory usage: 12.4+ MB\n"
          ]
        }
      ]
    },
    {
      "cell_type": "markdown",
      "metadata": {
        "id": "GFDEKq4D8glp"
      },
      "source": [
        "There is one record with missing author, so we might try to look it up by hand."
      ]
    },
    {
      "cell_type": "code",
      "metadata": {
        "colab": {
          "base_uri": "https://localhost:8080/",
          "height": 80
        },
        "id": "76uMXMoh8mHp",
        "outputId": "bdc95e0b-5a00-4255-d9e3-0079761e436c"
      },
      "source": [
        "books[books['Book-Author'].isnull()]"
      ],
      "execution_count": 49,
      "outputs": [
        {
          "output_type": "execute_result",
          "data": {
            "text/html": [
              "<div>\n",
              "<style scoped>\n",
              "    .dataframe tbody tr th:only-of-type {\n",
              "        vertical-align: middle;\n",
              "    }\n",
              "\n",
              "    .dataframe tbody tr th {\n",
              "        vertical-align: top;\n",
              "    }\n",
              "\n",
              "    .dataframe thead th {\n",
              "        text-align: right;\n",
              "    }\n",
              "</style>\n",
              "<table border=\"1\" class=\"dataframe\">\n",
              "  <thead>\n",
              "    <tr style=\"text-align: right;\">\n",
              "      <th></th>\n",
              "      <th>ISBN</th>\n",
              "      <th>Book-Title</th>\n",
              "      <th>Book-Author</th>\n",
              "      <th>Year-Of-Publication</th>\n",
              "      <th>Publisher</th>\n",
              "    </tr>\n",
              "  </thead>\n",
              "  <tbody>\n",
              "    <tr>\n",
              "      <th>187700</th>\n",
              "      <td>9627982032</td>\n",
              "      <td>The Credit Suisse Guide to Managing Your Perso...</td>\n",
              "      <td>NaN</td>\n",
              "      <td>1995</td>\n",
              "      <td>Edinburgh Financial Publishing</td>\n",
              "    </tr>\n",
              "  </tbody>\n",
              "</table>\n",
              "</div>"
            ],
            "text/plain": [
              "              ISBN  ...                       Publisher\n",
              "187700  9627982032  ...  Edinburgh Financial Publishing\n",
              "\n",
              "[1 rows x 5 columns]"
            ]
          },
          "metadata": {},
          "execution_count": 49
        }
      ]
    },
    {
      "cell_type": "code",
      "metadata": {
        "colab": {
          "base_uri": "https://localhost:8080/"
        },
        "id": "umFg_wYh9EMn",
        "outputId": "593bd3ab-03ee-40ea-ccb9-de1ee13724e1"
      },
      "source": [
        "isbnlib.meta('9627982032', service='wiki')"
      ],
      "execution_count": 51,
      "outputs": [
        {
          "output_type": "execute_result",
          "data": {
            "text/plain": [
              "{'Authors': ['Larissa Downes', 'Crédit suisse'],\n",
              " 'ISBN-13': '9789627982036',\n",
              " 'Language': '',\n",
              " 'Publisher': 'Edinburgh Financial Pub. (Asia)',\n",
              " 'Title': 'The Credit Suisse guide to managing your personal wealth',\n",
              " 'Year': '1995'}"
            ]
          },
          "metadata": {},
          "execution_count": 51
        }
      ]
    },
    {
      "cell_type": "code",
      "metadata": {
        "id": "Lg-L5LtD-g_Y"
      },
      "source": [
        "books['Book-Author'][187700] = 'Larissa Downes'"
      ],
      "execution_count": 56,
      "outputs": []
    },
    {
      "cell_type": "code",
      "metadata": {
        "colab": {
          "base_uri": "https://localhost:8080/",
          "height": 49
        },
        "id": "oWfPkAhJ-sAg",
        "outputId": "e26c4f40-a92d-4d45-9e6a-6e6c983bc624"
      },
      "source": [
        "books[books['Book-Author'].isnull()]"
      ],
      "execution_count": 57,
      "outputs": [
        {
          "output_type": "execute_result",
          "data": {
            "text/html": [
              "<div>\n",
              "<style scoped>\n",
              "    .dataframe tbody tr th:only-of-type {\n",
              "        vertical-align: middle;\n",
              "    }\n",
              "\n",
              "    .dataframe tbody tr th {\n",
              "        vertical-align: top;\n",
              "    }\n",
              "\n",
              "    .dataframe thead th {\n",
              "        text-align: right;\n",
              "    }\n",
              "</style>\n",
              "<table border=\"1\" class=\"dataframe\">\n",
              "  <thead>\n",
              "    <tr style=\"text-align: right;\">\n",
              "      <th></th>\n",
              "      <th>ISBN</th>\n",
              "      <th>Book-Title</th>\n",
              "      <th>Book-Author</th>\n",
              "      <th>Year-Of-Publication</th>\n",
              "      <th>Publisher</th>\n",
              "    </tr>\n",
              "  </thead>\n",
              "  <tbody>\n",
              "  </tbody>\n",
              "</table>\n",
              "</div>"
            ],
            "text/plain": [
              "Empty DataFrame\n",
              "Columns: [ISBN, Book-Title, Book-Author, Year-Of-Publication, Publisher]\n",
              "Index: []"
            ]
          },
          "metadata": {},
          "execution_count": 57
        }
      ]
    },
    {
      "cell_type": "code",
      "metadata": {
        "colab": {
          "base_uri": "https://localhost:8080/",
          "height": 297
        },
        "id": "KruywYpwxIbM",
        "outputId": "9913a120-3783-4a49-d926-3178a64cb046"
      },
      "source": [
        "books.describe()"
      ],
      "execution_count": 23,
      "outputs": [
        {
          "output_type": "execute_result",
          "data": {
            "text/html": [
              "<div>\n",
              "<style scoped>\n",
              "    .dataframe tbody tr th:only-of-type {\n",
              "        vertical-align: middle;\n",
              "    }\n",
              "\n",
              "    .dataframe tbody tr th {\n",
              "        vertical-align: top;\n",
              "    }\n",
              "\n",
              "    .dataframe thead th {\n",
              "        text-align: right;\n",
              "    }\n",
              "</style>\n",
              "<table border=\"1\" class=\"dataframe\">\n",
              "  <thead>\n",
              "    <tr style=\"text-align: right;\">\n",
              "      <th></th>\n",
              "      <th>Year-Of-Publication</th>\n",
              "    </tr>\n",
              "  </thead>\n",
              "  <tbody>\n",
              "    <tr>\n",
              "      <th>count</th>\n",
              "      <td>270948.000000</td>\n",
              "    </tr>\n",
              "    <tr>\n",
              "      <th>mean</th>\n",
              "      <td>1960.156381</td>\n",
              "    </tr>\n",
              "    <tr>\n",
              "      <th>std</th>\n",
              "      <td>256.505194</td>\n",
              "    </tr>\n",
              "    <tr>\n",
              "      <th>min</th>\n",
              "      <td>0.000000</td>\n",
              "    </tr>\n",
              "    <tr>\n",
              "      <th>25%</th>\n",
              "      <td>1989.000000</td>\n",
              "    </tr>\n",
              "    <tr>\n",
              "      <th>50%</th>\n",
              "      <td>1995.000000</td>\n",
              "    </tr>\n",
              "    <tr>\n",
              "      <th>75%</th>\n",
              "      <td>2000.000000</td>\n",
              "    </tr>\n",
              "    <tr>\n",
              "      <th>max</th>\n",
              "      <td>2050.000000</td>\n",
              "    </tr>\n",
              "  </tbody>\n",
              "</table>\n",
              "</div>"
            ],
            "text/plain": [
              "       Year-Of-Publication\n",
              "count        270948.000000\n",
              "mean           1960.156381\n",
              "std             256.505194\n",
              "min               0.000000\n",
              "25%            1989.000000\n",
              "50%            1995.000000\n",
              "75%            2000.000000\n",
              "max            2050.000000"
            ]
          },
          "metadata": {},
          "execution_count": 23
        }
      ]
    },
    {
      "cell_type": "code",
      "metadata": {
        "colab": {
          "base_uri": "https://localhost:8080/",
          "height": 419
        },
        "id": "OFno1k6i_XyK",
        "outputId": "bee4a602-495d-4397-ef1b-b826b101e407"
      },
      "source": [
        "books[books['Year-Of-Publication'].apply(lambda x: x < 1900 or x > 2010)]"
      ],
      "execution_count": 61,
      "outputs": [
        {
          "output_type": "execute_result",
          "data": {
            "text/html": [
              "<div>\n",
              "<style scoped>\n",
              "    .dataframe tbody tr th:only-of-type {\n",
              "        vertical-align: middle;\n",
              "    }\n",
              "\n",
              "    .dataframe tbody tr th {\n",
              "        vertical-align: top;\n",
              "    }\n",
              "\n",
              "    .dataframe thead th {\n",
              "        text-align: right;\n",
              "    }\n",
              "</style>\n",
              "<table border=\"1\" class=\"dataframe\">\n",
              "  <thead>\n",
              "    <tr style=\"text-align: right;\">\n",
              "      <th></th>\n",
              "      <th>ISBN</th>\n",
              "      <th>Book-Title</th>\n",
              "      <th>Book-Author</th>\n",
              "      <th>Year-Of-Publication</th>\n",
              "      <th>Publisher</th>\n",
              "    </tr>\n",
              "  </thead>\n",
              "  <tbody>\n",
              "    <tr>\n",
              "      <th>176</th>\n",
              "      <td>3150000335</td>\n",
              "      <td>Kabale Und Liebe</td>\n",
              "      <td>Schiller</td>\n",
              "      <td>0</td>\n",
              "      <td>Philipp Reclam, Jun Verlag GmbH</td>\n",
              "    </tr>\n",
              "    <tr>\n",
              "      <th>188</th>\n",
              "      <td>342311360X</td>\n",
              "      <td>Die Liebe in Den Zelten</td>\n",
              "      <td>Gabriel Garcia Marquez</td>\n",
              "      <td>0</td>\n",
              "      <td>Deutscher Taschenbuch Verlag (DTV)</td>\n",
              "    </tr>\n",
              "    <tr>\n",
              "      <th>288</th>\n",
              "      <td>0571197639</td>\n",
              "      <td>Poisonwood Bible Edition Uk</td>\n",
              "      <td>Barbara Kingsolver</td>\n",
              "      <td>0</td>\n",
              "      <td>Faber Faber Inc</td>\n",
              "    </tr>\n",
              "    <tr>\n",
              "      <th>351</th>\n",
              "      <td>3596214629</td>\n",
              "      <td>Herr Der Fliegen (Fiction, Poetry and Drama)</td>\n",
              "      <td>Golding</td>\n",
              "      <td>0</td>\n",
              "      <td>Fischer Taschenbuch Verlag GmbH</td>\n",
              "    </tr>\n",
              "    <tr>\n",
              "      <th>542</th>\n",
              "      <td>8845229041</td>\n",
              "      <td>Biblioteca Universale Rizzoli: Sulla Sponda De...</td>\n",
              "      <td>P Coelho</td>\n",
              "      <td>0</td>\n",
              "      <td>Fabbri - RCS Libri</td>\n",
              "    </tr>\n",
              "    <tr>\n",
              "      <th>...</th>\n",
              "      <td>...</td>\n",
              "      <td>...</td>\n",
              "      <td>...</td>\n",
              "      <td>...</td>\n",
              "      <td>...</td>\n",
              "    </tr>\n",
              "    <tr>\n",
              "      <th>270813</th>\n",
              "      <td>014029953X</td>\n",
              "      <td>Foe (Essential.penguin S.)</td>\n",
              "      <td>J.M. Coetzee</td>\n",
              "      <td>0</td>\n",
              "      <td>Penguin Books Ltd</td>\n",
              "    </tr>\n",
              "    <tr>\n",
              "      <th>270932</th>\n",
              "      <td>0340571187</td>\n",
              "      <td>Postmens House</td>\n",
              "      <td>Maggie Hemingway</td>\n",
              "      <td>0</td>\n",
              "      <td>Trafalgar Square</td>\n",
              "    </tr>\n",
              "    <tr>\n",
              "      <th>271113</th>\n",
              "      <td>8427201079</td>\n",
              "      <td>El Misterio De Sittaford</td>\n",
              "      <td>Agatha Christie</td>\n",
              "      <td>0</td>\n",
              "      <td>Editorial Molino</td>\n",
              "    </tr>\n",
              "    <tr>\n",
              "      <th>271201</th>\n",
              "      <td>0887781721</td>\n",
              "      <td>Tom Penny</td>\n",
              "      <td>Tony German</td>\n",
              "      <td>0</td>\n",
              "      <td>P. Martin Associates</td>\n",
              "    </tr>\n",
              "    <tr>\n",
              "      <th>271215</th>\n",
              "      <td>3150013763</td>\n",
              "      <td>Der Hofmeister</td>\n",
              "      <td>Jakob Lenz</td>\n",
              "      <td>0</td>\n",
              "      <td>Philipp Reclam, Jun Verlag GmbH</td>\n",
              "    </tr>\n",
              "  </tbody>\n",
              "</table>\n",
              "<p>4581 rows × 5 columns</p>\n",
              "</div>"
            ],
            "text/plain": [
              "              ISBN  ...                           Publisher\n",
              "176     3150000335  ...     Philipp Reclam, Jun Verlag GmbH\n",
              "188     342311360X  ...  Deutscher Taschenbuch Verlag (DTV)\n",
              "288     0571197639  ...                     Faber Faber Inc\n",
              "351     3596214629  ...     Fischer Taschenbuch Verlag GmbH\n",
              "542     8845229041  ...                  Fabbri - RCS Libri\n",
              "...            ...  ...                                 ...\n",
              "270813  014029953X  ...                   Penguin Books Ltd\n",
              "270932  0340571187  ...                    Trafalgar Square\n",
              "271113  8427201079  ...                    Editorial Molino\n",
              "271201  0887781721  ...                P. Martin Associates\n",
              "271215  3150013763  ...     Philipp Reclam, Jun Verlag GmbH\n",
              "\n",
              "[4581 rows x 5 columns]"
            ]
          },
          "metadata": {},
          "execution_count": 61
        }
      ]
    },
    {
      "cell_type": "markdown",
      "metadata": {
        "id": "vQ_-M49HBQ-F"
      },
      "source": [
        "With bit of time we might try to lookup years of publication."
      ]
    },
    {
      "cell_type": "code",
      "metadata": {
        "id": "Hmt0XCKy9s-6"
      },
      "source": [
        "def find_lost_years():\n",
        "\n",
        "  not_found = []\n",
        "  for index in tqdm(books[books['Year-Of-Publication'].apply(lambda x: x < 1900 or x > 2010)].index):\n",
        "\n",
        "    try:\n",
        "      book = isbnlib.meta(books['ISBN'][index], service='goob')\n",
        "    except:\n",
        "      continue\n",
        "\n",
        "    if not book:\n",
        "      not_found.append(index)\n",
        "      continue\n",
        "\n",
        "    if 'Year' in books.keys():\n",
        "      books['Year-Of-Publication'][index] = book['Year']\n",
        "    else:\n",
        "      not_found.append(index)\n",
        "    \n",
        "  return not_found"
      ],
      "execution_count": 62,
      "outputs": []
    },
    {
      "cell_type": "code",
      "metadata": {
        "id": "8bFfEZsDBXp8"
      },
      "source": [
        "#not_found = find_lost_years()\n",
        "#print(not_found)"
      ],
      "execution_count": null,
      "outputs": []
    }
  ]
}