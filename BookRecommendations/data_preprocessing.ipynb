{
  "nbformat": 4,
  "nbformat_minor": 0,
  "metadata": {
    "colab": {
      "name": "data_preprocessing.ipynb",
      "provenance": [],
      "authorship_tag": "ABX9TyNklqVjdnos0ikSOyMoi08N"
    },
    "kernelspec": {
      "name": "python3",
      "display_name": "Python 3"
    },
    "language_info": {
      "name": "python"
    }
  },
  "cells": [
    {
      "cell_type": "markdown",
      "metadata": {
        "id": "aNQciJYLbJX2"
      },
      "source": [
        "Preprocessing of the [Book-Crossing Dataset](http://www2.informatik.uni-freiburg.de/~cziegler/BX/). Rational for some steps comes from [dataset exploration](https://github.com/katarinagresova/MLprojects/blob/main/BookRecommendations/playground.ipynb) notebok."
      ]
    },
    {
      "cell_type": "markdown",
      "metadata": {
        "id": "HaZLN5w-_1RT"
      },
      "source": [
        "# Notes\n",
        "\n",
        "- it could be interesting to add feature *language* to books - there are many different languages in dataset"
      ]
    },
    {
      "cell_type": "markdown",
      "metadata": {
        "id": "Lm7ZSXLHb8j8"
      },
      "source": [
        "# Setup"
      ]
    },
    {
      "cell_type": "code",
      "metadata": {
        "colab": {
          "base_uri": "https://localhost:8080/"
        },
        "id": "C3iH5Px5bJFD",
        "outputId": "5c03c950-90a0-4109-8106-9a897ed534e5"
      },
      "source": [
        "!wget http://www2.informatik.uni-freiburg.de/~cziegler/BX/BX-CSV-Dump.zip"
      ],
      "execution_count": 1,
      "outputs": [
        {
          "output_type": "stream",
          "name": "stdout",
          "text": [
            "--2021-11-07 21:06:33--  http://www2.informatik.uni-freiburg.de/~cziegler/BX/BX-CSV-Dump.zip\n",
            "Resolving www2.informatik.uni-freiburg.de (www2.informatik.uni-freiburg.de)... 132.230.105.133\n",
            "Connecting to www2.informatik.uni-freiburg.de (www2.informatik.uni-freiburg.de)|132.230.105.133|:80... connected.\n",
            "HTTP request sent, awaiting response... 200 OK\n",
            "Length: 26085508 (25M) [application/zip]\n",
            "Saving to: ‘BX-CSV-Dump.zip.3’\n",
            "\n",
            "BX-CSV-Dump.zip.3   100%[===================>]  24.88M  11.4MB/s    in 2.2s    \n",
            "\n",
            "2021-11-07 21:06:36 (11.4 MB/s) - ‘BX-CSV-Dump.zip.3’ saved [26085508/26085508]\n",
            "\n"
          ]
        }
      ]
    },
    {
      "cell_type": "code",
      "metadata": {
        "colab": {
          "base_uri": "https://localhost:8080/"
        },
        "id": "4cKJPD6BbGqW",
        "outputId": "081a7d24-f3f5-4f24-9cdf-c4ec5ff5ebac"
      },
      "source": [
        "!unzip BX-CSV-Dump.zip"
      ],
      "execution_count": 2,
      "outputs": [
        {
          "output_type": "stream",
          "name": "stdout",
          "text": [
            "Archive:  BX-CSV-Dump.zip\n",
            "replace BX-Book-Ratings.csv? [y]es, [n]o, [A]ll, [N]one, [r]ename: n\n",
            "replace BX-Books.csv? [y]es, [n]o, [A]ll, [N]one, [r]ename: n\n",
            "replace BX-Users.csv? [y]es, [n]o, [A]ll, [N]one, [r]ename: n\n"
          ]
        }
      ]
    },
    {
      "cell_type": "code",
      "metadata": {
        "colab": {
          "base_uri": "https://localhost:8080/"
        },
        "id": "SsW2TQxwczwe",
        "outputId": "8625b0ef-d62a-45ac-a49c-8c62fb70c4b2"
      },
      "source": [
        "!pip install isbnlib"
      ],
      "execution_count": 3,
      "outputs": [
        {
          "output_type": "stream",
          "name": "stdout",
          "text": [
            "\n",
            "Requirement already satisfied: isbnlib in /usr/local/lib/python3.7/dist-packages (3.10.9)\n"
          ]
        }
      ]
    },
    {
      "cell_type": "code",
      "metadata": {
        "id": "cEOXHCBsb-hd"
      },
      "source": [
        "import pandas as pd\n",
        "import isbnlib\n",
        "from tqdm import tqdm\n",
        "import matplotlib.pyplot as plt"
      ],
      "execution_count": 4,
      "outputs": []
    },
    {
      "cell_type": "code",
      "metadata": {
        "id": "m1BOZ6AucPyU"
      },
      "source": [
        "users = pd.read_csv('BX-Users.csv', sep=';', encoding = \"ISO-8859-1\")\n",
        "books = pd.read_csv('BX-Books.csv', sep=';', encoding = \"ISO-8859-1\", escapechar = \"\\\\\")\n",
        "ratings = pd.read_csv('BX-Book-Ratings.csv', sep=';', encoding = \"ISO-8859-1\")"
      ],
      "execution_count": 5,
      "outputs": []
    },
    {
      "cell_type": "markdown",
      "metadata": {
        "id": "kBrVPnkLBk0J"
      },
      "source": [
        "# Books table"
      ]
    },
    {
      "cell_type": "markdown",
      "metadata": {
        "id": "Se5lZ3zDcDlr"
      },
      "source": [
        "## Data cleaning"
      ]
    },
    {
      "cell_type": "markdown",
      "metadata": {
        "id": "zkYpjaySnpbt"
      },
      "source": [
        "### Useless columns\n",
        "\n",
        "Let's look at columns if there are some useful information."
      ]
    },
    {
      "cell_type": "code",
      "metadata": {
        "colab": {
          "base_uri": "https://localhost:8080/",
          "height": 428
        },
        "id": "eeX1VZOZntwZ",
        "outputId": "26ac409c-2548-4f3d-b2ee-69f27e8befdf"
      },
      "source": [
        "books.head()"
      ],
      "execution_count": 6,
      "outputs": [
        {
          "output_type": "execute_result",
          "data": {
            "text/html": [
              "<div>\n",
              "<style scoped>\n",
              "    .dataframe tbody tr th:only-of-type {\n",
              "        vertical-align: middle;\n",
              "    }\n",
              "\n",
              "    .dataframe tbody tr th {\n",
              "        vertical-align: top;\n",
              "    }\n",
              "\n",
              "    .dataframe thead th {\n",
              "        text-align: right;\n",
              "    }\n",
              "</style>\n",
              "<table border=\"1\" class=\"dataframe\">\n",
              "  <thead>\n",
              "    <tr style=\"text-align: right;\">\n",
              "      <th></th>\n",
              "      <th>ISBN</th>\n",
              "      <th>Book-Title</th>\n",
              "      <th>Book-Author</th>\n",
              "      <th>Year-Of-Publication</th>\n",
              "      <th>Publisher</th>\n",
              "      <th>Image-URL-S</th>\n",
              "      <th>Image-URL-M</th>\n",
              "      <th>Image-URL-L</th>\n",
              "    </tr>\n",
              "  </thead>\n",
              "  <tbody>\n",
              "    <tr>\n",
              "      <th>0</th>\n",
              "      <td>0195153448</td>\n",
              "      <td>Classical Mythology</td>\n",
              "      <td>Mark P. O. Morford</td>\n",
              "      <td>2002</td>\n",
              "      <td>Oxford University Press</td>\n",
              "      <td>http://images.amazon.com/images/P/0195153448.0...</td>\n",
              "      <td>http://images.amazon.com/images/P/0195153448.0...</td>\n",
              "      <td>http://images.amazon.com/images/P/0195153448.0...</td>\n",
              "    </tr>\n",
              "    <tr>\n",
              "      <th>1</th>\n",
              "      <td>0002005018</td>\n",
              "      <td>Clara Callan</td>\n",
              "      <td>Richard Bruce Wright</td>\n",
              "      <td>2001</td>\n",
              "      <td>HarperFlamingo Canada</td>\n",
              "      <td>http://images.amazon.com/images/P/0002005018.0...</td>\n",
              "      <td>http://images.amazon.com/images/P/0002005018.0...</td>\n",
              "      <td>http://images.amazon.com/images/P/0002005018.0...</td>\n",
              "    </tr>\n",
              "    <tr>\n",
              "      <th>2</th>\n",
              "      <td>0060973129</td>\n",
              "      <td>Decision in Normandy</td>\n",
              "      <td>Carlo D'Este</td>\n",
              "      <td>1991</td>\n",
              "      <td>HarperPerennial</td>\n",
              "      <td>http://images.amazon.com/images/P/0060973129.0...</td>\n",
              "      <td>http://images.amazon.com/images/P/0060973129.0...</td>\n",
              "      <td>http://images.amazon.com/images/P/0060973129.0...</td>\n",
              "    </tr>\n",
              "    <tr>\n",
              "      <th>3</th>\n",
              "      <td>0374157065</td>\n",
              "      <td>Flu: The Story of the Great Influenza Pandemic...</td>\n",
              "      <td>Gina Bari Kolata</td>\n",
              "      <td>1999</td>\n",
              "      <td>Farrar Straus Giroux</td>\n",
              "      <td>http://images.amazon.com/images/P/0374157065.0...</td>\n",
              "      <td>http://images.amazon.com/images/P/0374157065.0...</td>\n",
              "      <td>http://images.amazon.com/images/P/0374157065.0...</td>\n",
              "    </tr>\n",
              "    <tr>\n",
              "      <th>4</th>\n",
              "      <td>0393045218</td>\n",
              "      <td>The Mummies of Urumchi</td>\n",
              "      <td>E. J. W. Barber</td>\n",
              "      <td>1999</td>\n",
              "      <td>W. W. Norton &amp;amp; Company</td>\n",
              "      <td>http://images.amazon.com/images/P/0393045218.0...</td>\n",
              "      <td>http://images.amazon.com/images/P/0393045218.0...</td>\n",
              "      <td>http://images.amazon.com/images/P/0393045218.0...</td>\n",
              "    </tr>\n",
              "  </tbody>\n",
              "</table>\n",
              "</div>"
            ],
            "text/plain": [
              "         ISBN  ...                                        Image-URL-L\n",
              "0  0195153448  ...  http://images.amazon.com/images/P/0195153448.0...\n",
              "1  0002005018  ...  http://images.amazon.com/images/P/0002005018.0...\n",
              "2  0060973129  ...  http://images.amazon.com/images/P/0060973129.0...\n",
              "3  0374157065  ...  http://images.amazon.com/images/P/0374157065.0...\n",
              "4  0393045218  ...  http://images.amazon.com/images/P/0393045218.0...\n",
              "\n",
              "[5 rows x 8 columns]"
            ]
          },
          "metadata": {},
          "execution_count": 6
        }
      ]
    },
    {
      "cell_type": "markdown",
      "metadata": {
        "id": "p5NN-JJ2x13l"
      },
      "source": [
        "We might use image in final application to show a preview of sugested books to a user. Or we could use it in multi-modal model as one of input for computing similarity between books. But for now, we will not need it, since we will do just simple proof-of-concept recommendation system."
      ]
    },
    {
      "cell_type": "code",
      "metadata": {
        "id": "C8j7JGJSnwWY"
      },
      "source": [
        "books = books.drop(columns=['Image-URL-S', 'Image-URL-M', 'Image-URL-L'])"
      ],
      "execution_count": 7,
      "outputs": []
    },
    {
      "cell_type": "code",
      "metadata": {
        "colab": {
          "base_uri": "https://localhost:8080/",
          "height": 204
        },
        "id": "UVP_gCs9n-0D",
        "outputId": "2775d983-8dd3-449c-bb6e-3ea91a07c09a"
      },
      "source": [
        "books.head()"
      ],
      "execution_count": 8,
      "outputs": [
        {
          "output_type": "execute_result",
          "data": {
            "text/html": [
              "<div>\n",
              "<style scoped>\n",
              "    .dataframe tbody tr th:only-of-type {\n",
              "        vertical-align: middle;\n",
              "    }\n",
              "\n",
              "    .dataframe tbody tr th {\n",
              "        vertical-align: top;\n",
              "    }\n",
              "\n",
              "    .dataframe thead th {\n",
              "        text-align: right;\n",
              "    }\n",
              "</style>\n",
              "<table border=\"1\" class=\"dataframe\">\n",
              "  <thead>\n",
              "    <tr style=\"text-align: right;\">\n",
              "      <th></th>\n",
              "      <th>ISBN</th>\n",
              "      <th>Book-Title</th>\n",
              "      <th>Book-Author</th>\n",
              "      <th>Year-Of-Publication</th>\n",
              "      <th>Publisher</th>\n",
              "    </tr>\n",
              "  </thead>\n",
              "  <tbody>\n",
              "    <tr>\n",
              "      <th>0</th>\n",
              "      <td>0195153448</td>\n",
              "      <td>Classical Mythology</td>\n",
              "      <td>Mark P. O. Morford</td>\n",
              "      <td>2002</td>\n",
              "      <td>Oxford University Press</td>\n",
              "    </tr>\n",
              "    <tr>\n",
              "      <th>1</th>\n",
              "      <td>0002005018</td>\n",
              "      <td>Clara Callan</td>\n",
              "      <td>Richard Bruce Wright</td>\n",
              "      <td>2001</td>\n",
              "      <td>HarperFlamingo Canada</td>\n",
              "    </tr>\n",
              "    <tr>\n",
              "      <th>2</th>\n",
              "      <td>0060973129</td>\n",
              "      <td>Decision in Normandy</td>\n",
              "      <td>Carlo D'Este</td>\n",
              "      <td>1991</td>\n",
              "      <td>HarperPerennial</td>\n",
              "    </tr>\n",
              "    <tr>\n",
              "      <th>3</th>\n",
              "      <td>0374157065</td>\n",
              "      <td>Flu: The Story of the Great Influenza Pandemic...</td>\n",
              "      <td>Gina Bari Kolata</td>\n",
              "      <td>1999</td>\n",
              "      <td>Farrar Straus Giroux</td>\n",
              "    </tr>\n",
              "    <tr>\n",
              "      <th>4</th>\n",
              "      <td>0393045218</td>\n",
              "      <td>The Mummies of Urumchi</td>\n",
              "      <td>E. J. W. Barber</td>\n",
              "      <td>1999</td>\n",
              "      <td>W. W. Norton &amp;amp; Company</td>\n",
              "    </tr>\n",
              "  </tbody>\n",
              "</table>\n",
              "</div>"
            ],
            "text/plain": [
              "         ISBN  ...                   Publisher\n",
              "0  0195153448  ...     Oxford University Press\n",
              "1  0002005018  ...       HarperFlamingo Canada\n",
              "2  0060973129  ...             HarperPerennial\n",
              "3  0374157065  ...        Farrar Straus Giroux\n",
              "4  0393045218  ...  W. W. Norton &amp; Company\n",
              "\n",
              "[5 rows x 5 columns]"
            ]
          },
          "metadata": {},
          "execution_count": 8
        }
      ]
    },
    {
      "cell_type": "markdown",
      "metadata": {
        "id": "suFSAa7GcMV6"
      },
      "source": [
        "### Transforming ISBN to cannonical form\n",
        "\n",
        "I found this nice python package called [isbnlib](https://github.com/xlcnd/isbnlib) that can be used to validate, clean, transform, hyphenate and get metadata for ISBN strings.\n",
        "\n",
        "Reasons for bothering with ISBN numbers:\n",
        "- transform ISBN numbers into standard form to prevent duplicate entries\n",
        "- use ISBN as unique and valid identificator of a book, so we could connect it with other resources where books are identified by ISBN number.\n"
      ]
    },
    {
      "cell_type": "code",
      "metadata": {
        "colab": {
          "base_uri": "https://localhost:8080/"
        },
        "id": "u07JXzCVeFjG",
        "outputId": "4b3e74e4-3466-488f-b254-4907bda38480"
      },
      "source": [
        "books_count = len(books)\n",
        "ratings_count = len(ratings)\n",
        "unique_books = len(books['ISBN'].unique())\n",
        "unique_ratings = len(ratings['ISBN'].unique())\n",
        "\n",
        "print(\"Books count: \", books_count)\n",
        "print(\"Books count in ratings: \", ratings_count)\n",
        "print(\"Unique books count: \", unique_books)\n",
        "print(\"Unique books in ratings: \", unique_ratings)"
      ],
      "execution_count": 9,
      "outputs": [
        {
          "output_type": "stream",
          "name": "stdout",
          "text": [
            "Books count:  271379\n",
            "Books count in ratings:  1149780\n",
            "Unique books count:  271379\n",
            "Unique books in ratings:  340556\n"
          ]
        }
      ]
    },
    {
      "cell_type": "code",
      "metadata": {
        "id": "yt0N2AmZeLWI"
      },
      "source": [
        "books['ISBN'] = books['ISBN'].apply(lambda x: isbnlib.canonical(isbnlib.clean(x)))\n",
        "ratings['ISBN'] = ratings['ISBN'].apply(lambda x: isbnlib.canonical(isbnlib.clean(x)))"
      ],
      "execution_count": 10,
      "outputs": []
    },
    {
      "cell_type": "code",
      "metadata": {
        "colab": {
          "base_uri": "https://localhost:8080/"
        },
        "id": "jZ5dl8gveZx3",
        "outputId": "3b56e50a-b8c7-4f90-914d-47b3cf437bc8"
      },
      "source": [
        "print(\"Removed books: \", books_count - len(books))\n",
        "print(\"Removed books in ratings: \", ratings_count - len(ratings))\n",
        "print(\"Removed unique books: \", unique_books - len(books['ISBN'].unique()))\n",
        "print(\"Removed unique books in ratings: \", unique_ratings - len(ratings['ISBN'].unique()))\n",
        "\n",
        "books_count = len(books)\n",
        "ratings_count = len(ratings)\n",
        "unique_books = len(books['ISBN'].unique())\n",
        "unique_ratings = len(ratings['ISBN'].unique())"
      ],
      "execution_count": 11,
      "outputs": [
        {
          "output_type": "stream",
          "name": "stdout",
          "text": [
            "Removed books:  0\n",
            "Removed books in ratings:  0\n",
            "Removed unique books:  431\n",
            "Removed unique books in ratings:  8134\n"
          ]
        }
      ]
    },
    {
      "cell_type": "markdown",
      "metadata": {
        "id": "aj0wguyw0Teq"
      },
      "source": [
        "As we can see, after trasforming to cannonical form, we have less unique ISBN numbers."
      ]
    },
    {
      "cell_type": "markdown",
      "metadata": {
        "id": "H1wgsZHyemao"
      },
      "source": [
        "### Removing invalid ISBN"
      ]
    },
    {
      "cell_type": "code",
      "metadata": {
        "colab": {
          "base_uri": "https://localhost:8080/"
        },
        "id": "6dSjC_DAclT8",
        "outputId": "8d4b55d0-0116-4b44-b7f5-de0946730a61"
      },
      "source": [
        "invalid_ISBN = {\n",
        "                *set(books['ISBN'][books['ISBN'].apply(lambda x: (not isbnlib.is_isbn10(x)) and (not isbnlib.is_isbn13(x)))]),\n",
        "                *set(ratings['ISBN'][ratings['ISBN'].apply(lambda x: (not isbnlib.is_isbn10(x)) and (not isbnlib.is_isbn13(x)))])\n",
        "}\n",
        "print(len(invalid_ISBN))\n",
        "print(list(invalid_ISBN)[:10])"
      ],
      "execution_count": 12,
      "outputs": [
        {
          "output_type": "stream",
          "name": "stdout",
          "text": [
            "4045\n",
            "['', '2105197595', '0965068719', '0876732152', '8401322809', '1357108642', '1565123660', '3936384019', '9721030609', '9632087375']\n"
          ]
        }
      ]
    },
    {
      "cell_type": "markdown",
      "metadata": {
        "id": "CSIhHwMfgIib"
      },
      "source": [
        "Empty ISBN is result of trying to transform ASIN (Amazon ID) to correct ISBN numbers. There we few ASIN numbers in original data and there is no straightforward way how to transform them to ISBN (except for mining Amazon websites).\n",
        "\n",
        "Some of invalid ISBN could be manualy fixed - there are typos.\n"
      ]
    },
    {
      "cell_type": "code",
      "metadata": {
        "colab": {
          "base_uri": "https://localhost:8080/"
        },
        "id": "qhs2r0H_daiQ",
        "outputId": "3280e084-9577-4af7-ea4a-9694aea463e2"
      },
      "source": [
        "books['ISBN'].apply(lambda x: x in invalid_ISBN).value_counts()"
      ],
      "execution_count": 13,
      "outputs": [
        {
          "output_type": "execute_result",
          "data": {
            "text/plain": [
              "False    271262\n",
              "True        117\n",
              "Name: ISBN, dtype: int64"
            ]
          },
          "metadata": {},
          "execution_count": 13
        }
      ]
    },
    {
      "cell_type": "code",
      "metadata": {
        "id": "4YX6yNJygev4"
      },
      "source": [
        "books = books[books['ISBN'].apply(lambda x: x not in invalid_ISBN)]\n",
        "ratings = ratings[ratings['ISBN'].apply(lambda x: x not in invalid_ISBN)]"
      ],
      "execution_count": 14,
      "outputs": []
    },
    {
      "cell_type": "code",
      "metadata": {
        "colab": {
          "base_uri": "https://localhost:8080/"
        },
        "id": "6eObn1qpc9Wd",
        "outputId": "0b28dd87-30a5-4bd5-bb67-93e0525516ce"
      },
      "source": [
        "print(\"Removed books: \", books_count - len(books))\n",
        "print(\"Removed books in ratings: \", ratings_count - len(ratings))\n",
        "print(\"Removed unique books: \", unique_books - len(books['ISBN'].unique()))\n",
        "print(\"Removed unique books in ratings: \", unique_ratings - len(ratings['ISBN'].unique()))\n",
        "\n",
        "books_count = len(books)\n",
        "ratings_count = len(ratings)\n",
        "unique_books = len(books['ISBN'].unique())\n",
        "unique_ratings = len(ratings['ISBN'].unique())"
      ],
      "execution_count": 15,
      "outputs": [
        {
          "output_type": "stream",
          "name": "stdout",
          "text": [
            "Removed books:  117\n",
            "Removed books in ratings:  14593\n",
            "Removed unique books:  1\n",
            "Removed unique books in ratings:  4045\n"
          ]
        }
      ]
    },
    {
      "cell_type": "markdown",
      "metadata": {
        "id": "cs2yq_l7hRHg"
      },
      "source": [
        "### Deduplicating\n",
        "\n",
        "- for books: drop duplicates\n",
        "- for ratings: duplicates have been merged by transforming to cannonical forms"
      ]
    },
    {
      "cell_type": "code",
      "metadata": {
        "id": "wQnrqRSkiY-t"
      },
      "source": [
        "books = books.drop_duplicates()"
      ],
      "execution_count": 16,
      "outputs": []
    },
    {
      "cell_type": "code",
      "metadata": {
        "colab": {
          "base_uri": "https://localhost:8080/"
        },
        "id": "rb21_vpWiiay",
        "outputId": "e26529ef-5304-4bd7-a131-673013de4b81"
      },
      "source": [
        "print(\"Removed books: \", books_count - len(books))\n",
        "print(\"Removed books in ratings: \", ratings_count - len(ratings))\n",
        "print(\"Removed unique books: \", unique_books - len(books['ISBN'].unique()))\n",
        "print(\"Removed unique books in ratings: \", unique_ratings - len(ratings['ISBN'].unique()))\n",
        "\n",
        "books_count = len(books)\n",
        "ratings_count = len(ratings)\n",
        "unique_books = len(books['ISBN'].unique())\n",
        "unique_ratings = len(ratings['ISBN'].unique())"
      ],
      "execution_count": 17,
      "outputs": [
        {
          "output_type": "stream",
          "name": "stdout",
          "text": [
            "Removed books:  314\n",
            "Removed books in ratings:  0\n",
            "Removed unique books:  0\n",
            "Removed unique books in ratings:  0\n"
          ]
        }
      ]
    },
    {
      "cell_type": "markdown",
      "metadata": {
        "id": "1ky_jsMemwzj"
      },
      "source": [
        "## Data completing"
      ]
    },
    {
      "cell_type": "markdown",
      "metadata": {
        "id": "_dO-T11im7Mh"
      },
      "source": [
        "### Missing books records"
      ]
    },
    {
      "cell_type": "code",
      "metadata": {
        "colab": {
          "base_uri": "https://localhost:8080/"
        },
        "id": "QPej9Jm3mujU",
        "outputId": "cea5cc68-1b2c-4a59-b186-10c081b5eb55"
      },
      "source": [
        "ratings['ISBN'][~ratings['ISBN'].isin(books['ISBN'])]"
      ],
      "execution_count": 18,
      "outputs": [
        {
          "output_type": "execute_result",
          "data": {
            "text/plain": [
              "6          3257224281\n",
              "7          0600570967\n",
              "25         3442437407\n",
              "26         033390804X\n",
              "30         8440682697\n",
              "              ...    \n",
              "1149442    0330337297\n",
              "1149444    0747252327\n",
              "1149446    8804413530\n",
              "1149581    0679781587\n",
              "1149758    8445072897\n",
              "Name: ISBN, Length: 103780, dtype: object"
            ]
          },
          "metadata": {},
          "execution_count": 18
        }
      ]
    },
    {
      "cell_type": "markdown",
      "metadata": {
        "id": "9Ryf4EA_7Jxj"
      },
      "source": [
        "We have ratings for 103 780 books that are not in *books* dataset. I created following function for looking up book metadata via `isbnlib` package. But it is not supporting batch request so it would take more then 30h to run."
      ]
    },
    {
      "cell_type": "code",
      "metadata": {
        "id": "pCfQQXiCnFXU"
      },
      "source": [
        "def find_lost_books():\n",
        "\n",
        "  new_books = []\n",
        "  not_found = []\n",
        "  for missing_isbn in tqdm(ratings['ISBN'][~ratings['ISBN'].isin(books['ISBN'])]):\n",
        "\n",
        "    try:\n",
        "      book = isbnlib.meta(missing_isbn, service='goob')\n",
        "    except:\n",
        "      try: \n",
        "        book = isbnlib.meta(missing_isbn, service='wiki')\n",
        "      except:\n",
        "        not_found.append(missing_isbn)\n",
        "        continue\n",
        "\n",
        "    if not book:\n",
        "      not_found.append(missing_isbn)\n",
        "      continue\n",
        "    isbn_id = 'ISBN-13' if 'ISBN-13' in book.keys() else 'ISBN-10'\n",
        "    new_books.append([\n",
        "        book[isbn_id],\n",
        "        book['Title'],\n",
        "        book['Authors'][0],\n",
        "        book['Year'],\n",
        "        book['Publisher']\n",
        "    ])\n",
        "    \n",
        "  return new_books, not_found"
      ],
      "execution_count": 19,
      "outputs": []
    },
    {
      "cell_type": "code",
      "metadata": {
        "id": "ZJUYMLziuaDp"
      },
      "source": [
        "# do this if you have more then 30 hours\n",
        "#new_books, not_found = find_lost_books()\n",
        "#books.append(pd.DataFrame(new_books, columns=books.columns))\n",
        "#print(not_found)"
      ],
      "execution_count": 20,
      "outputs": []
    },
    {
      "cell_type": "code",
      "metadata": {
        "id": "qAD_-24p6aCE"
      },
      "source": [
        "# for now, just drop rating without record in books\n",
        "atings = ratings[ratings['ISBN'].isin(books['ISBN'])]"
      ],
      "execution_count": 21,
      "outputs": []
    },
    {
      "cell_type": "code",
      "metadata": {
        "colab": {
          "base_uri": "https://localhost:8080/"
        },
        "id": "O-_7ybMs6z8C",
        "outputId": "45c70a16-32fe-4e58-b34b-a916dbcde798"
      },
      "source": [
        "print(\"Removed books: \", books_count - len(books))\n",
        "print(\"Removed books in ratings: \", ratings_count - len(ratings))\n",
        "print(\"Removed unique books: \", unique_books - len(books['ISBN'].unique()))\n",
        "print(\"Removed unique books in ratings: \", unique_ratings - len(ratings['ISBN'].unique()))\n",
        "\n",
        "books_count = len(books)\n",
        "ratings_count = len(ratings)\n",
        "unique_books = len(books['ISBN'].unique())\n",
        "unique_ratings = len(ratings['ISBN'].unique())"
      ],
      "execution_count": 22,
      "outputs": [
        {
          "output_type": "stream",
          "name": "stdout",
          "text": [
            "Removed books:  0\n",
            "Removed books in ratings:  0\n",
            "Removed unique books:  0\n",
            "Removed unique books in ratings:  0\n"
          ]
        }
      ]
    },
    {
      "cell_type": "markdown",
      "metadata": {
        "id": "LTCHP2qXxBA7"
      },
      "source": [
        "### Missing book metadata"
      ]
    },
    {
      "cell_type": "code",
      "metadata": {
        "colab": {
          "base_uri": "https://localhost:8080/"
        },
        "id": "RsNaaKMIxAvy",
        "outputId": "14998eea-e5bd-4199-e435-66127ee8ac8e"
      },
      "source": [
        "books.info()"
      ],
      "execution_count": 23,
      "outputs": [
        {
          "output_type": "stream",
          "name": "stdout",
          "text": [
            "<class 'pandas.core.frame.DataFrame'>\n",
            "Int64Index: 270948 entries, 0 to 271378\n",
            "Data columns (total 5 columns):\n",
            " #   Column               Non-Null Count   Dtype \n",
            "---  ------               --------------   ----- \n",
            " 0   ISBN                 270948 non-null  object\n",
            " 1   Book-Title           270948 non-null  object\n",
            " 2   Book-Author          270947 non-null  object\n",
            " 3   Year-Of-Publication  270948 non-null  int64 \n",
            " 4   Publisher            270946 non-null  object\n",
            "dtypes: int64(1), object(4)\n",
            "memory usage: 12.4+ MB\n"
          ]
        }
      ]
    },
    {
      "cell_type": "markdown",
      "metadata": {
        "id": "GFDEKq4D8glp"
      },
      "source": [
        "There is one record with missing author, so we might try to look it up by hand."
      ]
    },
    {
      "cell_type": "code",
      "metadata": {
        "colab": {
          "base_uri": "https://localhost:8080/",
          "height": 80
        },
        "id": "76uMXMoh8mHp",
        "outputId": "dc67eff2-8c2b-43f1-b39d-c83e1bc50258"
      },
      "source": [
        "books[books['Book-Author'].isnull()]"
      ],
      "execution_count": 24,
      "outputs": [
        {
          "output_type": "execute_result",
          "data": {
            "text/html": [
              "<div>\n",
              "<style scoped>\n",
              "    .dataframe tbody tr th:only-of-type {\n",
              "        vertical-align: middle;\n",
              "    }\n",
              "\n",
              "    .dataframe tbody tr th {\n",
              "        vertical-align: top;\n",
              "    }\n",
              "\n",
              "    .dataframe thead th {\n",
              "        text-align: right;\n",
              "    }\n",
              "</style>\n",
              "<table border=\"1\" class=\"dataframe\">\n",
              "  <thead>\n",
              "    <tr style=\"text-align: right;\">\n",
              "      <th></th>\n",
              "      <th>ISBN</th>\n",
              "      <th>Book-Title</th>\n",
              "      <th>Book-Author</th>\n",
              "      <th>Year-Of-Publication</th>\n",
              "      <th>Publisher</th>\n",
              "    </tr>\n",
              "  </thead>\n",
              "  <tbody>\n",
              "    <tr>\n",
              "      <th>187700</th>\n",
              "      <td>9627982032</td>\n",
              "      <td>The Credit Suisse Guide to Managing Your Perso...</td>\n",
              "      <td>NaN</td>\n",
              "      <td>1995</td>\n",
              "      <td>Edinburgh Financial Publishing</td>\n",
              "    </tr>\n",
              "  </tbody>\n",
              "</table>\n",
              "</div>"
            ],
            "text/plain": [
              "              ISBN  ...                       Publisher\n",
              "187700  9627982032  ...  Edinburgh Financial Publishing\n",
              "\n",
              "[1 rows x 5 columns]"
            ]
          },
          "metadata": {},
          "execution_count": 24
        }
      ]
    },
    {
      "cell_type": "code",
      "metadata": {
        "colab": {
          "base_uri": "https://localhost:8080/"
        },
        "id": "umFg_wYh9EMn",
        "outputId": "9eb2a3c5-a7aa-4112-cb85-5f6f9ce7559e"
      },
      "source": [
        "isbnlib.meta('9627982032', service='wiki')"
      ],
      "execution_count": 25,
      "outputs": [
        {
          "output_type": "execute_result",
          "data": {
            "text/plain": [
              "{'Authors': ['Larissa Downes', 'Crédit suisse'],\n",
              " 'ISBN-13': '9789627982036',\n",
              " 'Language': '',\n",
              " 'Publisher': 'Edinburgh Financial Pub. (Asia)',\n",
              " 'Title': 'The Credit Suisse guide to managing your personal wealth',\n",
              " 'Year': '1995'}"
            ]
          },
          "metadata": {},
          "execution_count": 25
        }
      ]
    },
    {
      "cell_type": "code",
      "metadata": {
        "id": "Lg-L5LtD-g_Y"
      },
      "source": [
        "books['Book-Author'][187700] = 'Larissa Downes'"
      ],
      "execution_count": 26,
      "outputs": []
    },
    {
      "cell_type": "code",
      "metadata": {
        "colab": {
          "base_uri": "https://localhost:8080/",
          "height": 49
        },
        "id": "oWfPkAhJ-sAg",
        "outputId": "ac044b4b-0b6d-438c-d661-25b78f970215"
      },
      "source": [
        "books[books['Book-Author'].isnull()]"
      ],
      "execution_count": 27,
      "outputs": [
        {
          "output_type": "execute_result",
          "data": {
            "text/html": [
              "<div>\n",
              "<style scoped>\n",
              "    .dataframe tbody tr th:only-of-type {\n",
              "        vertical-align: middle;\n",
              "    }\n",
              "\n",
              "    .dataframe tbody tr th {\n",
              "        vertical-align: top;\n",
              "    }\n",
              "\n",
              "    .dataframe thead th {\n",
              "        text-align: right;\n",
              "    }\n",
              "</style>\n",
              "<table border=\"1\" class=\"dataframe\">\n",
              "  <thead>\n",
              "    <tr style=\"text-align: right;\">\n",
              "      <th></th>\n",
              "      <th>ISBN</th>\n",
              "      <th>Book-Title</th>\n",
              "      <th>Book-Author</th>\n",
              "      <th>Year-Of-Publication</th>\n",
              "      <th>Publisher</th>\n",
              "    </tr>\n",
              "  </thead>\n",
              "  <tbody>\n",
              "  </tbody>\n",
              "</table>\n",
              "</div>"
            ],
            "text/plain": [
              "Empty DataFrame\n",
              "Columns: [ISBN, Book-Title, Book-Author, Year-Of-Publication, Publisher]\n",
              "Index: []"
            ]
          },
          "metadata": {},
          "execution_count": 27
        }
      ]
    },
    {
      "cell_type": "code",
      "metadata": {
        "colab": {
          "base_uri": "https://localhost:8080/",
          "height": 297
        },
        "id": "KruywYpwxIbM",
        "outputId": "5d68a289-e0cf-4d40-988e-c7ffe46a7458"
      },
      "source": [
        "books.describe()"
      ],
      "execution_count": 28,
      "outputs": [
        {
          "output_type": "execute_result",
          "data": {
            "text/html": [
              "<div>\n",
              "<style scoped>\n",
              "    .dataframe tbody tr th:only-of-type {\n",
              "        vertical-align: middle;\n",
              "    }\n",
              "\n",
              "    .dataframe tbody tr th {\n",
              "        vertical-align: top;\n",
              "    }\n",
              "\n",
              "    .dataframe thead th {\n",
              "        text-align: right;\n",
              "    }\n",
              "</style>\n",
              "<table border=\"1\" class=\"dataframe\">\n",
              "  <thead>\n",
              "    <tr style=\"text-align: right;\">\n",
              "      <th></th>\n",
              "      <th>Year-Of-Publication</th>\n",
              "    </tr>\n",
              "  </thead>\n",
              "  <tbody>\n",
              "    <tr>\n",
              "      <th>count</th>\n",
              "      <td>270948.000000</td>\n",
              "    </tr>\n",
              "    <tr>\n",
              "      <th>mean</th>\n",
              "      <td>1960.156381</td>\n",
              "    </tr>\n",
              "    <tr>\n",
              "      <th>std</th>\n",
              "      <td>256.505194</td>\n",
              "    </tr>\n",
              "    <tr>\n",
              "      <th>min</th>\n",
              "      <td>0.000000</td>\n",
              "    </tr>\n",
              "    <tr>\n",
              "      <th>25%</th>\n",
              "      <td>1989.000000</td>\n",
              "    </tr>\n",
              "    <tr>\n",
              "      <th>50%</th>\n",
              "      <td>1995.000000</td>\n",
              "    </tr>\n",
              "    <tr>\n",
              "      <th>75%</th>\n",
              "      <td>2000.000000</td>\n",
              "    </tr>\n",
              "    <tr>\n",
              "      <th>max</th>\n",
              "      <td>2050.000000</td>\n",
              "    </tr>\n",
              "  </tbody>\n",
              "</table>\n",
              "</div>"
            ],
            "text/plain": [
              "       Year-Of-Publication\n",
              "count        270948.000000\n",
              "mean           1960.156381\n",
              "std             256.505194\n",
              "min               0.000000\n",
              "25%            1989.000000\n",
              "50%            1995.000000\n",
              "75%            2000.000000\n",
              "max            2050.000000"
            ]
          },
          "metadata": {},
          "execution_count": 28
        }
      ]
    },
    {
      "cell_type": "code",
      "metadata": {
        "colab": {
          "base_uri": "https://localhost:8080/",
          "height": 419
        },
        "id": "OFno1k6i_XyK",
        "outputId": "70efdadb-ebdd-4f83-82c3-785310ef3ca4"
      },
      "source": [
        "books[books['Year-Of-Publication'].apply(lambda x: x < 1900 or x > 2010)]"
      ],
      "execution_count": 29,
      "outputs": [
        {
          "output_type": "execute_result",
          "data": {
            "text/html": [
              "<div>\n",
              "<style scoped>\n",
              "    .dataframe tbody tr th:only-of-type {\n",
              "        vertical-align: middle;\n",
              "    }\n",
              "\n",
              "    .dataframe tbody tr th {\n",
              "        vertical-align: top;\n",
              "    }\n",
              "\n",
              "    .dataframe thead th {\n",
              "        text-align: right;\n",
              "    }\n",
              "</style>\n",
              "<table border=\"1\" class=\"dataframe\">\n",
              "  <thead>\n",
              "    <tr style=\"text-align: right;\">\n",
              "      <th></th>\n",
              "      <th>ISBN</th>\n",
              "      <th>Book-Title</th>\n",
              "      <th>Book-Author</th>\n",
              "      <th>Year-Of-Publication</th>\n",
              "      <th>Publisher</th>\n",
              "    </tr>\n",
              "  </thead>\n",
              "  <tbody>\n",
              "    <tr>\n",
              "      <th>176</th>\n",
              "      <td>3150000335</td>\n",
              "      <td>Kabale Und Liebe</td>\n",
              "      <td>Schiller</td>\n",
              "      <td>0</td>\n",
              "      <td>Philipp Reclam, Jun Verlag GmbH</td>\n",
              "    </tr>\n",
              "    <tr>\n",
              "      <th>188</th>\n",
              "      <td>342311360X</td>\n",
              "      <td>Die Liebe in Den Zelten</td>\n",
              "      <td>Gabriel Garcia Marquez</td>\n",
              "      <td>0</td>\n",
              "      <td>Deutscher Taschenbuch Verlag (DTV)</td>\n",
              "    </tr>\n",
              "    <tr>\n",
              "      <th>288</th>\n",
              "      <td>0571197639</td>\n",
              "      <td>Poisonwood Bible Edition Uk</td>\n",
              "      <td>Barbara Kingsolver</td>\n",
              "      <td>0</td>\n",
              "      <td>Faber Faber Inc</td>\n",
              "    </tr>\n",
              "    <tr>\n",
              "      <th>351</th>\n",
              "      <td>3596214629</td>\n",
              "      <td>Herr Der Fliegen (Fiction, Poetry and Drama)</td>\n",
              "      <td>Golding</td>\n",
              "      <td>0</td>\n",
              "      <td>Fischer Taschenbuch Verlag GmbH</td>\n",
              "    </tr>\n",
              "    <tr>\n",
              "      <th>542</th>\n",
              "      <td>8845229041</td>\n",
              "      <td>Biblioteca Universale Rizzoli: Sulla Sponda De...</td>\n",
              "      <td>P Coelho</td>\n",
              "      <td>0</td>\n",
              "      <td>Fabbri - RCS Libri</td>\n",
              "    </tr>\n",
              "    <tr>\n",
              "      <th>...</th>\n",
              "      <td>...</td>\n",
              "      <td>...</td>\n",
              "      <td>...</td>\n",
              "      <td>...</td>\n",
              "      <td>...</td>\n",
              "    </tr>\n",
              "    <tr>\n",
              "      <th>270813</th>\n",
              "      <td>014029953X</td>\n",
              "      <td>Foe (Essential.penguin S.)</td>\n",
              "      <td>J.M. Coetzee</td>\n",
              "      <td>0</td>\n",
              "      <td>Penguin Books Ltd</td>\n",
              "    </tr>\n",
              "    <tr>\n",
              "      <th>270932</th>\n",
              "      <td>0340571187</td>\n",
              "      <td>Postmens House</td>\n",
              "      <td>Maggie Hemingway</td>\n",
              "      <td>0</td>\n",
              "      <td>Trafalgar Square</td>\n",
              "    </tr>\n",
              "    <tr>\n",
              "      <th>271113</th>\n",
              "      <td>8427201079</td>\n",
              "      <td>El Misterio De Sittaford</td>\n",
              "      <td>Agatha Christie</td>\n",
              "      <td>0</td>\n",
              "      <td>Editorial Molino</td>\n",
              "    </tr>\n",
              "    <tr>\n",
              "      <th>271201</th>\n",
              "      <td>0887781721</td>\n",
              "      <td>Tom Penny</td>\n",
              "      <td>Tony German</td>\n",
              "      <td>0</td>\n",
              "      <td>P. Martin Associates</td>\n",
              "    </tr>\n",
              "    <tr>\n",
              "      <th>271215</th>\n",
              "      <td>3150013763</td>\n",
              "      <td>Der Hofmeister</td>\n",
              "      <td>Jakob Lenz</td>\n",
              "      <td>0</td>\n",
              "      <td>Philipp Reclam, Jun Verlag GmbH</td>\n",
              "    </tr>\n",
              "  </tbody>\n",
              "</table>\n",
              "<p>4581 rows × 5 columns</p>\n",
              "</div>"
            ],
            "text/plain": [
              "              ISBN  ...                           Publisher\n",
              "176     3150000335  ...     Philipp Reclam, Jun Verlag GmbH\n",
              "188     342311360X  ...  Deutscher Taschenbuch Verlag (DTV)\n",
              "288     0571197639  ...                     Faber Faber Inc\n",
              "351     3596214629  ...     Fischer Taschenbuch Verlag GmbH\n",
              "542     8845229041  ...                  Fabbri - RCS Libri\n",
              "...            ...  ...                                 ...\n",
              "270813  014029953X  ...                   Penguin Books Ltd\n",
              "270932  0340571187  ...                    Trafalgar Square\n",
              "271113  8427201079  ...                    Editorial Molino\n",
              "271201  0887781721  ...                P. Martin Associates\n",
              "271215  3150013763  ...     Philipp Reclam, Jun Verlag GmbH\n",
              "\n",
              "[4581 rows x 5 columns]"
            ]
          },
          "metadata": {},
          "execution_count": 29
        }
      ]
    },
    {
      "cell_type": "markdown",
      "metadata": {
        "id": "vQ_-M49HBQ-F"
      },
      "source": [
        "With bit of time we might try to lookup years of publication."
      ]
    },
    {
      "cell_type": "code",
      "metadata": {
        "id": "Hmt0XCKy9s-6"
      },
      "source": [
        "def find_lost_years():\n",
        "\n",
        "  not_found = []\n",
        "  for index in tqdm(books[books['Year-Of-Publication'].apply(lambda x: x < 1900 or x > 2010)].index):\n",
        "\n",
        "    try:\n",
        "      book = isbnlib.meta(books['ISBN'][index], service='goob')\n",
        "    except:\n",
        "      continue\n",
        "\n",
        "    if not book:\n",
        "      not_found.append(index)\n",
        "      continue\n",
        "\n",
        "    if 'Year' in books.keys():\n",
        "      books['Year-Of-Publication'][index] = book['Year']\n",
        "    else:\n",
        "      not_found.append(index)\n",
        "    \n",
        "  return not_found"
      ],
      "execution_count": 30,
      "outputs": []
    },
    {
      "cell_type": "code",
      "metadata": {
        "id": "8bFfEZsDBXp8"
      },
      "source": [
        "#not_found = find_lost_years()\n",
        "#print(not_found)"
      ],
      "execution_count": 31,
      "outputs": []
    },
    {
      "cell_type": "markdown",
      "metadata": {
        "id": "jY06CXMZEmcW"
      },
      "source": [
        "# Users table\n",
        "\n",
        "When we look at users metadata, they are sparse and misleading. And we are not able to easily correct them (we might manualy correct some locations). So we will rather not use them."
      ]
    },
    {
      "cell_type": "code",
      "metadata": {
        "colab": {
          "base_uri": "https://localhost:8080/",
          "height": 204
        },
        "id": "ha57guAaFIQz",
        "outputId": "7fd44c7a-034f-4a3a-c8d9-1525246aa1a9"
      },
      "source": [
        "users.head()"
      ],
      "execution_count": 32,
      "outputs": [
        {
          "output_type": "execute_result",
          "data": {
            "text/html": [
              "<div>\n",
              "<style scoped>\n",
              "    .dataframe tbody tr th:only-of-type {\n",
              "        vertical-align: middle;\n",
              "    }\n",
              "\n",
              "    .dataframe tbody tr th {\n",
              "        vertical-align: top;\n",
              "    }\n",
              "\n",
              "    .dataframe thead th {\n",
              "        text-align: right;\n",
              "    }\n",
              "</style>\n",
              "<table border=\"1\" class=\"dataframe\">\n",
              "  <thead>\n",
              "    <tr style=\"text-align: right;\">\n",
              "      <th></th>\n",
              "      <th>User-ID</th>\n",
              "      <th>Location</th>\n",
              "      <th>Age</th>\n",
              "    </tr>\n",
              "  </thead>\n",
              "  <tbody>\n",
              "    <tr>\n",
              "      <th>0</th>\n",
              "      <td>1</td>\n",
              "      <td>nyc, new york, usa</td>\n",
              "      <td>NaN</td>\n",
              "    </tr>\n",
              "    <tr>\n",
              "      <th>1</th>\n",
              "      <td>2</td>\n",
              "      <td>stockton, california, usa</td>\n",
              "      <td>18.0</td>\n",
              "    </tr>\n",
              "    <tr>\n",
              "      <th>2</th>\n",
              "      <td>3</td>\n",
              "      <td>moscow, yukon territory, russia</td>\n",
              "      <td>NaN</td>\n",
              "    </tr>\n",
              "    <tr>\n",
              "      <th>3</th>\n",
              "      <td>4</td>\n",
              "      <td>porto, v.n.gaia, portugal</td>\n",
              "      <td>17.0</td>\n",
              "    </tr>\n",
              "    <tr>\n",
              "      <th>4</th>\n",
              "      <td>5</td>\n",
              "      <td>farnborough, hants, united kingdom</td>\n",
              "      <td>NaN</td>\n",
              "    </tr>\n",
              "  </tbody>\n",
              "</table>\n",
              "</div>"
            ],
            "text/plain": [
              "   User-ID                            Location   Age\n",
              "0        1                  nyc, new york, usa   NaN\n",
              "1        2           stockton, california, usa  18.0\n",
              "2        3     moscow, yukon territory, russia   NaN\n",
              "3        4           porto, v.n.gaia, portugal  17.0\n",
              "4        5  farnborough, hants, united kingdom   NaN"
            ]
          },
          "metadata": {},
          "execution_count": 32
        }
      ]
    },
    {
      "cell_type": "code",
      "metadata": {
        "colab": {
          "base_uri": "https://localhost:8080/",
          "height": 297
        },
        "id": "80_Xk3DjFOnY",
        "outputId": "3d73e989-af20-4efb-ad20-e84567a28197"
      },
      "source": [
        "users.describe()"
      ],
      "execution_count": 33,
      "outputs": [
        {
          "output_type": "execute_result",
          "data": {
            "text/html": [
              "<div>\n",
              "<style scoped>\n",
              "    .dataframe tbody tr th:only-of-type {\n",
              "        vertical-align: middle;\n",
              "    }\n",
              "\n",
              "    .dataframe tbody tr th {\n",
              "        vertical-align: top;\n",
              "    }\n",
              "\n",
              "    .dataframe thead th {\n",
              "        text-align: right;\n",
              "    }\n",
              "</style>\n",
              "<table border=\"1\" class=\"dataframe\">\n",
              "  <thead>\n",
              "    <tr style=\"text-align: right;\">\n",
              "      <th></th>\n",
              "      <th>User-ID</th>\n",
              "      <th>Age</th>\n",
              "    </tr>\n",
              "  </thead>\n",
              "  <tbody>\n",
              "    <tr>\n",
              "      <th>count</th>\n",
              "      <td>278858.00000</td>\n",
              "      <td>168096.000000</td>\n",
              "    </tr>\n",
              "    <tr>\n",
              "      <th>mean</th>\n",
              "      <td>139429.50000</td>\n",
              "      <td>34.751434</td>\n",
              "    </tr>\n",
              "    <tr>\n",
              "      <th>std</th>\n",
              "      <td>80499.51502</td>\n",
              "      <td>14.428097</td>\n",
              "    </tr>\n",
              "    <tr>\n",
              "      <th>min</th>\n",
              "      <td>1.00000</td>\n",
              "      <td>0.000000</td>\n",
              "    </tr>\n",
              "    <tr>\n",
              "      <th>25%</th>\n",
              "      <td>69715.25000</td>\n",
              "      <td>24.000000</td>\n",
              "    </tr>\n",
              "    <tr>\n",
              "      <th>50%</th>\n",
              "      <td>139429.50000</td>\n",
              "      <td>32.000000</td>\n",
              "    </tr>\n",
              "    <tr>\n",
              "      <th>75%</th>\n",
              "      <td>209143.75000</td>\n",
              "      <td>44.000000</td>\n",
              "    </tr>\n",
              "    <tr>\n",
              "      <th>max</th>\n",
              "      <td>278858.00000</td>\n",
              "      <td>244.000000</td>\n",
              "    </tr>\n",
              "  </tbody>\n",
              "</table>\n",
              "</div>"
            ],
            "text/plain": [
              "            User-ID            Age\n",
              "count  278858.00000  168096.000000\n",
              "mean   139429.50000      34.751434\n",
              "std     80499.51502      14.428097\n",
              "min         1.00000       0.000000\n",
              "25%     69715.25000      24.000000\n",
              "50%    139429.50000      32.000000\n",
              "75%    209143.75000      44.000000\n",
              "max    278858.00000     244.000000"
            ]
          },
          "metadata": {},
          "execution_count": 33
        }
      ]
    },
    {
      "cell_type": "code",
      "metadata": {
        "colab": {
          "base_uri": "https://localhost:8080/"
        },
        "id": "prxO9bTtFbLu",
        "outputId": "664e6272-b725-4347-987f-8444555c4e69"
      },
      "source": [
        "users['Location'].apply(lambda x: x.split(',')[-1].strip('\\\"')).value_counts()"
      ],
      "execution_count": 34,
      "outputs": [
        {
          "output_type": "execute_result",
          "data": {
            "text/plain": [
              " usa                139712\n",
              " canada              21658\n",
              " united kingdom      18556\n",
              " germany             17073\n",
              " spain               13258\n",
              "                     ...  \n",
              " united kingdom.         1\n",
              " camden                  1\n",
              " cherokee                1\n",
              " oakland                 1\n",
              " aroostook               1\n",
              "Name: Location, Length: 631, dtype: int64"
            ]
          },
          "metadata": {},
          "execution_count": 34
        }
      ]
    },
    {
      "cell_type": "code",
      "metadata": {
        "colab": {
          "base_uri": "https://localhost:8080/",
          "height": 419
        },
        "id": "23yDP58JFjef",
        "outputId": "f6b6db3a-c887-4f0b-9c7d-231b6b95a068"
      },
      "source": [
        "users = users.drop(columns=['Location', 'Age'])\n",
        "users"
      ],
      "execution_count": 35,
      "outputs": [
        {
          "output_type": "execute_result",
          "data": {
            "text/html": [
              "<div>\n",
              "<style scoped>\n",
              "    .dataframe tbody tr th:only-of-type {\n",
              "        vertical-align: middle;\n",
              "    }\n",
              "\n",
              "    .dataframe tbody tr th {\n",
              "        vertical-align: top;\n",
              "    }\n",
              "\n",
              "    .dataframe thead th {\n",
              "        text-align: right;\n",
              "    }\n",
              "</style>\n",
              "<table border=\"1\" class=\"dataframe\">\n",
              "  <thead>\n",
              "    <tr style=\"text-align: right;\">\n",
              "      <th></th>\n",
              "      <th>User-ID</th>\n",
              "    </tr>\n",
              "  </thead>\n",
              "  <tbody>\n",
              "    <tr>\n",
              "      <th>0</th>\n",
              "      <td>1</td>\n",
              "    </tr>\n",
              "    <tr>\n",
              "      <th>1</th>\n",
              "      <td>2</td>\n",
              "    </tr>\n",
              "    <tr>\n",
              "      <th>2</th>\n",
              "      <td>3</td>\n",
              "    </tr>\n",
              "    <tr>\n",
              "      <th>3</th>\n",
              "      <td>4</td>\n",
              "    </tr>\n",
              "    <tr>\n",
              "      <th>4</th>\n",
              "      <td>5</td>\n",
              "    </tr>\n",
              "    <tr>\n",
              "      <th>...</th>\n",
              "      <td>...</td>\n",
              "    </tr>\n",
              "    <tr>\n",
              "      <th>278853</th>\n",
              "      <td>278854</td>\n",
              "    </tr>\n",
              "    <tr>\n",
              "      <th>278854</th>\n",
              "      <td>278855</td>\n",
              "    </tr>\n",
              "    <tr>\n",
              "      <th>278855</th>\n",
              "      <td>278856</td>\n",
              "    </tr>\n",
              "    <tr>\n",
              "      <th>278856</th>\n",
              "      <td>278857</td>\n",
              "    </tr>\n",
              "    <tr>\n",
              "      <th>278857</th>\n",
              "      <td>278858</td>\n",
              "    </tr>\n",
              "  </tbody>\n",
              "</table>\n",
              "<p>278858 rows × 1 columns</p>\n",
              "</div>"
            ],
            "text/plain": [
              "        User-ID\n",
              "0             1\n",
              "1             2\n",
              "2             3\n",
              "3             4\n",
              "4             5\n",
              "...         ...\n",
              "278853   278854\n",
              "278854   278855\n",
              "278855   278856\n",
              "278856   278857\n",
              "278857   278858\n",
              "\n",
              "[278858 rows x 1 columns]"
            ]
          },
          "metadata": {},
          "execution_count": 35
        }
      ]
    },
    {
      "cell_type": "markdown",
      "metadata": {
        "id": "4HgfHHUAF928"
      },
      "source": [
        "# Ratings table"
      ]
    },
    {
      "cell_type": "code",
      "metadata": {
        "id": "UVgIgdTAF_3S"
      },
      "source": [
        "def plot_groupby_stats(ratings):\n",
        "\n",
        "  avg_user_rating = ratings.groupby('User-ID')[\"Book-Rating\"].mean()\n",
        "  num_ratings_by_user = ratings.groupby('User-ID')[\"Book-Rating\"].count()\n",
        "  avg_book_rating = ratings.groupby('ISBN')[\"Book-Rating\"].mean()\n",
        "  num_ratings_by_book = ratings.groupby('ISBN')[\"Book-Rating\"].count()\n",
        "\n",
        "  n_rows = 2\n",
        "  n_cols = 2\n",
        "  fig=plt.figure(figsize=(10, 10))\n",
        "\n",
        "  ax = fig.add_subplot(n_rows, n_cols, 1)\n",
        "  avg_user_rating.plot.box(ax=ax)\n",
        "  ax.set_title(\"Average user rating\")\n",
        "\n",
        "  ax = fig.add_subplot(n_rows, n_cols, 2)\n",
        "  num_ratings_by_user.plot.box(ax=ax)\n",
        "  ax.set_title(\"Number of ratings by user\")\n",
        "\n",
        "  ax = fig.add_subplot(n_rows, n_cols, 3)\n",
        "  avg_book_rating.plot.box(ax=ax)\n",
        "  ax.set_title(\"Average book rating\")\n",
        "\n",
        "  ax = fig.add_subplot(n_rows, n_cols, 4)\n",
        "  num_ratings_by_book.plot.box(ax=ax)\n",
        "  ax.set_title(\"Number of ratings by book\")\n",
        "\n",
        "  fig.tight_layout()  # Improves appearance a bit.\n",
        "  plt.show()"
      ],
      "execution_count": 36,
      "outputs": []
    },
    {
      "cell_type": "code",
      "metadata": {
        "colab": {
          "base_uri": "https://localhost:8080/",
          "height": 729
        },
        "id": "umlk0TpnGart",
        "outputId": "918a4be6-1e0e-42e0-f033-97c8689188bb"
      },
      "source": [
        "plot_groupby_stats(ratings)"
      ],
      "execution_count": 37,
      "outputs": [
        {
          "output_type": "display_data",
          "data": {
            "image/png": "[encoded data removed]",
            "text/plain": [
              "<Figure size 720x720 with 4 Axes>"
            ]
          },
          "metadata": {
            "needs_background": "light"
          }
        }
      ]
    },
    {
      "cell_type": "markdown",
      "metadata": {
        "id": "I8DKUiUJGl81"
      },
      "source": [
        "## Drop weakly rated books"
      ]
    },
    {
      "cell_type": "code",
      "metadata": {
        "colab": {
          "base_uri": "https://localhost:8080/"
        },
        "id": "T5KUPhH3KFvD",
        "outputId": "9889130e-dd1f-4112-f926-9ebc8dc48533"
      },
      "source": [
        "num_ratings_by_book = ratings.groupby('ISBN')[\"Book-Rating\"].count()\n",
        "ratings['Book-Rating'][ratings['ISBN'].isin(num_ratings_by_book[num_ratings_by_book < 10].index)].value_counts()"
      ],
      "execution_count": 39,
      "outputs": [
        {
          "output_type": "execute_result",
          "data": {
            "text/plain": [
              "0     376438\n",
              "8      50265\n",
              "10     40116\n",
              "7      39461\n",
              "9      31857\n",
              "5      29695\n",
              "6      19805\n",
              "4       4869\n",
              "3       3276\n",
              "2       1527\n",
              "1       1015\n",
              "Name: Book-Rating, dtype: int64"
            ]
          },
          "metadata": {},
          "execution_count": 39
        }
      ]
    },
    {
      "cell_type": "code",
      "metadata": {
        "id": "2IbtCbNcKIOt"
      },
      "source": [
        "ratings = ratings[ratings['ISBN'].isin(num_ratings_by_book[num_ratings_by_book > 9].index)]\n",
        "ratings = ratings.reset_index()"
      ],
      "execution_count": 40,
      "outputs": []
    },
    {
      "cell_type": "code",
      "metadata": {
        "colab": {
          "base_uri": "https://localhost:8080/",
          "height": 729
        },
        "id": "1aICKOlBKQEl",
        "outputId": "86424498-db55-4c4b-8f11-5fb70e83eb24"
      },
      "source": [
        "plot_groupby_stats(ratings)"
      ],
      "execution_count": 41,
      "outputs": [
        {
          "output_type": "display_data",
          "data": {
            "image/png": "[encoded data removed]",
            "text/plain": [
              "<Figure size 720x720 with 4 Axes>"
            ]
          },
          "metadata": {
            "needs_background": "light"
          }
        }
      ]
    },
    {
      "cell_type": "markdown",
      "metadata": {
        "id": "SSjIgUagKiZ2"
      },
      "source": [
        "## Normalize ratings\n",
        "\n",
        "Mean normalization\n",
        "- take average rating of an item and subtract that average from every rating of that item\n",
        "- the same for users - take an average user's rating and subtract it from all ratings that user gave"
      ]
    },
    {
      "cell_type": "code",
      "metadata": {
        "colab": {
          "base_uri": "https://localhost:8080/"
        },
        "id": "6UgoCKC8LBNi",
        "outputId": "724fba06-c543-4b35-8300-45d03ef5234f"
      },
      "source": [
        "avg_book_rating = ratings.groupby('ISBN')[\"Book-Rating\"].mean()\n",
        "avg_book_rating"
      ],
      "execution_count": 42,
      "outputs": [
        {
          "output_type": "execute_result",
          "data": {
            "text/plain": [
              "ISBN\n",
              "0002005018    4.928571\n",
              "0002251760    4.846154\n",
              "0002255081    2.500000\n",
              "0002257203    2.400000\n",
              "0002259001    5.000000\n",
              "                ...   \n",
              "9727591965    3.916667\n",
              "9727722458    4.428571\n",
              "9728436408    3.600000\n",
              "9871138016    1.500000\n",
              "9871138148    4.400000\n",
              "Name: Book-Rating, Length: 18313, dtype: float64"
            ]
          },
          "metadata": {},
          "execution_count": 42
        }
      ]
    },
    {
      "cell_type": "code",
      "metadata": {
        "id": "ht4ZeXZ0MVu8"
      },
      "source": [
        "ratings['Book-Rating'] = ratings.apply(\n",
        "    lambda x: x['Book-Rating'] - avg_book_rating[x['ISBN']],\n",
        "    axis=1\n",
        ")"
      ],
      "execution_count": 43,
      "outputs": []
    },
    {
      "cell_type": "code",
      "metadata": {
        "colab": {
          "base_uri": "https://localhost:8080/"
        },
        "id": "hnWyk_n8M_nr",
        "outputId": "23d722e0-1484-4a12-a2c7-5f62e8d48df1"
      },
      "source": [
        "avg_user_rating = ratings.groupby('User-ID')[\"Book-Rating\"].mean()\n",
        "avg_user_rating"
      ],
      "execution_count": 44,
      "outputs": [
        {
          "output_type": "execute_result",
          "data": {
            "text/plain": [
              "User-ID\n",
              "8        -2.804473\n",
              "9        -2.060210\n",
              "10       -2.000000\n",
              "14       -1.019584\n",
              "16        1.196459\n",
              "            ...   \n",
              "278846    4.125000\n",
              "278849    5.733333\n",
              "278851    1.113781\n",
              "278852    4.076923\n",
              "278854    3.910405\n",
              "Name: Book-Rating, Length: 67839, dtype: float64"
            ]
          },
          "metadata": {},
          "execution_count": 44
        }
      ]
    },
    {
      "cell_type": "code",
      "metadata": {
        "id": "ihsw7vb5M7xA"
      },
      "source": [
        "ratings['Book-Rating'] = ratings.apply(\n",
        "    lambda x: x['Book-Rating'] - avg_user_rating[x['User-ID']],\n",
        "    axis=1\n",
        ")"
      ],
      "execution_count": 45,
      "outputs": []
    },
    {
      "cell_type": "code",
      "metadata": {
        "colab": {
          "base_uri": "https://localhost:8080/",
          "height": 729
        },
        "id": "MDoBHnYGNKWh",
        "outputId": "1473ba78-5fed-4ef7-d098-41ead5637be5"
      },
      "source": [
        "plot_groupby_stats(ratings)"
      ],
      "execution_count": 46,
      "outputs": [
        {
          "output_type": "display_data",
          "data": {
            "image/png": "[encoded data removed]",
            "text/plain": [
              "<Figure size 720x720 with 4 Axes>"
            ]
          },
          "metadata": {
            "needs_background": "light"
          }
        }
      ]
    },
    {
      "cell_type": "markdown",
      "metadata": {
        "id": "vOMMhLXxQkct"
      },
      "source": [
        "# Saving preprocessed data"
      ]
    },
    {
      "cell_type": "code",
      "metadata": {
        "id": "W4nIK4QrQnUy"
      },
      "source": [
        "books.to_csv('data/preprocessed_books.csv')\n",
        "users.to_csv('data/preprocessed_users.csv')\n",
        "ratings.to_csv('data/preprocessed_ratings.csv')"
      ],
      "execution_count": 47,
      "outputs": []
    }
  ]
}