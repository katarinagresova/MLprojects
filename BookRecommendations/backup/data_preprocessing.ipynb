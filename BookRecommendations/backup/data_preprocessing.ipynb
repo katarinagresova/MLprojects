{
  "cells": [
    {
      "cell_type": "markdown",
      "metadata": {
        "id": "aNQciJYLbJX2"
      },
      "source": [
        "Preprocessing of the [Book-Crossing Dataset](http://www2.informatik.uni-freiburg.de/~cziegler/BX/). Rational for some steps comes from [dataset exploration](playground.ipynb) notebok."
      ]
    },
    {
      "cell_type": "markdown",
      "metadata": {
        "id": "Lm7ZSXLHb8j8"
      },
      "source": [
        "# Setup"
      ]
    },
    {
      "cell_type": "code",
      "execution_count": 1,
      "metadata": {
        "colab": {
          "base_uri": "https://localhost:8080/"
        },
        "id": "C3iH5Px5bJFD",
        "outputId": "62f132e7-f307-436f-f7e9-8129c6af5eae"
      },
      "outputs": [
        {
          "name": "stdout",
          "output_type": "stream",
          "text": [
            "--2021-11-08 15:24:07--  http://www2.informatik.uni-freiburg.de/~cziegler/BX/BX-CSV-Dump.zip\n",
            "Resolving www2.informatik.uni-freiburg.de (www2.informatik.uni-freiburg.de)... 132.230.105.133\n",
            "Connecting to www2.informatik.uni-freiburg.de (www2.informatik.uni-freiburg.de)|132.230.105.133|:80... connected.\n",
            "HTTP request sent, awaiting response... 200 OK\n",
            "Length: 26085508 (25M) [application/zip]\n",
            "Saving to: ‘BX-CSV-Dump.zip’\n",
            "\n",
            "BX-CSV-Dump.zip     100%[===================>]  24.88M  16.2MB/s    in 1.5s    \n",
            "\n",
            "2021-11-08 15:24:09 (16.2 MB/s) - ‘BX-CSV-Dump.zip’ saved [26085508/26085508]\n",
            "\n"
          ]
        }
      ],
      "source": [
        "!wget http://www2.informatik.uni-freiburg.de/~cziegler/BX/BX-CSV-Dump.zip"
      ]
    },
    {
      "cell_type": "code",
      "execution_count": 2,
      "metadata": {
        "colab": {
          "base_uri": "https://localhost:8080/"
        },
        "id": "4cKJPD6BbGqW",
        "outputId": "6928895f-b8a2-459e-9006-58ec395f2c12"
      },
      "outputs": [
        {
          "name": "stdout",
          "output_type": "stream",
          "text": [
            "Archive:  BX-CSV-Dump.zip\n",
            "  inflating: BX-Book-Ratings.csv     \n",
            "  inflating: BX-Books.csv            \n",
            "  inflating: BX-Users.csv            \n"
          ]
        }
      ],
      "source": [
        "!unzip BX-CSV-Dump.zip"
      ]
    },
    {
      "cell_type": "code",
      "execution_count": 3,
      "metadata": {
        "colab": {
          "base_uri": "https://localhost:8080/"
        },
        "id": "SsW2TQxwczwe",
        "outputId": "ae740d27-176b-4672-d5c2-b54dfa6d6607"
      },
      "outputs": [
        {
          "name": "stdout",
          "output_type": "stream",
          "text": [
            "Collecting isbnlib\n",
            "  Downloading isbnlib-3.10.9-py2.py3-none-any.whl (65 kB)\n",
            "\u001b[?25l\r\u001b[K     |█████                           | 10 kB 21.6 MB/s eta 0:00:01\r\u001b[K     |██████████                      | 20 kB 27.6 MB/s eta 0:00:01\r\u001b[K     |███████████████                 | 30 kB 15.0 MB/s eta 0:00:01\r\u001b[K     |████████████████████            | 40 kB 10.8 MB/s eta 0:00:01\r\u001b[K     |█████████████████████████       | 51 kB 5.3 MB/s eta 0:00:01\r\u001b[K     |██████████████████████████████  | 61 kB 5.6 MB/s eta 0:00:01\r\u001b[K     |████████████████████████████████| 65 kB 2.5 MB/s \n",
            "\u001b[?25hInstalling collected packages: isbnlib\n",
            "Successfully installed isbnlib-3.10.9\n"
          ]
        }
      ],
      "source": [
        "!pip install isbnlib"
      ]
    },
    {
      "cell_type": "code",
      "execution_count": 4,
      "metadata": {
        "id": "cEOXHCBsb-hd"
      },
      "outputs": [],
      "source": [
        "import pandas as pd\n",
        "import isbnlib\n",
        "from tqdm import tqdm\n",
        "import matplotlib.pyplot as plt"
      ]
    },
    {
      "cell_type": "code",
      "execution_count": 5,
      "metadata": {
        "id": "m1BOZ6AucPyU"
      },
      "outputs": [],
      "source": [
        "users = pd.read_csv('BX-Users.csv', sep=';', encoding = \"ISO-8859-1\")\n",
        "books = pd.read_csv('BX-Books.csv', sep=';', encoding = \"ISO-8859-1\", escapechar = \"\\\\\")\n",
        "ratings = pd.read_csv('BX-Book-Ratings.csv', sep=';', encoding = \"ISO-8859-1\")"
      ]
    },
    {
      "cell_type": "markdown",
      "metadata": {
        "id": "kBrVPnkLBk0J"
      },
      "source": [
        "# Books table"
      ]
    },
    {
      "cell_type": "markdown",
      "metadata": {
        "id": "Se5lZ3zDcDlr"
      },
      "source": [
        "## Data cleaning\n",
        "\n",
        "Data cleaning on `books` table is connected to `ratings` table, because ISBN is used as primary key,"
      ]
    },
    {
      "cell_type": "markdown",
      "metadata": {
        "id": "zkYpjaySnpbt"
      },
      "source": [
        "### Useless columns\n",
        "\n",
        "Let's look at columns if there are some useful information."
      ]
    },
    {
      "cell_type": "code",
      "execution_count": 6,
      "metadata": {
        "colab": {
          "base_uri": "https://localhost:8080/",
          "height": 428
        },
        "id": "eeX1VZOZntwZ",
        "outputId": "42fa7ae2-cbba-4cd9-819f-01be7b56a931"
      },
      "outputs": [
        {
          "data": {
            "text/html": [
              "<div>\n",
              "<style scoped>\n",
              "    .dataframe tbody tr th:only-of-type {\n",
              "        vertical-align: middle;\n",
              "    }\n",
              "\n",
              "    .dataframe tbody tr th {\n",
              "        vertical-align: top;\n",
              "    }\n",
              "\n",
              "    .dataframe thead th {\n",
              "        text-align: right;\n",
              "    }\n",
              "</style>\n",
              "<table border=\"1\" class=\"dataframe\">\n",
              "  <thead>\n",
              "    <tr style=\"text-align: right;\">\n",
              "      <th></th>\n",
              "      <th>ISBN</th>\n",
              "      <th>Book-Title</th>\n",
              "      <th>Book-Author</th>\n",
              "      <th>Year-Of-Publication</th>\n",
              "      <th>Publisher</th>\n",
              "      <th>Image-URL-S</th>\n",
              "      <th>Image-URL-M</th>\n",
              "      <th>Image-URL-L</th>\n",
              "    </tr>\n",
              "  </thead>\n",
              "  <tbody>\n",
              "    <tr>\n",
              "      <th>0</th>\n",
              "      <td>0195153448</td>\n",
              "      <td>Classical Mythology</td>\n",
              "      <td>Mark P. O. Morford</td>\n",
              "      <td>2002</td>\n",
              "      <td>Oxford University Press</td>\n",
              "      <td>http://images.amazon.com/images/P/0195153448.0...</td>\n",
              "      <td>http://images.amazon.com/images/P/0195153448.0...</td>\n",
              "      <td>http://images.amazon.com/images/P/0195153448.0...</td>\n",
              "    </tr>\n",
              "    <tr>\n",
              "      <th>1</th>\n",
              "      <td>0002005018</td>\n",
              "      <td>Clara Callan</td>\n",
              "      <td>Richard Bruce Wright</td>\n",
              "      <td>2001</td>\n",
              "      <td>HarperFlamingo Canada</td>\n",
              "      <td>http://images.amazon.com/images/P/0002005018.0...</td>\n",
              "      <td>http://images.amazon.com/images/P/0002005018.0...</td>\n",
              "      <td>http://images.amazon.com/images/P/0002005018.0...</td>\n",
              "    </tr>\n",
              "    <tr>\n",
              "      <th>2</th>\n",
              "      <td>0060973129</td>\n",
              "      <td>Decision in Normandy</td>\n",
              "      <td>Carlo D'Este</td>\n",
              "      <td>1991</td>\n",
              "      <td>HarperPerennial</td>\n",
              "      <td>http://images.amazon.com/images/P/0060973129.0...</td>\n",
              "      <td>http://images.amazon.com/images/P/0060973129.0...</td>\n",
              "      <td>http://images.amazon.com/images/P/0060973129.0...</td>\n",
              "    </tr>\n",
              "    <tr>\n",
              "      <th>3</th>\n",
              "      <td>0374157065</td>\n",
              "      <td>Flu: The Story of the Great Influenza Pandemic...</td>\n",
              "      <td>Gina Bari Kolata</td>\n",
              "      <td>1999</td>\n",
              "      <td>Farrar Straus Giroux</td>\n",
              "      <td>http://images.amazon.com/images/P/0374157065.0...</td>\n",
              "      <td>http://images.amazon.com/images/P/0374157065.0...</td>\n",
              "      <td>http://images.amazon.com/images/P/0374157065.0...</td>\n",
              "    </tr>\n",
              "    <tr>\n",
              "      <th>4</th>\n",
              "      <td>0393045218</td>\n",
              "      <td>The Mummies of Urumchi</td>\n",
              "      <td>E. J. W. Barber</td>\n",
              "      <td>1999</td>\n",
              "      <td>W. W. Norton &amp;amp; Company</td>\n",
              "      <td>http://images.amazon.com/images/P/0393045218.0...</td>\n",
              "      <td>http://images.amazon.com/images/P/0393045218.0...</td>\n",
              "      <td>http://images.amazon.com/images/P/0393045218.0...</td>\n",
              "    </tr>\n",
              "  </tbody>\n",
              "</table>\n",
              "</div>"
            ],
            "text/plain": [
              "         ISBN  ...                                        Image-URL-L\n",
              "0  0195153448  ...  http://images.amazon.com/images/P/0195153448.0...\n",
              "1  0002005018  ...  http://images.amazon.com/images/P/0002005018.0...\n",
              "2  0060973129  ...  http://images.amazon.com/images/P/0060973129.0...\n",
              "3  0374157065  ...  http://images.amazon.com/images/P/0374157065.0...\n",
              "4  0393045218  ...  http://images.amazon.com/images/P/0393045218.0...\n",
              "\n",
              "[5 rows x 8 columns]"
            ]
          },
          "execution_count": 6,
          "metadata": {},
          "output_type": "execute_result"
        }
      ],
      "source": [
        "books.head()"
      ]
    },
    {
      "cell_type": "markdown",
      "metadata": {
        "id": "p5NN-JJ2x13l"
      },
      "source": [
        "We might use image in final application to show a preview of sugested books to a user. Or we could use it in multi-modal model as one of input for computing similarity between books. But for now, we will not need it, since we will do just simple proof-of-concept recommendation system."
      ]
    },
    {
      "cell_type": "code",
      "execution_count": 7,
      "metadata": {
        "id": "C8j7JGJSnwWY"
      },
      "outputs": [],
      "source": [
        "books = books.drop(columns=['Image-URL-S', 'Image-URL-M', 'Image-URL-L'])"
      ]
    },
    {
      "cell_type": "code",
      "execution_count": 8,
      "metadata": {
        "colab": {
          "base_uri": "https://localhost:8080/",
          "height": 204
        },
        "id": "UVP_gCs9n-0D",
        "outputId": "1bd3c06e-986c-4daa-db36-cbcc3004aed3"
      },
      "outputs": [
        {
          "data": {
            "text/html": [
              "<div>\n",
              "<style scoped>\n",
              "    .dataframe tbody tr th:only-of-type {\n",
              "        vertical-align: middle;\n",
              "    }\n",
              "\n",
              "    .dataframe tbody tr th {\n",
              "        vertical-align: top;\n",
              "    }\n",
              "\n",
              "    .dataframe thead th {\n",
              "        text-align: right;\n",
              "    }\n",
              "</style>\n",
              "<table border=\"1\" class=\"dataframe\">\n",
              "  <thead>\n",
              "    <tr style=\"text-align: right;\">\n",
              "      <th></th>\n",
              "      <th>ISBN</th>\n",
              "      <th>Book-Title</th>\n",
              "      <th>Book-Author</th>\n",
              "      <th>Year-Of-Publication</th>\n",
              "      <th>Publisher</th>\n",
              "    </tr>\n",
              "  </thead>\n",
              "  <tbody>\n",
              "    <tr>\n",
              "      <th>0</th>\n",
              "      <td>0195153448</td>\n",
              "      <td>Classical Mythology</td>\n",
              "      <td>Mark P. O. Morford</td>\n",
              "      <td>2002</td>\n",
              "      <td>Oxford University Press</td>\n",
              "    </tr>\n",
              "    <tr>\n",
              "      <th>1</th>\n",
              "      <td>0002005018</td>\n",
              "      <td>Clara Callan</td>\n",
              "      <td>Richard Bruce Wright</td>\n",
              "      <td>2001</td>\n",
              "      <td>HarperFlamingo Canada</td>\n",
              "    </tr>\n",
              "    <tr>\n",
              "      <th>2</th>\n",
              "      <td>0060973129</td>\n",
              "      <td>Decision in Normandy</td>\n",
              "      <td>Carlo D'Este</td>\n",
              "      <td>1991</td>\n",
              "      <td>HarperPerennial</td>\n",
              "    </tr>\n",
              "    <tr>\n",
              "      <th>3</th>\n",
              "      <td>0374157065</td>\n",
              "      <td>Flu: The Story of the Great Influenza Pandemic...</td>\n",
              "      <td>Gina Bari Kolata</td>\n",
              "      <td>1999</td>\n",
              "      <td>Farrar Straus Giroux</td>\n",
              "    </tr>\n",
              "    <tr>\n",
              "      <th>4</th>\n",
              "      <td>0393045218</td>\n",
              "      <td>The Mummies of Urumchi</td>\n",
              "      <td>E. J. W. Barber</td>\n",
              "      <td>1999</td>\n",
              "      <td>W. W. Norton &amp;amp; Company</td>\n",
              "    </tr>\n",
              "  </tbody>\n",
              "</table>\n",
              "</div>"
            ],
            "text/plain": [
              "         ISBN  ...                   Publisher\n",
              "0  0195153448  ...     Oxford University Press\n",
              "1  0002005018  ...       HarperFlamingo Canada\n",
              "2  0060973129  ...             HarperPerennial\n",
              "3  0374157065  ...        Farrar Straus Giroux\n",
              "4  0393045218  ...  W. W. Norton &amp; Company\n",
              "\n",
              "[5 rows x 5 columns]"
            ]
          },
          "execution_count": 8,
          "metadata": {},
          "output_type": "execute_result"
        }
      ],
      "source": [
        "books.head()"
      ]
    },
    {
      "cell_type": "markdown",
      "metadata": {
        "id": "suFSAa7GcMV6"
      },
      "source": [
        "### Transforming ISBN to cannonical form\n",
        "\n",
        "I found this nice python package called [isbnlib](https://github.com/xlcnd/isbnlib) that can be used to validate, clean, transform, hyphenate and get metadata for ISBN strings.\n",
        "\n",
        "Reasons for bothering with ISBN numbers:\n",
        "- transform ISBN numbers into standard form to prevent duplicate entries\n",
        "- use ISBN as unique and valid identificator of a book, so we could connect it with other resources where books are identified by ISBN number.\n"
      ]
    },
    {
      "cell_type": "code",
      "execution_count": 9,
      "metadata": {
        "colab": {
          "base_uri": "https://localhost:8080/"
        },
        "id": "u07JXzCVeFjG",
        "outputId": "06132f50-f5b6-4b43-bf49-3ed683755e1b"
      },
      "outputs": [
        {
          "name": "stdout",
          "output_type": "stream",
          "text": [
            "Books count:  271379\n",
            "Books count in ratings:  1149780\n",
            "Unique books count:  271379\n",
            "Unique books in ratings:  340556\n"
          ]
        }
      ],
      "source": [
        "books_count = len(books)\n",
        "ratings_count = len(ratings)\n",
        "unique_books = len(books['ISBN'].unique())\n",
        "unique_ratings = len(ratings['ISBN'].unique())\n",
        "\n",
        "print(\"Books count: \", books_count)\n",
        "print(\"Books count in ratings: \", ratings_count)\n",
        "print(\"Unique books count: \", unique_books)\n",
        "print(\"Unique books in ratings: \", unique_ratings)"
      ]
    },
    {
      "cell_type": "code",
      "execution_count": 10,
      "metadata": {
        "id": "yt0N2AmZeLWI"
      },
      "outputs": [],
      "source": [
        "books['ISBN'] = books['ISBN'].apply(lambda x: isbnlib.canonical(isbnlib.clean(x)))\n",
        "ratings['ISBN'] = ratings['ISBN'].apply(lambda x: isbnlib.canonical(isbnlib.clean(x)))"
      ]
    },
    {
      "cell_type": "code",
      "execution_count": 11,
      "metadata": {
        "colab": {
          "base_uri": "https://localhost:8080/"
        },
        "id": "jZ5dl8gveZx3",
        "outputId": "ea72fdd4-e661-4537-bb36-37448f37589f"
      },
      "outputs": [
        {
          "name": "stdout",
          "output_type": "stream",
          "text": [
            "Removed books:  0\n",
            "Removed books in ratings:  0\n",
            "Removed unique books:  431\n",
            "Removed unique books in ratings:  8134\n"
          ]
        }
      ],
      "source": [
        "print(\"Removed books: \", books_count - len(books))\n",
        "print(\"Removed books in ratings: \", ratings_count - len(ratings))\n",
        "print(\"Removed unique books: \", unique_books - len(books['ISBN'].unique()))\n",
        "print(\"Removed unique books in ratings: \", unique_ratings - len(ratings['ISBN'].unique()))\n",
        "\n",
        "books_count = len(books)\n",
        "ratings_count = len(ratings)\n",
        "unique_books = len(books['ISBN'].unique())\n",
        "unique_ratings = len(ratings['ISBN'].unique())"
      ]
    },
    {
      "cell_type": "markdown",
      "metadata": {
        "id": "aj0wguyw0Teq"
      },
      "source": [
        "As we can see, after trasforming to cannonical form, we have less unique ISBN numbers."
      ]
    },
    {
      "cell_type": "markdown",
      "metadata": {
        "id": "H1wgsZHyemao"
      },
      "source": [
        "### Removing invalid ISBN"
      ]
    },
    {
      "cell_type": "code",
      "execution_count": 12,
      "metadata": {
        "colab": {
          "base_uri": "https://localhost:8080/"
        },
        "id": "6dSjC_DAclT8",
        "outputId": "98ce114c-880b-48f1-cc52-f254482eed7a"
      },
      "outputs": [
        {
          "name": "stdout",
          "output_type": "stream",
          "text": [
            "4045\n",
            "['', '0965088806', '0752457267', '225300396X', '1891156545', '038544438X', '8807816613', '8844018817', '0732268509', '2939800699']\n"
          ]
        }
      ],
      "source": [
        "invalid_ISBN = {\n",
        "                *set(books['ISBN'][books['ISBN'].apply(lambda x: (not isbnlib.is_isbn10(x)) and (not isbnlib.is_isbn13(x)))]),\n",
        "                *set(ratings['ISBN'][ratings['ISBN'].apply(lambda x: (not isbnlib.is_isbn10(x)) and (not isbnlib.is_isbn13(x)))])\n",
        "}\n",
        "print(len(invalid_ISBN))\n",
        "print(list(invalid_ISBN)[:10])"
      ]
    },
    {
      "cell_type": "markdown",
      "metadata": {
        "id": "CSIhHwMfgIib"
      },
      "source": [
        "Empty ISBN is result of trying to transform ASIN (Amazon ID) to correct ISBN numbers. There we few ASIN numbers in original data and there is no straightforward way how to transform them to ISBN (except for mining Amazon websites).\n",
        "\n",
        "Some of invalid ISBN could be manualy fixed - there are typos.\n"
      ]
    },
    {
      "cell_type": "code",
      "execution_count": 13,
      "metadata": {
        "colab": {
          "base_uri": "https://localhost:8080/"
        },
        "id": "qhs2r0H_daiQ",
        "outputId": "4d7ad04c-7024-432e-8e1c-956430af41ba"
      },
      "outputs": [
        {
          "data": {
            "text/plain": [
              "False    271262\n",
              "True        117\n",
              "Name: ISBN, dtype: int64"
            ]
          },
          "execution_count": 13,
          "metadata": {},
          "output_type": "execute_result"
        }
      ],
      "source": [
        "books['ISBN'].apply(lambda x: x in invalid_ISBN).value_counts()"
      ]
    },
    {
      "cell_type": "code",
      "execution_count": 14,
      "metadata": {
        "id": "4YX6yNJygev4"
      },
      "outputs": [],
      "source": [
        "books = books[books['ISBN'].apply(lambda x: x not in invalid_ISBN)]\n",
        "ratings = ratings[ratings['ISBN'].apply(lambda x: x not in invalid_ISBN)]"
      ]
    },
    {
      "cell_type": "code",
      "execution_count": 15,
      "metadata": {
        "colab": {
          "base_uri": "https://localhost:8080/"
        },
        "id": "6eObn1qpc9Wd",
        "outputId": "384b5198-a8de-41d1-f860-5a8fd1fd8ab9"
      },
      "outputs": [
        {
          "name": "stdout",
          "output_type": "stream",
          "text": [
            "Removed books:  117\n",
            "Removed books in ratings:  14593\n",
            "Removed unique books:  1\n",
            "Removed unique books in ratings:  4045\n"
          ]
        }
      ],
      "source": [
        "print(\"Removed books: \", books_count - len(books))\n",
        "print(\"Removed books in ratings: \", ratings_count - len(ratings))\n",
        "print(\"Removed unique books: \", unique_books - len(books['ISBN'].unique()))\n",
        "print(\"Removed unique books in ratings: \", unique_ratings - len(ratings['ISBN'].unique()))\n",
        "\n",
        "books_count = len(books)\n",
        "ratings_count = len(ratings)\n",
        "unique_books = len(books['ISBN'].unique())\n",
        "unique_ratings = len(ratings['ISBN'].unique())"
      ]
    },
    {
      "cell_type": "markdown",
      "metadata": {
        "id": "cs2yq_l7hRHg"
      },
      "source": [
        "### Deduplicating\n",
        "\n",
        "- for books: drop duplicates\n",
        "- for ratings: duplicates have been merged by transforming to cannonical forms"
      ]
    },
    {
      "cell_type": "code",
      "execution_count": 16,
      "metadata": {
        "id": "wQnrqRSkiY-t"
      },
      "outputs": [],
      "source": [
        "books = books.drop_duplicates(subset='ISBN')"
      ]
    },
    {
      "cell_type": "code",
      "execution_count": 17,
      "metadata": {
        "colab": {
          "base_uri": "https://localhost:8080/"
        },
        "id": "rb21_vpWiiay",
        "outputId": "5d7b19dd-4774-4b9f-b57f-97b22d6bd50f"
      },
      "outputs": [
        {
          "name": "stdout",
          "output_type": "stream",
          "text": [
            "Removed books:  315\n",
            "Removed books in ratings:  0\n",
            "Removed unique books:  0\n",
            "Removed unique books in ratings:  0\n"
          ]
        }
      ],
      "source": [
        "print(\"Removed books: \", books_count - len(books))\n",
        "print(\"Removed books in ratings: \", ratings_count - len(ratings))\n",
        "print(\"Removed unique books: \", unique_books - len(books['ISBN'].unique()))\n",
        "print(\"Removed unique books in ratings: \", unique_ratings - len(ratings['ISBN'].unique()))\n",
        "\n",
        "books_count = len(books)\n",
        "ratings_count = len(ratings)\n",
        "unique_books = len(books['ISBN'].unique())\n",
        "unique_ratings = len(ratings['ISBN'].unique())"
      ]
    },
    {
      "cell_type": "markdown",
      "metadata": {
        "id": "1ky_jsMemwzj"
      },
      "source": [
        "## Data completing"
      ]
    },
    {
      "cell_type": "markdown",
      "metadata": {
        "id": "_dO-T11im7Mh"
      },
      "source": [
        "### Missing books records"
      ]
    },
    {
      "cell_type": "code",
      "execution_count": 18,
      "metadata": {
        "colab": {
          "base_uri": "https://localhost:8080/"
        },
        "id": "QPej9Jm3mujU",
        "outputId": "855a631e-bc79-4db0-b1ef-9fcacbabe6b4"
      },
      "outputs": [
        {
          "data": {
            "text/plain": [
              "6          3257224281\n",
              "7          0600570967\n",
              "25         3442437407\n",
              "26         033390804X\n",
              "30         8440682697\n",
              "              ...    \n",
              "1149442    0330337297\n",
              "1149444    0747252327\n",
              "1149446    8804413530\n",
              "1149581    0679781587\n",
              "1149758    8445072897\n",
              "Name: ISBN, Length: 103780, dtype: object"
            ]
          },
          "execution_count": 18,
          "metadata": {},
          "output_type": "execute_result"
        }
      ],
      "source": [
        "ratings['ISBN'][~ratings['ISBN'].isin(books['ISBN'])]"
      ]
    },
    {
      "cell_type": "markdown",
      "metadata": {
        "id": "9Ryf4EA_7Jxj"
      },
      "source": [
        "We have ratings for 103 780 books that are not in *books* dataset. I created following function for looking up book metadata via `isbnlib` package. But it is not supporting batch request so it would take more then 30h to run."
      ]
    },
    {
      "cell_type": "code",
      "execution_count": 19,
      "metadata": {
        "id": "pCfQQXiCnFXU"
      },
      "outputs": [],
      "source": [
        "def find_lost_books():\n",
        "\n",
        "  new_books = []\n",
        "  not_found = []\n",
        "  for missing_isbn in tqdm(ratings['ISBN'][~ratings['ISBN'].isin(books['ISBN'])]):\n",
        "\n",
        "    try:\n",
        "      book = isbnlib.meta(missing_isbn, service='goob')\n",
        "    except:\n",
        "      try: \n",
        "        book = isbnlib.meta(missing_isbn, service='wiki')\n",
        "      except:\n",
        "        not_found.append(missing_isbn)\n",
        "        continue\n",
        "\n",
        "    if not book:\n",
        "      not_found.append(missing_isbn)\n",
        "      continue\n",
        "    isbn_id = 'ISBN-13' if 'ISBN-13' in book.keys() else 'ISBN-10'\n",
        "    new_books.append([\n",
        "        book[isbn_id],\n",
        "        book['Title'],\n",
        "        book['Authors'][0],\n",
        "        book['Year'],\n",
        "        book['Publisher']\n",
        "    ])\n",
        "    \n",
        "  return new_books, not_found"
      ]
    },
    {
      "cell_type": "code",
      "execution_count": 20,
      "metadata": {
        "id": "ZJUYMLziuaDp"
      },
      "outputs": [],
      "source": [
        "# do this if you have more then 30 hours\n",
        "#new_books, not_found = find_lost_books()\n",
        "#books.append(pd.DataFrame(new_books, columns=books.columns))\n",
        "#print(not_found)"
      ]
    },
    {
      "cell_type": "code",
      "execution_count": 21,
      "metadata": {
        "id": "qAD_-24p6aCE"
      },
      "outputs": [],
      "source": [
        "# for now, just drop rating without record in books\n",
        "ratings = ratings[ratings['ISBN'].isin(books['ISBN'])]"
      ]
    },
    {
      "cell_type": "code",
      "execution_count": 22,
      "metadata": {
        "colab": {
          "base_uri": "https://localhost:8080/"
        },
        "id": "O-_7ybMs6z8C",
        "outputId": "853d8bdf-9df2-46b1-ca77-a68512ce1dd9"
      },
      "outputs": [
        {
          "name": "stdout",
          "output_type": "stream",
          "text": [
            "Removed books:  0\n",
            "Removed books in ratings:  103780\n",
            "Removed unique books:  0\n",
            "Removed unique books in ratings:  58630\n"
          ]
        }
      ],
      "source": [
        "print(\"Removed books: \", books_count - len(books))\n",
        "print(\"Removed books in ratings: \", ratings_count - len(ratings))\n",
        "print(\"Removed unique books: \", unique_books - len(books['ISBN'].unique()))\n",
        "print(\"Removed unique books in ratings: \", unique_ratings - len(ratings['ISBN'].unique()))\n",
        "\n",
        "books_count = len(books)\n",
        "ratings_count = len(ratings)\n",
        "unique_books = len(books['ISBN'].unique())\n",
        "unique_ratings = len(ratings['ISBN'].unique())"
      ]
    },
    {
      "cell_type": "markdown",
      "metadata": {
        "id": "LTCHP2qXxBA7"
      },
      "source": [
        "### Missing book metadata"
      ]
    },
    {
      "cell_type": "code",
      "execution_count": 23,
      "metadata": {
        "colab": {
          "base_uri": "https://localhost:8080/"
        },
        "id": "RsNaaKMIxAvy",
        "outputId": "600fd650-b117-4ff1-ed1c-d9c696bfb920"
      },
      "outputs": [
        {
          "name": "stdout",
          "output_type": "stream",
          "text": [
            "<class 'pandas.core.frame.DataFrame'>\n",
            "Int64Index: 270947 entries, 0 to 271378\n",
            "Data columns (total 5 columns):\n",
            " #   Column               Non-Null Count   Dtype \n",
            "---  ------               --------------   ----- \n",
            " 0   ISBN                 270947 non-null  object\n",
            " 1   Book-Title           270947 non-null  object\n",
            " 2   Book-Author          270946 non-null  object\n",
            " 3   Year-Of-Publication  270947 non-null  int64 \n",
            " 4   Publisher            270945 non-null  object\n",
            "dtypes: int64(1), object(4)\n",
            "memory usage: 12.4+ MB\n"
          ]
        }
      ],
      "source": [
        "books.info()"
      ]
    },
    {
      "cell_type": "markdown",
      "metadata": {
        "id": "GFDEKq4D8glp"
      },
      "source": [
        "There is one record with missing author, so we might try to look it up by hand."
      ]
    },
    {
      "cell_type": "code",
      "execution_count": 24,
      "metadata": {
        "colab": {
          "base_uri": "https://localhost:8080/",
          "height": 80
        },
        "id": "76uMXMoh8mHp",
        "outputId": "e98534bc-25da-442d-c1f7-4018815821b1"
      },
      "outputs": [
        {
          "data": {
            "text/html": [
              "<div>\n",
              "<style scoped>\n",
              "    .dataframe tbody tr th:only-of-type {\n",
              "        vertical-align: middle;\n",
              "    }\n",
              "\n",
              "    .dataframe tbody tr th {\n",
              "        vertical-align: top;\n",
              "    }\n",
              "\n",
              "    .dataframe thead th {\n",
              "        text-align: right;\n",
              "    }\n",
              "</style>\n",
              "<table border=\"1\" class=\"dataframe\">\n",
              "  <thead>\n",
              "    <tr style=\"text-align: right;\">\n",
              "      <th></th>\n",
              "      <th>ISBN</th>\n",
              "      <th>Book-Title</th>\n",
              "      <th>Book-Author</th>\n",
              "      <th>Year-Of-Publication</th>\n",
              "      <th>Publisher</th>\n",
              "    </tr>\n",
              "  </thead>\n",
              "  <tbody>\n",
              "    <tr>\n",
              "      <th>187700</th>\n",
              "      <td>9627982032</td>\n",
              "      <td>The Credit Suisse Guide to Managing Your Perso...</td>\n",
              "      <td>NaN</td>\n",
              "      <td>1995</td>\n",
              "      <td>Edinburgh Financial Publishing</td>\n",
              "    </tr>\n",
              "  </tbody>\n",
              "</table>\n",
              "</div>"
            ],
            "text/plain": [
              "              ISBN  ...                       Publisher\n",
              "187700  9627982032  ...  Edinburgh Financial Publishing\n",
              "\n",
              "[1 rows x 5 columns]"
            ]
          },
          "execution_count": 24,
          "metadata": {},
          "output_type": "execute_result"
        }
      ],
      "source": [
        "books[books['Book-Author'].isnull()]"
      ]
    },
    {
      "cell_type": "code",
      "execution_count": 25,
      "metadata": {
        "colab": {
          "base_uri": "https://localhost:8080/"
        },
        "id": "umFg_wYh9EMn",
        "outputId": "3497caa7-ad67-469c-ad9f-d690bd2b7bad"
      },
      "outputs": [
        {
          "data": {
            "text/plain": [
              "{'Authors': ['Larissa Downes', 'Crédit suisse'],\n",
              " 'ISBN-13': '9789627982036',\n",
              " 'Language': '',\n",
              " 'Publisher': 'Edinburgh Financial Pub. (Asia)',\n",
              " 'Title': 'The Credit Suisse guide to managing your personal wealth',\n",
              " 'Year': '1995'}"
            ]
          },
          "execution_count": 25,
          "metadata": {},
          "output_type": "execute_result"
        }
      ],
      "source": [
        "isbnlib.meta('9627982032', service='wiki')"
      ]
    },
    {
      "cell_type": "code",
      "execution_count": 26,
      "metadata": {
        "id": "Lg-L5LtD-g_Y"
      },
      "outputs": [],
      "source": [
        "books['Book-Author'][187700] = 'Larissa Downes'"
      ]
    },
    {
      "cell_type": "code",
      "execution_count": 27,
      "metadata": {
        "colab": {
          "base_uri": "https://localhost:8080/",
          "height": 49
        },
        "id": "oWfPkAhJ-sAg",
        "outputId": "88eaff11-9914-446d-8e85-c1e68c5c759e"
      },
      "outputs": [
        {
          "data": {
            "text/html": [
              "<div>\n",
              "<style scoped>\n",
              "    .dataframe tbody tr th:only-of-type {\n",
              "        vertical-align: middle;\n",
              "    }\n",
              "\n",
              "    .dataframe tbody tr th {\n",
              "        vertical-align: top;\n",
              "    }\n",
              "\n",
              "    .dataframe thead th {\n",
              "        text-align: right;\n",
              "    }\n",
              "</style>\n",
              "<table border=\"1\" class=\"dataframe\">\n",
              "  <thead>\n",
              "    <tr style=\"text-align: right;\">\n",
              "      <th></th>\n",
              "      <th>ISBN</th>\n",
              "      <th>Book-Title</th>\n",
              "      <th>Book-Author</th>\n",
              "      <th>Year-Of-Publication</th>\n",
              "      <th>Publisher</th>\n",
              "    </tr>\n",
              "  </thead>\n",
              "  <tbody>\n",
              "  </tbody>\n",
              "</table>\n",
              "</div>"
            ],
            "text/plain": [
              "Empty DataFrame\n",
              "Columns: [ISBN, Book-Title, Book-Author, Year-Of-Publication, Publisher]\n",
              "Index: []"
            ]
          },
          "execution_count": 27,
          "metadata": {},
          "output_type": "execute_result"
        }
      ],
      "source": [
        "books[books['Book-Author'].isnull()]"
      ]
    },
    {
      "cell_type": "code",
      "execution_count": 28,
      "metadata": {
        "colab": {
          "base_uri": "https://localhost:8080/",
          "height": 297
        },
        "id": "KruywYpwxIbM",
        "outputId": "823b6e45-47cc-4c8c-9b8b-4c2142235141"
      },
      "outputs": [
        {
          "data": {
            "text/html": [
              "<div>\n",
              "<style scoped>\n",
              "    .dataframe tbody tr th:only-of-type {\n",
              "        vertical-align: middle;\n",
              "    }\n",
              "\n",
              "    .dataframe tbody tr th {\n",
              "        vertical-align: top;\n",
              "    }\n",
              "\n",
              "    .dataframe thead th {\n",
              "        text-align: right;\n",
              "    }\n",
              "</style>\n",
              "<table border=\"1\" class=\"dataframe\">\n",
              "  <thead>\n",
              "    <tr style=\"text-align: right;\">\n",
              "      <th></th>\n",
              "      <th>Year-Of-Publication</th>\n",
              "    </tr>\n",
              "  </thead>\n",
              "  <tbody>\n",
              "    <tr>\n",
              "      <th>count</th>\n",
              "      <td>270947.000000</td>\n",
              "    </tr>\n",
              "    <tr>\n",
              "      <th>mean</th>\n",
              "      <td>1960.156222</td>\n",
              "    </tr>\n",
              "    <tr>\n",
              "      <th>std</th>\n",
              "      <td>256.505655</td>\n",
              "    </tr>\n",
              "    <tr>\n",
              "      <th>min</th>\n",
              "      <td>0.000000</td>\n",
              "    </tr>\n",
              "    <tr>\n",
              "      <th>25%</th>\n",
              "      <td>1989.000000</td>\n",
              "    </tr>\n",
              "    <tr>\n",
              "      <th>50%</th>\n",
              "      <td>1995.000000</td>\n",
              "    </tr>\n",
              "    <tr>\n",
              "      <th>75%</th>\n",
              "      <td>2000.000000</td>\n",
              "    </tr>\n",
              "    <tr>\n",
              "      <th>max</th>\n",
              "      <td>2050.000000</td>\n",
              "    </tr>\n",
              "  </tbody>\n",
              "</table>\n",
              "</div>"
            ],
            "text/plain": [
              "       Year-Of-Publication\n",
              "count        270947.000000\n",
              "mean           1960.156222\n",
              "std             256.505655\n",
              "min               0.000000\n",
              "25%            1989.000000\n",
              "50%            1995.000000\n",
              "75%            2000.000000\n",
              "max            2050.000000"
            ]
          },
          "execution_count": 28,
          "metadata": {},
          "output_type": "execute_result"
        }
      ],
      "source": [
        "books.describe()"
      ]
    },
    {
      "cell_type": "code",
      "execution_count": 29,
      "metadata": {
        "colab": {
          "base_uri": "https://localhost:8080/",
          "height": 419
        },
        "id": "OFno1k6i_XyK",
        "outputId": "f9682d06-6ee9-41cd-81fc-9b7f3c89220c"
      },
      "outputs": [
        {
          "data": {
            "text/html": [
              "<div>\n",
              "<style scoped>\n",
              "    .dataframe tbody tr th:only-of-type {\n",
              "        vertical-align: middle;\n",
              "    }\n",
              "\n",
              "    .dataframe tbody tr th {\n",
              "        vertical-align: top;\n",
              "    }\n",
              "\n",
              "    .dataframe thead th {\n",
              "        text-align: right;\n",
              "    }\n",
              "</style>\n",
              "<table border=\"1\" class=\"dataframe\">\n",
              "  <thead>\n",
              "    <tr style=\"text-align: right;\">\n",
              "      <th></th>\n",
              "      <th>ISBN</th>\n",
              "      <th>Book-Title</th>\n",
              "      <th>Book-Author</th>\n",
              "      <th>Year-Of-Publication</th>\n",
              "      <th>Publisher</th>\n",
              "    </tr>\n",
              "  </thead>\n",
              "  <tbody>\n",
              "    <tr>\n",
              "      <th>176</th>\n",
              "      <td>3150000335</td>\n",
              "      <td>Kabale Und Liebe</td>\n",
              "      <td>Schiller</td>\n",
              "      <td>0</td>\n",
              "      <td>Philipp Reclam, Jun Verlag GmbH</td>\n",
              "    </tr>\n",
              "    <tr>\n",
              "      <th>188</th>\n",
              "      <td>342311360X</td>\n",
              "      <td>Die Liebe in Den Zelten</td>\n",
              "      <td>Gabriel Garcia Marquez</td>\n",
              "      <td>0</td>\n",
              "      <td>Deutscher Taschenbuch Verlag (DTV)</td>\n",
              "    </tr>\n",
              "    <tr>\n",
              "      <th>288</th>\n",
              "      <td>0571197639</td>\n",
              "      <td>Poisonwood Bible Edition Uk</td>\n",
              "      <td>Barbara Kingsolver</td>\n",
              "      <td>0</td>\n",
              "      <td>Faber Faber Inc</td>\n",
              "    </tr>\n",
              "    <tr>\n",
              "      <th>351</th>\n",
              "      <td>3596214629</td>\n",
              "      <td>Herr Der Fliegen (Fiction, Poetry and Drama)</td>\n",
              "      <td>Golding</td>\n",
              "      <td>0</td>\n",
              "      <td>Fischer Taschenbuch Verlag GmbH</td>\n",
              "    </tr>\n",
              "    <tr>\n",
              "      <th>542</th>\n",
              "      <td>8845229041</td>\n",
              "      <td>Biblioteca Universale Rizzoli: Sulla Sponda De...</td>\n",
              "      <td>P Coelho</td>\n",
              "      <td>0</td>\n",
              "      <td>Fabbri - RCS Libri</td>\n",
              "    </tr>\n",
              "    <tr>\n",
              "      <th>...</th>\n",
              "      <td>...</td>\n",
              "      <td>...</td>\n",
              "      <td>...</td>\n",
              "      <td>...</td>\n",
              "      <td>...</td>\n",
              "    </tr>\n",
              "    <tr>\n",
              "      <th>270813</th>\n",
              "      <td>014029953X</td>\n",
              "      <td>Foe (Essential.penguin S.)</td>\n",
              "      <td>J.M. Coetzee</td>\n",
              "      <td>0</td>\n",
              "      <td>Penguin Books Ltd</td>\n",
              "    </tr>\n",
              "    <tr>\n",
              "      <th>270932</th>\n",
              "      <td>0340571187</td>\n",
              "      <td>Postmens House</td>\n",
              "      <td>Maggie Hemingway</td>\n",
              "      <td>0</td>\n",
              "      <td>Trafalgar Square</td>\n",
              "    </tr>\n",
              "    <tr>\n",
              "      <th>271113</th>\n",
              "      <td>8427201079</td>\n",
              "      <td>El Misterio De Sittaford</td>\n",
              "      <td>Agatha Christie</td>\n",
              "      <td>0</td>\n",
              "      <td>Editorial Molino</td>\n",
              "    </tr>\n",
              "    <tr>\n",
              "      <th>271201</th>\n",
              "      <td>0887781721</td>\n",
              "      <td>Tom Penny</td>\n",
              "      <td>Tony German</td>\n",
              "      <td>0</td>\n",
              "      <td>P. Martin Associates</td>\n",
              "    </tr>\n",
              "    <tr>\n",
              "      <th>271215</th>\n",
              "      <td>3150013763</td>\n",
              "      <td>Der Hofmeister</td>\n",
              "      <td>Jakob Lenz</td>\n",
              "      <td>0</td>\n",
              "      <td>Philipp Reclam, Jun Verlag GmbH</td>\n",
              "    </tr>\n",
              "  </tbody>\n",
              "</table>\n",
              "<p>4581 rows × 5 columns</p>\n",
              "</div>"
            ],
            "text/plain": [
              "              ISBN  ...                           Publisher\n",
              "176     3150000335  ...     Philipp Reclam, Jun Verlag GmbH\n",
              "188     342311360X  ...  Deutscher Taschenbuch Verlag (DTV)\n",
              "288     0571197639  ...                     Faber Faber Inc\n",
              "351     3596214629  ...     Fischer Taschenbuch Verlag GmbH\n",
              "542     8845229041  ...                  Fabbri - RCS Libri\n",
              "...            ...  ...                                 ...\n",
              "270813  014029953X  ...                   Penguin Books Ltd\n",
              "270932  0340571187  ...                    Trafalgar Square\n",
              "271113  8427201079  ...                    Editorial Molino\n",
              "271201  0887781721  ...                P. Martin Associates\n",
              "271215  3150013763  ...     Philipp Reclam, Jun Verlag GmbH\n",
              "\n",
              "[4581 rows x 5 columns]"
            ]
          },
          "execution_count": 29,
          "metadata": {},
          "output_type": "execute_result"
        }
      ],
      "source": [
        "books[books['Year-Of-Publication'].apply(lambda x: x < 1900 or x > 2010)]"
      ]
    },
    {
      "cell_type": "markdown",
      "metadata": {
        "id": "vQ_-M49HBQ-F"
      },
      "source": [
        "With bit of time we might try to lookup years of publication."
      ]
    },
    {
      "cell_type": "code",
      "execution_count": 30,
      "metadata": {
        "id": "Hmt0XCKy9s-6"
      },
      "outputs": [],
      "source": [
        "def find_lost_years():\n",
        "\n",
        "  not_found = []\n",
        "  for index in tqdm(books[books['Year-Of-Publication'].apply(lambda x: x < 1900 or x > 2010)].index):\n",
        "\n",
        "    try:\n",
        "      book = isbnlib.meta(books['ISBN'][index], service='goob')\n",
        "    except:\n",
        "      continue\n",
        "\n",
        "    if not book:\n",
        "      not_found.append(index)\n",
        "      continue\n",
        "\n",
        "    if 'Year' in books.keys():\n",
        "      books['Year-Of-Publication'][index] = book['Year']\n",
        "    else:\n",
        "      not_found.append(index)\n",
        "    \n",
        "  return not_found"
      ]
    },
    {
      "cell_type": "code",
      "execution_count": 31,
      "metadata": {
        "id": "8bFfEZsDBXp8"
      },
      "outputs": [],
      "source": [
        "#not_found = find_lost_years()\n",
        "#print(not_found)"
      ]
    },
    {
      "cell_type": "markdown",
      "metadata": {
        "id": "jY06CXMZEmcW"
      },
      "source": [
        "# Users table\n",
        "\n",
        "When we look at users metadata, they are sparse and misleading. And we are not able to easily correct them (we might manualy correct some locations). So we will rather not use them."
      ]
    },
    {
      "cell_type": "code",
      "execution_count": 32,
      "metadata": {
        "colab": {
          "base_uri": "https://localhost:8080/",
          "height": 204
        },
        "id": "ha57guAaFIQz",
        "outputId": "eed04ddd-10f7-4b38-d222-5a5bb05079fd"
      },
      "outputs": [
        {
          "data": {
            "text/html": [
              "<div>\n",
              "<style scoped>\n",
              "    .dataframe tbody tr th:only-of-type {\n",
              "        vertical-align: middle;\n",
              "    }\n",
              "\n",
              "    .dataframe tbody tr th {\n",
              "        vertical-align: top;\n",
              "    }\n",
              "\n",
              "    .dataframe thead th {\n",
              "        text-align: right;\n",
              "    }\n",
              "</style>\n",
              "<table border=\"1\" class=\"dataframe\">\n",
              "  <thead>\n",
              "    <tr style=\"text-align: right;\">\n",
              "      <th></th>\n",
              "      <th>User-ID</th>\n",
              "      <th>Location</th>\n",
              "      <th>Age</th>\n",
              "    </tr>\n",
              "  </thead>\n",
              "  <tbody>\n",
              "    <tr>\n",
              "      <th>0</th>\n",
              "      <td>1</td>\n",
              "      <td>nyc, new york, usa</td>\n",
              "      <td>NaN</td>\n",
              "    </tr>\n",
              "    <tr>\n",
              "      <th>1</th>\n",
              "      <td>2</td>\n",
              "      <td>stockton, california, usa</td>\n",
              "      <td>18.0</td>\n",
              "    </tr>\n",
              "    <tr>\n",
              "      <th>2</th>\n",
              "      <td>3</td>\n",
              "      <td>moscow, yukon territory, russia</td>\n",
              "      <td>NaN</td>\n",
              "    </tr>\n",
              "    <tr>\n",
              "      <th>3</th>\n",
              "      <td>4</td>\n",
              "      <td>porto, v.n.gaia, portugal</td>\n",
              "      <td>17.0</td>\n",
              "    </tr>\n",
              "    <tr>\n",
              "      <th>4</th>\n",
              "      <td>5</td>\n",
              "      <td>farnborough, hants, united kingdom</td>\n",
              "      <td>NaN</td>\n",
              "    </tr>\n",
              "  </tbody>\n",
              "</table>\n",
              "</div>"
            ],
            "text/plain": [
              "   User-ID                            Location   Age\n",
              "0        1                  nyc, new york, usa   NaN\n",
              "1        2           stockton, california, usa  18.0\n",
              "2        3     moscow, yukon territory, russia   NaN\n",
              "3        4           porto, v.n.gaia, portugal  17.0\n",
              "4        5  farnborough, hants, united kingdom   NaN"
            ]
          },
          "execution_count": 32,
          "metadata": {},
          "output_type": "execute_result"
        }
      ],
      "source": [
        "users.head()"
      ]
    },
    {
      "cell_type": "code",
      "execution_count": 33,
      "metadata": {
        "colab": {
          "base_uri": "https://localhost:8080/",
          "height": 297
        },
        "id": "80_Xk3DjFOnY",
        "outputId": "f64bddbe-089b-49d5-f63f-2371f93be7bc"
      },
      "outputs": [
        {
          "data": {
            "text/html": [
              "<div>\n",
              "<style scoped>\n",
              "    .dataframe tbody tr th:only-of-type {\n",
              "        vertical-align: middle;\n",
              "    }\n",
              "\n",
              "    .dataframe tbody tr th {\n",
              "        vertical-align: top;\n",
              "    }\n",
              "\n",
              "    .dataframe thead th {\n",
              "        text-align: right;\n",
              "    }\n",
              "</style>\n",
              "<table border=\"1\" class=\"dataframe\">\n",
              "  <thead>\n",
              "    <tr style=\"text-align: right;\">\n",
              "      <th></th>\n",
              "      <th>User-ID</th>\n",
              "      <th>Age</th>\n",
              "    </tr>\n",
              "  </thead>\n",
              "  <tbody>\n",
              "    <tr>\n",
              "      <th>count</th>\n",
              "      <td>278858.00000</td>\n",
              "      <td>168096.000000</td>\n",
              "    </tr>\n",
              "    <tr>\n",
              "      <th>mean</th>\n",
              "      <td>139429.50000</td>\n",
              "      <td>34.751434</td>\n",
              "    </tr>\n",
              "    <tr>\n",
              "      <th>std</th>\n",
              "      <td>80499.51502</td>\n",
              "      <td>14.428097</td>\n",
              "    </tr>\n",
              "    <tr>\n",
              "      <th>min</th>\n",
              "      <td>1.00000</td>\n",
              "      <td>0.000000</td>\n",
              "    </tr>\n",
              "    <tr>\n",
              "      <th>25%</th>\n",
              "      <td>69715.25000</td>\n",
              "      <td>24.000000</td>\n",
              "    </tr>\n",
              "    <tr>\n",
              "      <th>50%</th>\n",
              "      <td>139429.50000</td>\n",
              "      <td>32.000000</td>\n",
              "    </tr>\n",
              "    <tr>\n",
              "      <th>75%</th>\n",
              "      <td>209143.75000</td>\n",
              "      <td>44.000000</td>\n",
              "    </tr>\n",
              "    <tr>\n",
              "      <th>max</th>\n",
              "      <td>278858.00000</td>\n",
              "      <td>244.000000</td>\n",
              "    </tr>\n",
              "  </tbody>\n",
              "</table>\n",
              "</div>"
            ],
            "text/plain": [
              "            User-ID            Age\n",
              "count  278858.00000  168096.000000\n",
              "mean   139429.50000      34.751434\n",
              "std     80499.51502      14.428097\n",
              "min         1.00000       0.000000\n",
              "25%     69715.25000      24.000000\n",
              "50%    139429.50000      32.000000\n",
              "75%    209143.75000      44.000000\n",
              "max    278858.00000     244.000000"
            ]
          },
          "execution_count": 33,
          "metadata": {},
          "output_type": "execute_result"
        }
      ],
      "source": [
        "users.describe()"
      ]
    },
    {
      "cell_type": "code",
      "execution_count": 34,
      "metadata": {
        "colab": {
          "base_uri": "https://localhost:8080/"
        },
        "id": "prxO9bTtFbLu",
        "outputId": "0b94070e-f6f0-47c0-d31d-2abad09a3eb5"
      },
      "outputs": [
        {
          "data": {
            "text/plain": [
              " usa                                    139712\n",
              " canada                                  21658\n",
              " united kingdom                          18556\n",
              " germany                                 17073\n",
              " spain                                   13258\n",
              "                                         ...  \n",
              " goteborg                                    1\n",
              " effingham                                   1\n",
              " kz                                          1\n",
              " los estados unidos de norte america         1\n",
              " roma                                        1\n",
              "Name: Location, Length: 631, dtype: int64"
            ]
          },
          "execution_count": 34,
          "metadata": {},
          "output_type": "execute_result"
        }
      ],
      "source": [
        "users['Location'].apply(lambda x: x.split(',')[-1].strip('\\\"')).value_counts()"
      ]
    },
    {
      "cell_type": "code",
      "execution_count": 35,
      "metadata": {
        "colab": {
          "base_uri": "https://localhost:8080/",
          "height": 419
        },
        "id": "23yDP58JFjef",
        "outputId": "48b1ded7-0207-4a99-c856-2c27791da446"
      },
      "outputs": [
        {
          "data": {
            "text/html": [
              "<div>\n",
              "<style scoped>\n",
              "    .dataframe tbody tr th:only-of-type {\n",
              "        vertical-align: middle;\n",
              "    }\n",
              "\n",
              "    .dataframe tbody tr th {\n",
              "        vertical-align: top;\n",
              "    }\n",
              "\n",
              "    .dataframe thead th {\n",
              "        text-align: right;\n",
              "    }\n",
              "</style>\n",
              "<table border=\"1\" class=\"dataframe\">\n",
              "  <thead>\n",
              "    <tr style=\"text-align: right;\">\n",
              "      <th></th>\n",
              "      <th>User-ID</th>\n",
              "    </tr>\n",
              "  </thead>\n",
              "  <tbody>\n",
              "    <tr>\n",
              "      <th>0</th>\n",
              "      <td>1</td>\n",
              "    </tr>\n",
              "    <tr>\n",
              "      <th>1</th>\n",
              "      <td>2</td>\n",
              "    </tr>\n",
              "    <tr>\n",
              "      <th>2</th>\n",
              "      <td>3</td>\n",
              "    </tr>\n",
              "    <tr>\n",
              "      <th>3</th>\n",
              "      <td>4</td>\n",
              "    </tr>\n",
              "    <tr>\n",
              "      <th>4</th>\n",
              "      <td>5</td>\n",
              "    </tr>\n",
              "    <tr>\n",
              "      <th>...</th>\n",
              "      <td>...</td>\n",
              "    </tr>\n",
              "    <tr>\n",
              "      <th>278853</th>\n",
              "      <td>278854</td>\n",
              "    </tr>\n",
              "    <tr>\n",
              "      <th>278854</th>\n",
              "      <td>278855</td>\n",
              "    </tr>\n",
              "    <tr>\n",
              "      <th>278855</th>\n",
              "      <td>278856</td>\n",
              "    </tr>\n",
              "    <tr>\n",
              "      <th>278856</th>\n",
              "      <td>278857</td>\n",
              "    </tr>\n",
              "    <tr>\n",
              "      <th>278857</th>\n",
              "      <td>278858</td>\n",
              "    </tr>\n",
              "  </tbody>\n",
              "</table>\n",
              "<p>278858 rows × 1 columns</p>\n",
              "</div>"
            ],
            "text/plain": [
              "        User-ID\n",
              "0             1\n",
              "1             2\n",
              "2             3\n",
              "3             4\n",
              "4             5\n",
              "...         ...\n",
              "278853   278854\n",
              "278854   278855\n",
              "278855   278856\n",
              "278856   278857\n",
              "278857   278858\n",
              "\n",
              "[278858 rows x 1 columns]"
            ]
          },
          "execution_count": 35,
          "metadata": {},
          "output_type": "execute_result"
        }
      ],
      "source": [
        "users = users.drop(columns=['Location', 'Age'])\n",
        "users"
      ]
    },
    {
      "cell_type": "markdown",
      "metadata": {
        "id": "4HgfHHUAF928"
      },
      "source": [
        "# Ratings table"
      ]
    },
    {
      "cell_type": "code",
      "execution_count": 36,
      "metadata": {
        "id": "UVgIgdTAF_3S"
      },
      "outputs": [],
      "source": [
        "def plot_groupby_stats(ratings):\n",
        "\n",
        "  avg_user_rating = ratings.groupby('User-ID')[\"Book-Rating\"].mean()\n",
        "  num_ratings_by_user = ratings.groupby('User-ID')[\"Book-Rating\"].count()\n",
        "  avg_book_rating = ratings.groupby('ISBN')[\"Book-Rating\"].mean()\n",
        "  num_ratings_by_book = ratings.groupby('ISBN')[\"Book-Rating\"].count()\n",
        "\n",
        "  n_rows = 2\n",
        "  n_cols = 2\n",
        "  fig=plt.figure(figsize=(10, 10))\n",
        "\n",
        "  ax = fig.add_subplot(n_rows, n_cols, 1)\n",
        "  avg_user_rating.plot.box(ax=ax)\n",
        "  ax.set_title(\"Average user rating\")\n",
        "\n",
        "  ax = fig.add_subplot(n_rows, n_cols, 2)\n",
        "  num_ratings_by_user.plot.box(ax=ax)\n",
        "  ax.set_title(\"Number of ratings by user\")\n",
        "\n",
        "  ax = fig.add_subplot(n_rows, n_cols, 3)\n",
        "  avg_book_rating.plot.box(ax=ax)\n",
        "  ax.set_title(\"Average book rating\")\n",
        "\n",
        "  ax = fig.add_subplot(n_rows, n_cols, 4)\n",
        "  num_ratings_by_book.plot.box(ax=ax)\n",
        "  ax.set_title(\"Number of ratings by book\")\n",
        "\n",
        "  fig.tight_layout()  # Improves appearance a bit.\n",
        "  plt.show()"
      ]
    },
    {
      "cell_type": "code",
      "execution_count": 37,
      "metadata": {
        "colab": {
          "base_uri": "https://localhost:8080/",
          "height": 729
        },
        "id": "umlk0TpnGart",
        "outputId": "44338aae-fa80-409f-a955-6c0998c5c1c1"
      },
      "outputs": [
        {
          "data": {
            "image/png": "[encoded data removed]",
            "text/plain": [
              "<Figure size 720x720 with 4 Axes>"
            ]
          },
          "metadata": {
            "needs_background": "light"
          },
          "output_type": "display_data"
        }
      ],
      "source": [
        "plot_groupby_stats(ratings)"
      ]
    },
    {
      "cell_type": "markdown",
      "metadata": {
        "id": "I8DKUiUJGl81"
      },
      "source": [
        "## Drop weakly rated books\n",
        "\n",
        "I decided to keep all books during preprocessing. Droping weakly rated books can be done differently for different recommendations algorithms."
      ]
    },
    {
      "cell_type": "code",
      "execution_count": 38,
      "metadata": {
        "id": "T5KUPhH3KFvD"
      },
      "outputs": [],
      "source": [
        "#num_ratings_by_book = ratings.groupby('ISBN')[\"Book-Rating\"].count()\n",
        "#ratings['Book-Rating'][ratings['ISBN'].isin(num_ratings_by_book[num_ratings_by_book < 100].index)].value_counts()"
      ]
    },
    {
      "cell_type": "code",
      "execution_count": 39,
      "metadata": {
        "id": "2IbtCbNcKIOt"
      },
      "outputs": [],
      "source": [
        "#ratings = ratings[ratings['ISBN'].isin(num_ratings_by_book[num_ratings_by_book > 99].index)]\n",
        "#ratings = ratings.reset_index(drop=True)"
      ]
    },
    {
      "cell_type": "code",
      "execution_count": 40,
      "metadata": {
        "id": "1aICKOlBKQEl"
      },
      "outputs": [],
      "source": [
        "#plot_groupby_stats(ratings)"
      ]
    },
    {
      "cell_type": "markdown",
      "metadata": {
        "id": "SSjIgUagKiZ2"
      },
      "source": [
        "## Normalize ratings\n",
        "\n",
        "Mean normalization\n",
        "- take average rating of an item and subtract that average from every rating of that item\n",
        "- the same for users - take an average user's rating and subtract it from all ratings that user gave"
      ]
    },
    {
      "cell_type": "code",
      "execution_count": 41,
      "metadata": {
        "colab": {
          "base_uri": "https://localhost:8080/"
        },
        "id": "6UgoCKC8LBNi",
        "outputId": "1bb9402f-999c-470e-893e-128fb8a875c3"
      },
      "outputs": [
        {
          "data": {
            "text/plain": [
              "ISBN\n",
              "0000913154    8.0\n",
              "0001010565    0.0\n",
              "0001046438    9.0\n",
              "0001046713    0.0\n",
              "000104687X    6.0\n",
              "             ... \n",
              "9999669972    0.0\n",
              "9999980538    3.0\n",
              "9999984584    0.0\n",
              "9999991556    0.0\n",
              "9999999999    5.0\n",
              "Name: Book-Rating, Length: 269747, dtype: float64"
            ]
          },
          "execution_count": 41,
          "metadata": {},
          "output_type": "execute_result"
        }
      ],
      "source": [
        "avg_book_rating = ratings.groupby('ISBN')[\"Book-Rating\"].mean()\n",
        "avg_book_rating"
      ]
    },
    {
      "cell_type": "code",
      "execution_count": 42,
      "metadata": {
        "id": "ht4ZeXZ0MVu8"
      },
      "outputs": [],
      "source": [
        "ratings['Book-Rating'] = ratings.apply(\n",
        "    lambda x: x['Book-Rating'] - avg_book_rating[x['ISBN']],\n",
        "    axis=1\n",
        ")"
      ]
    },
    {
      "cell_type": "code",
      "execution_count": 43,
      "metadata": {
        "colab": {
          "base_uri": "https://localhost:8080/"
        },
        "id": "hnWyk_n8M_nr",
        "outputId": "b6ab9aa5-4404-4afe-9590-f161f1383a64"
      },
      "outputs": [
        {
          "data": {
            "text/plain": [
              "User-ID\n",
              "2         0.000000\n",
              "8        -0.777750\n",
              "9        -2.060210\n",
              "10       -2.000000\n",
              "12        6.666667\n",
              "            ...   \n",
              "278846    4.125000\n",
              "278849    1.433333\n",
              "278851    0.220735\n",
              "278852    4.076923\n",
              "278854    3.189461\n",
              "Name: Book-Rating, Length: 92189, dtype: float64"
            ]
          },
          "execution_count": 43,
          "metadata": {},
          "output_type": "execute_result"
        }
      ],
      "source": [
        "avg_user_rating = ratings.groupby('User-ID')[\"Book-Rating\"].mean()\n",
        "avg_user_rating"
      ]
    },
    {
      "cell_type": "code",
      "execution_count": 44,
      "metadata": {
        "id": "ihsw7vb5M7xA"
      },
      "outputs": [],
      "source": [
        "ratings['Book-Rating'] = ratings.apply(\n",
        "    lambda x: x['Book-Rating'] - avg_user_rating[x['User-ID']],\n",
        "    axis=1\n",
        ")"
      ]
    },
    {
      "cell_type": "code",
      "execution_count": 45,
      "metadata": {
        "colab": {
          "base_uri": "https://localhost:8080/",
          "height": 729
        },
        "id": "MDoBHnYGNKWh",
        "outputId": "b23fcc60-8001-4ca7-ab41-c5ad67ada916"
      },
      "outputs": [
        {
          "data": {
            "image/png": "[encoded data removed]",
            "text/plain": [
              "<Figure size 720x720 with 4 Axes>"
            ]
          },
          "metadata": {
            "needs_background": "light"
          },
          "output_type": "display_data"
        }
      ],
      "source": [
        "plot_groupby_stats(ratings)"
      ]
    },
    {
      "cell_type": "markdown",
      "metadata": {
        "id": "vOMMhLXxQkct"
      },
      "source": [
        "# Saving preprocessed data"
      ]
    },
    {
      "cell_type": "code",
      "execution_count": 47,
      "metadata": {
        "id": "W4nIK4QrQnUy"
      },
      "outputs": [],
      "source": [
        "books.to_csv('data/preprocessed_books.csv', index=False)\n",
        "users.to_csv('data/preprocessed_users.csv', index=False)\n",
        "ratings.to_csv('data/preprocessed_ratings.csv', index=False)"
      ]
    }
  ],
  "metadata": {
    "colab": {
      "authorship_tag": "ABX9TyN3jtsvNAMBrikMKru9l+sq",
      "name": "data_preprocessing.ipynb",
      "provenance": [],
      "toc_visible": true
    },
    "kernelspec": {
      "display_name": "Python 3",
      "name": "python3"
    },
    "language_info": {
      "name": "python"
    }
  },
  "nbformat": 4,
  "nbformat_minor": 0
}
