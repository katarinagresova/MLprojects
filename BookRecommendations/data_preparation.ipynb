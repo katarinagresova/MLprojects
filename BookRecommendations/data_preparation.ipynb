{
  "nbformat": 4,
  "nbformat_minor": 0,
  "metadata": {
    "colab": {
      "name": "data_preparation.ipynb",
      "provenance": [],
      "toc_visible": true,
      "authorship_tag": "ABX9TyNCQOmLhMhJXIFGQyUjbJPL"
    },
    "kernelspec": {
      "name": "python3",
      "display_name": "Python 3"
    },
    "language_info": {
      "name": "python"
    }
  },
  "cells": [
    {
      "cell_type": "markdown",
      "metadata": {
        "id": "9yj_fpKmg-6P"
      },
      "source": [
        "This notebook contains data preparation pipeline for the [Book-Crossing Dataset](http://www2.informatik.uni-freiburg.de/~cziegler/BX/) that was originaly collected in paper [Improving Recommendation Lists Through\n",
        "Topic Diversification](http://www2.informatik.uni-freiburg.de/~cziegler/BX/WWW-2005-Preprint.pdf). Authors crawled [BookCrossing](https://www.bookcrossing.com/) website and collected data on 278 858 members and 1 157 112 ratings, both implicit and explicit, referring to 271 379 distinct ISBNs. Invalid ISBNs\n",
        "were excluded from the outset."
      ]
    },
    {
      "cell_type": "markdown",
      "metadata": {
        "id": "pWzEuF-r0Wqp"
      },
      "source": [
        "# Setup\n",
        "\n"
      ]
    },
    {
      "cell_type": "markdown",
      "metadata": {
        "id": "zaznfJEj2dVy"
      },
      "source": [
        "## Packages\n",
        "\n",
        "Installing and importing packages. We will work with this nice python package called [isbnlib](https://github.com/xlcnd/isbnlib) that can be used to validate, clean, transform, hyphenate and get metadata for ISBN strings."
      ]
    },
    {
      "cell_type": "code",
      "metadata": {
        "colab": {
          "base_uri": "https://localhost:8080/"
        },
        "id": "DGO2kBFa2t8Q",
        "outputId": "5cbe77c3-b8b1-40bf-963c-b6c2e98b67d3"
      },
      "source": [
        "!pip install isbnlib"
      ],
      "execution_count": null,
      "outputs": [
        {
          "output_type": "stream",
          "name": "stdout",
          "text": [
            "Collecting isbnlib\n",
            "  Downloading isbnlib-3.10.9-py2.py3-none-any.whl (65 kB)\n",
            "\u001b[?25l\r\u001b[K     |█████                           | 10 kB 20.1 MB/s eta 0:00:01\r\u001b[K     |██████████                      | 20 kB 9.7 MB/s eta 0:00:01\r\u001b[K     |███████████████                 | 30 kB 8.4 MB/s eta 0:00:01\r\u001b[K     |████████████████████            | 40 kB 7.6 MB/s eta 0:00:01\r\u001b[K     |█████████████████████████       | 51 kB 5.1 MB/s eta 0:00:01\r\u001b[K     |██████████████████████████████  | 61 kB 5.2 MB/s eta 0:00:01\r\u001b[K     |████████████████████████████████| 65 kB 1.5 MB/s \n",
            "\u001b[?25hInstalling collected packages: isbnlib\n",
            "Successfully installed isbnlib-3.10.9\n"
          ]
        }
      ]
    },
    {
      "cell_type": "code",
      "metadata": {
        "id": "UP4ASdA6559G"
      },
      "source": [
        "import pandas as pd\n",
        "import isbnlib\n",
        "from tqdm import tqdm\n",
        "import matplotlib.pyplot as plt"
      ],
      "execution_count": null,
      "outputs": []
    },
    {
      "cell_type": "markdown",
      "metadata": {
        "id": "pBoJr9jz1FmF"
      },
      "source": [
        "## Data\n",
        "\n",
        "We download Book-Crossing dataset in CSV format, unzip it and load it into pandas DataFrame. During data loading, we need to set `encoding` parameter, because data are in `ISO-8859-1` encoding, not default `UTF-8`. Also, one book title contains quote, so we need to escape it, because quote is also used to encapsulate fileds in CSV file. Troubling title looks like this:\n",
        "\n",
        "> `Peterman Rides Again: Adventures Continue with the Real \\\"J. Peterman\\\" Through Life &amp; the Catalog Business`\n",
        "\n",
        "We need to explicitly set backslash (`\\`) as escape chareacter."
      ]
    },
    {
      "cell_type": "code",
      "metadata": {
        "id": "NoWyhb2GU3bH",
        "colab": {
          "base_uri": "https://localhost:8080/"
        },
        "outputId": "5c59fdb1-e380-440e-c8e9-41b119366995"
      },
      "source": [
        "!wget http://www2.informatik.uni-freiburg.de/~cziegler/BX/BX-CSV-Dump.zip"
      ],
      "execution_count": null,
      "outputs": [
        {
          "output_type": "stream",
          "name": "stdout",
          "text": [
            "--2021-11-17 17:56:30--  http://www2.informatik.uni-freiburg.de/~cziegler/BX/BX-CSV-Dump.zip\n",
            "Resolving www2.informatik.uni-freiburg.de (www2.informatik.uni-freiburg.de)... 132.230.105.133\n",
            "Connecting to www2.informatik.uni-freiburg.de (www2.informatik.uni-freiburg.de)|132.230.105.133|:80... connected.\n",
            "HTTP request sent, awaiting response... 200 OK\n",
            "Length: 26085508 (25M) [application/zip]\n",
            "Saving to: ‘BX-CSV-Dump.zip’\n",
            "\n",
            "BX-CSV-Dump.zip     100%[===================>]  24.88M  16.4MB/s    in 1.5s    \n",
            "\n",
            "2021-11-17 17:56:33 (16.4 MB/s) - ‘BX-CSV-Dump.zip’ saved [26085508/26085508]\n",
            "\n"
          ]
        }
      ]
    },
    {
      "cell_type": "code",
      "metadata": {
        "colab": {
          "base_uri": "https://localhost:8080/"
        },
        "id": "5IJqWy-Y1MoZ",
        "outputId": "49eb6a14-0e34-49bb-95d0-7f39ae7e1596"
      },
      "source": [
        "!unzip BX-CSV-Dump.zip"
      ],
      "execution_count": null,
      "outputs": [
        {
          "output_type": "stream",
          "name": "stdout",
          "text": [
            "Archive:  BX-CSV-Dump.zip\n",
            "  inflating: BX-Book-Ratings.csv     \n",
            "  inflating: BX-Books.csv            \n",
            "  inflating: BX-Users.csv            \n"
          ]
        }
      ]
    },
    {
      "cell_type": "code",
      "metadata": {
        "id": "LSDwKzvq1O_b"
      },
      "source": [
        "users = pd.read_csv('BX-Users.csv', sep=';', encoding = \"ISO-8859-1\")\n",
        "books = pd.read_csv('BX-Books.csv', sep=';', encoding = \"ISO-8859-1\", escapechar = \"\\\\\")\n",
        "ratings = pd.read_csv('BX-Book-Ratings.csv', sep=';', encoding = \"ISO-8859-1\")"
      ],
      "execution_count": null,
      "outputs": []
    },
    {
      "cell_type": "markdown",
      "metadata": {
        "id": "0EpyvWldDks9"
      },
      "source": [
        "# Data cleaning\n",
        "\n"
      ]
    },
    {
      "cell_type": "markdown",
      "metadata": {
        "id": "QVqGPzNRGKls"
      },
      "source": [
        "## Useless columns\n",
        "\n",
        "Let's look at columns in `books` table if there are some useful information."
      ]
    },
    {
      "cell_type": "code",
      "metadata": {
        "id": "CUC1fmAJGTnG",
        "colab": {
          "base_uri": "https://localhost:8080/",
          "height": 434
        },
        "outputId": "ba437c73-d0fd-4f5a-8516-a5ef1c6396ba"
      },
      "source": [
        "books.head()"
      ],
      "execution_count": null,
      "outputs": [
        {
          "output_type": "execute_result",
          "data": {
            "text/html": [
              "<div>\n",
              "<style scoped>\n",
              "    .dataframe tbody tr th:only-of-type {\n",
              "        vertical-align: middle;\n",
              "    }\n",
              "\n",
              "    .dataframe tbody tr th {\n",
              "        vertical-align: top;\n",
              "    }\n",
              "\n",
              "    .dataframe thead th {\n",
              "        text-align: right;\n",
              "    }\n",
              "</style>\n",
              "<table border=\"1\" class=\"dataframe\">\n",
              "  <thead>\n",
              "    <tr style=\"text-align: right;\">\n",
              "      <th></th>\n",
              "      <th>ISBN</th>\n",
              "      <th>Book-Title</th>\n",
              "      <th>Book-Author</th>\n",
              "      <th>Year-Of-Publication</th>\n",
              "      <th>Publisher</th>\n",
              "      <th>Image-URL-S</th>\n",
              "      <th>Image-URL-M</th>\n",
              "      <th>Image-URL-L</th>\n",
              "    </tr>\n",
              "  </thead>\n",
              "  <tbody>\n",
              "    <tr>\n",
              "      <th>0</th>\n",
              "      <td>0195153448</td>\n",
              "      <td>Classical Mythology</td>\n",
              "      <td>Mark P. O. Morford</td>\n",
              "      <td>2002</td>\n",
              "      <td>Oxford University Press</td>\n",
              "      <td>http://images.amazon.com/images/P/0195153448.0...</td>\n",
              "      <td>http://images.amazon.com/images/P/0195153448.0...</td>\n",
              "      <td>http://images.amazon.com/images/P/0195153448.0...</td>\n",
              "    </tr>\n",
              "    <tr>\n",
              "      <th>1</th>\n",
              "      <td>0002005018</td>\n",
              "      <td>Clara Callan</td>\n",
              "      <td>Richard Bruce Wright</td>\n",
              "      <td>2001</td>\n",
              "      <td>HarperFlamingo Canada</td>\n",
              "      <td>http://images.amazon.com/images/P/0002005018.0...</td>\n",
              "      <td>http://images.amazon.com/images/P/0002005018.0...</td>\n",
              "      <td>http://images.amazon.com/images/P/0002005018.0...</td>\n",
              "    </tr>\n",
              "    <tr>\n",
              "      <th>2</th>\n",
              "      <td>0060973129</td>\n",
              "      <td>Decision in Normandy</td>\n",
              "      <td>Carlo D'Este</td>\n",
              "      <td>1991</td>\n",
              "      <td>HarperPerennial</td>\n",
              "      <td>http://images.amazon.com/images/P/0060973129.0...</td>\n",
              "      <td>http://images.amazon.com/images/P/0060973129.0...</td>\n",
              "      <td>http://images.amazon.com/images/P/0060973129.0...</td>\n",
              "    </tr>\n",
              "    <tr>\n",
              "      <th>3</th>\n",
              "      <td>0374157065</td>\n",
              "      <td>Flu: The Story of the Great Influenza Pandemic...</td>\n",
              "      <td>Gina Bari Kolata</td>\n",
              "      <td>1999</td>\n",
              "      <td>Farrar Straus Giroux</td>\n",
              "      <td>http://images.amazon.com/images/P/0374157065.0...</td>\n",
              "      <td>http://images.amazon.com/images/P/0374157065.0...</td>\n",
              "      <td>http://images.amazon.com/images/P/0374157065.0...</td>\n",
              "    </tr>\n",
              "    <tr>\n",
              "      <th>4</th>\n",
              "      <td>0393045218</td>\n",
              "      <td>The Mummies of Urumchi</td>\n",
              "      <td>E. J. W. Barber</td>\n",
              "      <td>1999</td>\n",
              "      <td>W. W. Norton &amp;amp; Company</td>\n",
              "      <td>http://images.amazon.com/images/P/0393045218.0...</td>\n",
              "      <td>http://images.amazon.com/images/P/0393045218.0...</td>\n",
              "      <td>http://images.amazon.com/images/P/0393045218.0...</td>\n",
              "    </tr>\n",
              "  </tbody>\n",
              "</table>\n",
              "</div>"
            ],
            "text/plain": [
              "         ISBN  ...                                        Image-URL-L\n",
              "0  0195153448  ...  http://images.amazon.com/images/P/0195153448.0...\n",
              "1  0002005018  ...  http://images.amazon.com/images/P/0002005018.0...\n",
              "2  0060973129  ...  http://images.amazon.com/images/P/0060973129.0...\n",
              "3  0374157065  ...  http://images.amazon.com/images/P/0374157065.0...\n",
              "4  0393045218  ...  http://images.amazon.com/images/P/0393045218.0...\n",
              "\n",
              "[5 rows x 8 columns]"
            ]
          },
          "metadata": {},
          "execution_count": 6
        }
      ]
    },
    {
      "cell_type": "markdown",
      "metadata": {
        "id": "gyMgV3pYGbVk"
      },
      "source": [
        "We might use image in final application to show a preview of sugested books to a user. Or we could use it in multi-modal model as one of input for computing similarity between books. But for now, we will not need it, since we will do just simple proof-of-concept recommendation system."
      ]
    },
    {
      "cell_type": "code",
      "metadata": {
        "id": "7_TTo9vnGb9G"
      },
      "source": [
        "books = books.drop(columns=['Image-URL-S', 'Image-URL-M', 'Image-URL-L'])"
      ],
      "execution_count": null,
      "outputs": []
    },
    {
      "cell_type": "code",
      "metadata": {
        "id": "7ABLuwiCGff0",
        "colab": {
          "base_uri": "https://localhost:8080/",
          "height": 206
        },
        "outputId": "7cf2e9a4-a3ef-4cdf-cd66-fbdb638b161c"
      },
      "source": [
        "books.head()"
      ],
      "execution_count": null,
      "outputs": [
        {
          "output_type": "execute_result",
          "data": {
            "text/html": [
              "<div>\n",
              "<style scoped>\n",
              "    .dataframe tbody tr th:only-of-type {\n",
              "        vertical-align: middle;\n",
              "    }\n",
              "\n",
              "    .dataframe tbody tr th {\n",
              "        vertical-align: top;\n",
              "    }\n",
              "\n",
              "    .dataframe thead th {\n",
              "        text-align: right;\n",
              "    }\n",
              "</style>\n",
              "<table border=\"1\" class=\"dataframe\">\n",
              "  <thead>\n",
              "    <tr style=\"text-align: right;\">\n",
              "      <th></th>\n",
              "      <th>ISBN</th>\n",
              "      <th>Book-Title</th>\n",
              "      <th>Book-Author</th>\n",
              "      <th>Year-Of-Publication</th>\n",
              "      <th>Publisher</th>\n",
              "    </tr>\n",
              "  </thead>\n",
              "  <tbody>\n",
              "    <tr>\n",
              "      <th>0</th>\n",
              "      <td>0195153448</td>\n",
              "      <td>Classical Mythology</td>\n",
              "      <td>Mark P. O. Morford</td>\n",
              "      <td>2002</td>\n",
              "      <td>Oxford University Press</td>\n",
              "    </tr>\n",
              "    <tr>\n",
              "      <th>1</th>\n",
              "      <td>0002005018</td>\n",
              "      <td>Clara Callan</td>\n",
              "      <td>Richard Bruce Wright</td>\n",
              "      <td>2001</td>\n",
              "      <td>HarperFlamingo Canada</td>\n",
              "    </tr>\n",
              "    <tr>\n",
              "      <th>2</th>\n",
              "      <td>0060973129</td>\n",
              "      <td>Decision in Normandy</td>\n",
              "      <td>Carlo D'Este</td>\n",
              "      <td>1991</td>\n",
              "      <td>HarperPerennial</td>\n",
              "    </tr>\n",
              "    <tr>\n",
              "      <th>3</th>\n",
              "      <td>0374157065</td>\n",
              "      <td>Flu: The Story of the Great Influenza Pandemic...</td>\n",
              "      <td>Gina Bari Kolata</td>\n",
              "      <td>1999</td>\n",
              "      <td>Farrar Straus Giroux</td>\n",
              "    </tr>\n",
              "    <tr>\n",
              "      <th>4</th>\n",
              "      <td>0393045218</td>\n",
              "      <td>The Mummies of Urumchi</td>\n",
              "      <td>E. J. W. Barber</td>\n",
              "      <td>1999</td>\n",
              "      <td>W. W. Norton &amp;amp; Company</td>\n",
              "    </tr>\n",
              "  </tbody>\n",
              "</table>\n",
              "</div>"
            ],
            "text/plain": [
              "         ISBN  ...                   Publisher\n",
              "0  0195153448  ...     Oxford University Press\n",
              "1  0002005018  ...       HarperFlamingo Canada\n",
              "2  0060973129  ...             HarperPerennial\n",
              "3  0374157065  ...        Farrar Straus Giroux\n",
              "4  0393045218  ...  W. W. Norton &amp; Company\n",
              "\n",
              "[5 rows x 5 columns]"
            ]
          },
          "metadata": {},
          "execution_count": 8
        }
      ]
    },
    {
      "cell_type": "markdown",
      "metadata": {
        "id": "X1M9-zaPGjhw"
      },
      "source": [
        "## Renaming columns\n",
        "\n",
        "What we could do to make our life easier is to rename columns."
      ]
    },
    {
      "cell_type": "code",
      "metadata": {
        "id": "URFrOVeDGxN4",
        "colab": {
          "base_uri": "https://localhost:8080/"
        },
        "outputId": "5137f6fe-78c1-4d40-daf0-02cf3b84d1d7"
      },
      "source": [
        "books.columns"
      ],
      "execution_count": null,
      "outputs": [
        {
          "output_type": "execute_result",
          "data": {
            "text/plain": [
              "Index(['ISBN', 'Book-Title', 'Book-Author', 'Year-Of-Publication',\n",
              "       'Publisher'],\n",
              "      dtype='object')"
            ]
          },
          "metadata": {},
          "execution_count": 9
        }
      ]
    },
    {
      "cell_type": "code",
      "metadata": {
        "id": "B-pSK9AlG0Uk"
      },
      "source": [
        "books.columns = ['ISBN', 'Title', 'Author', 'Year', 'Publisher']"
      ],
      "execution_count": null,
      "outputs": []
    },
    {
      "cell_type": "code",
      "metadata": {
        "id": "zNS7SnWjHBaH",
        "colab": {
          "base_uri": "https://localhost:8080/"
        },
        "outputId": "b22794dc-15d5-42bb-b16b-75b535e7a7a0"
      },
      "source": [
        "books.columns"
      ],
      "execution_count": null,
      "outputs": [
        {
          "output_type": "execute_result",
          "data": {
            "text/plain": [
              "Index(['ISBN', 'Title', 'Author', 'Year', 'Publisher'], dtype='object')"
            ]
          },
          "metadata": {},
          "execution_count": 11
        }
      ]
    },
    {
      "cell_type": "code",
      "metadata": {
        "id": "2FsEhHUoHC_S",
        "colab": {
          "base_uri": "https://localhost:8080/"
        },
        "outputId": "a32a35a8-bee1-4088-a1c5-53b0a55dc416"
      },
      "source": [
        "ratings.columns"
      ],
      "execution_count": null,
      "outputs": [
        {
          "output_type": "execute_result",
          "data": {
            "text/plain": [
              "Index(['User-ID', 'ISBN', 'Book-Rating'], dtype='object')"
            ]
          },
          "metadata": {},
          "execution_count": 12
        }
      ]
    },
    {
      "cell_type": "code",
      "metadata": {
        "id": "YjDRLawBHHbc"
      },
      "source": [
        "ratings.columns = ['User-ID', 'ISBN', 'Rating']"
      ],
      "execution_count": null,
      "outputs": []
    },
    {
      "cell_type": "code",
      "metadata": {
        "id": "DtHjd5b2HMAh",
        "colab": {
          "base_uri": "https://localhost:8080/"
        },
        "outputId": "407a8e1a-5db8-4004-acb4-f2fafca433ec"
      },
      "source": [
        "ratings.columns"
      ],
      "execution_count": null,
      "outputs": [
        {
          "output_type": "execute_result",
          "data": {
            "text/plain": [
              "Index(['User-ID', 'ISBN', 'Rating'], dtype='object')"
            ]
          },
          "metadata": {},
          "execution_count": 15
        }
      ]
    },
    {
      "cell_type": "code",
      "metadata": {
        "id": "F0aaeJC1HOZS",
        "colab": {
          "base_uri": "https://localhost:8080/"
        },
        "outputId": "90c6da4f-0163-4f9e-9df9-0479a528b05c"
      },
      "source": [
        "users.columns"
      ],
      "execution_count": 18,
      "outputs": [
        {
          "output_type": "execute_result",
          "data": {
            "text/plain": [
              "Index(['User-ID', 'Location', 'Age'], dtype='object')"
            ]
          },
          "metadata": {},
          "execution_count": 18
        }
      ]
    },
    {
      "cell_type": "markdown",
      "metadata": {
        "id": "RosfMfiBHQl2"
      },
      "source": [
        "Columns in `users` table are okey, we will keep them."
      ]
    },
    {
      "cell_type": "markdown",
      "metadata": {
        "id": "krdq4lDiSiFk"
      },
      "source": [
        "## Transforming ISBN to canonical form\n",
        "\n",
        "Reasons for bothering with ISBN numbers:\n",
        "\n",
        "- transform ISBN numbers into standard form to prevent duplicate entries\n",
        "- use ISBN as unique and valid identificator of a book, so we could connect it with other resources where books are identified by ISBN number.\n",
        "\n",
        "Data cleaning on ISBN in `books` table is connected to `ratings` table, because ISBN is used as primary key, so we need to work with both tables."
      ]
    },
    {
      "cell_type": "markdown",
      "metadata": {
        "id": "V5v6lRfPezI4"
      },
      "source": [
        "First, we create a helper function to print some statistics about number of books and number of books with unique ISBNs to see if it is changing during our ISBN transformation. "
      ]
    },
    {
      "cell_type": "code",
      "metadata": {
        "id": "Vw8IrL2GbJxk"
      },
      "source": [
        "def book_stats():\n",
        "\n",
        "  # this is not the first run of this function\n",
        "  if hasattr(book_stats, \"books_count\"):\n",
        "    print(\"Removed books: \", book_stats.books_count - len(books))\n",
        "    print(\"Removed unique books: \", book_stats.unique_books - len(books['ISBN'].unique()))\n",
        "    print(\"Removed books in ratings: \", book_stats.ratings_count - len(ratings))   \n",
        "    print(\"Removed unique books in ratings: \", book_stats.unique_ratings - len(ratings['ISBN'].unique()))\n",
        "    print()\n",
        "\n",
        "  # update count in each run\n",
        "  book_stats.books_count = len(books)\n",
        "  book_stats.ratings_count = len(ratings)\n",
        "  book_stats.unique_books = len(books['ISBN'].unique())\n",
        "  book_stats.unique_ratings = len(ratings['ISBN'].unique())\n",
        "\n",
        "  print(\"Current number of all books in books: \", book_stats.books_count)\n",
        "  print(\"Current number of entries in books with unique ISBN: \", book_stats.unique_books)\n",
        "  print(\"Current number of all books in ratings: \", book_stats.ratings_count)\n",
        "  print(\"Current number of entries in ratings with unique ISBN: \", book_stats.unique_ratings)"
      ],
      "execution_count": 19,
      "outputs": []
    },
    {
      "cell_type": "code",
      "metadata": {
        "id": "H3Byd7SCfW1o",
        "outputId": "73812a04-a5ed-4b41-cdaf-cecb26feb161",
        "colab": {
          "base_uri": "https://localhost:8080/"
        }
      },
      "source": [
        "book_stats()"
      ],
      "execution_count": 20,
      "outputs": [
        {
          "output_type": "stream",
          "name": "stdout",
          "text": [
            "Current number of all books in books:  271379\n",
            "Current number of entries in books with unique ISBN:  271379\n",
            "Current number of all books in ratings:  1149780\n",
            "Current number of entries in ratings with unique ISBN:  340556\n"
          ]
        }
      ]
    },
    {
      "cell_type": "code",
      "metadata": {
        "id": "OUFq3OfafeZj"
      },
      "source": [
        "books['ISBN'] = books['ISBN'].apply(lambda x: isbnlib.canonical(isbnlib.clean(x)))\n",
        "ratings['ISBN'] = ratings['ISBN'].apply(lambda x: isbnlib.canonical(isbnlib.clean(x)))"
      ],
      "execution_count": 21,
      "outputs": []
    },
    {
      "cell_type": "code",
      "metadata": {
        "id": "g_HEw2A3fkDh",
        "outputId": "09e4e33a-3456-46dc-cdcb-160baefe6b04",
        "colab": {
          "base_uri": "https://localhost:8080/"
        }
      },
      "source": [
        "book_stats()"
      ],
      "execution_count": 22,
      "outputs": [
        {
          "output_type": "stream",
          "name": "stdout",
          "text": [
            "Removed books:  0\n",
            "Removed unique books:  431\n",
            "Removed books in ratings:  0\n",
            "Removed unique books in ratings:  8134\n",
            "\n",
            "Current number of all books in books:  271379\n",
            "Current number of entries in books with unique ISBN:  270948\n",
            "Current number of all books in ratings:  1149780\n",
            "Current number of entries in ratings with unique ISBN:  332422\n"
          ]
        }
      ]
    },
    {
      "cell_type": "markdown",
      "metadata": {
        "id": "b_si9BwfgKmX"
      },
      "source": [
        "As we can see, we still have the same number of entries in `books` and `ratings` tables, but we have less entries with unique ISBN. Multiple ISBNs were transformed into the same ISBN number. "
      ]
    }
  ]
}