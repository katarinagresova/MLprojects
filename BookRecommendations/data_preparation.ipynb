{
  "nbformat": 4,
  "nbformat_minor": 0,
  "metadata": {
    "colab": {
      "name": "data_preparation.ipynb",
      "provenance": [],
      "toc_visible": true,
      "authorship_tag": "ABX9TyOOTqlmzuzhVVJNzGPJtJoU"
    },
    "kernelspec": {
      "name": "python3",
      "display_name": "Python 3"
    },
    "language_info": {
      "name": "python"
    }
  },
  "cells": [
    {
      "cell_type": "markdown",
      "metadata": {
        "id": "9yj_fpKmg-6P"
      },
      "source": [
        "This notebook contains data preparation pipeline for the [Book-Crossing Dataset](http://www2.informatik.uni-freiburg.de/~cziegler/BX/) that was originaly collected in paper [Improving Recommendation Lists Through\n",
        "Topic Diversification](http://www2.informatik.uni-freiburg.de/~cziegler/BX/WWW-2005-Preprint.pdf). Authors crawled [BookCrossing](https://www.bookcrossing.com/) website and collected data on 278 858 members and 1 157 112 ratings, both implicit and explicit, referring to 271 379 distinct ISBNs. Invalid ISBNs\n",
        "were excluded from the outset."
      ]
    },
    {
      "cell_type": "markdown",
      "metadata": {
        "id": "pWzEuF-r0Wqp"
      },
      "source": [
        "# Setup\n",
        "\n"
      ]
    },
    {
      "cell_type": "markdown",
      "metadata": {
        "id": "zaznfJEj2dVy"
      },
      "source": [
        "## Packages\n",
        "\n",
        "Installing and importing packages. We will work with this nice python package called [isbnlib](https://github.com/xlcnd/isbnlib) that can be used to validate, clean, transform, hyphenate and get metadata for ISBN strings."
      ]
    },
    {
      "cell_type": "code",
      "metadata": {
        "id": "DGO2kBFa2t8Q",
        "outputId": "5cbe77c3-b8b1-40bf-963c-b6c2e98b67d3",
        "colab": {
          "base_uri": "https://localhost:8080/"
        }
      },
      "source": [
        "!pip install isbnlib"
      ],
      "execution_count": 1,
      "outputs": [
        {
          "output_type": "stream",
          "name": "stdout",
          "text": [
            "Collecting isbnlib\n",
            "  Downloading isbnlib-3.10.9-py2.py3-none-any.whl (65 kB)\n",
            "\u001b[?25l\r\u001b[K     |█████                           | 10 kB 20.1 MB/s eta 0:00:01\r\u001b[K     |██████████                      | 20 kB 9.7 MB/s eta 0:00:01\r\u001b[K     |███████████████                 | 30 kB 8.4 MB/s eta 0:00:01\r\u001b[K     |████████████████████            | 40 kB 7.6 MB/s eta 0:00:01\r\u001b[K     |█████████████████████████       | 51 kB 5.1 MB/s eta 0:00:01\r\u001b[K     |██████████████████████████████  | 61 kB 5.2 MB/s eta 0:00:01\r\u001b[K     |████████████████████████████████| 65 kB 1.5 MB/s \n",
            "\u001b[?25hInstalling collected packages: isbnlib\n",
            "Successfully installed isbnlib-3.10.9\n"
          ]
        }
      ]
    },
    {
      "cell_type": "code",
      "metadata": {
        "id": "UP4ASdA6559G"
      },
      "source": [
        "import pandas as pd\n",
        "import isbnlib\n",
        "from tqdm import tqdm\n",
        "import matplotlib.pyplot as plt"
      ],
      "execution_count": 2,
      "outputs": []
    },
    {
      "cell_type": "markdown",
      "metadata": {
        "id": "pBoJr9jz1FmF"
      },
      "source": [
        "## Data\n",
        "\n",
        "We download Book-Crossing dataset in CSV format, unzip it and load it into pandas DataFrame. During data loading, we need to set `encoding` parameter, because data are in `ISO-8859-1` encoding, not default `UTF-8`. Also, one book title contains quote, so we need to escape it, because quote is also used to encapsulate fileds in CSV file. Troubling title looks like this:\n",
        "\n",
        "> `Peterman Rides Again: Adventures Continue with the Real \\\"J. Peterman\\\" Through Life &amp; the Catalog Business`\n",
        "\n",
        "We need to explicitly set backslash (`\\`) as escape chareacter."
      ]
    },
    {
      "cell_type": "code",
      "metadata": {
        "id": "NoWyhb2GU3bH",
        "outputId": "5c59fdb1-e380-440e-c8e9-41b119366995",
        "colab": {
          "base_uri": "https://localhost:8080/"
        }
      },
      "source": [
        "!wget http://www2.informatik.uni-freiburg.de/~cziegler/BX/BX-CSV-Dump.zip"
      ],
      "execution_count": 3,
      "outputs": [
        {
          "output_type": "stream",
          "name": "stdout",
          "text": [
            "--2021-11-17 17:56:30--  http://www2.informatik.uni-freiburg.de/~cziegler/BX/BX-CSV-Dump.zip\n",
            "Resolving www2.informatik.uni-freiburg.de (www2.informatik.uni-freiburg.de)... 132.230.105.133\n",
            "Connecting to www2.informatik.uni-freiburg.de (www2.informatik.uni-freiburg.de)|132.230.105.133|:80... connected.\n",
            "HTTP request sent, awaiting response... 200 OK\n",
            "Length: 26085508 (25M) [application/zip]\n",
            "Saving to: ‘BX-CSV-Dump.zip’\n",
            "\n",
            "BX-CSV-Dump.zip     100%[===================>]  24.88M  16.4MB/s    in 1.5s    \n",
            "\n",
            "2021-11-17 17:56:33 (16.4 MB/s) - ‘BX-CSV-Dump.zip’ saved [26085508/26085508]\n",
            "\n"
          ]
        }
      ]
    },
    {
      "cell_type": "code",
      "metadata": {
        "id": "5IJqWy-Y1MoZ",
        "outputId": "49eb6a14-0e34-49bb-95d0-7f39ae7e1596",
        "colab": {
          "base_uri": "https://localhost:8080/"
        }
      },
      "source": [
        "!unzip BX-CSV-Dump.zip"
      ],
      "execution_count": 4,
      "outputs": [
        {
          "output_type": "stream",
          "name": "stdout",
          "text": [
            "Archive:  BX-CSV-Dump.zip\n",
            "  inflating: BX-Book-Ratings.csv     \n",
            "  inflating: BX-Books.csv            \n",
            "  inflating: BX-Users.csv            \n"
          ]
        }
      ]
    },
    {
      "cell_type": "code",
      "metadata": {
        "id": "LSDwKzvq1O_b"
      },
      "source": [
        "users = pd.read_csv('BX-Users.csv', sep=';', encoding = \"ISO-8859-1\")\n",
        "books = pd.read_csv('BX-Books.csv', sep=';', encoding = \"ISO-8859-1\", escapechar = \"\\\\\")\n",
        "ratings = pd.read_csv('BX-Book-Ratings.csv', sep=';', encoding = \"ISO-8859-1\")"
      ],
      "execution_count": 5,
      "outputs": []
    }
  ]
}