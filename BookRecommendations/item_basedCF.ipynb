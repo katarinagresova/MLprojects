{
  "nbformat": 4,
  "nbformat_minor": 0,
  "metadata": {
    "colab": {
      "name": "item-basedCF.ipynb",
      "provenance": [],
      "toc_visible": true,
      "authorship_tag": "ABX9TyOqfoJ6rT65KggWyOZJEh1Y"
    },
    "kernelspec": {
      "name": "python3",
      "display_name": "Python 3"
    },
    "language_info": {
      "name": "python"
    }
  },
  "cells": [
    {
      "cell_type": "code",
      "metadata": {
        "colab": {
          "base_uri": "https://localhost:8080/"
        },
        "id": "o0H9uixRzx0Z",
        "outputId": "cffda91a-be80-451a-cb82-4c78ce59d5ee"
      },
      "source": [
        "!wget https://raw.githubusercontent.com/katarinagresova/MLprojects/main/BookRecommendations/data/preprocessed_books.csv\n",
        "!wget https://raw.githubusercontent.com/katarinagresova/MLprojects/main/BookRecommendations/data/preprocessed_users.csv\n",
        "!wget https://raw.githubusercontent.com/katarinagresova/MLprojects/main/BookRecommendations/data/preprocessed_ratings.csv"
      ],
      "execution_count": 1,
      "outputs": [
        {
          "output_type": "stream",
          "name": "stdout",
          "text": [
            "--2021-11-08 14:18:21--  https://raw.githubusercontent.com/katarinagresova/MLprojects/main/BookRecommendations/data/preprocessed_books.csv\n",
            "Resolving raw.githubusercontent.com (raw.githubusercontent.com)... 185.199.108.133, 185.199.109.133, 185.199.110.133, ...\n",
            "Connecting to raw.githubusercontent.com (raw.githubusercontent.com)|185.199.108.133|:443... connected.\n",
            "HTTP request sent, awaiting response... 200 OK\n",
            "Length: 23601906 (23M) [text/plain]\n",
            "Saving to: ‘preprocessed_books.csv’\n",
            "\n",
            "preprocessed_books. 100%[===================>]  22.51M   124MB/s    in 0.2s    \n",
            "\n",
            "2021-11-08 14:18:22 (124 MB/s) - ‘preprocessed_books.csv’ saved [23601906/23601906]\n",
            "\n",
            "--2021-11-08 14:18:22--  https://raw.githubusercontent.com/katarinagresova/MLprojects/main/BookRecommendations/data/preprocessed_users.csv\n",
            "Resolving raw.githubusercontent.com (raw.githubusercontent.com)... 185.199.108.133, 185.199.109.133, 185.199.110.133, ...\n",
            "Connecting to raw.githubusercontent.com (raw.githubusercontent.com)|185.199.108.133|:443... connected.\n",
            "HTTP request sent, awaiting response... 200 OK\n",
            "Length: 1840909 (1.8M) [text/plain]\n",
            "Saving to: ‘preprocessed_users.csv’\n",
            "\n",
            "preprocessed_users. 100%[===================>]   1.75M  --.-KB/s    in 0.06s   \n",
            "\n",
            "2021-11-08 14:18:22 (28.5 MB/s) - ‘preprocessed_users.csv’ saved [1840909/1840909]\n",
            "\n",
            "--2021-11-08 14:18:22--  https://raw.githubusercontent.com/katarinagresova/MLprojects/main/BookRecommendations/data/preprocessed_ratings.csv\n",
            "Resolving raw.githubusercontent.com (raw.githubusercontent.com)... 185.199.108.133, 185.199.109.133, 185.199.110.133, ...\n",
            "Connecting to raw.githubusercontent.com (raw.githubusercontent.com)|185.199.108.133|:443... connected.\n",
            "HTTP request sent, awaiting response... 200 OK\n",
            "Length: 19204282 (18M) [text/plain]\n",
            "Saving to: ‘preprocessed_ratings.csv’\n",
            "\n",
            "preprocessed_rating 100%[===================>]  18.31M   111MB/s    in 0.2s    \n",
            "\n",
            "2021-11-08 14:18:23 (111 MB/s) - ‘preprocessed_ratings.csv’ saved [19204282/19204282]\n",
            "\n"
          ]
        }
      ]
    },
    {
      "cell_type": "code",
      "metadata": {
        "id": "jYbTUsfA7dVu"
      },
      "source": [
        "import pandas as pd\n",
        "import numpy as np    \n",
        "from scipy.sparse import csr_matrix\n",
        "from pandas.api.types import CategoricalDtype"
      ],
      "execution_count": 2,
      "outputs": []
    },
    {
      "cell_type": "code",
      "metadata": {
        "id": "Qhu-6hCm7gBg"
      },
      "source": [
        "books = pd.read_csv('preprocessed_books.csv')\n",
        "users = pd.read_csv('preprocessed_users.csv')\n",
        "ratings = pd.read_csv('preprocessed_ratings.csv')"
      ],
      "execution_count": 3,
      "outputs": []
    },
    {
      "cell_type": "code",
      "metadata": {
        "colab": {
          "base_uri": "https://localhost:8080/",
          "height": 204
        },
        "id": "53cHnOBV7xON",
        "outputId": "4609df78-9624-4c03-b878-57647637745d"
      },
      "source": [
        "ratings.head()"
      ],
      "execution_count": 4,
      "outputs": [
        {
          "output_type": "execute_result",
          "data": {
            "text/html": [
              "<div>\n",
              "<style scoped>\n",
              "    .dataframe tbody tr th:only-of-type {\n",
              "        vertical-align: middle;\n",
              "    }\n",
              "\n",
              "    .dataframe tbody tr th {\n",
              "        vertical-align: top;\n",
              "    }\n",
              "\n",
              "    .dataframe thead th {\n",
              "        text-align: right;\n",
              "    }\n",
              "</style>\n",
              "<table border=\"1\" class=\"dataframe\">\n",
              "  <thead>\n",
              "    <tr style=\"text-align: right;\">\n",
              "      <th></th>\n",
              "      <th>User-ID</th>\n",
              "      <th>ISBN</th>\n",
              "      <th>Book-Rating</th>\n",
              "    </tr>\n",
              "  </thead>\n",
              "  <tbody>\n",
              "    <tr>\n",
              "      <th>0</th>\n",
              "      <td>276725</td>\n",
              "      <td>034545104X</td>\n",
              "      <td>0.000000</td>\n",
              "    </tr>\n",
              "    <tr>\n",
              "      <th>1</th>\n",
              "      <td>276727</td>\n",
              "      <td>0446520802</td>\n",
              "      <td>0.000000</td>\n",
              "    </tr>\n",
              "    <tr>\n",
              "      <th>2</th>\n",
              "      <td>276744</td>\n",
              "      <td>038550120X</td>\n",
              "      <td>0.000000</td>\n",
              "    </tr>\n",
              "    <tr>\n",
              "      <th>3</th>\n",
              "      <td>276746</td>\n",
              "      <td>0425115801</td>\n",
              "      <td>-0.367617</td>\n",
              "    </tr>\n",
              "    <tr>\n",
              "      <th>4</th>\n",
              "      <td>276746</td>\n",
              "      <td>0449006522</td>\n",
              "      <td>-1.342271</td>\n",
              "    </tr>\n",
              "  </tbody>\n",
              "</table>\n",
              "</div>"
            ],
            "text/plain": [
              "   User-ID        ISBN  Book-Rating\n",
              "0   276725  034545104X     0.000000\n",
              "1   276727  0446520802     0.000000\n",
              "2   276744  038550120X     0.000000\n",
              "3   276746  0425115801    -0.367617\n",
              "4   276746  0449006522    -1.342271"
            ]
          },
          "metadata": {},
          "execution_count": 4
        }
      ]
    },
    {
      "cell_type": "code",
      "metadata": {
        "id": "o482hG4ooZKd"
      },
      "source": [
        "books['Title'] = books.apply(lambda x: x['Book-Title'] +' | ' + x['Book-Author'] , axis=1)"
      ],
      "execution_count": 5,
      "outputs": []
    },
    {
      "cell_type": "code",
      "metadata": {
        "colab": {
          "base_uri": "https://localhost:8080/",
          "height": 204
        },
        "id": "ioLfIfaKow0w",
        "outputId": "01fd984b-f4f3-4d72-9958-552f0f117650"
      },
      "source": [
        "books.head()"
      ],
      "execution_count": 6,
      "outputs": [
        {
          "output_type": "execute_result",
          "data": {
            "text/html": [
              "<div>\n",
              "<style scoped>\n",
              "    .dataframe tbody tr th:only-of-type {\n",
              "        vertical-align: middle;\n",
              "    }\n",
              "\n",
              "    .dataframe tbody tr th {\n",
              "        vertical-align: top;\n",
              "    }\n",
              "\n",
              "    .dataframe thead th {\n",
              "        text-align: right;\n",
              "    }\n",
              "</style>\n",
              "<table border=\"1\" class=\"dataframe\">\n",
              "  <thead>\n",
              "    <tr style=\"text-align: right;\">\n",
              "      <th></th>\n",
              "      <th>ISBN</th>\n",
              "      <th>Book-Title</th>\n",
              "      <th>Book-Author</th>\n",
              "      <th>Year-Of-Publication</th>\n",
              "      <th>Publisher</th>\n",
              "      <th>Title</th>\n",
              "    </tr>\n",
              "  </thead>\n",
              "  <tbody>\n",
              "    <tr>\n",
              "      <th>0</th>\n",
              "      <td>0195153448</td>\n",
              "      <td>Classical Mythology</td>\n",
              "      <td>Mark P. O. Morford</td>\n",
              "      <td>2002</td>\n",
              "      <td>Oxford University Press</td>\n",
              "      <td>Classical Mythology | Mark P. O. Morford</td>\n",
              "    </tr>\n",
              "    <tr>\n",
              "      <th>1</th>\n",
              "      <td>0002005018</td>\n",
              "      <td>Clara Callan</td>\n",
              "      <td>Richard Bruce Wright</td>\n",
              "      <td>2001</td>\n",
              "      <td>HarperFlamingo Canada</td>\n",
              "      <td>Clara Callan | Richard Bruce Wright</td>\n",
              "    </tr>\n",
              "    <tr>\n",
              "      <th>2</th>\n",
              "      <td>0060973129</td>\n",
              "      <td>Decision in Normandy</td>\n",
              "      <td>Carlo D'Este</td>\n",
              "      <td>1991</td>\n",
              "      <td>HarperPerennial</td>\n",
              "      <td>Decision in Normandy | Carlo D'Este</td>\n",
              "    </tr>\n",
              "    <tr>\n",
              "      <th>3</th>\n",
              "      <td>0374157065</td>\n",
              "      <td>Flu: The Story of the Great Influenza Pandemic...</td>\n",
              "      <td>Gina Bari Kolata</td>\n",
              "      <td>1999</td>\n",
              "      <td>Farrar Straus Giroux</td>\n",
              "      <td>Flu: The Story of the Great Influenza Pandemic...</td>\n",
              "    </tr>\n",
              "    <tr>\n",
              "      <th>4</th>\n",
              "      <td>0393045218</td>\n",
              "      <td>The Mummies of Urumchi</td>\n",
              "      <td>E. J. W. Barber</td>\n",
              "      <td>1999</td>\n",
              "      <td>W. W. Norton &amp;amp; Company</td>\n",
              "      <td>The Mummies of Urumchi | E. J. W. Barber</td>\n",
              "    </tr>\n",
              "  </tbody>\n",
              "</table>\n",
              "</div>"
            ],
            "text/plain": [
              "         ISBN  ...                                              Title\n",
              "0  0195153448  ...           Classical Mythology | Mark P. O. Morford\n",
              "1  0002005018  ...                Clara Callan | Richard Bruce Wright\n",
              "2  0060973129  ...                Decision in Normandy | Carlo D'Este\n",
              "3  0374157065  ...  Flu: The Story of the Great Influenza Pandemic...\n",
              "4  0393045218  ...           The Mummies of Urumchi | E. J. W. Barber\n",
              "\n",
              "[5 rows x 6 columns]"
            ]
          },
          "metadata": {},
          "execution_count": 6
        }
      ]
    },
    {
      "cell_type": "code",
      "metadata": {
        "colab": {
          "base_uri": "https://localhost:8080/"
        },
        "id": "vNBfFMXiqIP5",
        "outputId": "eb5c4abb-254b-4ea3-fbfb-826ea48d86a0"
      },
      "source": [
        "books['Title'].value_counts()"
      ],
      "execution_count": 7,
      "outputs": [
        {
          "output_type": "execute_result",
          "data": {
            "text/plain": [
              "Little Women | Louisa May Alcott                                                                                            21\n",
              "Wuthering Heights | Emily Bronte                                                                                            20\n",
              "Adventures of Huckleberry Finn | Mark Twain                                                                                 20\n",
              "Pride and Prejudice | Jane Austen                                                                                           18\n",
              "Great Expectations | Charles Dickens                                                                                        16\n",
              "                                                                                                                            ..\n",
              "A Visit to the Sesame Street Library: Featuring Jim Henson's Sesame Street Muppets (Please Read to Me) | Deborah Hautzig     1\n",
              "It'S Back To School We Go! | Ellen Jackson                                                                                   1\n",
              "Hologram of Liberty: The Constitution's Shocking Alliance With Big Government | Kenneth W. Royce                             1\n",
              "The Battle of Evernight (The Bitterbynde, Book 3) | Cecilia Dart-Thornton                                                    1\n",
              "That Summer | Joan Wolf                                                                                                      1\n",
              "Name: Title, Length: 251150, dtype: int64"
            ]
          },
          "metadata": {},
          "execution_count": 7
        }
      ]
    },
    {
      "cell_type": "markdown",
      "metadata": {
        "id": "vW384Vj26tHS"
      },
      "source": [
        "Just to know, that there are many books with multiple ISBN numbers, but with the same name and the same author. We will treat those books as one. So we will use column `Title` in user-item table, instead of column `ISBN`."
      ]
    },
    {
      "cell_type": "code",
      "metadata": {
        "id": "b6cA48kdo0df"
      },
      "source": [
        "ratings = pd.merge(ratings, books[['ISBN', 'Title']])"
      ],
      "execution_count": 8,
      "outputs": []
    },
    {
      "cell_type": "code",
      "metadata": {
        "id": "vbqkpRky99Rl"
      },
      "source": [
        "sparse = ratings.pivot_table(columns='Title', values='Book-Rating', index='User-ID')"
      ],
      "execution_count": null,
      "outputs": []
    },
    {
      "cell_type": "code",
      "metadata": {
        "id": "HnOpJ75q8Czw"
      },
      "source": [
        "# inspired by https://stackoverflow.com/a/53235048\n",
        "def create_matrix(frame, user_col, item_col, rating_col):\n",
        "    \"\"\"\n",
        "    creates the sparse user-item interaction matrix\n",
        "\n",
        "    Parameters\n",
        "    ----------\n",
        "    frame : DataFrame\n",
        "        implicit rating data\n",
        "\n",
        "    user_col : str\n",
        "        user column name\n",
        "\n",
        "    item_col : str\n",
        "        item column name\n",
        "\n",
        "    ratings_col : str\n",
        "        implicit rating column name\n",
        "    \"\"\"\n",
        "\n",
        "    user_c = CategoricalDtype(sorted(frame[user_col].unique()), ordered=True)\n",
        "    item_c = CategoricalDtype(sorted(frame[item_col].unique()), ordered=True)\n",
        "\n",
        "    row = frame[user_col].astype(user_c).cat.codes\n",
        "    col = frame[item_col].astype(item_c).cat.codes\n",
        "    return csr_matrix((frame[rating_col], (row, col)), \\\n",
        "                              shape=(user_c.categories.size, item_c.categories.size))"
      ],
      "execution_count": 9,
      "outputs": []
    },
    {
      "cell_type": "code",
      "metadata": {
        "id": "gcpJjN1F8RMU"
      },
      "source": [
        "sparse_matrix = create_matrix(ratings, 'User-ID', 'Title', 'Book-Rating')"
      ],
      "execution_count": 10,
      "outputs": []
    },
    {
      "cell_type": "code",
      "metadata": {
        "colab": {
          "base_uri": "https://localhost:8080/"
        },
        "id": "Fh4OWTsk8vwq",
        "outputId": "12ed6683-f737-46d3-8d16-9b760f03b69e"
      },
      "source": [
        "sparse_matrix.shape"
      ],
      "execution_count": 11,
      "outputs": [
        {
          "output_type": "execute_result",
          "data": {
            "text/plain": [
              "(65305, 15897)"
            ]
          },
          "metadata": {},
          "execution_count": 11
        }
      ]
    },
    {
      "cell_type": "code",
      "metadata": {
        "id": "zkkVzBxmcwSI"
      },
      "source": [
        "# copied from https://stackoverflow.com/a/38727681\n",
        "# modifications:\n",
        "# - return np.array instead of np.matrix\n",
        "def sparse_corr(A):\n",
        "    N = A.shape[0]\n",
        "    C=((A.T*A -(sum(A).T*sum(A)/N))/(N-1)).todense()\n",
        "    V=np.sqrt(np.mat(np.diag(C)).T*np.mat(np.diag(C)))\n",
        "    COR = np.divide(C,V+1e-119)\n",
        "    return np.array(COR)"
      ],
      "execution_count": 16,
      "outputs": []
    },
    {
      "cell_type": "code",
      "metadata": {
        "id": "dmHHaH5ccxQk"
      },
      "source": [
        "corr = sparse_corr(sparse_matrix)"
      ],
      "execution_count": 17,
      "outputs": []
    },
    {
      "cell_type": "code",
      "metadata": {
        "colab": {
          "base_uri": "https://localhost:8080/"
        },
        "id": "z0sQ9vJ2c5vn",
        "outputId": "4eed91d7-62eb-4f3c-93e8-8d2d41040113"
      },
      "source": [
        "corr.shape"
      ],
      "execution_count": 18,
      "outputs": [
        {
          "output_type": "execute_result",
          "data": {
            "text/plain": [
              "(15897, 15897)"
            ]
          },
          "metadata": {},
          "execution_count": 18
        }
      ]
    },
    {
      "cell_type": "code",
      "metadata": {
        "colab": {
          "base_uri": "https://localhost:8080/"
        },
        "id": "ayRa_6CepgqB",
        "outputId": "570c1540-c356-4fd0-fade-4e5229c3d5d7"
      },
      "source": [
        "corr"
      ],
      "execution_count": 19,
      "outputs": [
        {
          "output_type": "execute_result",
          "data": {
            "text/plain": [
              "array([[ 1.00000000e+00,  6.90959872e-06,  7.49555361e-06, ...,\n",
              "         2.85179676e-06,  4.05214020e-06,  9.51360353e-07],\n",
              "       [ 6.90959872e-06,  1.00000000e+00, -1.32470323e-05, ...,\n",
              "        -5.04003382e-06, -7.16142327e-06, -1.68135697e-06],\n",
              "       [ 7.49555361e-06, -1.32470323e-05,  1.00000000e+00, ...,\n",
              "        -5.46744395e-06, -4.47363914e-02, -1.82394113e-06],\n",
              "       ...,\n",
              "       [ 2.85179676e-06, -5.04003382e-06, -5.46744395e-06, ...,\n",
              "         1.00000000e+00,  1.47961525e-01, -6.93945995e-07],\n",
              "       [ 4.05214020e-06, -7.16142327e-06, -4.47363914e-02, ...,\n",
              "         1.47961525e-01,  1.00000000e+00, -9.86033263e-07],\n",
              "       [ 9.51360353e-07, -1.68135697e-06, -1.82394113e-06, ...,\n",
              "        -6.93945995e-07, -9.86033263e-07,  1.00000000e+00]])"
            ]
          },
          "metadata": {},
          "execution_count": 19
        }
      ]
    },
    {
      "cell_type": "code",
      "metadata": {
        "id": "cYiFsQiL9B85"
      },
      "source": [
        "titles = sorted(ratings['Title'].unique())"
      ],
      "execution_count": 26,
      "outputs": []
    },
    {
      "cell_type": "code",
      "metadata": {
        "colab": {
          "base_uri": "https://localhost:8080/"
        },
        "id": "YSFe_5vK9mck",
        "outputId": "a0132e9e-66d6-496d-9f38-80b60ae885d9"
      },
      "source": [
        "print(titles[0])\n",
        "print(titles[1])"
      ],
      "execution_count": 27,
      "outputs": [
        {
          "output_type": "stream",
          "name": "stdout",
          "text": [
            " Earth Prayers From around the World: 365 Prayers, Poems, and Invocations for Honoring the Earth | Elizabeth Roberts\n",
            " Good Wives: Image and Reality in the Lives of Women in Northern New England, 1650-1750 | Laurel Thatcher Ulrich\n"
          ]
        }
      ]
    }
  ]
}