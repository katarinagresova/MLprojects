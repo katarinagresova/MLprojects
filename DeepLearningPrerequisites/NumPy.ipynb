{
  "nbformat": 4,
  "nbformat_minor": 0,
  "metadata": {
    "kernelspec": {
      "name": "python3",
      "display_name": "Python 3"
    },
    "colab": {
      "name": "NumPy.ipynb",
      "provenance": [],
      "toc_visible": true
    }
  },
  "cells": [
    {
      "cell_type": "markdown",
      "metadata": {
        "id": "hD4FDf3uDulO"
      },
      "source": [
        "# NumPy\n",
        "\n",
        "NumPy is a library for linear algebra and a bit of probability. Central object in NumPy is NumPy array."
      ]
    },
    {
      "cell_type": "markdown",
      "metadata": {
        "id": "y_RZSmrwhI1Q"
      },
      "source": [
        "## Why is NumPy so cool?\n",
        "\n",
        "Python's default implementation (known as CPython) does some operations very slowly. This is in part due to the dynamic, interpreted nature of the language: the fact that types are flexible, so that sequences of operations cannot be compiled down to efficient machine code as in languages like C and Fortran. \n",
        "\n",
        "The relative sluggishness of Python generally manifests itself in situations where many small operations are being repeated – for instance looping over arrays to operate on each element. For example, imagine we have an array of values and we'd like to compute the reciprocal of each. \n",
        "\n",
        "It turns out that the bottleneck here is not the operations themselves, but the type-checking and function dispatches that CPython must do at each cycle of the loop. Each time the reciprocal is computed, Python first examines the object's type and does a dynamic lookup of the correct function to use for that type. If we were working in compiled code instead, this type specification would be known before the code executes and the result could be computed much more efficiently.\n",
        "\n",
        "For many types of operations, NumPy provides a convenient interface into just this kind of statically typed, compiled routine. This is known as a vectorized operation. This can be accomplished by simply performing an operation on the array, which will then be applied to each element. This vectorized approach is designed to push the loop into the compiled layer that underlies NumPy, leading to much faster execution.\n",
        "\n"
      ]
    },
    {
      "cell_type": "markdown",
      "metadata": {
        "id": "_s2GuZqqDzR8"
      },
      "source": [
        "# Operations\n",
        "\n",
        "NumPy offers implementations of operations with vectors and matrices. Some of them are:"
      ]
    },
    {
      "cell_type": "markdown",
      "metadata": {
        "id": "oREtjaze3qtm"
      },
      "source": [
        "## Dot product\n",
        "Dot product takes two vectors and multiply them element-wise.\n",
        "Vectors have to have the same length.\n",
        "\n",
        "![Dot product](https://github.com/katarinagresova/MLprojects/blob/main/DeepLearningPrerequisites/assets/images/dot_product.png?raw=1)\n"
      ]
    },
    {
      "cell_type": "markdown",
      "metadata": {
        "id": "o5yQBe-nD3CA"
      },
      "source": [
        "## Matrix multiplication = \"Generalized\" dot product\n",
        "\n",
        "Row of first matrix is dot-producted with column of second matrix to get one element from resulting matrix.\n",
        "Inner dimensions of matrices must match.\n",
        "\n",
        "![Matrix multiplication](https://github.com/katarinagresova/MLprojects/blob/main/DeepLearningPrerequisites/assets/images/matrix_multiplication.png?raw=1)\n",
        "\n",
        "Just like with the vector dot product, there are some limitations on the shapes of the matrices that you want to multiply, in particular the number of columns, and they must equal to the number of rows."
      ]
    },
    {
      "cell_type": "markdown",
      "metadata": {
        "id": "o7KcGfeID5tw"
      },
      "source": [
        "## Element-Wise product\n",
        "Elements on corresponding places in matrices are multiplied. Both matrices need to have the same shape.\n",
        "\n",
        "![Element-wise product](https://github.com/katarinagresova/MLprojects/blob/main/DeepLearningPrerequisites/assets/images/element-wise_product.png?raw=1)"
      ]
    },
    {
      "cell_type": "markdown",
      "metadata": {
        "id": "MFkIDudqb7xf"
      },
      "source": [
        "# Python lists vs NumPy arrays\n",
        "\n",
        "In most programming, languages such as C++, Java, Ruby and so forth, **arrays** are the go to method of storing items in a sequential data structure. In a python, however, **lists** take on that role. And a somewhat confusingly, they do have a lot of similarities, like the way you access an item in a python list is the same way you would normally access an array.\n",
        "\n",
        "\n",
        "\n"
      ]
    },
    {
      "cell_type": "code",
      "metadata": {
        "id": "wsgcgwKqcGjH"
      },
      "source": [
        "import numpy as np"
      ],
      "execution_count": null,
      "outputs": []
    },
    {
      "cell_type": "markdown",
      "metadata": {
        "id": "wgKokeh18O46"
      },
      "source": [
        "Let's create a list containing the items one, two, three."
      ]
    },
    {
      "cell_type": "code",
      "metadata": {
        "id": "JhIkQ9o9cOE9"
      },
      "source": [
        "L = [1, 2, 3]"
      ],
      "execution_count": null,
      "outputs": []
    },
    {
      "cell_type": "markdown",
      "metadata": {
        "id": "2wpClxUR8VuG"
      },
      "source": [
        "Now let's create an array containing the same items."
      ]
    },
    {
      "cell_type": "code",
      "metadata": {
        "id": "FjYTCBRG8OPx"
      },
      "source": [
        "A = np.array([1, 2, 3])"
      ],
      "execution_count": null,
      "outputs": []
    },
    {
      "cell_type": "markdown",
      "metadata": {
        "id": "ARl4EOm1ck_S"
      },
      "source": [
        "Now we would like to do something with each element of both of them. Let's try to loop over elements and print them."
      ]
    },
    {
      "cell_type": "code",
      "metadata": {
        "id": "OsRegykac4oi",
        "colab": {
          "base_uri": "https://localhost:8080/"
        },
        "outputId": "f6ce83e3-d9db-4a5d-a882-f25c23413617"
      },
      "source": [
        "for item in L:\n",
        "  print(item)\n",
        "\n",
        "for item in A:\n",
        "  print(item)"
      ],
      "execution_count": null,
      "outputs": [
        {
          "output_type": "stream",
          "name": "stdout",
          "text": [
            "1\n",
            "2\n",
            "3\n",
            "1\n",
            "2\n",
            "3\n"
          ]
        }
      ]
    },
    {
      "cell_type": "markdown",
      "metadata": {
        "id": "kl-pOnykdKLy"
      },
      "source": [
        "So far, things are the same. Now we would like to do another common task: add new item to list or array."
      ]
    },
    {
      "cell_type": "code",
      "metadata": {
        "id": "f9ymczmldZUd",
        "colab": {
          "base_uri": "https://localhost:8080/",
          "height": 218
        },
        "outputId": "56059c59-168b-4fe9-ae51-b6d707d877e4"
      },
      "source": [
        "L.append(4)\n",
        "L\n",
        "A.append(4)\n",
        "A"
      ],
      "execution_count": null,
      "outputs": [
        {
          "output_type": "error",
          "ename": "AttributeError",
          "evalue": "ignored",
          "traceback": [
            "\u001b[0;31m---------------------------------------------------------------------------\u001b[0m",
            "\u001b[0;31mAttributeError\u001b[0m                            Traceback (most recent call last)",
            "\u001b[0;32m<ipython-input-5-37516dbbbe50>\u001b[0m in \u001b[0;36m<module>\u001b[0;34m()\u001b[0m\n\u001b[1;32m      1\u001b[0m \u001b[0mL\u001b[0m\u001b[0;34m.\u001b[0m\u001b[0mappend\u001b[0m\u001b[0;34m(\u001b[0m\u001b[0;36m4\u001b[0m\u001b[0;34m)\u001b[0m\u001b[0;34m\u001b[0m\u001b[0;34m\u001b[0m\u001b[0m\n\u001b[1;32m      2\u001b[0m \u001b[0mL\u001b[0m\u001b[0;34m\u001b[0m\u001b[0;34m\u001b[0m\u001b[0m\n\u001b[0;32m----> 3\u001b[0;31m \u001b[0mA\u001b[0m\u001b[0;34m.\u001b[0m\u001b[0mappend\u001b[0m\u001b[0;34m(\u001b[0m\u001b[0;36m4\u001b[0m\u001b[0;34m)\u001b[0m\u001b[0;34m\u001b[0m\u001b[0;34m\u001b[0m\u001b[0m\n\u001b[0m\u001b[1;32m      4\u001b[0m \u001b[0mA\u001b[0m\u001b[0;34m\u001b[0m\u001b[0;34m\u001b[0m\u001b[0m\n",
            "\u001b[0;31mAttributeError\u001b[0m: 'numpy.ndarray' object has no attribute 'append'"
          ]
        }
      ]
    },
    {
      "cell_type": "markdown",
      "metadata": {
        "id": "xH6tfVBqdv-a"
      },
      "source": [
        "There is no method called append() for NumPy array. Generally speaking, **size of list can change, but size of array is fixed**. There are other ways to kind of add items to array, but they actually create a new array. \n",
        "\n",
        "Another way is to simply add two lists together. "
      ]
    },
    {
      "cell_type": "code",
      "metadata": {
        "id": "YlaHTKiOe5m-",
        "colab": {
          "base_uri": "https://localhost:8080/"
        },
        "outputId": "1de1e799-dc13-4d76-9137-49bfe80a3bc9"
      },
      "source": [
        "L + [5]"
      ],
      "execution_count": null,
      "outputs": [
        {
          "output_type": "execute_result",
          "data": {
            "text/plain": [
              "[1, 2, 3, 4, 5]"
            ]
          },
          "metadata": {},
          "execution_count": 6
        }
      ]
    },
    {
      "cell_type": "code",
      "metadata": {
        "id": "0M5a3IHFe7yz",
        "colab": {
          "base_uri": "https://localhost:8080/"
        },
        "outputId": "e09c3abf-e708-407e-bdfa-370eb975da44"
      },
      "source": [
        "A + np.array([4])"
      ],
      "execution_count": null,
      "outputs": [
        {
          "output_type": "execute_result",
          "data": {
            "text/plain": [
              "array([5, 6, 7])"
            ]
          },
          "metadata": {},
          "execution_count": 7
        }
      ]
    },
    {
      "cell_type": "markdown",
      "metadata": {
        "id": "DNwwMV39e_Qj"
      },
      "source": [
        "Well, this is not really working. It seems, that element 4 got added to each element of array A. That is called **broadcasting**. Numerically, it makes no sence to add two vectors of different sizes, but in NumPy this makes perfect sence. NumPy is all about effective math, so it takes operator `+` as addition and add element 4 to each element of array. This saves as trouble of repeating element 4 to match size of array."
      ]
    },
    {
      "cell_type": "code",
      "metadata": {
        "colab": {
          "base_uri": "https://localhost:8080/"
        },
        "id": "FWAJWFeJAHhE",
        "outputId": "2ba14cce-3b7a-4a7f-f51a-686a81247d2c"
      },
      "source": [
        "A + 4"
      ],
      "execution_count": null,
      "outputs": [
        {
          "output_type": "execute_result",
          "data": {
            "text/plain": [
              "array([5, 6, 7])"
            ]
          },
          "metadata": {},
          "execution_count": 8
        }
      ]
    },
    {
      "cell_type": "markdown",
      "metadata": {
        "id": "wy2EViWGATuo"
      },
      "source": [
        "But what if I want to add two vectors?"
      ]
    },
    {
      "cell_type": "code",
      "metadata": {
        "id": "6H0vDKBlfN7E",
        "colab": {
          "base_uri": "https://localhost:8080/"
        },
        "outputId": "22b21411-5e3d-46b5-ea4d-25ac5a627821"
      },
      "source": [
        "A + np.array([4, 5, 6])"
      ],
      "execution_count": null,
      "outputs": [
        {
          "output_type": "execute_result",
          "data": {
            "text/plain": [
              "array([5, 7, 9])"
            ]
          },
          "metadata": {},
          "execution_count": 9
        }
      ]
    },
    {
      "cell_type": "markdown",
      "metadata": {
        "id": "woWLZiBzlXuJ"
      },
      "source": [
        "It seems, that NumPy is smart enough to do element wise addition in this case with two vectors. Can we add two arrays with different sizes?"
      ]
    },
    {
      "cell_type": "code",
      "metadata": {
        "id": "XKn8qKA4Wi0V",
        "colab": {
          "base_uri": "https://localhost:8080/",
          "height": 166
        },
        "outputId": "e16409aa-2f5f-430b-c572-77e1065f41de"
      },
      "source": [
        "A + np.array([4, 5])"
      ],
      "execution_count": null,
      "outputs": [
        {
          "output_type": "error",
          "ename": "ValueError",
          "evalue": "ignored",
          "traceback": [
            "\u001b[0;31m---------------------------------------------------------------------------\u001b[0m",
            "\u001b[0;31mValueError\u001b[0m                                Traceback (most recent call last)",
            "\u001b[0;32m<ipython-input-10-805bf2a4cef1>\u001b[0m in \u001b[0;36m<module>\u001b[0;34m()\u001b[0m\n\u001b[0;32m----> 1\u001b[0;31m \u001b[0mA\u001b[0m \u001b[0;34m+\u001b[0m \u001b[0mnp\u001b[0m\u001b[0;34m.\u001b[0m\u001b[0marray\u001b[0m\u001b[0;34m(\u001b[0m\u001b[0;34m[\u001b[0m\u001b[0;36m4\u001b[0m\u001b[0;34m,\u001b[0m \u001b[0;36m5\u001b[0m\u001b[0;34m]\u001b[0m\u001b[0;34m)\u001b[0m\u001b[0;34m\u001b[0m\u001b[0;34m\u001b[0m\u001b[0m\n\u001b[0m",
            "\u001b[0;31mValueError\u001b[0m: operands could not be broadcast together with shapes (3,) (2,) "
          ]
        }
      ]
    },
    {
      "cell_type": "markdown",
      "metadata": {
        "id": "_EyT7J_AXDOS"
      },
      "source": [
        "Well, no. That just makes perfect sence, because we cannot add vectors of different sizes."
      ]
    },
    {
      "cell_type": "markdown",
      "metadata": {
        "id": "cC_V6gh-XTN5"
      },
      "source": [
        "Let's go to other operation - **multiplication**. If I have a vector `A` and multiply it by `2`, it will give me two times every element of that vector. "
      ]
    },
    {
      "cell_type": "code",
      "metadata": {
        "id": "LPCBz5OYcImk",
        "colab": {
          "base_uri": "https://localhost:8080/"
        },
        "outputId": "06f77935-92a0-4950-9310-f38a3fa100c2"
      },
      "source": [
        "2 * A"
      ],
      "execution_count": null,
      "outputs": [
        {
          "output_type": "execute_result",
          "data": {
            "text/plain": [
              "array([2, 4, 6])"
            ]
          },
          "metadata": {},
          "execution_count": 11
        }
      ]
    },
    {
      "cell_type": "markdown",
      "metadata": {
        "id": "LwPdq1GxcVWl"
      },
      "source": [
        "What about multiplying list?"
      ]
    },
    {
      "cell_type": "code",
      "metadata": {
        "id": "rW0vbcCQcbmI",
        "colab": {
          "base_uri": "https://localhost:8080/"
        },
        "outputId": "71fb7f8b-62a0-4a7a-c732-9666263def99"
      },
      "source": [
        "2 * L"
      ],
      "execution_count": null,
      "outputs": [
        {
          "output_type": "execute_result",
          "data": {
            "text/plain": [
              "[1, 2, 3, 4, 1, 2, 3, 4]"
            ]
          },
          "metadata": {},
          "execution_count": 12
        }
      ]
    },
    {
      "cell_type": "markdown",
      "metadata": {
        "id": "OomEpr8Scdxi"
      },
      "source": [
        "It gives us list `L` repeated two times.\n",
        "\n",
        "With lists, the **multiply** operator does repetition while for arrays, it does multiplication."
      ]
    },
    {
      "cell_type": "markdown",
      "metadata": {
        "id": "TqwjZvoOBtnK"
      },
      "source": [
        "Now, let's say for some reason, we really want to use a list to do vector addition or multiplication or we are not allowed to use NumPy, that might be the case, for example, if you're taking a class on C++ or JavaScript. The most basic way is to use a `for` loop.\n",
        "\n",
        "So let's say we want to add `3` to each element in `L` and store it into `L2`."
      ]
    },
    {
      "cell_type": "code",
      "metadata": {
        "colab": {
          "base_uri": "https://localhost:8080/"
        },
        "id": "0OBz8dsqB_SX",
        "outputId": "2d7a3389-1b57-4af2-9dfd-d138909d155d"
      },
      "source": [
        "L2 = []\n",
        "for e in L:\n",
        "  L2.append(e + 3)\n",
        "L2"
      ],
      "execution_count": null,
      "outputs": [
        {
          "output_type": "execute_result",
          "data": {
            "text/plain": [
              "[4, 5, 6, 7]"
            ]
          },
          "metadata": {},
          "execution_count": 13
        }
      ]
    },
    {
      "cell_type": "markdown",
      "metadata": {
        "id": "HXj5PqChCgQl"
      },
      "source": [
        "Another way you could do this is with list comprehensions."
      ]
    },
    {
      "cell_type": "code",
      "metadata": {
        "colab": {
          "base_uri": "https://localhost:8080/"
        },
        "id": "AF82IkYWCf4q",
        "outputId": "79d560db-f197-4668-ec1c-fa479abcb123"
      },
      "source": [
        "L2 = [e + 3 for e in L]\n",
        "L2"
      ],
      "execution_count": null,
      "outputs": [
        {
          "output_type": "execute_result",
          "data": {
            "text/plain": [
              "[4, 5, 6, 7]"
            ]
          },
          "metadata": {},
          "execution_count": 14
        }
      ]
    },
    {
      "cell_type": "markdown",
      "metadata": {
        "id": "b6Hwb0qWC2l2"
      },
      "source": [
        "One nice thing about this is that it's a very flexible. Let's say we wanted to square each element."
      ]
    },
    {
      "cell_type": "code",
      "metadata": {
        "colab": {
          "base_uri": "https://localhost:8080/"
        },
        "id": "i9BLOZjIC8g2",
        "outputId": "5604a3e3-b7f5-4e63-dae9-2d6611882915"
      },
      "source": [
        "L3 = [e**2 for e in L]\n",
        "L3"
      ],
      "execution_count": null,
      "outputs": [
        {
          "output_type": "execute_result",
          "data": {
            "text/plain": [
              "[1, 4, 9, 16]"
            ]
          },
          "metadata": {},
          "execution_count": 15
        }
      ]
    },
    {
      "cell_type": "markdown",
      "metadata": {
        "id": "fpVIwGtcEbqT"
      },
      "source": [
        "But this would be way easier in NumPy."
      ]
    },
    {
      "cell_type": "code",
      "metadata": {
        "colab": {
          "base_uri": "https://localhost:8080/"
        },
        "id": "w94G7ye2EcNd",
        "outputId": "602897d6-b8af-4e1f-a188-aeaea23581b6"
      },
      "source": [
        "A**2"
      ],
      "execution_count": null,
      "outputs": [
        {
          "output_type": "execute_result",
          "data": {
            "text/plain": [
              "array([1, 4, 9])"
            ]
          },
          "metadata": {},
          "execution_count": 16
        }
      ]
    },
    {
      "cell_type": "markdown",
      "metadata": {
        "id": "6fozJFEPD-jz"
      },
      "source": [
        "This brings up another important aspect of NumPy:  if you ever apply a function to an array, it very often operates element wise.\n",
        "\n",
        "You can take square root."
      ]
    },
    {
      "cell_type": "code",
      "metadata": {
        "colab": {
          "base_uri": "https://localhost:8080/"
        },
        "id": "U5ff5xUtEyd6",
        "outputId": "4dc5d82c-8966-4e36-f153-e58f94134523"
      },
      "source": [
        "np.sqrt(A)"
      ],
      "execution_count": null,
      "outputs": [
        {
          "output_type": "execute_result",
          "data": {
            "text/plain": [
              "array([1.        , 1.41421356, 1.73205081])"
            ]
          },
          "metadata": {},
          "execution_count": 17
        }
      ]
    },
    {
      "cell_type": "markdown",
      "metadata": {
        "id": "kdMFCbACE4qN"
      },
      "source": [
        "Or log."
      ]
    },
    {
      "cell_type": "code",
      "metadata": {
        "colab": {
          "base_uri": "https://localhost:8080/"
        },
        "id": "5qK7rjUzE5qT",
        "outputId": "6d229b3b-e89e-422b-bd51-a1c87eb31bab"
      },
      "source": [
        "np.log(A)"
      ],
      "execution_count": null,
      "outputs": [
        {
          "output_type": "execute_result",
          "data": {
            "text/plain": [
              "array([0.        , 0.69314718, 1.09861229])"
            ]
          },
          "metadata": {},
          "execution_count": 18
        }
      ]
    },
    {
      "cell_type": "markdown",
      "metadata": {
        "id": "dyapprooHS1Y"
      },
      "source": [
        "# The Dot Product\n",
        "\n",
        "![Dot product](https://github.com/katarinagresova/MLprojects/blob/main/DeepLearningPrerequisites/assets/images/dot_product.png?raw=1)"
      ]
    },
    {
      "cell_type": "markdown",
      "metadata": {
        "id": "q_oAvzFZIrRN"
      },
      "source": [
        "To start, let's create some one dimensional arrays so we have some data to work with."
      ]
    },
    {
      "cell_type": "code",
      "metadata": {
        "id": "YQsfdAmXItTg"
      },
      "source": [
        "a = np.array([1, 2])\n",
        "b = np.array([3, 4])"
      ],
      "execution_count": null,
      "outputs": []
    },
    {
      "cell_type": "markdown",
      "metadata": {
        "id": "IpZP-OUTI_Zn"
      },
      "source": [
        "Now, the first thing we can try, if you didn't know anything about an NumPy, is to use the direct definition: we want to multiply two arrays element-wise and sum those results together."
      ]
    },
    {
      "cell_type": "code",
      "metadata": {
        "colab": {
          "base_uri": "https://localhost:8080/"
        },
        "id": "NPcS0-UUJbEZ",
        "outputId": "674c230b-f088-455f-f81e-5f0a082b33f4"
      },
      "source": [
        "dot = 0\n",
        "for e, f in zip(a, b):\n",
        "  dot += e * f\n",
        "dot"
      ],
      "execution_count": null,
      "outputs": [
        {
          "output_type": "execute_result",
          "data": {
            "text/plain": [
              "11"
            ]
          },
          "metadata": {},
          "execution_count": 20
        }
      ]
    },
    {
      "cell_type": "markdown",
      "metadata": {
        "id": "m7_vZ2fnKIqn"
      },
      "source": [
        "Another important operation in NumPy is indexing. We might loop through elements of NumPy array using indices."
      ]
    },
    {
      "cell_type": "code",
      "metadata": {
        "colab": {
          "base_uri": "https://localhost:8080/"
        },
        "id": "kIB0qKfGKa6G",
        "outputId": "9ea168c4-57f1-48d3-bd99-11368887f807"
      },
      "source": [
        "dot = 0\n",
        "for index in range(len(a)):\n",
        "  dot += a[index] * b[index]\n",
        "dot"
      ],
      "execution_count": null,
      "outputs": [
        {
          "output_type": "execute_result",
          "data": {
            "text/plain": [
              "11"
            ]
          },
          "metadata": {},
          "execution_count": 21
        }
      ]
    },
    {
      "cell_type": "markdown",
      "metadata": {
        "id": "X0CTUDczK1Mh"
      },
      "source": [
        "Now, of course, at this point, you might wonder what will happen if I use the usual multiply operator to multiply `a` and `b`."
      ]
    },
    {
      "cell_type": "code",
      "metadata": {
        "colab": {
          "base_uri": "https://localhost:8080/"
        },
        "id": "r8lH-sHMKazk",
        "outputId": "aff1f652-3103-4a9f-a24f-641a8ee9e405"
      },
      "source": [
        "a * b"
      ],
      "execution_count": null,
      "outputs": [
        {
          "output_type": "execute_result",
          "data": {
            "text/plain": [
              "array([3, 8])"
            ]
          },
          "metadata": {},
          "execution_count": 22
        }
      ]
    },
    {
      "cell_type": "markdown",
      "metadata": {
        "id": "GHRo4NLfK_zW"
      },
      "source": [
        "As we might have expected, it did element-wise multiplication. However, we can use this result since the `dot` product is just the sum of these elements."
      ]
    },
    {
      "cell_type": "code",
      "metadata": {
        "colab": {
          "base_uri": "https://localhost:8080/"
        },
        "id": "TNsrk2rZLK7r",
        "outputId": "bd35b2a9-99ed-4d05-90bc-220079055939"
      },
      "source": [
        "np.sum(a * b)"
      ],
      "execution_count": null,
      "outputs": [
        {
          "output_type": "execute_result",
          "data": {
            "text/plain": [
              "11"
            ]
          },
          "metadata": {},
          "execution_count": 23
        }
      ]
    },
    {
      "cell_type": "markdown",
      "metadata": {
        "id": "6-spSSO9La4b"
      },
      "source": [
        "Nice thing about NumPy is that a lot of these functions are also instance methods, so you can call them on NumPy array object directly."
      ]
    },
    {
      "cell_type": "code",
      "metadata": {
        "colab": {
          "base_uri": "https://localhost:8080/"
        },
        "id": "0qEHDB7GLmPc",
        "outputId": "afb892ec-900b-4aaa-b084-2ec536b02175"
      },
      "source": [
        "(a * b).sum()"
      ],
      "execution_count": null,
      "outputs": [
        {
          "output_type": "execute_result",
          "data": {
            "text/plain": [
              "11"
            ]
          },
          "metadata": {},
          "execution_count": 24
        }
      ]
    },
    {
      "cell_type": "markdown",
      "metadata": {
        "id": "OeMwTLJcLr7v"
      },
      "source": [
        "This was just an exercise. There is an actual dedicated function in NumPy for doing `dot` products called `dot()`."
      ]
    },
    {
      "cell_type": "code",
      "metadata": {
        "colab": {
          "base_uri": "https://localhost:8080/"
        },
        "id": "PSmPS2EIL66S",
        "outputId": "c5e3a308-22f2-4d84-eb87-705a73f3ad59"
      },
      "source": [
        "np.dot(a, b)"
      ],
      "execution_count": null,
      "outputs": [
        {
          "output_type": "execute_result",
          "data": {
            "text/plain": [
              "11"
            ]
          },
          "metadata": {},
          "execution_count": 25
        }
      ]
    },
    {
      "cell_type": "markdown",
      "metadata": {
        "id": "BV7l5hEmMCB3"
      },
      "source": [
        "Just like above, the `dot()` function is also an instance method."
      ]
    },
    {
      "cell_type": "code",
      "metadata": {
        "colab": {
          "base_uri": "https://localhost:8080/"
        },
        "id": "S0CATH46MKN3",
        "outputId": "44508b87-2d41-4f4d-cc20-f08c62d54e29"
      },
      "source": [
        "a.dot(b)"
      ],
      "execution_count": null,
      "outputs": [
        {
          "output_type": "execute_result",
          "data": {
            "text/plain": [
              "11"
            ]
          },
          "metadata": {},
          "execution_count": 26
        }
      ]
    },
    {
      "cell_type": "markdown",
      "metadata": {
        "id": "gpjIHrBcMUQS"
      },
      "source": [
        "In a newer versions of NumPy, there's an operator you can apply that does the `dot` function as well, but uses a symbol `@`."
      ]
    },
    {
      "cell_type": "code",
      "metadata": {
        "colab": {
          "base_uri": "https://localhost:8080/"
        },
        "id": "KIwPfD__MivO",
        "outputId": "b0a2de72-0961-42c9-b267-773509e424bb"
      },
      "source": [
        "a @ b"
      ],
      "execution_count": null,
      "outputs": [
        {
          "output_type": "execute_result",
          "data": {
            "text/plain": [
              "11"
            ]
          },
          "metadata": {},
          "execution_count": 27
        }
      ]
    },
    {
      "cell_type": "markdown",
      "metadata": {
        "id": "D9b6Ex1nNN1d"
      },
      "source": [
        "Now, if you studied linear algebra and geometry, you know that there's an alternative definition of the `dot` product, namely that the product of `a` and `b` is equal to the magnitude of `a` times the magnitude of `b` times the cosine of the angle between `a` and `b`.\n",
        "\n",
        "![Alternative dot product](https://github.com/katarinagresova/MLprojects/blob/main/DeepLearningPrerequisites/assets/images/alternative_dot.png?raw=1)"
      ]
    },
    {
      "cell_type": "code",
      "metadata": {
        "id": "OWmhRAN0Nu1O"
      },
      "source": [
        "def norm(a):\n",
        "  sum = (a*a).sum()\n",
        "  return np.sqrt(sum)"
      ],
      "execution_count": null,
      "outputs": []
    },
    {
      "cell_type": "code",
      "metadata": {
        "colab": {
          "base_uri": "https://localhost:8080/"
        },
        "id": "rs2sjMIaOLV6",
        "outputId": "62efebd5-6c5d-4e27-ad6a-7666a428d104"
      },
      "source": [
        "norm(a)"
      ],
      "execution_count": null,
      "outputs": [
        {
          "output_type": "execute_result",
          "data": {
            "text/plain": [
              "2.23606797749979"
            ]
          },
          "metadata": {},
          "execution_count": 29
        }
      ]
    },
    {
      "cell_type": "markdown",
      "metadata": {
        "id": "oeNiGNW2Oa_X"
      },
      "source": [
        "Being such a fundamental operation, NumPy already have a function to do this. It's located in the module `linalg`, which, as you can tell by its name, contains linear algebra tools."
      ]
    },
    {
      "cell_type": "code",
      "metadata": {
        "colab": {
          "base_uri": "https://localhost:8080/"
        },
        "id": "wykIyl94Ojak",
        "outputId": "c14115ad-39b9-4922-ce36-99644bd4ef1a"
      },
      "source": [
        "np.linalg.norm(a)"
      ],
      "execution_count": null,
      "outputs": [
        {
          "output_type": "execute_result",
          "data": {
            "text/plain": [
              "2.23606797749979"
            ]
          },
          "metadata": {},
          "execution_count": 30
        }
      ]
    },
    {
      "cell_type": "markdown",
      "metadata": {
        "id": "gwAEEY3HOu4e"
      },
      "source": [
        "So now that you know how to find the norm of a vector, we can calculate the cosine of the angle."
      ]
    },
    {
      "cell_type": "code",
      "metadata": {
        "id": "RUJ619iWOzCW"
      },
      "source": [
        "def cosine(a, b):\n",
        "  return a.dot(b) / (np.linalg.norm(a) * np.linalg.norm(b))"
      ],
      "execution_count": null,
      "outputs": []
    },
    {
      "cell_type": "code",
      "metadata": {
        "colab": {
          "base_uri": "https://localhost:8080/"
        },
        "id": "SPeB7TtTO-F7",
        "outputId": "d7d0e86d-d311-452e-e6c6-86670cd50877"
      },
      "source": [
        "cosine(a, b)"
      ],
      "execution_count": null,
      "outputs": [
        {
          "output_type": "execute_result",
          "data": {
            "text/plain": [
              "0.9838699100999074"
            ]
          },
          "metadata": {},
          "execution_count": 32
        }
      ]
    },
    {
      "cell_type": "markdown",
      "metadata": {
        "id": "Dqjyh60cPKva"
      },
      "source": [
        "To get an actual angle, we need to do and arc cosine"
      ]
    },
    {
      "cell_type": "code",
      "metadata": {
        "colab": {
          "base_uri": "https://localhost:8080/"
        },
        "id": "zqdP76fTPSRo",
        "outputId": "032b5cf8-12ed-4cd7-80fd-8c268b3f7ab4"
      },
      "source": [
        "np.arccos(cosine(a, b))"
      ],
      "execution_count": null,
      "outputs": [
        {
          "output_type": "execute_result",
          "data": {
            "text/plain": [
              "0.17985349979247847"
            ]
          },
          "metadata": {},
          "execution_count": 33
        }
      ]
    },
    {
      "cell_type": "markdown",
      "metadata": {
        "id": "zpv89_9BRSgw"
      },
      "source": [
        "# The Speed Test\n",
        "\n",
        "We are going to do a little speed test to measure exactly how much faster NumPy `dot()` function is compared to regular python computation of the `dot` product.\n",
        "\n",
        "We're going to calculate the `dot` product using both methods 100 000 times and when we're done, we're going to calculate the ratio between the times."
      ]
    },
    {
      "cell_type": "code",
      "metadata": {
        "colab": {
          "base_uri": "https://localhost:8080/"
        },
        "id": "wC0_g0SXSplQ",
        "outputId": "669f01a2-5535-4147-a870-0eb5748a6f88"
      },
      "source": [
        "from datetime import datetime\n",
        "\n",
        "def list_dot_product(a, b):\n",
        "  dot = 0\n",
        "  for e, f in zip(a, b):\n",
        "    dot += e * f\n",
        "  return dot\n",
        "\n",
        "T = 100000\n",
        "len = 100\n",
        "np_a = np.random.randn(len)\n",
        "np_b = np.random.randn(len)\n",
        "\n",
        "t0 = datetime.now()\n",
        "for t in range(T):\n",
        "  list_dot_product(np_a, np_b)\n",
        "dt1 = datetime.now() - t0\n",
        "\n",
        "t0 = datetime.now()\n",
        "for t in range(T):\n",
        "  np_a.dot(np_b)\n",
        "dt2 = datetime.now() - t0\n",
        "\n",
        "print(\"dt1/dt2: \", dt1.total_seconds() / dt2.total_seconds())"
      ],
      "execution_count": null,
      "outputs": [
        {
          "output_type": "stream",
          "name": "stdout",
          "text": [
            "dt1/dt2:  56.39699101853139\n"
          ]
        }
      ]
    },
    {
      "cell_type": "markdown",
      "metadata": {
        "id": "FqGTZojKWHcC"
      },
      "source": [
        "NumPy `dot()` function is about 64 times faster. Generaly, using NumPy functions is orders of magnitude faster then using for loops."
      ]
    },
    {
      "cell_type": "markdown",
      "metadata": {
        "id": "KrqPVTL8XDr1"
      },
      "source": [
        "# Matrices\n",
        "\n",
        "As we can think of one dimensional arrays as vectors, we can think of two dimensional arrays as matrices. \n",
        "\n",
        "First, let's start with the fact that there is an actual object in NumPy called `matrix`, but this is not recommended to use. Basically a matrix by definition must be two dimensional, whereas an NumPy array can be any dimensional. So if you ever see a matrix out in the wild, you should probably convert it to an array first before you do any processing."
      ]
    },
    {
      "cell_type": "markdown",
      "metadata": {
        "id": "4rKhv9-iY9xG"
      },
      "source": [
        "Let's start with our basic python programming skills. If we were not using NumPy arrays, how would we represent a matrix? Typically by a list of lists."
      ]
    },
    {
      "cell_type": "code",
      "metadata": {
        "colab": {
          "base_uri": "https://localhost:8080/"
        },
        "id": "gCY4llhgZ1qh",
        "outputId": "ea7688fa-3b22-4756-9b37-560b6ff9466f"
      },
      "source": [
        "L = [[1, 2], [3, 4]]\n",
        "L"
      ],
      "execution_count": null,
      "outputs": [
        {
          "output_type": "execute_result",
          "data": {
            "text/plain": [
              "[[1, 2], [3, 4]]"
            ]
          },
          "metadata": {},
          "execution_count": 38
        }
      ]
    },
    {
      "cell_type": "markdown",
      "metadata": {
        "id": "UAhRdTn3aCVL"
      },
      "source": [
        "So this is a two by two matrix where the first row is one two and the second row is three, four."
      ]
    },
    {
      "cell_type": "markdown",
      "metadata": {
        "id": "EkekFzPNaJbe"
      },
      "source": [
        "## Indexing\n",
        "\n",
        "The first thing we want to figure out is array access. How do I get the value at row zero, column one, for example?"
      ]
    },
    {
      "cell_type": "markdown",
      "metadata": {
        "id": "Pyv4COdYafof"
      },
      "source": [
        "Since this is a list of lists, we can do `L[0]` to get a first row of `L`."
      ]
    },
    {
      "cell_type": "code",
      "metadata": {
        "colab": {
          "base_uri": "https://localhost:8080/"
        },
        "id": "bIP1sDNyan4L",
        "outputId": "3dc5408e-a644-4580-b29f-1d06f7ffb19d"
      },
      "source": [
        "L[0]"
      ],
      "execution_count": null,
      "outputs": [
        {
          "output_type": "execute_result",
          "data": {
            "text/plain": [
              "[1, 2]"
            ]
          },
          "metadata": {},
          "execution_count": 39
        }
      ]
    },
    {
      "cell_type": "markdown",
      "metadata": {
        "id": "WGx_hHPMatww"
      },
      "source": [
        "By convention, we say that rows come first, then columns. \n",
        "\n",
        "Now that we have one whole row, we can get an element at column one from this row"
      ]
    },
    {
      "cell_type": "code",
      "metadata": {
        "colab": {
          "base_uri": "https://localhost:8080/"
        },
        "id": "WIxYF0RFbNV4",
        "outputId": "97c88ad3-de88-4d0d-dd0a-71d4eeabed5d"
      },
      "source": [
        "L[0][1]"
      ],
      "execution_count": null,
      "outputs": [
        {
          "output_type": "execute_result",
          "data": {
            "text/plain": [
              "2"
            ]
          },
          "metadata": {},
          "execution_count": 40
        }
      ]
    },
    {
      "cell_type": "markdown",
      "metadata": {
        "id": "ox4EMLd-bVHl"
      },
      "source": [
        "Let's now see how we can do this in NumPy."
      ]
    },
    {
      "cell_type": "code",
      "metadata": {
        "colab": {
          "base_uri": "https://localhost:8080/"
        },
        "id": "06ctzm2FbWwC",
        "outputId": "bc21a1a7-b61a-4618-c00a-f83f7dc8e345"
      },
      "source": [
        "A = np.array(L)\n",
        "A"
      ],
      "execution_count": null,
      "outputs": [
        {
          "output_type": "execute_result",
          "data": {
            "text/plain": [
              "array([[1, 2],\n",
              "       [3, 4]])"
            ]
          },
          "metadata": {},
          "execution_count": 41
        }
      ]
    },
    {
      "cell_type": "markdown",
      "metadata": {
        "id": "P-xpW5WlblK2"
      },
      "source": [
        "What's nice about NumPy array is that when this list is printed out, it's actually formatted like a matrix,"
      ]
    },
    {
      "cell_type": "code",
      "metadata": {
        "colab": {
          "base_uri": "https://localhost:8080/"
        },
        "id": "0xirSOfBbfEe",
        "outputId": "e80538a9-9e9c-4c24-a009-65540bef3fe0"
      },
      "source": [
        "A[0][1]"
      ],
      "execution_count": null,
      "outputs": [
        {
          "output_type": "execute_result",
          "data": {
            "text/plain": [
              "2"
            ]
          },
          "metadata": {},
          "execution_count": 42
        }
      ]
    },
    {
      "cell_type": "markdown",
      "metadata": {
        "id": "1ujIU1-Qbxkn"
      },
      "source": [
        "This works. But conveniently, we can also just use the notation `A[0, 1]` instead."
      ]
    },
    {
      "cell_type": "code",
      "metadata": {
        "colab": {
          "base_uri": "https://localhost:8080/"
        },
        "id": "8Hk-E-DAb3T1",
        "outputId": "3ccab5bb-ac36-4fb0-df64-1a59a6b16920"
      },
      "source": [
        "A[0, 1]"
      ],
      "execution_count": null,
      "outputs": [
        {
          "output_type": "execute_result",
          "data": {
            "text/plain": [
              "2"
            ]
          },
          "metadata": {},
          "execution_count": 43
        }
      ]
    },
    {
      "cell_type": "markdown",
      "metadata": {
        "id": "OM6U1pm_cEp9"
      },
      "source": [
        "All right, so this is already better than using lists, but here's where NumPy arrays get very powerful. What if we wanted to select a column of this matrix? Then we can use the colon notation."
      ]
    },
    {
      "cell_type": "code",
      "metadata": {
        "colab": {
          "base_uri": "https://localhost:8080/"
        },
        "id": "B7C8VcB6cMH_",
        "outputId": "0b61987d-0603-435c-8211-92b4b3eea6a4"
      },
      "source": [
        "A[:, 0]"
      ],
      "execution_count": null,
      "outputs": [
        {
          "output_type": "execute_result",
          "data": {
            "text/plain": [
              "array([1, 3])"
            ]
          },
          "metadata": {},
          "execution_count": 44
        }
      ]
    },
    {
      "cell_type": "markdown",
      "metadata": {
        "id": "kPPXcaptcUEt"
      },
      "source": [
        "So this returned column at index 0. And `:` means select everything in this dimension. So in our case, it means select every row."
      ]
    },
    {
      "cell_type": "markdown",
      "metadata": {
        "id": "YUOBVZ6McqZn"
      },
      "source": [
        "## Operations with matrices"
      ]
    },
    {
      "cell_type": "markdown",
      "metadata": {
        "id": "geki8F0gdmEQ"
      },
      "source": [
        "Transpose of a matrix."
      ]
    },
    {
      "cell_type": "code",
      "metadata": {
        "colab": {
          "base_uri": "https://localhost:8080/"
        },
        "id": "R21vsRh0durv",
        "outputId": "2647a011-621c-4390-f741-4cac23d4ec3e"
      },
      "source": [
        "A.T"
      ],
      "execution_count": null,
      "outputs": [
        {
          "output_type": "execute_result",
          "data": {
            "text/plain": [
              "array([[1, 3],\n",
              "       [2, 4]])"
            ]
          },
          "metadata": {},
          "execution_count": 45
        }
      ]
    },
    {
      "cell_type": "markdown",
      "metadata": {
        "id": "F3Rvztludy9P"
      },
      "source": [
        "Now, here's something interesting, let's say I want to apply a function to `A` like the exponential - it works just like a vector where it applies element wise."
      ]
    },
    {
      "cell_type": "code",
      "metadata": {
        "colab": {
          "base_uri": "https://localhost:8080/"
        },
        "id": "NQRWt_xRd8r-",
        "outputId": "3bbc031f-1bb3-4473-e0c8-03d9495c7efa"
      },
      "source": [
        "np.exp(A)"
      ],
      "execution_count": null,
      "outputs": [
        {
          "output_type": "execute_result",
          "data": {
            "text/plain": [
              "array([[ 2.71828183,  7.3890561 ],\n",
              "       [20.08553692, 54.59815003]])"
            ]
          },
          "metadata": {},
          "execution_count": 46
        }
      ]
    },
    {
      "cell_type": "markdown",
      "metadata": {
        "id": "P-pBKZCneEEI"
      },
      "source": [
        "Now, let't try it with a list."
      ]
    },
    {
      "cell_type": "code",
      "metadata": {
        "colab": {
          "base_uri": "https://localhost:8080/"
        },
        "id": "Hpg8ND0ceHu0",
        "outputId": "756b4bef-f17c-4e48-c92e-ee26680a7f2c"
      },
      "source": [
        "np.exp(L)"
      ],
      "execution_count": null,
      "outputs": [
        {
          "output_type": "execute_result",
          "data": {
            "text/plain": [
              "array([[ 2.71828183,  7.3890561 ],\n",
              "       [20.08553692, 54.59815003]])"
            ]
          },
          "metadata": {},
          "execution_count": 47
        }
      ]
    },
    {
      "cell_type": "markdown",
      "metadata": {
        "id": "T9jkbXR2ePxf"
      },
      "source": [
        "So what's interesting about this is that NumPy already knows what your list represents and treats it as if it were an array. In addition, the thing you get back is an actual NumPy array."
      ]
    },
    {
      "cell_type": "markdown",
      "metadata": {
        "id": "zka5La4begTM"
      },
      "source": [
        "All right, so let's take a look at some more Matrix operations, one of the most fundamental operations is matrix multiplication."
      ]
    },
    {
      "cell_type": "code",
      "metadata": {
        "colab": {
          "base_uri": "https://localhost:8080/"
        },
        "id": "QrPXvqm9ekXU",
        "outputId": "41154f85-bac2-4a8c-954a-4a949cbb608d"
      },
      "source": [
        "B = np.array([[1, 2, 3], [4, 5, 6]])\n",
        "B"
      ],
      "execution_count": null,
      "outputs": [
        {
          "output_type": "execute_result",
          "data": {
            "text/plain": [
              "array([[1, 2, 3],\n",
              "       [4, 5, 6]])"
            ]
          },
          "metadata": {},
          "execution_count": 48
        }
      ]
    },
    {
      "cell_type": "code",
      "metadata": {
        "colab": {
          "base_uri": "https://localhost:8080/"
        },
        "id": "aUBws272e3Sg",
        "outputId": "dd15c1f8-7386-4629-bb77-8771e97c2e0c"
      },
      "source": [
        "A.dot(B)"
      ],
      "execution_count": null,
      "outputs": [
        {
          "output_type": "execute_result",
          "data": {
            "text/plain": [
              "array([[ 9, 12, 15],\n",
              "       [19, 26, 33]])"
            ]
          },
          "metadata": {},
          "execution_count": 49
        }
      ]
    },
    {
      "cell_type": "markdown",
      "metadata": {
        "id": "jG-TqG4Ve9j2"
      },
      "source": [
        "Now, you might wonder why is it a `dot` B and not a `*` B. As you may recall, the `*` does element-wise multiplication, which is not the same as matrix multiplication. And as we mentioned earlier, matrix multiplication is a generalization of the `dot` product.\n",
        "\n",
        "In matrix multiplication, the inner dimensions must match. So let's see what happens if we break that rule."
      ]
    },
    {
      "cell_type": "code",
      "metadata": {
        "colab": {
          "base_uri": "https://localhost:8080/",
          "height": 166
        },
        "id": "d99-CBQJfY40",
        "outputId": "82028ee7-7f4f-4b67-e9b0-24d8dd919b86"
      },
      "source": [
        "A.dot(B.T)"
      ],
      "execution_count": null,
      "outputs": [
        {
          "output_type": "error",
          "ename": "ValueError",
          "evalue": "ignored",
          "traceback": [
            "\u001b[0;31m---------------------------------------------------------------------------\u001b[0m",
            "\u001b[0;31mValueError\u001b[0m                                Traceback (most recent call last)",
            "\u001b[0;32m<ipython-input-50-80d79729e8e6>\u001b[0m in \u001b[0;36m<module>\u001b[0;34m()\u001b[0m\n\u001b[0;32m----> 1\u001b[0;31m \u001b[0mA\u001b[0m\u001b[0;34m.\u001b[0m\u001b[0mdot\u001b[0m\u001b[0;34m(\u001b[0m\u001b[0mB\u001b[0m\u001b[0;34m.\u001b[0m\u001b[0mT\u001b[0m\u001b[0;34m)\u001b[0m\u001b[0;34m\u001b[0m\u001b[0;34m\u001b[0m\u001b[0m\n\u001b[0m",
            "\u001b[0;31mValueError\u001b[0m: shapes (2,2) and (3,2) not aligned: 2 (dim 1) != 3 (dim 0)"
          ]
        }
      ]
    },
    {
      "cell_type": "markdown",
      "metadata": {
        "id": "bMWvuKTofnls"
      },
      "source": [
        "Let's look at a few more matrix operations.\n",
        "\n",
        "Determinant."
      ]
    },
    {
      "cell_type": "code",
      "metadata": {
        "colab": {
          "base_uri": "https://localhost:8080/"
        },
        "id": "XwLJPmWCfsI1",
        "outputId": "fba9fcf4-7727-4060-8a78-9167731f9692"
      },
      "source": [
        "np.linalg.det(A)"
      ],
      "execution_count": null,
      "outputs": [
        {
          "output_type": "execute_result",
          "data": {
            "text/plain": [
              "-2.0000000000000004"
            ]
          },
          "metadata": {},
          "execution_count": 51
        }
      ]
    },
    {
      "cell_type": "markdown",
      "metadata": {
        "id": "AQ7OM66Bfxnr"
      },
      "source": [
        "Matrix inverse."
      ]
    },
    {
      "cell_type": "code",
      "metadata": {
        "colab": {
          "base_uri": "https://localhost:8080/"
        },
        "id": "GrcScvnNfzgQ",
        "outputId": "58c9134d-9df8-4911-f080-b5854659ee20"
      },
      "source": [
        "np.linalg.inv(A)"
      ],
      "execution_count": null,
      "outputs": [
        {
          "output_type": "execute_result",
          "data": {
            "text/plain": [
              "array([[-2. ,  1. ],\n",
              "       [ 1.5, -0.5]])"
            ]
          },
          "metadata": {},
          "execution_count": 52
        }
      ]
    },
    {
      "cell_type": "markdown",
      "metadata": {
        "id": "heUdy0Fff8Bd"
      },
      "source": [
        "And we can check that this is, in fact, the inverse by multiplying the result by the original and as you know, we should get back identity."
      ]
    },
    {
      "cell_type": "code",
      "metadata": {
        "colab": {
          "base_uri": "https://localhost:8080/"
        },
        "id": "p2Ww9tDBf9yd",
        "outputId": "8bee01f4-321c-4fc6-8abc-6ac150025dc8"
      },
      "source": [
        "A.dot(np.linalg.inv(A))"
      ],
      "execution_count": null,
      "outputs": [
        {
          "output_type": "execute_result",
          "data": {
            "text/plain": [
              "array([[1.0000000e+00, 0.0000000e+00],\n",
              "       [8.8817842e-16, 1.0000000e+00]])"
            ]
          },
          "metadata": {},
          "execution_count": 53
        }
      ]
    },
    {
      "cell_type": "markdown",
      "metadata": {
        "id": "FGxM1-3FgIzI"
      },
      "source": [
        "Now, you might wonder, what's this funny looking number where we expect to see a zero? The algorithms that we use to actually compute these operations are not exact. So always be careful when you're using the matrix inverse and think about whether you actually need to do it or if your equation can be simplified."
      ]
    },
    {
      "cell_type": "markdown",
      "metadata": {
        "id": "HjbVvpg3gdrI"
      },
      "source": [
        "Matrix trace."
      ]
    },
    {
      "cell_type": "code",
      "metadata": {
        "colab": {
          "base_uri": "https://localhost:8080/"
        },
        "id": "vDr0GwdDge-N",
        "outputId": "e0b2a951-990b-4348-e609-0da7a35651c3"
      },
      "source": [
        "np.trace(A)"
      ],
      "execution_count": null,
      "outputs": [
        {
          "output_type": "execute_result",
          "data": {
            "text/plain": [
              "5"
            ]
          },
          "metadata": {},
          "execution_count": 54
        }
      ]
    },
    {
      "cell_type": "markdown",
      "metadata": {
        "id": "vw1PMVAkiSUc"
      },
      "source": [
        "## Diagonal\n",
        "\n",
        "One kind of interesting overloaded function is the `diag()` function. If we use it on matrix, we get a vector containing the diagonal elements."
      ]
    },
    {
      "cell_type": "code",
      "metadata": {
        "colab": {
          "base_uri": "https://localhost:8080/"
        },
        "id": "JpRUFNdtikYO",
        "outputId": "cc9e5a29-e824-40af-e5df-cbc99e2e06ca"
      },
      "source": [
        "np.diag(A)"
      ],
      "execution_count": null,
      "outputs": [
        {
          "output_type": "execute_result",
          "data": {
            "text/plain": [
              "array([1, 4])"
            ]
          },
          "metadata": {},
          "execution_count": 55
        }
      ]
    },
    {
      "cell_type": "markdown",
      "metadata": {
        "id": "K8WokdI3iqgo"
      },
      "source": [
        "But when we call `diag()` on a vector, we get a matrix which has the input vector on the diagonal and zeros elsewhere. This is, by the way, called the diagonal matrix."
      ]
    },
    {
      "cell_type": "code",
      "metadata": {
        "colab": {
          "base_uri": "https://localhost:8080/"
        },
        "id": "rt14hTaki1IH",
        "outputId": "53c26003-f635-4557-c95c-35760467bae8"
      },
      "source": [
        "np.diag([1, 4])"
      ],
      "execution_count": null,
      "outputs": [
        {
          "output_type": "execute_result",
          "data": {
            "text/plain": [
              "array([[1, 0],\n",
              "       [0, 4]])"
            ]
          },
          "metadata": {},
          "execution_count": 56
        }
      ]
    },
    {
      "cell_type": "markdown",
      "metadata": {
        "id": "BsfRSFVui7jq"
      },
      "source": [
        "So just keep in mind that this function is overloaded. If you put in a matrix, you get a vector, and if you put in a vector, you're going to matrix."
      ]
    },
    {
      "cell_type": "markdown",
      "metadata": {
        "id": "nrHRi7tOjhLj"
      },
      "source": [
        "## Comparison"
      ]
    },
    {
      "cell_type": "code",
      "metadata": {
        "colab": {
          "base_uri": "https://localhost:8080/"
        },
        "id": "M-lIfDqsj8CB",
        "outputId": "8b1e5748-b30e-452e-a382-28e7913fb1f6"
      },
      "source": [
        "A.dot(np.linalg.inv(A)) == [[1, 0], [0, 1]]"
      ],
      "execution_count": null,
      "outputs": [
        {
          "output_type": "execute_result",
          "data": {
            "text/plain": [
              "array([[ True,  True],\n",
              "       [False, False]])"
            ]
          },
          "metadata": {},
          "execution_count": 57
        }
      ]
    },
    {
      "cell_type": "markdown",
      "metadata": {
        "id": "YvzwL50EkLKC"
      },
      "source": [
        "So interestingly, we get back an array containing two true and two false. This might be surprising to you since equals equals just returns a true or false. But in fact, like many NumPy operators, this too operates element wise. Both the left hand side and right hand side are matrices, and therefore we're comparing two matrices with the `==`.\n",
        "\n",
        "We would expect all true, but this is due to numerical precision, since computers don't have an infinite amount of memory, they can't have an infinite amount of precision and therefore, numbers have to be rounded off at some point."
      ]
    },
    {
      "cell_type": "markdown",
      "metadata": {
        "id": "-iOSWh-kkAb9"
      },
      "source": [
        "In NumPy, the correct way to compare whether to arrays or equal is to use the NumPy `allclose()` function."
      ]
    },
    {
      "cell_type": "code",
      "metadata": {
        "colab": {
          "base_uri": "https://localhost:8080/"
        },
        "id": "4uBsayX4jzGh",
        "outputId": "efffa9cc-83d8-4af1-e7b0-de5e52dcce28"
      },
      "source": [
        "np.allclose(A.dot(np.linalg.inv(A)), [[1, 0], [0, 1]])"
      ],
      "execution_count": null,
      "outputs": [
        {
          "output_type": "execute_result",
          "data": {
            "text/plain": [
              "True"
            ]
          },
          "metadata": {},
          "execution_count": 58
        }
      ]
    },
    {
      "cell_type": "markdown",
      "metadata": {
        "id": "4Z1_ePfz6v3L"
      },
      "source": [
        "# Solving linear systems\n",
        "\n",
        "Solving linear systems is a very common problem in all areas of science and engeneering."
      ]
    },
    {
      "cell_type": "markdown",
      "metadata": {
        "id": "TXET7RpX7LHs"
      },
      "source": [
        "## Linear system: Example problem\n",
        "\n",
        "The admission fee at at a small fair is a \\\\$1.50 for children and \\\\$4.00 for adults. On a certain day, 2200 people enter the fair, and \\\\$5050 is collected. How many children and how many adults entered?\n",
        "\n",
        "In order to solve this problem, we are going to create two variables:\n",
        " - $x_1$ to represent number of childer\n",
        " - $x_2$ to represent number of adults\n",
        "\n",
        "Translating the word problem into math, we get that:\n",
        "\n",
        "$x_1 + x_2 = 2200$  \n",
        "$1.5x_1 + 4x_2 = 5050$\n",
        "\n",
        "Since we have a system of two equations and two unknowns, we know that we can solve this problem.\n",
        "\n",
        "\n",
        "\n"
      ]
    },
    {
      "cell_type": "markdown",
      "metadata": {
        "id": "tAJPPJgY-KuU"
      },
      "source": [
        "## Linear systems in Matrix form\n",
        "\n",
        "If we let $x$ be a vector contaning $x_1$ and $x_2$, this becomes a matrix equality. We call this kind of problem a linear system.\n",
        "\n",
        "![Linear system matrix](https://github.com/katarinagresova/MLprojects/blob/main/DeepLearningPrerequisites/assets/images/linear_system_matrix.png?raw=1)\n",
        "\n",
        "The solution to this is just to multiply both sides be an inverse of $A$ and we get that $x = A^{-1}b$.\n",
        "\n",
        "![Linear system matrix solution](https://github.com/katarinagresova/MLprojects/blob/main/DeepLearningPrerequisites/assets/images/linear_system_matrix_solution.png?raw=1)\n"
      ]
    },
    {
      "cell_type": "markdown",
      "metadata": {
        "id": "94W28akoCONz"
      },
      "source": [
        "## Don't do that literaly\n",
        "\n",
        "Unfortunately, this is not how you should solve this kind of problem in code. Algorithm used to find and inverse is both slower and less accurate that is needs to be. \n",
        "\n",
        "Linear system can be solved using a different algorithm that is both faster and more accurate. That algorithm is implemented in `np.linalg.solve()` function."
      ]
    },
    {
      "cell_type": "code",
      "metadata": {
        "id": "TIdnvNk1DAQW"
      },
      "source": [
        "A = np.array([[1, 1], [1.5, 4]])\n",
        "b = np.array([2200, 5050])"
      ],
      "execution_count": null,
      "outputs": []
    },
    {
      "cell_type": "code",
      "metadata": {
        "colab": {
          "base_uri": "https://localhost:8080/"
        },
        "id": "O3BpuQGZDKUy",
        "outputId": "4fae6f2a-5362-43e5-fa12-89dd67acf9b1"
      },
      "source": [
        "np.linalg.solve(A, b)"
      ],
      "execution_count": null,
      "outputs": [
        {
          "output_type": "execute_result",
          "data": {
            "text/plain": [
              "array([1500.,  700.])"
            ]
          },
          "metadata": {},
          "execution_count": 62
        }
      ]
    },
    {
      "cell_type": "markdown",
      "metadata": {
        "id": "vDwHbwzlEW-u"
      },
      "source": [
        "And we got the answer: 1500 children and 700 adults."
      ]
    },
    {
      "cell_type": "markdown",
      "metadata": {
        "id": "eLjbv8xZGznM"
      },
      "source": [
        "# Generating data\n",
        "\n",
        "If we want to generate data with hundreds or thousands dimensions, typing things by hand is clearly not a feasible solution. Often, data comes from Excel files of CSV files, but sometimes we need to generate large matrices whose values have nothing to do with the data.\n",
        "\n",
        " - One example of that is with neural networks. A neural network is made up of many large matrices which you will randomly initialize and then train using an algorithm called back propagation.\n",
        " - Another common reason to create your own arrays is to generate synthetic data to test your algorithm on.\n",
        "\n",
        "Often, using synthetic data is extremely useful because it allows us to test the efficacy of our models. Since you generated the data yourself, you know the true answer and you can see how close your model gets to that true answer."
      ]
    },
    {
      "cell_type": "markdown",
      "metadata": {
        "id": "DBmA5xkdIOtk"
      },
      "source": [
        "## All the same values\n",
        "\n",
        "Let's start with somethins simple - an array of all zeros. In order to create an array of all zeros, we call the function `np.zeros()` and we pass it a touple specifying the desired size of an array."
      ]
    },
    {
      "cell_type": "code",
      "metadata": {
        "colab": {
          "base_uri": "https://localhost:8080/"
        },
        "id": "uQf7P8MrGzKQ",
        "outputId": "c427554e-b1f8-49f8-9602-c7cb1ef9029e"
      },
      "source": [
        "np.zeros((2, 3))"
      ],
      "execution_count": null,
      "outputs": [
        {
          "output_type": "execute_result",
          "data": {
            "text/plain": [
              "array([[0., 0., 0.],\n",
              "       [0., 0., 0.]])"
            ]
          },
          "metadata": {},
          "execution_count": 63
        }
      ]
    },
    {
      "cell_type": "markdown",
      "metadata": {
        "id": "Hp2NJ9FCIx0W"
      },
      "source": [
        "We can do the same thing if we want an array of ones. We just call the `ones()` function instead."
      ]
    },
    {
      "cell_type": "code",
      "metadata": {
        "colab": {
          "base_uri": "https://localhost:8080/"
        },
        "id": "iXXlDt5fI-62",
        "outputId": "f97c2f69-5013-47fe-887b-f4d8ebf98c13"
      },
      "source": [
        "np.ones((2, 3))"
      ],
      "execution_count": null,
      "outputs": [
        {
          "output_type": "execute_result",
          "data": {
            "text/plain": [
              "array([[1., 1., 1.],\n",
              "       [1., 1., 1.]])"
            ]
          },
          "metadata": {},
          "execution_count": 64
        }
      ]
    },
    {
      "cell_type": "markdown",
      "metadata": {
        "id": "8k8PPYf2JIAS"
      },
      "source": [
        "Now, what if we want an array of a different number, like 10? Well, there isn't a function called `tens()`, but remember that anything multiplied by one is just that thing."
      ]
    },
    {
      "cell_type": "code",
      "metadata": {
        "colab": {
          "base_uri": "https://localhost:8080/"
        },
        "id": "mwCiMqrlJQ8m",
        "outputId": "b8fc0f76-efc5-4b88-d8c8-10113832233b"
      },
      "source": [
        "10 * np.ones((2, 3))"
      ],
      "execution_count": null,
      "outputs": [
        {
          "output_type": "execute_result",
          "data": {
            "text/plain": [
              "array([[10., 10., 10.],\n",
              "       [10., 10., 10.]])"
            ]
          },
          "metadata": {},
          "execution_count": 65
        }
      ]
    },
    {
      "cell_type": "markdown",
      "metadata": {
        "id": "gm_M_KzIJZ6G"
      },
      "source": [
        "## Identity matrix\n",
        "\n",
        "One important, the matrix and linear algebra is the identity matrix. The identity matrix is the matrix analog of the number one - that's why when you take a matrix and multiply it by its inverse, you get identity. In NumPy, the function to create an identity matrix is called `eye()`."
      ]
    },
    {
      "cell_type": "code",
      "metadata": {
        "colab": {
          "base_uri": "https://localhost:8080/"
        },
        "id": "kxvmmf-xJ1js",
        "outputId": "5bf9ae63-0aea-4a45-af70-a392362e233d"
      },
      "source": [
        "np.eye(3)"
      ],
      "execution_count": null,
      "outputs": [
        {
          "output_type": "execute_result",
          "data": {
            "text/plain": [
              "array([[1., 0., 0.],\n",
              "       [0., 1., 0.],\n",
              "       [0., 0., 1.]])"
            ]
          },
          "metadata": {},
          "execution_count": 66
        }
      ]
    },
    {
      "cell_type": "markdown",
      "metadata": {
        "id": "W1c-p7p1KOj3"
      },
      "source": [
        "## Arrays with random numbers\n",
        "\n",
        "Arrays with random numbers are used pretty much everywhere, from Deep learning to Markov chain Monte carlo. NumPy has a module called `random`, that contains functionality for this. The simples way to do this is with function called `random()`."
      ]
    },
    {
      "cell_type": "code",
      "metadata": {
        "colab": {
          "base_uri": "https://localhost:8080/"
        },
        "id": "gl2-aUdTT58l",
        "outputId": "0d24b889-192c-46b0-dc0c-d80263321de9"
      },
      "source": [
        "np.random.random()"
      ],
      "execution_count": null,
      "outputs": [
        {
          "output_type": "execute_result",
          "data": {
            "text/plain": [
              "0.22844375947598372"
            ]
          },
          "metadata": {},
          "execution_count": 67
        }
      ]
    },
    {
      "cell_type": "markdown",
      "metadata": {
        "id": "CZP-DXAQUAFV"
      },
      "source": [
        "If we pass in a tuple for the shape, we get back a random array of that shape."
      ]
    },
    {
      "cell_type": "code",
      "metadata": {
        "colab": {
          "base_uri": "https://localhost:8080/"
        },
        "id": "fmAdn69AUA1z",
        "outputId": "5eb223fc-2395-4ab6-a5cc-a7e6400fdb2a"
      },
      "source": [
        "np.random.random((2, 3))"
      ],
      "execution_count": null,
      "outputs": [
        {
          "output_type": "execute_result",
          "data": {
            "text/plain": [
              "array([[0.80352118, 0.93822752, 0.14807938],\n",
              "       [0.80861763, 0.03638709, 0.38729164]])"
            ]
          },
          "metadata": {},
          "execution_count": 68
        }
      ]
    },
    {
      "cell_type": "markdown",
      "metadata": {
        "id": "xLjm3GqDUGq0"
      },
      "source": [
        "## Distribution\n",
        "\n",
        "Now, whenever you create random numbers, it's always important to ask: **what distribution to those random numbers come from?**\n",
        "\n",
        "For example, the numbers you get from a uniform distribution will be different from the numbers you get from a normal distribution. And typically, when you're generating random data, you want to generate that data from a specific distribution.\n",
        "\n",
        "For example, if you want to have a mix of both positive and negative numbers, you wouldn't want to use the `random()` function since that draws from the uniform (0, 1) distribution.\n",
        "\n",
        "One common technique for determining, what distribution your random numbers came from, is to visualize the numbers in a histogram. If your random numbers came from the distribution you think they did, then they're histograms should look like the distribution.\n",
        "\n",
        "Another pretty common scenario is that we want to draw numbers from the normal distribution, also known as the Gaussian, in order to do that we use a function called `randn()`."
      ]
    },
    {
      "cell_type": "code",
      "metadata": {
        "colab": {
          "base_uri": "https://localhost:8080/"
        },
        "id": "vlSjPXPyU-p3",
        "outputId": "dc3b4a62-fa5b-4d58-9261-9173317605da"
      },
      "source": [
        "np.random.randn(2, 3)"
      ],
      "execution_count": null,
      "outputs": [
        {
          "output_type": "execute_result",
          "data": {
            "text/plain": [
              "array([[-0.12732041,  0.97516533,  1.15816742],\n",
              "       [-0.08268478, -1.08939203, -0.19874674]])"
            ]
          },
          "metadata": {},
          "execution_count": 70
        }
      ]
    },
    {
      "cell_type": "markdown",
      "metadata": {
        "id": "jcwEMYrqVKpi"
      },
      "source": [
        "This function draws random numbers from the standard normal distribution, meaning that this data has mean zero and variance one.\n",
        "\n",
        "What's very odd about the randon function is that unlike `zeros()` and `ones()` in `random`, this function does not accept a tuple as input for the shape. Instead, each dimension is passed in as a separate argument. So you just have to remember this little detail about the NumPy library."
      ]
    },
    {
      "cell_type": "markdown",
      "metadata": {
        "id": "KUtvmYw8VhpS"
      },
      "source": [
        "## Some statistic\n",
        "\n",
        "Let's generate a big, long array of 10000 numbers drawn from the standard normal distribution."
      ]
    },
    {
      "cell_type": "code",
      "metadata": {
        "id": "FIzymFEWVqKG"
      },
      "source": [
        "R = np.random.randn(10000)"
      ],
      "execution_count": null,
      "outputs": []
    },
    {
      "cell_type": "markdown",
      "metadata": {
        "id": "kVPNrFB8Vu9a"
      },
      "source": [
        "We can calculate the mean of this array by calling `R.mean()`."
      ]
    },
    {
      "cell_type": "code",
      "metadata": {
        "colab": {
          "base_uri": "https://localhost:8080/"
        },
        "id": "E5ZnHPxgVzqw",
        "outputId": "9bd3fb10-66fd-4dbd-e817-9eae8c3943db"
      },
      "source": [
        "R.mean()"
      ],
      "execution_count": null,
      "outputs": [
        {
          "output_type": "execute_result",
          "data": {
            "text/plain": [
              "-0.004366706115371606"
            ]
          },
          "metadata": {},
          "execution_count": 72
        }
      ]
    },
    {
      "cell_type": "markdown",
      "metadata": {
        "id": "ae0HXS4EV6SJ"
      },
      "source": [
        "It's pretty close to zero as expected.\n",
        "\n",
        "And as with a few other functions, this is also a top level function as well as an instance method. So we can do also this."
      ]
    },
    {
      "cell_type": "code",
      "metadata": {
        "colab": {
          "base_uri": "https://localhost:8080/"
        },
        "id": "FxISH_biWFQ4",
        "outputId": "857e4b99-c7fd-48e2-b60a-eb10ef9a01b8"
      },
      "source": [
        "np.mean(R)"
      ],
      "execution_count": null,
      "outputs": [
        {
          "output_type": "execute_result",
          "data": {
            "text/plain": [
              "-0.004366706115371606"
            ]
          },
          "metadata": {},
          "execution_count": 73
        }
      ]
    },
    {
      "cell_type": "markdown",
      "metadata": {
        "id": "OPv2PiVXWMML"
      },
      "source": [
        "We can also calculate the variance using `R.var()`."
      ]
    },
    {
      "cell_type": "code",
      "metadata": {
        "colab": {
          "base_uri": "https://localhost:8080/"
        },
        "id": "w1sdjS44WRAR",
        "outputId": "3e37d6aa-854b-4dfb-aaca-0cee80f450d2"
      },
      "source": [
        "R.var()"
      ],
      "execution_count": null,
      "outputs": [
        {
          "output_type": "execute_result",
          "data": {
            "text/plain": [
              "1.0072610863603408"
            ]
          },
          "metadata": {},
          "execution_count": 74
        }
      ]
    },
    {
      "cell_type": "markdown",
      "metadata": {
        "id": "XoHs_zzGWT2h"
      },
      "source": [
        "And we get an answer very close to one as expected.\n",
        "\n",
        "sometimes we want the standard deviation instead of the variance, which there is a special function for called `std()`."
      ]
    },
    {
      "cell_type": "code",
      "metadata": {
        "colab": {
          "base_uri": "https://localhost:8080/"
        },
        "id": "XbWgwCDwWbFM",
        "outputId": "3e01319d-9f96-4ed8-b6a4-945d63f7272d"
      },
      "source": [
        "R.std()"
      ],
      "execution_count": null,
      "outputs": [
        {
          "output_type": "execute_result",
          "data": {
            "text/plain": [
              "1.003623976577055"
            ]
          },
          "metadata": {},
          "execution_count": 75
        }
      ]
    },
    {
      "cell_type": "markdown",
      "metadata": {
        "id": "-HoZrbWcWhR-"
      },
      "source": [
        "We get the square root of the variance. We can also check that this really is a square root of the variance."
      ]
    },
    {
      "cell_type": "code",
      "metadata": {
        "colab": {
          "base_uri": "https://localhost:8080/"
        },
        "id": "ZHg0D5hWWoRy",
        "outputId": "dfe9fbcb-cbd0-4611-a814-79eca1949ce7"
      },
      "source": [
        "np.allclose(R.var(), np.square(R.std()))"
      ],
      "execution_count": null,
      "outputs": [
        {
          "output_type": "execute_result",
          "data": {
            "text/plain": [
              "True"
            ]
          },
          "metadata": {},
          "execution_count": 77
        }
      ]
    },
    {
      "cell_type": "markdown",
      "metadata": {
        "id": "2ScCHVhrW4nC"
      },
      "source": [
        "Another common scenario is if I have a matrix of random data Let's say the a matrix of size 10 000 x 3, where each element is drawn from the standard normal distribution."
      ]
    },
    {
      "cell_type": "code",
      "metadata": {
        "id": "XlxYo-A4XSD_"
      },
      "source": [
        "R = np.random.randn(10000, 3)"
      ],
      "execution_count": null,
      "outputs": []
    },
    {
      "cell_type": "markdown",
      "metadata": {
        "id": "FelRw_J4XVNk"
      },
      "source": [
        "Although we could calculate the mean of this entire array, what do we usually want to do is calculate the mean of each row, or the mean of each column.\n",
        "\n",
        "So if we do `mean(axis=0)`, this calculates the mean of each column."
      ]
    },
    {
      "cell_type": "code",
      "metadata": {
        "colab": {
          "base_uri": "https://localhost:8080/"
        },
        "id": "2BxjfiqKXmZg",
        "outputId": "1a1d580d-a9fc-45c9-8278-0fa7e56b58c0"
      },
      "source": [
        "R.mean(axis=0)"
      ],
      "execution_count": null,
      "outputs": [
        {
          "output_type": "execute_result",
          "data": {
            "text/plain": [
              "array([ 0.0049889 , -0.00598632,  0.0014232 ])"
            ]
          },
          "metadata": {},
          "execution_count": 79
        }
      ]
    },
    {
      "cell_type": "markdown",
      "metadata": {
        "id": "zdXUgiPNaAuJ"
      },
      "source": [
        "The output is a length 3 array. \n",
        "\n",
        "If we use `axis=1`, this calculates the mean of each row."
      ]
    },
    {
      "cell_type": "code",
      "metadata": {
        "colab": {
          "base_uri": "https://localhost:8080/"
        },
        "id": "LQFFflYkaZJD",
        "outputId": "5c17c950-9296-4acc-bd4a-d6b0b02b92db"
      },
      "source": [
        "R.mean(axis=1)"
      ],
      "execution_count": null,
      "outputs": [
        {
          "output_type": "execute_result",
          "data": {
            "text/plain": [
              "array([ 0.7939416 , -0.30044362,  0.15197519, ...,  0.08972327,\n",
              "        0.57509968, -0.71186604])"
            ]
          },
          "metadata": {},
          "execution_count": 80
        }
      ]
    },
    {
      "cell_type": "markdown",
      "metadata": {
        "id": "YB-SI3xIaMWw"
      },
      "source": [
        "We get a big, long array, so in order to check its shape, we can call `shape`."
      ]
    },
    {
      "cell_type": "code",
      "metadata": {
        "colab": {
          "base_uri": "https://localhost:8080/"
        },
        "id": "NybbyoMjajmd",
        "outputId": "1338404c-e5ee-49fa-b2e4-0a9481ac073b"
      },
      "source": [
        "R.mean(axis=1).shape"
      ],
      "execution_count": null,
      "outputs": [
        {
          "output_type": "execute_result",
          "data": {
            "text/plain": [
              "(10000,)"
            ]
          },
          "metadata": {},
          "execution_count": 81
        }
      ]
    },
    {
      "cell_type": "markdown",
      "metadata": {
        "id": "hZXyn9kUanlL"
      },
      "source": [
        "And we see that it's ten thousand as expected."
      ]
    },
    {
      "cell_type": "markdown",
      "metadata": {
        "id": "AESHaD9nauZl"
      },
      "source": [
        "## Arrays in machine learning\n",
        "\n",
        "Typically, when you're working with data in machine learning, it's usually organized so that each row is a sample or an observation and each column is a specific measurement. In our case, we would have ten thousand observations and three measurements per observation.\n",
        "\n",
        "And as an example of that, let's say I want to compare some attributes of people in some kind of psychology experiment:\n",
        "- each row would represent a person, like Alice, Bob Caro and so forth.\n",
        "- each column would represent a measurement like, say, ratings out of 10 for specific traits like openness, conscientiousness, extraversion, agreeableness and neuroticism.\n",
        "\n",
        "![Measurements](https://github.com/katarinagresova/MLprojects/blob/main/DeepLearningPrerequisites/assets/images/measurements.png?raw=1)\n",
        "\n",
        "Each row of the matrix is a vector observation and so when you have vectors, the analog of the variance is the covariance. There is a function called cov in NumPy."
      ]
    },
    {
      "cell_type": "code",
      "metadata": {
        "colab": {
          "base_uri": "https://localhost:8080/"
        },
        "id": "i-tMqIVecEAx",
        "outputId": "8d4a5840-7a1d-4b67-ddd4-4af466fa8223"
      },
      "source": [
        "np.cov(R)"
      ],
      "execution_count": null,
      "outputs": [
        {
          "output_type": "execute_result",
          "data": {
            "text/plain": [
              "array([[ 2.51235502,  0.0602919 ,  0.35049185, ...,  0.44382257,\n",
              "        -0.17640864,  0.88773996],\n",
              "       [ 0.0602919 ,  0.28773128,  0.11470055, ..., -0.13330932,\n",
              "        -0.41820302,  0.37016414],\n",
              "       [ 0.35049185,  0.11470055,  0.08835845, ...,  0.00846807,\n",
              "        -0.17830561,  0.25336817],\n",
              "       ...,\n",
              "       [ 0.44382257, -0.13330932,  0.00846807, ...,  0.1507954 ,\n",
              "         0.17700404, -0.01860229],\n",
              "       [-0.17640864, -0.41820302, -0.17830561, ...,  0.17700404,\n",
              "         0.6109901 , -0.56678835],\n",
              "       [ 0.88773996,  0.37016414,  0.25336817, ..., -0.01860229,\n",
              "        -0.56678835,  0.738796  ]])"
            ]
          },
          "metadata": {},
          "execution_count": 82
        }
      ]
    },
    {
      "cell_type": "markdown",
      "metadata": {
        "id": "8gumpq6DcKab"
      },
      "source": [
        "This gives us a very large array. So let's check its shape."
      ]
    },
    {
      "cell_type": "code",
      "metadata": {
        "colab": {
          "base_uri": "https://localhost:8080/"
        },
        "id": "uLvHFnpycPT4",
        "outputId": "aa8f181f-b043-419d-a105-e4d460b7f0a6"
      },
      "source": [
        "np.cov(R).shape"
      ],
      "execution_count": null,
      "outputs": [
        {
          "output_type": "execute_result",
          "data": {
            "text/plain": [
              "(10000, 10000)"
            ]
          },
          "metadata": {},
          "execution_count": 83
        }
      ]
    },
    {
      "cell_type": "markdown",
      "metadata": {
        "id": "tVoWsR1mcXBP"
      },
      "source": [
        "The `cov()` function by default treats each column as a vector observation. And by the way, this is not the convention at the rest of the NumPy stack (scikit-learn, tensorflow, pytorch, ...). But we can easily fix this by transposing our array."
      ]
    },
    {
      "cell_type": "code",
      "metadata": {
        "colab": {
          "base_uri": "https://localhost:8080/"
        },
        "id": "hBO5PC2uc-kU",
        "outputId": "1e157b49-cb80-4dd5-b16d-41f44a1991cd"
      },
      "source": [
        "np.cov(R.T)"
      ],
      "execution_count": null,
      "outputs": [
        {
          "output_type": "execute_result",
          "data": {
            "text/plain": [
              "array([[ 0.98324195,  0.00441823, -0.01920292],\n",
              "       [ 0.00441823,  1.00993393,  0.01533995],\n",
              "       [-0.01920292,  0.01533995,  1.00863025]])"
            ]
          },
          "metadata": {},
          "execution_count": 84
        }
      ]
    },
    {
      "cell_type": "markdown",
      "metadata": {
        "id": "VXCV_xWNdCV3"
      },
      "source": [
        "And this is a 3x3 matrix, as expected and also as expected, it's close to identity (because we have a random data)."
      ]
    },
    {
      "cell_type": "markdown",
      "metadata": {
        "id": "JTh6hV5bdQLT"
      },
      "source": [
        "## Random integers\n",
        "\n",
        "NumPy has a function for it called `randint()`. If we look at the documentation, we see that this function takes in a few arguments:\n",
        "- `low`: which is the minimum integer you want to randomly sample.\n",
        "- `high`: which is the maximum integer you want to randomly sample.\n",
        "- `size`: you can generate a single number or you can generate an array of any size\n",
        "\n",
        "Notice that `low` is inclusive, while `high` is exclusive, that follows the same convention as everything else in Python."
      ]
    },
    {
      "cell_type": "code",
      "metadata": {
        "colab": {
          "base_uri": "https://localhost:8080/"
        },
        "id": "iMtAe1Jjd8IV",
        "outputId": "2a1bc30a-dfc5-4682-a025-86bbc9e5e37f"
      },
      "source": [
        "np.random.randint(0, 10, (2, 3))"
      ],
      "execution_count": null,
      "outputs": [
        {
          "output_type": "execute_result",
          "data": {
            "text/plain": [
              "array([[9, 6, 8],\n",
              "       [1, 9, 7]])"
            ]
          },
          "metadata": {},
          "execution_count": 85
        }
      ]
    },
    {
      "cell_type": "markdown",
      "metadata": {
        "id": "90g6us6Ni-wI"
      },
      "source": [
        "## Random choice\n",
        "\n",
        "Another useful function is the `choice()` function, which randomly selects items from a one dimensional input array. If we look at the arguments, we see that there are a few: \n",
        "- `a`: the input array, which is the thing you want to randomly selected from. Pptionally you can also just pass in an integer. And if you pass in an integer `N`, you'll get random numbers from zero up to an exclusive.\n",
        "- size: Output shape, int or tuple of ints. If the given shape is, e.g., `(m, n, k)`, then `m * n * k` samples are drawn. Default is None, in which case a single value is returned.\n",
        "- `replace`: boolean, useful for situations like bootstrapping, where you actually want to be able to randomly select the same item more than once.\n",
        "- `p`: allows you to specify at what probabilities each item should be selected."
      ]
    },
    {
      "cell_type": "code",
      "metadata": {
        "colab": {
          "base_uri": "https://localhost:8080/"
        },
        "id": "T8m6pFDCl9m3",
        "outputId": "5b250769-c8a9-4b22-b318-04fb414d6bdb"
      },
      "source": [
        "np.random.choice(10, size=(2, 3))"
      ],
      "execution_count": null,
      "outputs": [
        {
          "output_type": "execute_result",
          "data": {
            "text/plain": [
              "array([[2, 8, 0],\n",
              "       [8, 6, 5]])"
            ]
          },
          "metadata": {},
          "execution_count": 89
        }
      ]
    },
    {
      "cell_type": "markdown",
      "metadata": {
        "id": "ECHcg9sjmKo3"
      },
      "source": [
        "This behaves the same as `randint()`."
      ]
    },
    {
      "cell_type": "markdown",
      "metadata": {
        "id": "I18iIwjgt3eb"
      },
      "source": [
        "# Excercise: matrix multiplication speed test\n",
        "\n",
        "Do a speed comparison for matrix multiplication with using numpy function versus using python list operations.\n",
        "\n",
        "Bonus: how does time increase with the the size of input?"
      ]
    },
    {
      "cell_type": "markdown",
      "metadata": {
        "id": "m3MfWdUFCvbz"
      },
      "source": [
        "Firs, we will create a function for computing matrix multiplication using python list operation. We can do it using three nested loops:\n",
        " - two for looping through result matrix\n",
        " - third for computing one value of result"
      ]
    },
    {
      "cell_type": "code",
      "metadata": {
        "id": "h99fhKoxt3I5"
      },
      "source": [
        "def list_matrix_mult(a, b): \n",
        "  result = np.zeros((a.shape[0], a.shape[0]))\n",
        "\n",
        "  for i in range(a.shape[0]):\n",
        "    for j in range(a.shape[0]):\n",
        "      for k in range(a.shape[1]):\n",
        "        result[i, j] += a[i, k] * b[k, j]\n",
        "\n",
        "  return result\n"
      ],
      "execution_count": null,
      "outputs": []
    },
    {
      "cell_type": "markdown",
      "metadata": {
        "id": "zsLmPllUDUTg"
      },
      "source": [
        "To test, if our function is correct, we can compare it with results from NumPy matrix multiplication."
      ]
    },
    {
      "cell_type": "code",
      "metadata": {
        "id": "piYdtHExuWea"
      },
      "source": [
        "a = np.random.randint(0, 10, (2, 3))\n",
        "b = np.random.randint(0, 10, (3, 2))"
      ],
      "execution_count": null,
      "outputs": []
    },
    {
      "cell_type": "code",
      "metadata": {
        "id": "7iOo0DdEufya",
        "colab": {
          "base_uri": "https://localhost:8080/"
        },
        "outputId": "6940fc98-dbf1-495a-9079-b0c19d54255e"
      },
      "source": [
        "list_matrix_mult(a, b)"
      ],
      "execution_count": null,
      "outputs": [
        {
          "output_type": "execute_result",
          "data": {
            "text/plain": [
              "array([[66., 72.],\n",
              "       [65., 66.]])"
            ]
          },
          "metadata": {},
          "execution_count": 20
        }
      ]
    },
    {
      "cell_type": "code",
      "metadata": {
        "id": "SGRIIDTCucOo",
        "colab": {
          "base_uri": "https://localhost:8080/"
        },
        "outputId": "3b348a32-aa03-4367-dd58-3f168181b0b5"
      },
      "source": [
        "np.dot(a, b)"
      ],
      "execution_count": null,
      "outputs": [
        {
          "output_type": "execute_result",
          "data": {
            "text/plain": [
              "array([[66, 72],\n",
              "       [65, 66]])"
            ]
          },
          "metadata": {},
          "execution_count": 21
        }
      ]
    },
    {
      "cell_type": "markdown",
      "metadata": {
        "id": "lC_su9l7Dhs7"
      },
      "source": [
        "It looks like we have the same results."
      ]
    },
    {
      "cell_type": "markdown",
      "metadata": {
        "id": "z9oy3ZXxDsc3"
      },
      "source": [
        "Now we can create function that will compute matrix multiplication 100 000 times both ways and will compare a time it takes."
      ]
    },
    {
      "cell_type": "code",
      "metadata": {
        "id": "JuGdGlkOD6eV"
      },
      "source": [
        "from datetime import datetime\n",
        "\n",
        "def compare_matrix_mult(a_rows, a_columns):\n",
        "  T = 100000\n",
        "  a = np.random.randint(0, 10, (a_rows, a_columns))\n",
        "  b = np.random.randint(0, 10, (a_columns, a_rows))\n",
        "\n",
        "  t0 = datetime.now()\n",
        "  for t in range(T):\n",
        "    list_matrix_mult(a, b)\n",
        "  dt1 = datetime.now() - t0\n",
        "\n",
        "  t0 = datetime.now()\n",
        "  for t in range(T):\n",
        "    a.dot(b)\n",
        "  dt2 = datetime.now() - t0\n",
        "\n",
        "  return dt1.total_seconds(), dt2.total_seconds()"
      ],
      "execution_count": null,
      "outputs": []
    },
    {
      "cell_type": "code",
      "metadata": {
        "id": "Y2DBhI07E5FT",
        "colab": {
          "base_uri": "https://localhost:8080/"
        },
        "outputId": "9d4060e4-8f8f-45b7-966d-50fed9c61e40"
      },
      "source": [
        "list_time, numpy_time = compare_matrix_mult(2, 3)\n",
        "list_time / numpy_time"
      ],
      "execution_count": null,
      "outputs": [
        {
          "output_type": "execute_result",
          "data": {
            "text/plain": [
              "23.8680515822367"
            ]
          },
          "metadata": {},
          "execution_count": 35
        }
      ]
    },
    {
      "cell_type": "markdown",
      "metadata": {
        "id": "uHA49YVoFQh3"
      },
      "source": [
        "We can see that list computation of matrix multiplication is more that 20 times slower than NumPy function. Even for result matrix with only 2 rows and 2 columns.\n",
        "\n",
        "We were clever enough to make matrix dimensions an input parameter, so now we can create a function that will show how does time increase with the the size of input."
      ]
    },
    {
      "cell_type": "code",
      "metadata": {
        "id": "-k-aRvwZFx9l"
      },
      "source": [
        "import matplotlib.pyplot as plt\n",
        "\n",
        "def plot_times():\n",
        "\n",
        "  input_size = []\n",
        "  list_times = []\n",
        "  numpy_times = []\n",
        "  a_column = 2\n",
        "\n",
        "  for a_row in range(2, 21, 1):\n",
        "    input_size.append(a_row)\n",
        "    list_time, numpy_time = compare_matrix_mult(a_row, a_column)\n",
        "    list_times.append(list_time)\n",
        "    numpy_times.append(numpy_time)\n",
        "\n",
        "  plt.plot(input_size, list_times, label=\"list operations\")\n",
        "  plt.plot(input_size, numpy_times, label=\"NymPy\")\n",
        "  plt.xlabel(\"result dimension\")\n",
        "  plt.ylabel(\"time\")\n",
        "  plt.show()"
      ],
      "execution_count": null,
      "outputs": []
    },
    {
      "cell_type": "code",
      "metadata": {
        "id": "Gb00slDKHxCc",
        "colab": {
          "base_uri": "https://localhost:8080/",
          "height": 282
        },
        "outputId": "d9a64abd-3eee-4d07-ec63-90f5b03bb815"
      },
      "source": [
        "plot_times()"
      ],
      "execution_count": null,
      "outputs": [
        {
          "output_type": "display_data",
          "data": {
            "image/png": "[encoded data removed]",
            "text/plain": [
              "<Figure size 432x288 with 1 Axes>"
            ]
          },
          "metadata": {
            "needs_background": "light"
          }
        }
      ]
    },
    {
      "cell_type": "markdown",
      "metadata": {
        "id": "wgOMGWQqKhk9"
      },
      "source": [
        "Oh wou! \n",
        "\n",
        "NumPy matrix multiplication seems to have linear time consumption compared to result dimenstions. However, implementation using list operetions is way slower and is getting even slower with bigger input matrix.\n",
        "\n",
        "Matrix multiplication is the heart of the deep neural network. And since we are using milions of matrix multiplication when training neural networks, we would like to do them smartly so it will not take forewer."
      ]
    }
  ]
}